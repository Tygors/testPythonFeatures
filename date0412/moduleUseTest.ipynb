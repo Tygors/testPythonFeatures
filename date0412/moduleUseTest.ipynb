{
 "cells": [
  {
   "cell_type": "code",
   "execution_count": 1,
   "id": "suspected-animation",
   "metadata": {},
   "outputs": [
    {
     "data": {
      "text/plain": [
       "0.0"
      ]
     },
     "execution_count": 1,
     "metadata": {},
     "output_type": "execute_result"
    }
   ],
   "source": [
    "#开箱即用\n",
    "import math\n",
    "math.sin(0)"
   ]
  },
  {
   "cell_type": "code",
   "execution_count": 2,
   "id": "bottom-statistics",
   "metadata": {},
   "outputs": [],
   "source": [
    "#模块就是程序\n",
    "#任何Python程序都可作为模块导入\n",
    "import sys\n",
    "sys.path.append('C:/Users/dell/Downloads/pythonPractise')"
   ]
  },
  {
   "cell_type": "code",
   "execution_count": 3,
   "id": "common-mandate",
   "metadata": {},
   "outputs": [
    {
     "name": "stdout",
     "output_type": "stream",
     "text": [
      "helloworld\n"
     ]
    }
   ],
   "source": [
    "import helloworld as hw"
   ]
  },
  {
   "cell_type": "code",
   "execution_count": 4,
   "id": "instant-sight",
   "metadata": {},
   "outputs": [
    {
     "data": {
      "text/plain": [
       "<module 'helloworld' from 'C:/Users/dell/Downloads/pythonPractise\\\\helloworld.py'>"
      ]
     },
     "execution_count": 4,
     "metadata": {},
     "output_type": "execute_result"
    }
   ],
   "source": [
    "hw"
   ]
  },
  {
   "cell_type": "code",
   "execution_count": 5,
   "id": "cross-thousand",
   "metadata": {},
   "outputs": [
    {
     "data": {
      "text/plain": [
       "<module 'helloworld' from 'C:/Users/dell/Downloads/pythonPractise\\\\helloworld.py'>"
      ]
     },
     "execution_count": 5,
     "metadata": {},
     "output_type": "execute_result"
    }
   ],
   "source": [
    "hw"
   ]
  },
  {
   "cell_type": "code",
   "execution_count": 6,
   "id": "worth-termination",
   "metadata": {},
   "outputs": [
    {
     "ename": "TypeError",
     "evalue": "'module' object is not callable",
     "output_type": "error",
     "traceback": [
      "\u001b[1;31m---------------------------------------------------------------------------\u001b[0m",
      "\u001b[1;31mTypeError\u001b[0m                                 Traceback (most recent call last)",
      "\u001b[1;32m<ipython-input-6-9982e5434f2d>\u001b[0m in \u001b[0;36m<module>\u001b[1;34m\u001b[0m\n\u001b[1;32m----> 1\u001b[1;33m \u001b[0mhw\u001b[0m\u001b[1;33m(\u001b[0m\u001b[1;33m)\u001b[0m\u001b[1;33m\u001b[0m\u001b[0m\n\u001b[0m",
      "\u001b[1;31mTypeError\u001b[0m: 'module' object is not callable"
     ]
    }
   ],
   "source": [
    "hw()"
   ]
  },
  {
   "cell_type": "code",
   "execution_count": 7,
   "id": "frozen-permit",
   "metadata": {},
   "outputs": [],
   "source": [
    "import helloworld#再次导入则什么都不会发生"
   ]
  },
  {
   "cell_type": "code",
   "execution_count": 8,
   "id": "posted-treasurer",
   "metadata": {},
   "outputs": [],
   "source": [
    "from importlib import reload"
   ]
  },
  {
   "cell_type": "code",
   "execution_count": 9,
   "id": "settled-domestic",
   "metadata": {},
   "outputs": [
    {
     "name": "stdout",
     "output_type": "stream",
     "text": [
      "helloworld\n"
     ]
    },
    {
     "data": {
      "text/plain": [
       "<module 'helloworld' from 'C:/Users/dell/Downloads/pythonPractise\\\\helloworld.py'>"
      ]
     },
     "execution_count": 9,
     "metadata": {},
     "output_type": "execute_result"
    }
   ],
   "source": [
    "reload(helloworld)"
   ]
  },
  {
   "cell_type": "code",
   "execution_count": 10,
   "id": "signal-jacob",
   "metadata": {},
   "outputs": [
    {
     "name": "stdout",
     "output_type": "stream",
     "text": [
      "helloworld\n"
     ]
    }
   ],
   "source": [
    "hw = reload(helloworld)"
   ]
  },
  {
   "cell_type": "code",
   "execution_count": 11,
   "id": "bizarre-likelihood",
   "metadata": {},
   "outputs": [
    {
     "data": {
      "text/plain": [
       "<module 'helloworld' from 'C:/Users/dell/Downloads/pythonPractise\\\\helloworld.py'>"
      ]
     },
     "execution_count": 11,
     "metadata": {},
     "output_type": "execute_result"
    }
   ],
   "source": [
    "hw"
   ]
  },
  {
   "cell_type": "code",
   "execution_count": 12,
   "id": "prostate-peoples",
   "metadata": {},
   "outputs": [
    {
     "data": {
      "text/plain": [
       "<module 'helloworld' from 'C:/Users/dell/Downloads/pythonPractise\\\\helloworld.py'>"
      ]
     },
     "execution_count": 12,
     "metadata": {},
     "output_type": "execute_result"
    }
   ],
   "source": [
    "hw"
   ]
  },
  {
   "cell_type": "markdown",
   "id": "innocent-cambridge",
   "metadata": {},
   "source": [
    "通过实例化模块bar中的类Foo创建对象x后，如果重新加载模块bar，并不会重新创建x指\n",
    "向的对象，即x依然是（来自旧版bar的）旧版Foo的对象。要让x指向基于重新加载的模块中的\n",
    "Foo创建的对象，需要重新创建它。"
   ]
  },
  {
   "cell_type": "code",
   "execution_count": null,
   "id": "graphic-extra",
   "metadata": {},
   "outputs": [],
   "source": [
    "#模块是用来下定义的"
   ]
  }
 ],
 "metadata": {
  "kernelspec": {
   "display_name": "Python 3",
   "language": "python",
   "name": "python3"
  },
  "language_info": {
   "codemirror_mode": {
    "name": "ipython",
    "version": 3
   },
   "file_extension": ".py",
   "mimetype": "text/x-python",
   "name": "python",
   "nbconvert_exporter": "python",
   "pygments_lexer": "ipython3",
   "version": "3.6.5"
  }
 },
 "nbformat": 4,
 "nbformat_minor": 5
}
