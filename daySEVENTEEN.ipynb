{
 "cells": [
  {
   "cell_type": "markdown",
   "id": "weird-prompt",
   "metadata": {},
   "source": [
    "Please write assert statements to verify that every number in the list [2,4,6,8] is even."
   ]
  },
  {
   "cell_type": "code",
   "execution_count": 1,
   "id": "strong-style",
   "metadata": {},
   "outputs": [
    {
     "ename": "AssertionError",
     "evalue": "5 is not an even number",
     "output_type": "error",
     "traceback": [
      "\u001b[1;31m---------------------------------------------------------------------------\u001b[0m",
      "\u001b[1;31mAssertionError\u001b[0m                            Traceback (most recent call last)",
      "\u001b[1;32m<ipython-input-1-91b45c44bcd0>\u001b[0m in \u001b[0;36m<module>\u001b[1;34m\u001b[0m\n\u001b[0;32m      1\u001b[0m \u001b[0mdata\u001b[0m \u001b[1;33m=\u001b[0m \u001b[1;33m[\u001b[0m\u001b[1;36m2\u001b[0m\u001b[1;33m,\u001b[0m\u001b[1;36m4\u001b[0m\u001b[1;33m,\u001b[0m\u001b[1;36m5\u001b[0m\u001b[1;33m,\u001b[0m\u001b[1;36m6\u001b[0m\u001b[1;33m]\u001b[0m\u001b[1;33m\u001b[0m\u001b[0m\n\u001b[0;32m      2\u001b[0m \u001b[1;32mfor\u001b[0m \u001b[0mi\u001b[0m \u001b[1;32min\u001b[0m \u001b[0mdata\u001b[0m\u001b[1;33m:\u001b[0m\u001b[1;33m\u001b[0m\u001b[0m\n\u001b[1;32m----> 3\u001b[1;33m     \u001b[1;32massert\u001b[0m \u001b[0mi\u001b[0m\u001b[1;33m%\u001b[0m\u001b[1;36m2\u001b[0m \u001b[1;33m==\u001b[0m \u001b[1;36m0\u001b[0m\u001b[1;33m,\u001b[0m \u001b[1;34m'{} is not an even number'\u001b[0m\u001b[1;33m.\u001b[0m\u001b[0mformat\u001b[0m\u001b[1;33m(\u001b[0m\u001b[0mi\u001b[0m\u001b[1;33m)\u001b[0m\u001b[1;33m\u001b[0m\u001b[0m\n\u001b[0m",
      "\u001b[1;31mAssertionError\u001b[0m: 5 is not an even number"
     ]
    }
   ],
   "source": [
    "data = [2,4,5,6]\n",
    "for i in data:\n",
    "    assert i%2 == 0, '{} is not an even number'.format(i)"
   ]
  },
  {
   "cell_type": "code",
   "execution_count": 2,
   "id": "legislative-property",
   "metadata": {},
   "outputs": [],
   "source": [
    "li = [2,4,6,8]\n",
    "for i in li:\n",
    "    assert i%2==0"
   ]
  },
  {
   "cell_type": "code",
   "execution_count": 4,
   "id": "passive-square",
   "metadata": {},
   "outputs": [
    {
     "ename": "AssertionError",
     "evalue": "something went wrong",
     "output_type": "error",
     "traceback": [
      "\u001b[1;31m---------------------------------------------------------------------------\u001b[0m",
      "\u001b[1;31mAssertionError\u001b[0m                            Traceback (most recent call last)",
      "\u001b[1;32m<ipython-input-4-3cda2bc9fc64>\u001b[0m in \u001b[0;36m<module>\u001b[1;34m\u001b[0m\n\u001b[0;32m      1\u001b[0m \u001b[0mli\u001b[0m \u001b[1;33m=\u001b[0m \u001b[1;33m[\u001b[0m\u001b[1;36m2\u001b[0m\u001b[1;33m,\u001b[0m\u001b[1;36m4\u001b[0m\u001b[1;33m,\u001b[0m\u001b[1;36m6\u001b[0m\u001b[1;33m,\u001b[0m\u001b[1;36m9\u001b[0m\u001b[1;33m]\u001b[0m\u001b[1;33m\u001b[0m\u001b[0m\n\u001b[0;32m      2\u001b[0m \u001b[1;32mfor\u001b[0m \u001b[0mi\u001b[0m \u001b[1;32min\u001b[0m \u001b[0mli\u001b[0m\u001b[1;33m:\u001b[0m\u001b[1;33m\u001b[0m\u001b[0m\n\u001b[1;32m----> 3\u001b[1;33m     \u001b[1;32massert\u001b[0m \u001b[0mi\u001b[0m\u001b[1;33m%\u001b[0m\u001b[1;36m2\u001b[0m\u001b[1;33m==\u001b[0m\u001b[1;36m0\u001b[0m\u001b[1;33m,\u001b[0m \u001b[1;34m'something went wrong'\u001b[0m\u001b[1;33m\u001b[0m\u001b[0m\n\u001b[0m",
      "\u001b[1;31mAssertionError\u001b[0m: something went wrong"
     ]
    }
   ],
   "source": [
    "li = [2,4,6,9]\n",
    "for i in li:\n",
    "    assert i%2==0, 'something went wrong'"
   ]
  },
  {
   "cell_type": "markdown",
   "id": "intelligent-circular",
   "metadata": {},
   "source": [
    "Please write a program which accepts basic mathematic expression from console and print the evaluation result.\n",
    "\n",
    "Example: If the following n is given as input to the program:\n",
    "\n",
    "35 + 3\n",
    "Then, the output of the program should be:\n",
    "\n",
    "38"
   ]
  },
  {
   "cell_type": "code",
   "execution_count": 7,
   "id": "environmental-start",
   "metadata": {},
   "outputs": [
    {
     "name": "stdout",
     "output_type": "stream",
     "text": [
      "35+3\n"
     ]
    },
    {
     "data": {
      "text/plain": [
       "38"
      ]
     },
     "execution_count": 7,
     "metadata": {},
     "output_type": "execute_result"
    }
   ],
   "source": [
    "eval(input())"
   ]
  },
  {
   "cell_type": "code",
   "execution_count": 8,
   "id": "varying-flavor",
   "metadata": {},
   "outputs": [
    {
     "name": "stdout",
     "output_type": "stream",
     "text": [
      "35+3\n",
      "38\n"
     ]
    }
   ],
   "source": [
    "expression = input()\n",
    "ans = eval(expression)\n",
    "print(ans)"
   ]
  },
  {
   "cell_type": "markdown",
   "id": "criminal-parent",
   "metadata": {},
   "source": [
    "Please write a binary search function which searches an item in a sorted list. The function should return the index of element to be searched in the list.\n",
    "（二分查找，折半查找）\n"
   ]
  },
  {
   "cell_type": "code",
   "execution_count": 10,
   "id": "iraqi-crash",
   "metadata": {},
   "outputs": [
    {
     "name": "stdout",
     "output_type": "stream",
     "text": [
      "None\n",
      "2\n"
     ]
    }
   ],
   "source": [
    "def binarySearch(lst, item):\n",
    "    low = 0\n",
    "    high = len(lst) - 1\n",
    "    \n",
    "    while low <= high:\n",
    "        mid = round((low+high)/2)\n",
    "        \n",
    "        if lst[mid] == item:\n",
    "            return mid\n",
    "        elif lst[mid] > item:\n",
    "            high = mid - 1\n",
    "        else:\n",
    "            low = mid + 1\n",
    "    return None\n",
    "lst = [1,3,5,7]\n",
    "print(binarySearch(lst, 9))\n",
    "print(binarySearch(lst, 5))"
   ]
  },
  {
   "cell_type": "code",
   "execution_count": 41,
   "id": "consolidated-standing",
   "metadata": {},
   "outputs": [
    {
     "name": "stdout",
     "output_type": "stream",
     "text": [
      "array length:  14\n",
      "middle value:  7\n",
      "l 7\n",
      "u 14\n",
      "middle value:  10\n",
      "u 10\n",
      "l 7\n",
      "middle value:  8\n",
      "l 8\n",
      "u 10\n",
      "middle value:  9\n",
      "foundIndex:  9\n",
      "array length:  14\n",
      "middle value:  7\n",
      "l 7\n",
      "u 14\n",
      "middle value:  10\n",
      "l 10\n",
      "u 14\n",
      "middle value:  12\n",
      "u 12\n",
      "l 10\n",
      "middle value:  11\n",
      "u 11\n",
      "l 10\n",
      "foundIndex:  None\n",
      "array length:  14\n",
      "middle value:  7\n",
      "l 7\n",
      "u 14\n",
      "middle value:  10\n",
      "foundIndex:  10\n",
      "array length:  14\n",
      "middle value:  7\n",
      "l 7\n",
      "u 14\n",
      "middle value:  10\n",
      "u 10\n",
      "l 7\n",
      "middle value:  8\n",
      "l 8\n",
      "u 10\n",
      "middle value:  9\n",
      "u 9\n",
      "l 8\n",
      "foundIndex:  None\n",
      "array length:  14\n",
      "middle value:  7\n",
      "l 7\n",
      "u 14\n",
      "middle value:  10\n",
      "l 10\n",
      "u 14\n",
      "middle value:  12\n",
      "l 12\n",
      "u 14\n",
      "middle value:  13\n",
      "l 13\n",
      "u 14\n",
      "foundIndex:  None\n"
     ]
    }
   ],
   "source": [
    "def binarySearchAscending(array, target):\n",
    "    lower = 0\n",
    "    upper = len(array)\n",
    "    print('array length: ', upper)\n",
    "    while lower < upper and lower+1!=upper:#当下界小于上界\n",
    "        x = (lower + upper) // 2#计算出中点位置，单数在中间，双数在中间的左边\n",
    "        print('middle value: ', x)#将中间位置打印出来\n",
    "        value = array[x]#拿出中点位置对应的值\n",
    "        if target == value:#如果中点位置值就是要找的，返回中点位置索引\n",
    "            return x\n",
    "        elif target < value:#如果中点位置的值大于目标值，那么将中点位置设为新的上界\n",
    "            upper = x\n",
    "            print('u',upper)\n",
    "            print('l',lower)\n",
    "        else:#如果中点位置的值小于目标值，那么将中点位置设为新的下界\n",
    "            lower = x\n",
    "            print('l',lower)\n",
    "            print('u',upper)\n",
    "    #return None\n",
    "Array = [1,5,8,10,12,13,55,66,73,78,82,85,88,99]\n",
    "print('foundIndex: ',binarySearchAscending(Array, 78))\n",
    "print('foundIndex: ',binarySearchAscending(Array, 83))    \n",
    "print('foundIndex: ',binarySearchAscending(Array, 82))\n",
    "print('foundIndex: ',binarySearchAscending(Array, 77)) \n",
    "print('foundIndex: ',binarySearchAscending(Array, 100)) "
   ]
  },
  {
   "cell_type": "code",
   "execution_count": 26,
   "id": "alleged-discrimination",
   "metadata": {},
   "outputs": [
    {
     "name": "stdout",
     "output_type": "stream",
     "text": [
      "7\n"
     ]
    }
   ],
   "source": [
    "idx = 0\n",
    "def bs(num, numList):\n",
    "    global idx\n",
    "    if len(numList) == 1:#判断列表长度是否为1\n",
    "        if numList[0] == num:#判断列表里的元素是否为要查找的数\n",
    "            return idx#返回对应的索引值\n",
    "        else:\n",
    "            return 'no exit in the list'#如果不是要找的值就返回’不存在‘\n",
    "    elif num in numList[:len(numList)//2]:#如果列表长度不为1，就检查是否再列表里（先检查是否在前一半）\n",
    "        return bs(num, numList[:len(numList)//2])#如果在前一半，则讲该数和前一半的列表递归到下一次函数\n",
    "    else:#如果列表长度不为1，且不在前一半里，那么就在后一半\n",
    "        idx += len(numList)//2#此时将查找的起点设为中间\n",
    "    return bs(num, numList[len(numList)//2:])#将后一半列表递归到函数中查找\n",
    "print(bs(66, [1,5,8,10,12,13,55,66,73,78,82,85,88,99,100]))"
   ]
  },
  {
   "cell_type": "markdown",
   "id": "further-thomas",
   "metadata": {},
   "source": [
    "Please generate a random float where the value is between 10 and 100 using Python module."
   ]
  },
  {
   "cell_type": "code",
   "execution_count": 27,
   "id": "downtown-curve",
   "metadata": {},
   "outputs": [
    {
     "name": "stdout",
     "output_type": "stream",
     "text": [
      "58.88946330600392\n"
     ]
    }
   ],
   "source": [
    "import random\n",
    "randNum = random.uniform(10, 100)\n",
    "print(randNum)"
   ]
  },
  {
   "cell_type": "markdown",
   "id": "helpful-bleeding",
   "metadata": {},
   "source": [
    "Please generate a random float where the value is between 5 and 95 using Python module."
   ]
  },
  {
   "cell_type": "code",
   "execution_count": 28,
   "id": "confident-wisdom",
   "metadata": {},
   "outputs": [
    {
     "name": "stdout",
     "output_type": "stream",
     "text": [
      "67.92565481418876\n"
     ]
    }
   ],
   "source": [
    "import random\n",
    "randNum = random.uniform(5, 95)\n",
    "print(randNum)"
   ]
  },
  {
   "cell_type": "code",
   "execution_count": 29,
   "id": "passing-charity",
   "metadata": {},
   "outputs": [
    {
     "name": "stdout",
     "output_type": "stream",
     "text": [
      "75.6697629531973\n"
     ]
    }
   ],
   "source": [
    "import random\n",
    "print(random.random()*100-5)#返回【0，1】可以先乘，再减"
   ]
  },
  {
   "cell_type": "code",
   "execution_count": null,
   "id": "divided-professional",
   "metadata": {},
   "outputs": [],
   "source": []
  }
 ],
 "metadata": {
  "kernelspec": {
   "display_name": "Python 3",
   "language": "python",
   "name": "python3"
  },
  "language_info": {
   "codemirror_mode": {
    "name": "ipython",
    "version": 3
   },
   "file_extension": ".py",
   "mimetype": "text/x-python",
   "name": "python",
   "nbconvert_exporter": "python",
   "pygments_lexer": "ipython3",
   "version": "3.6.5"
  }
 },
 "nbformat": 4,
 "nbformat_minor": 5
}
