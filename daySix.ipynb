{
 "cells": [
  {
   "cell_type": "markdown",
   "id": "rotary-messaging",
   "metadata": {},
   "source": [
    "A website requires the users to input username and password to register. Write a program to check the validity of password input by users.\n",
    "\n",
    "Following are the criteria for checking the password:\n",
    "\n",
    "At least 1 letter between [a-z]\n",
    "At least 1 number between [0-9]\n",
    "At least 1 letter between [A-Z]\n",
    "At least 1 character from [$#@]\n",
    "Minimum length of transaction password: 6\n",
    "Maximum length of transaction password: 12\n",
    "Your program should accept a sequence of comma separated passwords and will check them according to the above criteria. Passwords that match the criteria are to be printed, each separated by a comma.\n",
    "\n",
    "Example\n",
    "\n",
    "If the following passwords are given as input to the program:\n",
    "\n",
    "ABd1234@1,a F1#,2w3E*,2We3345\n",
    "Then, the output of the program should be:\n",
    "\n",
    "ABd1234@1"
   ]
  },
  {
   "cell_type": "markdown",
   "id": "changing-information",
   "metadata": {},
   "source": [
    "判断长度6~12\n",
    "判断字母数字三个符号"
   ]
  },
  {
   "cell_type": "code",
   "execution_count": 6,
   "id": "pointed-doctor",
   "metadata": {},
   "outputs": [
    {
     "name": "stdout",
     "output_type": "stream",
     "text": [
      "ABd1234@1,a F1#,2w3E*,2We3345\n",
      "['ABd1234@1', 'a F1#', '2w3E*', '2We3345']\n",
      "['ABd1234@1']\n"
     ]
    }
   ],
   "source": [
    "pswList = input().split(',')\n",
    "print(pswList)\n",
    "rightPsw = []\n",
    "flag = 1\n",
    "for i in pswList:\n",
    "    if not (6<=len(i)<=12 or '0'<=i[0] or i[0]<='9'):\n",
    "        continue\n",
    "    for j in i:\n",
    "        if not ('a'<=j<='z' or 'A'<=j<='Z' or '0'<=j<='9' or j=='$' or j==\"#\" or j=='@'):\n",
    "            flag = 0\n",
    "            break\n",
    "    if flag == 1:\n",
    "        rightPsw.append(i)\n",
    "print(rightPsw)"
   ]
  },
  {
   "cell_type": "code",
   "execution_count": 9,
   "id": "greatest-upgrade",
   "metadata": {},
   "outputs": [
    {
     "name": "stdout",
     "output_type": "stream",
     "text": [
      "ABd1234@1,a F1#,2w3E*,2We3345\n",
      "ABd1234@1\n"
     ]
    }
   ],
   "source": [
    "def is_low(x):\n",
    "    for i in x:\n",
    "        if 'a'<=i<='z':\n",
    "            return True\n",
    "    return False\n",
    "def is_up(x):\n",
    "    for i in x:\n",
    "        if 'A'<=i<='Z':\n",
    "            return True\n",
    "    return False\n",
    "def is_num(x):\n",
    "    for i in x:\n",
    "        if '0'<=i<='9':\n",
    "            return True\n",
    "    return False\n",
    "def is_other(x):\n",
    "    for i in x:\n",
    "        if i=='$' or i=='#' or i=='@':\n",
    "            return True\n",
    "    return False\n",
    "s=input().split(',')\n",
    "lst=[]\n",
    "for i in s:\n",
    "    length = len(i)\n",
    "    if 6 <= length <= 12 and is_low(i) and is_up(i) and is_num(i) and is_other(i):\n",
    "        lst.append(i)\n",
    "print(','.join(lst))"
   ]
  },
  {
   "cell_type": "code",
   "execution_count": 13,
   "id": "scientific-stadium",
   "metadata": {},
   "outputs": [
    {
     "name": "stdout",
     "output_type": "stream",
     "text": [
      "ABd1234@1,a F1#,2w3E*,2We3345\n",
      "True\n",
      "False\n",
      "False\n",
      "True\n",
      "ABd1234@1\n"
     ]
    }
   ],
   "source": [
    "def check(x):\n",
    "    cnt = 6<=len(x)<=12\n",
    "    print(cnt==1)\n",
    "    for i in x:\n",
    "        if i.isupper():\n",
    "            cnt+=1\n",
    "            break\n",
    "    for i in x:\n",
    "        if i.islower():\n",
    "            cnt+=1\n",
    "            break\n",
    "    for i in x:\n",
    "        if i.isnumeric():\n",
    "            cnt+=1\n",
    "            break\n",
    "    for i in x:\n",
    "        if i=='@' or i=='#' or i=='$':\n",
    "            cnt+=1\n",
    "            break\n",
    "    return cnt == 5\n",
    "s = input().split(',')\n",
    "lst = filter(check,s)\n",
    "print(','.join(lst))"
   ]
  },
  {
   "cell_type": "code",
   "execution_count": 14,
   "id": "underlying-argument",
   "metadata": {},
   "outputs": [
    {
     "name": "stdout",
     "output_type": "stream",
     "text": [
      "ABd1234@1,a F1#,2w3E*,2We3345\n",
      "ABd1234@1\n"
     ]
    }
   ],
   "source": [
    "import re\n",
    "s = input().split(',')\n",
    "lst = []\n",
    "for i in s:\n",
    "    cnt = 0\n",
    "    cnt+=(6<=len(i)<=12)\n",
    "    cnt+=bool(re.search('[a-z]',i))\n",
    "    cnt+=bool(re.search('[A-Z]',i))\n",
    "    cnt+=bool(re.search('[0-9]',i))\n",
    "    cnt+=bool(re.search('[@#$]',i))\n",
    "    if cnt == 5:\n",
    "        lst.append(i)\n",
    "print(','.join(lst))"
   ]
  },
  {
   "cell_type": "code",
   "execution_count": 17,
   "id": "apart-ballot",
   "metadata": {},
   "outputs": [
    {
     "name": "stdout",
     "output_type": "stream",
     "text": [
      "enter password: ABd1234@1,a F1#,2w3E*,2We3345\n",
      "ABd1234@1\n"
     ]
    }
   ],
   "source": [
    "import re\n",
    "a = input('enter password: ').split(',')\n",
    "psw_pattern = re.compile(r\"^(?=.*[0-9])(?=.*[a-z])(?=.*[A-Z])(?=.*[$#@]).{6,12}$\")\n",
    "for i in a:\n",
    "    if psw_pattern.fullmatch(i):\n",
    "        print(i)"
   ]
  },
  {
   "cell_type": "markdown",
   "id": "rapid-olive",
   "metadata": {},
   "source": [
    "You are required to write a program to sort the (name, age, score) tuples by ascending order where name is string, age and score are numbers. The tuples are input by console. The sort criteria is:\n",
    "\n",
    "1: Sort based on name\n",
    "2: Then sort based on age\n",
    "3: Then sort by score\n",
    "The priority is that name > age > score.\n",
    "\n",
    "If the following tuples are given as input to the program:\n",
    "\n",
    "Tom,19,80\n",
    "John,20,90\n",
    "Jony,17,91\n",
    "Jony,17,93\n",
    "Json,21,85\n",
    "Then, the output of the program should be:\n",
    "\n",
    "[('John', '20', '90'), ('Jony', '17', '91'), ('Jony', '17', '93'), ('Json', '21', '85'), ('Tom', '19', '80')]"
   ]
  },
  {
   "cell_type": "code",
   "execution_count": 14,
   "id": "indoor-regular",
   "metadata": {},
   "outputs": [
    {
     "name": "stdout",
     "output_type": "stream",
     "text": [
      "Tom,19,80\n",
      "John,20,90\n",
      "Jony,17,91\n",
      "Jony,17,93\n",
      "Json,21,85\n",
      "\n",
      "(('Tom', '19', '80'), ('John', '20', '90'), ('Jony', '17', '91'), ('Jony', '17', '93'), ('Json', '21', '85'))\n",
      "[('Tom', '19', '80'), ('Json', '21', '85'), ('Jony', '17', '93'), ('Jony', '17', '91'), ('John', '20', '90')]\n",
      "[('Tom', '19', '80'), ('Json', '21', '85'), ('John', '20', '90'), ('Jony', '17', '91'), ('Jony', '17', '93')]\n"
     ]
    }
   ],
   "source": [
    "lst = []\n",
    "while True:\n",
    "    s = input().split(',')\n",
    "    if not s[0]:\n",
    "        break\n",
    "    lst.append(tuple(s))#每次输入都存到列表中\n",
    "testPrint = lambda s:(s[0],s[1],s[2],s[3],s[4])\n",
    "print(testPrint(lst))\n",
    "lst.sort(reverse=True)\n",
    "print(lst)\n",
    "#key用lambda函数来定义，数据以升序在优先级0》1》2的前提下逐个元素进行排序\n",
    "lst.sort(key = lambda x:(x[2],x[1],x[0]))\n",
    "print(lst)"
   ]
  },
  {
   "cell_type": "markdown",
   "id": "criminal-jesus",
   "metadata": {},
   "source": [
    "review of Question 19 is needed.21/4\n",
    "\n",
    "24/4 list.sort()方法每次都从list中取出一系列数据，比如某一列，作为key用来排序，如果没有指定倒序，则每拿一列，都按顺序排列，如果不传递任何参数，则sort自动遍历每一列并且每列都按顺序排列\n",
    "\n",
    "如果使用lambda表达式，则可以返回某列的列号，或者把列号拼成元组并返回，则key会按照元组里指定的key的方式排序（元组里的每一个元素都是一个列里的数据，而且有先后顺序，也就是先返回x[2]则先对x[2]对应的列进行排序，然后返回x[1]作为Key进行排序，同理最后返回x[0]，并对x[0]作排序）"
   ]
  }
 ],
 "metadata": {
  "kernelspec": {
   "display_name": "Python 3",
   "language": "python",
   "name": "python3"
  },
  "language_info": {
   "codemirror_mode": {
    "name": "ipython",
    "version": 3
   },
   "file_extension": ".py",
   "mimetype": "text/x-python",
   "name": "python",
   "nbconvert_exporter": "python",
   "pygments_lexer": "ipython3",
   "version": "3.6.5"
  }
 },
 "nbformat": 4,
 "nbformat_minor": 5
}
