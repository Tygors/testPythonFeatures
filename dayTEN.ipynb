{
 "cells": [
  {
   "cell_type": "markdown",
   "id": "portable-chester",
   "metadata": {},
   "source": [
    "Define a function which can print a dictionary where the keys are numbers between 1 and 20 (both included) and the values are square of keys."
   ]
  },
  {
   "cell_type": "code",
   "execution_count": 1,
   "id": "banned-complement",
   "metadata": {},
   "outputs": [
    {
     "name": "stdout",
     "output_type": "stream",
     "text": [
      "{1: 1, 2: 4, 3: 9, 4: 16, 5: 25, 6: 36, 7: 49, 8: 64, 9: 81, 10: 100, 11: 121, 12: 144, 13: 169, 14: 196, 15: 225, 16: 256, 17: 289, 18: 324, 19: 361, 20: 400}\n"
     ]
    }
   ],
   "source": [
    "powDict = {}\n",
    "for i in range(1, 21):\n",
    "    powDict[i] = i**2\n",
    "print(powDict)"
   ]
  },
  {
   "cell_type": "code",
   "execution_count": 3,
   "id": "structural-interpretation",
   "metadata": {},
   "outputs": [
    {
     "name": "stdout",
     "output_type": "stream",
     "text": [
      "{1: 1, 2: 4, 3: 9, 4: 16, 5: 25, 6: 36, 7: 49, 8: 64, 9: 81, 10: 100, 11: 121, 12: 144, 13: 169, 14: 196, 15: 225, 16: 256, 17: 289, 18: 324, 19: 361, 20: 400}\n"
     ]
    }
   ],
   "source": [
    "powDict2={i:i**2 for i in range(1,21)}\n",
    "print(powDict2)"
   ]
  },
  {
   "cell_type": "markdown",
   "id": "logical-launch",
   "metadata": {},
   "source": [
    "Define a function which can generate a dictionary where the keys are numbers between 1 and 20 (both included) and the values are square of keys. The function should just print the keys only.\n",
    "\n"
   ]
  },
  {
   "cell_type": "code",
   "execution_count": 6,
   "id": "related-timothy",
   "metadata": {},
   "outputs": [
    {
     "name": "stdout",
     "output_type": "stream",
     "text": [
      "dict_keys([1, 2, 3, 4, 5, 6, 7, 8, 9, 10, 11, 12, 13, 14, 15, 16, 17, 18, 19, 20])\n"
     ]
    }
   ],
   "source": [
    "def dicGen():\n",
    "    return {i:i**2 for i in range(1,21)}\n",
    "print(dicGen().keys())"
   ]
  },
  {
   "cell_type": "markdown",
   "id": "canadian-color",
   "metadata": {},
   "source": [
    "Define a function which can generate and print a list where the values are square of numbers between 1 and 20 (both included)."
   ]
  },
  {
   "cell_type": "code",
   "execution_count": 7,
   "id": "labeled-childhood",
   "metadata": {},
   "outputs": [
    {
     "name": "stdout",
     "output_type": "stream",
     "text": [
      "[1, 4, 9, 16, 25, 36, 49, 64, 81, 100, 121, 144, 169, 196, 225, 256, 289, 324, 361, 400]\n"
     ]
    }
   ],
   "source": [
    "def listGenPrint():\n",
    "    return [i**2 for i in range(1,21)]\n",
    "print(listGenPrint())"
   ]
  },
  {
   "cell_type": "markdown",
   "id": "roman-position",
   "metadata": {},
   "source": [
    "Define a function which can generate a list where the values are square of numbers between 1 and 20 (both included). Then the function needs to print the first 5 elements in the list."
   ]
  },
  {
   "cell_type": "code",
   "execution_count": 21,
   "id": "promotional-glory",
   "metadata": {},
   "outputs": [],
   "source": [
    "def listGenPrintFive():\n",
    "    lst2 = []\n",
    "    lst = [i**2 for i in range(1, 21)]\n",
    "    [lst2.append(lst[j]) for j in range(0,5)]\n",
    "    print(lst2)\n",
    "    print(lst[0:5])"
   ]
  },
  {
   "cell_type": "code",
   "execution_count": 22,
   "id": "compressed-clinton",
   "metadata": {},
   "outputs": [
    {
     "name": "stdout",
     "output_type": "stream",
     "text": [
      "[1, 4, 9, 16, 25]\n",
      "[1, 4, 9, 16, 25]\n"
     ]
    }
   ],
   "source": [
    "listGenPrintFive()"
   ]
  },
  {
   "cell_type": "code",
   "execution_count": 25,
   "id": "relative-consistency",
   "metadata": {},
   "outputs": [],
   "source": [
    "func = lambda :print([i**2 for i in range(1,21)][:5])"
   ]
  },
  {
   "cell_type": "code",
   "execution_count": 26,
   "id": "educated-cyprus",
   "metadata": {},
   "outputs": [
    {
     "name": "stdout",
     "output_type": "stream",
     "text": [
      "[1, 4, 9, 16, 25]\n"
     ]
    }
   ],
   "source": [
    "func()"
   ]
  },
  {
   "cell_type": "markdown",
   "id": "fewer-statistics",
   "metadata": {},
   "source": [
    "Define a function which can generate a list where the values are square of numbers between 1 and 20 (both included). Then the function needs to print the last 5 elements in the list."
   ]
  },
  {
   "cell_type": "code",
   "execution_count": 31,
   "id": "applied-population",
   "metadata": {},
   "outputs": [],
   "source": [
    "func = lambda :print([i**2 for i in range(1,21)][-5:])"
   ]
  },
  {
   "cell_type": "code",
   "execution_count": 32,
   "id": "federal-compromise",
   "metadata": {},
   "outputs": [
    {
     "name": "stdout",
     "output_type": "stream",
     "text": [
      "[256, 289, 324, 361, 400]\n"
     ]
    }
   ],
   "source": [
    "func()"
   ]
  },
  {
   "cell_type": "markdown",
   "id": "deadly-tenant",
   "metadata": {},
   "source": [
    "Define a function which can generate a list where the values are square of numbers between 1 and 20 (both included). Then the function needs to print all values except the first 5 elements in the list."
   ]
  },
  {
   "cell_type": "code",
   "execution_count": 33,
   "id": "suburban-context",
   "metadata": {},
   "outputs": [],
   "source": [
    "func = lambda :print([i**2 for i in range(1,21)][5:])"
   ]
  },
  {
   "cell_type": "code",
   "execution_count": 34,
   "id": "liquid-volleyball",
   "metadata": {},
   "outputs": [
    {
     "name": "stdout",
     "output_type": "stream",
     "text": [
      "[36, 49, 64, 81, 100, 121, 144, 169, 196, 225, 256, 289, 324, 361, 400]\n"
     ]
    }
   ],
   "source": [
    "func()"
   ]
  },
  {
   "cell_type": "markdown",
   "id": "sharp-broadcasting",
   "metadata": {},
   "source": [
    "Define a function which can generate and print a tuple where the value are square of numbers between 1 and 20 (both included)."
   ]
  },
  {
   "cell_type": "code",
   "execution_count": 40,
   "id": "particular-copyright",
   "metadata": {},
   "outputs": [
    {
     "name": "stdout",
     "output_type": "stream",
     "text": [
      "(1, 4, 9, 16, 25, 36, 49, 64, 81, 100, 121, 144, 169, 196, 225, 256, 289, 324, 361, 400)\n"
     ]
    }
   ],
   "source": [
    "def genPrintTuple():\n",
    "    tupleTest = []\n",
    "    for i in range(1, 21):\n",
    "        tupleTest.append(i**2)\n",
    "    print(tuple(tupleTest))\n",
    "genPrintTuple()"
   ]
  },
  {
   "cell_type": "code",
   "execution_count": null,
   "id": "national-jacksonville",
   "metadata": {},
   "outputs": [],
   "source": []
  }
 ],
 "metadata": {
  "kernelspec": {
   "display_name": "Python 3",
   "language": "python",
   "name": "python3"
  },
  "language_info": {
   "codemirror_mode": {
    "name": "ipython",
    "version": 3
   },
   "file_extension": ".py",
   "mimetype": "text/x-python",
   "name": "python",
   "nbconvert_exporter": "python",
   "pygments_lexer": "ipython3",
   "version": "3.6.5"
  }
 },
 "nbformat": 4,
 "nbformat_minor": 5
}
