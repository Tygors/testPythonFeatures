{
 "cells": [
  {
   "cell_type": "code",
   "execution_count": 1,
   "id": "continued-springer",
   "metadata": {},
   "outputs": [],
   "source": [
    "class FooBar:\n",
    "    def __init__(self):\n",
    "        self.somevar = 42"
   ]
  },
  {
   "cell_type": "code",
   "execution_count": 2,
   "id": "parliamentary-benchmark",
   "metadata": {},
   "outputs": [
    {
     "data": {
      "text/plain": [
       "42"
      ]
     },
     "execution_count": 2,
     "metadata": {},
     "output_type": "execute_result"
    }
   ],
   "source": [
    "f = FooBar()\n",
    "f.somevar"
   ]
  },
  {
   "cell_type": "code",
   "execution_count": 3,
   "id": "honest-guinea",
   "metadata": {},
   "outputs": [],
   "source": [
    "class FooBar:\n",
    "    def __init__(self, value=42):\n",
    "        self.somevar = value"
   ]
  },
  {
   "cell_type": "code",
   "execution_count": 4,
   "id": "imposed-terror",
   "metadata": {},
   "outputs": [
    {
     "data": {
      "text/plain": [
       "'This is a constructor argument'"
      ]
     },
     "execution_count": 4,
     "metadata": {},
     "output_type": "execute_result"
    }
   ],
   "source": [
    "f = FooBar('This is a constructor argument')\n",
    "f.somevar"
   ]
  },
  {
   "cell_type": "code",
   "execution_count": 5,
   "id": "together-weekly",
   "metadata": {},
   "outputs": [],
   "source": [
    "#Python提供了魔法方法__del__，也称作析构函数（ destructor）"
   ]
  },
  {
   "cell_type": "code",
   "execution_count": 6,
   "id": "apart-christianity",
   "metadata": {},
   "outputs": [],
   "source": [
    "class A:\n",
    "    def hello(self):\n",
    "        print(\"Hello, I'm A.\")"
   ]
  },
  {
   "cell_type": "code",
   "execution_count": 7,
   "id": "excited-despite",
   "metadata": {},
   "outputs": [],
   "source": [
    "class B(A):\n",
    "    pass"
   ]
  },
  {
   "cell_type": "code",
   "execution_count": 8,
   "id": "ranging-provider",
   "metadata": {},
   "outputs": [
    {
     "name": "stdout",
     "output_type": "stream",
     "text": [
      "Hello, I'm A.\n"
     ]
    }
   ],
   "source": [
    "a = A()\n",
    "b = B()\n",
    "a.hello()"
   ]
  },
  {
   "cell_type": "code",
   "execution_count": 9,
   "id": "handed-vault",
   "metadata": {},
   "outputs": [
    {
     "name": "stdout",
     "output_type": "stream",
     "text": [
      "Hello, I'm A.\n"
     ]
    }
   ],
   "source": [
    "b.hello()"
   ]
  },
  {
   "cell_type": "code",
   "execution_count": 10,
   "id": "after-jungle",
   "metadata": {},
   "outputs": [],
   "source": [
    "class B(A):\n",
    "    def hello(self):\n",
    "        print(\"Hello, I'm B.\")"
   ]
  },
  {
   "cell_type": "code",
   "execution_count": 12,
   "id": "based-muscle",
   "metadata": {},
   "outputs": [
    {
     "name": "stdout",
     "output_type": "stream",
     "text": [
      "Hello, I'm B.\n"
     ]
    }
   ],
   "source": [
    "b = B()\n",
    "b.hello()"
   ]
  },
  {
   "cell_type": "code",
   "execution_count": 13,
   "id": "exotic-owner",
   "metadata": {},
   "outputs": [],
   "source": [
    "#重写构造函数时，必须调用超类（继承的类）的构造函数，否则可能无法正确地初始化对象\n",
    "class Bird:\n",
    "    def __init__(self):\n",
    "        self.hungry = True\n",
    "    def eat(self):\n",
    "        if self.hungry:\n",
    "            print('Aaaah ...')\n",
    "            self.hungry = False\n",
    "        else:\n",
    "            print('No, thanks!')"
   ]
  },
  {
   "cell_type": "code",
   "execution_count": 14,
   "id": "established-plant",
   "metadata": {},
   "outputs": [
    {
     "name": "stdout",
     "output_type": "stream",
     "text": [
      "Aaaah ...\n"
     ]
    }
   ],
   "source": [
    "b = Bird()\n",
    "b.eat()"
   ]
  },
  {
   "cell_type": "code",
   "execution_count": 15,
   "id": "educated-cinema",
   "metadata": {},
   "outputs": [
    {
     "name": "stdout",
     "output_type": "stream",
     "text": [
      "No, thanks!\n"
     ]
    }
   ],
   "source": [
    "b.eat()"
   ]
  },
  {
   "cell_type": "code",
   "execution_count": 17,
   "id": "worst-captain",
   "metadata": {},
   "outputs": [],
   "source": [
    "class SongBird(Bird):\n",
    "    def __init__(self):\n",
    "        self.sound = 'Squawk!'\n",
    "    def sing(self):\n",
    "        print(self.sound)"
   ]
  },
  {
   "cell_type": "code",
   "execution_count": 18,
   "id": "independent-stage",
   "metadata": {},
   "outputs": [
    {
     "name": "stdout",
     "output_type": "stream",
     "text": [
      "Squawk!\n"
     ]
    }
   ],
   "source": [
    "sb = SongBird()\n",
    "sb.sing()"
   ]
  },
  {
   "cell_type": "code",
   "execution_count": 19,
   "id": "promising-contribution",
   "metadata": {},
   "outputs": [
    {
     "ename": "AttributeError",
     "evalue": "'SongBird' object has no attribute 'hungry'",
     "output_type": "error",
     "traceback": [
      "\u001b[1;31m---------------------------------------------------------------------------\u001b[0m",
      "\u001b[1;31mAttributeError\u001b[0m                            Traceback (most recent call last)",
      "\u001b[1;32m<ipython-input-19-82f959b2fd04>\u001b[0m in \u001b[0;36m<module>\u001b[1;34m\u001b[0m\n\u001b[1;32m----> 1\u001b[1;33m \u001b[0msb\u001b[0m\u001b[1;33m.\u001b[0m\u001b[0meat\u001b[0m\u001b[1;33m(\u001b[0m\u001b[1;33m)\u001b[0m\u001b[1;33m\u001b[0m\u001b[0m\n\u001b[0m",
      "\u001b[1;32m<ipython-input-13-6919d6cdea7b>\u001b[0m in \u001b[0;36meat\u001b[1;34m(self)\u001b[0m\n\u001b[0;32m      4\u001b[0m         \u001b[0mself\u001b[0m\u001b[1;33m.\u001b[0m\u001b[0mhungry\u001b[0m \u001b[1;33m=\u001b[0m \u001b[1;32mTrue\u001b[0m\u001b[1;33m\u001b[0m\u001b[0m\n\u001b[0;32m      5\u001b[0m     \u001b[1;32mdef\u001b[0m \u001b[0meat\u001b[0m\u001b[1;33m(\u001b[0m\u001b[0mself\u001b[0m\u001b[1;33m)\u001b[0m\u001b[1;33m:\u001b[0m\u001b[1;33m\u001b[0m\u001b[0m\n\u001b[1;32m----> 6\u001b[1;33m         \u001b[1;32mif\u001b[0m \u001b[0mself\u001b[0m\u001b[1;33m.\u001b[0m\u001b[0mhungry\u001b[0m\u001b[1;33m:\u001b[0m\u001b[1;33m\u001b[0m\u001b[0m\n\u001b[0m\u001b[0;32m      7\u001b[0m             \u001b[0mprint\u001b[0m\u001b[1;33m(\u001b[0m\u001b[1;34m'Aaaah ...'\u001b[0m\u001b[1;33m)\u001b[0m\u001b[1;33m\u001b[0m\u001b[0m\n\u001b[0;32m      8\u001b[0m             \u001b[0mself\u001b[0m\u001b[1;33m.\u001b[0m\u001b[0mhungry\u001b[0m \u001b[1;33m=\u001b[0m \u001b[1;32mFalse\u001b[0m\u001b[1;33m\u001b[0m\u001b[0m\n",
      "\u001b[1;31mAttributeError\u001b[0m: 'SongBird' object has no attribute 'hungry'"
     ]
    }
   ],
   "source": [
    "sb.eat()"
   ]
  },
  {
   "cell_type": "code",
   "execution_count": 20,
   "id": "continent-convertible",
   "metadata": {},
   "outputs": [],
   "source": [
    "#要消除这种错误， SongBird的构造函数必须调用其超类（ Bird）的构造函数\n",
    "#以确保基本的初始化得以执行。为此，有两种方法\n",
    "#1调用未关联的超类构造函数\n",
    "#2以及使用函数super。\n",
    "class SongBird(Bird):\n",
    "    def __init__(self):\n",
    "        Bird.__init__(self)\n",
    "        self.sound = 'Squawk!'\n",
    "    def sing(self):\n",
    "        print(self.sound)\n"
   ]
  },
  {
   "cell_type": "code",
   "execution_count": 21,
   "id": "digital-syntax",
   "metadata": {},
   "outputs": [
    {
     "name": "stdout",
     "output_type": "stream",
     "text": [
      "Squawk!\n"
     ]
    }
   ],
   "source": [
    "sb = SongBird()\n",
    "sb.sing()"
   ]
  },
  {
   "cell_type": "code",
   "execution_count": 22,
   "id": "critical-failure",
   "metadata": {},
   "outputs": [
    {
     "name": "stdout",
     "output_type": "stream",
     "text": [
      "Aaaah ...\n"
     ]
    }
   ],
   "source": [
    "sb.eat()"
   ]
  },
  {
   "cell_type": "code",
   "execution_count": 23,
   "id": "emotional-publisher",
   "metadata": {},
   "outputs": [
    {
     "name": "stdout",
     "output_type": "stream",
     "text": [
      "No, thanks!\n"
     ]
    }
   ],
   "source": [
    "sb.eat()"
   ]
  },
  {
   "cell_type": "code",
   "execution_count": 24,
   "id": "optimum-tourism",
   "metadata": {},
   "outputs": [],
   "source": [
    "#使用函数 super\n",
    "class Bird:\n",
    "    def __init__(self):\n",
    "        self.hungry = True\n",
    "    def eat(self):\n",
    "        if self.hungry:\n",
    "            print('Aaaah ...')\n",
    "            self.hungry = False\n",
    "        else:\n",
    "            print('No, thanks!')"
   ]
  },
  {
   "cell_type": "code",
   "execution_count": 25,
   "id": "owned-timothy",
   "metadata": {},
   "outputs": [],
   "source": [
    "class SongBird(Bird):\n",
    "    def __init__(self):\n",
    "        super().__init__()\n",
    "        self.sound = 'Squawk!'\n",
    "    def sing(self):\n",
    "        print(self.sound)"
   ]
  },
  {
   "cell_type": "code",
   "execution_count": 26,
   "id": "common-kazakhstan",
   "metadata": {},
   "outputs": [
    {
     "name": "stdout",
     "output_type": "stream",
     "text": [
      "Squawk!\n"
     ]
    }
   ],
   "source": [
    "sb = SongBird()\n",
    "sb.sing()"
   ]
  },
  {
   "cell_type": "code",
   "execution_count": 27,
   "id": "amended-science",
   "metadata": {},
   "outputs": [
    {
     "name": "stdout",
     "output_type": "stream",
     "text": [
      "Aaaah ...\n"
     ]
    }
   ],
   "source": [
    "sb.eat()"
   ]
  },
  {
   "cell_type": "code",
   "execution_count": 28,
   "id": "scheduled-friendly",
   "metadata": {},
   "outputs": [
    {
     "name": "stdout",
     "output_type": "stream",
     "text": [
      "No, thanks!\n"
     ]
    }
   ],
   "source": [
    "sb.eat()"
   ]
  },
  {
   "cell_type": "code",
   "execution_count": 29,
   "id": "worst-shirt",
   "metadata": {},
   "outputs": [],
   "source": [
    "#元素访问\n",
    "#基本的序列和映射协议\n",
    "#不可变对象需要实现2个方法__len__，__getitem__\n",
    "#而可变对象需要实现4个上述两个以及__setitem__,__delitem__"
   ]
  },
  {
   "cell_type": "markdown",
   "id": "extreme-letters",
   "metadata": {},
   "source": [
    "对于序列，如果键为负整数，应从末尾往前数。换而言之， x[-n]应与x[len(x)-n]等效。\n",
    "\n",
    "如果键的类型不合适（如对序列使用字符串键），可能引发TypeError异常。\n",
    "\n",
    "对于序列，如果索引的类型是正确的，但不在允许的范围内，应引发IndexError异常。"
   ]
  },
  {
   "cell_type": "code",
   "execution_count": 34,
   "id": "posted-executive",
   "metadata": {},
   "outputs": [],
   "source": [
    "def check_index(key):\n",
    "    '''指定的键是否是可接受的索引？\n",
    "    键必须是非负整数，才是可接受的。如果不是整数，\n",
    "    将引发TypeError异常；如果是负数，将引发Index\n",
    "    Error异常（因为这个序列的长度是无穷的）\n",
    "    '''\n",
    "    if not isinstance(key, int):\n",
    "        raise TypeError\n",
    "    if key < 0:\n",
    "        raise IndexError\n",
    "    \n",
    "class ArithmeticSequence:\n",
    "    \n",
    "    def __init__(self, start=0, step=1):\n",
    "        '''\n",
    "        初始化这个算术序列\n",
    "        start -序列中的第一个值\n",
    "        step -两个相邻值的差\n",
    "        changed -一个字典，包含用户修改后的值\n",
    "        '''\n",
    "        self.start = start #存储初始值\n",
    "        self.step = step  #存储步长值\n",
    "        self.changed = {}  #没有任何元素被修改\n",
    "        \n",
    "    def __getitem__(self, key):\n",
    "        '''\n",
    "        从算数序列中获取一个元素\n",
    "        '''\n",
    "        check_index(key)\n",
    "        \n",
    "        try: \n",
    "            return self.changed[key]#判断是否修改过,直接返回已经修改过的值\n",
    "        except KeyError:             #如果没被修改过，就计算元素的值\n",
    "            return self.start + key*self.step\n",
    "        \n",
    "    def __setitem__(self, key, value):\n",
    "        '''\n",
    "        修改算数序列中的元素\n",
    "        '''\n",
    "        check_index(key)#先检查索引是否有误\n",
    "        self.changed[key] = value#存储修改后的值"
   ]
  },
  {
   "cell_type": "code",
   "execution_count": 35,
   "id": "expensive-republican",
   "metadata": {},
   "outputs": [
    {
     "data": {
      "text/plain": [
       "9"
      ]
     },
     "execution_count": 35,
     "metadata": {},
     "output_type": "execute_result"
    }
   ],
   "source": [
    "s = ArithmeticSequence(1, 2)\n",
    "s[4]"
   ]
  },
  {
   "cell_type": "code",
   "execution_count": 36,
   "id": "documented-printer",
   "metadata": {},
   "outputs": [
    {
     "data": {
      "text/plain": [
       "2"
      ]
     },
     "execution_count": 36,
     "metadata": {},
     "output_type": "execute_result"
    }
   ],
   "source": [
    "s[4] = 2\n",
    "s[4]"
   ]
  },
  {
   "cell_type": "code",
   "execution_count": 37,
   "id": "conservative-transparency",
   "metadata": {},
   "outputs": [],
   "source": [
    "s[4] = 3"
   ]
  },
  {
   "cell_type": "code",
   "execution_count": 38,
   "id": "demographic-tobago",
   "metadata": {},
   "outputs": [
    {
     "data": {
      "text/plain": [
       "3"
      ]
     },
     "execution_count": 38,
     "metadata": {},
     "output_type": "execute_result"
    }
   ],
   "source": [
    "s[4]"
   ]
  },
  {
   "cell_type": "code",
   "execution_count": 39,
   "id": "white-musical",
   "metadata": {},
   "outputs": [
    {
     "data": {
      "text/plain": [
       "11"
      ]
     },
     "execution_count": 39,
     "metadata": {},
     "output_type": "execute_result"
    }
   ],
   "source": [
    "s[5]"
   ]
  },
  {
   "cell_type": "code",
   "execution_count": 41,
   "id": "built-winning",
   "metadata": {},
   "outputs": [
    {
     "data": {
      "text/plain": [
       "{4: 3}"
      ]
     },
     "execution_count": 41,
     "metadata": {},
     "output_type": "execute_result"
    }
   ],
   "source": [
    "s.changed"
   ]
  },
  {
   "cell_type": "code",
   "execution_count": 44,
   "id": "unable-vault",
   "metadata": {},
   "outputs": [
    {
     "ename": "AttributeError",
     "evalue": "__delitem__",
     "output_type": "error",
     "traceback": [
      "\u001b[1;31m---------------------------------------------------------------------------\u001b[0m",
      "\u001b[1;31mAttributeError\u001b[0m                            Traceback (most recent call last)",
      "\u001b[1;32m<ipython-input-44-b90926c412e4>\u001b[0m in \u001b[0;36m<module>\u001b[1;34m\u001b[0m\n\u001b[0;32m      1\u001b[0m \u001b[1;31m#禁止删除元素，因此没有实现__del__\u001b[0m\u001b[1;33m\u001b[0m\u001b[1;33m\u001b[0m\u001b[0m\n\u001b[1;32m----> 2\u001b[1;33m \u001b[1;32mdel\u001b[0m \u001b[0ms\u001b[0m\u001b[1;33m[\u001b[0m\u001b[1;36m4\u001b[0m\u001b[1;33m]\u001b[0m\u001b[1;33m\u001b[0m\u001b[0m\n\u001b[0m",
      "\u001b[1;31mAttributeError\u001b[0m: __delitem__"
     ]
    }
   ],
   "source": [
    "#禁止删除元素，因此没有实现__delitem__\n",
    "del s[4]"
   ]
  },
  {
   "cell_type": "code",
   "execution_count": 46,
   "id": "modified-jacob",
   "metadata": {},
   "outputs": [
    {
     "ename": "TypeError",
     "evalue": "",
     "output_type": "error",
     "traceback": [
      "\u001b[1;31m---------------------------------------------------------------------------\u001b[0m",
      "\u001b[1;31mTypeError\u001b[0m                                 Traceback (most recent call last)",
      "\u001b[1;32m<ipython-input-46-dfdf4578f9f9>\u001b[0m in \u001b[0;36m<module>\u001b[1;34m\u001b[0m\n\u001b[1;32m----> 1\u001b[1;33m \u001b[0ms\u001b[0m\u001b[1;33m[\u001b[0m\u001b[1;34m\"four\"\u001b[0m\u001b[1;33m]\u001b[0m\u001b[1;33m\u001b[0m\u001b[0m\n\u001b[0m",
      "\u001b[1;32m<ipython-input-34-04f8ed97948b>\u001b[0m in \u001b[0;36m__getitem__\u001b[1;34m(self, key)\u001b[0m\n\u001b[0;32m     27\u001b[0m         \u001b[0m从算数序列中获取一个元素\u001b[0m\u001b[1;33m\u001b[0m\u001b[0m\n\u001b[0;32m     28\u001b[0m         '''\n\u001b[1;32m---> 29\u001b[1;33m         \u001b[0mcheck_index\u001b[0m\u001b[1;33m(\u001b[0m\u001b[0mkey\u001b[0m\u001b[1;33m)\u001b[0m\u001b[1;33m\u001b[0m\u001b[0m\n\u001b[0m\u001b[0;32m     30\u001b[0m \u001b[1;33m\u001b[0m\u001b[0m\n\u001b[0;32m     31\u001b[0m         \u001b[1;32mtry\u001b[0m\u001b[1;33m:\u001b[0m\u001b[1;33m\u001b[0m\u001b[0m\n",
      "\u001b[1;32m<ipython-input-34-04f8ed97948b>\u001b[0m in \u001b[0;36mcheck_index\u001b[1;34m(key)\u001b[0m\n\u001b[0;32m      6\u001b[0m     '''\n\u001b[0;32m      7\u001b[0m     \u001b[1;32mif\u001b[0m \u001b[1;32mnot\u001b[0m \u001b[0misinstance\u001b[0m\u001b[1;33m(\u001b[0m\u001b[0mkey\u001b[0m\u001b[1;33m,\u001b[0m \u001b[0mint\u001b[0m\u001b[1;33m)\u001b[0m\u001b[1;33m:\u001b[0m\u001b[1;33m\u001b[0m\u001b[0m\n\u001b[1;32m----> 8\u001b[1;33m         \u001b[1;32mraise\u001b[0m \u001b[0mTypeError\u001b[0m\u001b[1;33m\u001b[0m\u001b[0m\n\u001b[0m\u001b[0;32m      9\u001b[0m     \u001b[1;32mif\u001b[0m \u001b[0mkey\u001b[0m \u001b[1;33m<\u001b[0m \u001b[1;36m0\u001b[0m\u001b[1;33m:\u001b[0m\u001b[1;33m\u001b[0m\u001b[0m\n\u001b[0;32m     10\u001b[0m         \u001b[1;32mraise\u001b[0m \u001b[0mIndexError\u001b[0m\u001b[1;33m\u001b[0m\u001b[0m\n",
      "\u001b[1;31mTypeError\u001b[0m: "
     ]
    }
   ],
   "source": [
    "s[\"four\"]"
   ]
  },
  {
   "cell_type": "code",
   "execution_count": 47,
   "id": "portuguese-subdivision",
   "metadata": {},
   "outputs": [
    {
     "ename": "IndexError",
     "evalue": "",
     "output_type": "error",
     "traceback": [
      "\u001b[1;31m---------------------------------------------------------------------------\u001b[0m",
      "\u001b[1;31mIndexError\u001b[0m                                Traceback (most recent call last)",
      "\u001b[1;32m<ipython-input-47-f93c2f8ec6cd>\u001b[0m in \u001b[0;36m<module>\u001b[1;34m\u001b[0m\n\u001b[1;32m----> 1\u001b[1;33m \u001b[0ms\u001b[0m\u001b[1;33m[\u001b[0m\u001b[1;33m-\u001b[0m\u001b[1;36m7\u001b[0m\u001b[1;33m]\u001b[0m\u001b[1;33m\u001b[0m\u001b[0m\n\u001b[0m",
      "\u001b[1;32m<ipython-input-34-04f8ed97948b>\u001b[0m in \u001b[0;36m__getitem__\u001b[1;34m(self, key)\u001b[0m\n\u001b[0;32m     27\u001b[0m         \u001b[0m从算数序列中获取一个元素\u001b[0m\u001b[1;33m\u001b[0m\u001b[0m\n\u001b[0;32m     28\u001b[0m         '''\n\u001b[1;32m---> 29\u001b[1;33m         \u001b[0mcheck_index\u001b[0m\u001b[1;33m(\u001b[0m\u001b[0mkey\u001b[0m\u001b[1;33m)\u001b[0m\u001b[1;33m\u001b[0m\u001b[0m\n\u001b[0m\u001b[0;32m     30\u001b[0m \u001b[1;33m\u001b[0m\u001b[0m\n\u001b[0;32m     31\u001b[0m         \u001b[1;32mtry\u001b[0m\u001b[1;33m:\u001b[0m\u001b[1;33m\u001b[0m\u001b[0m\n",
      "\u001b[1;32m<ipython-input-34-04f8ed97948b>\u001b[0m in \u001b[0;36mcheck_index\u001b[1;34m(key)\u001b[0m\n\u001b[0;32m      8\u001b[0m         \u001b[1;32mraise\u001b[0m \u001b[0mTypeError\u001b[0m\u001b[1;33m\u001b[0m\u001b[0m\n\u001b[0;32m      9\u001b[0m     \u001b[1;32mif\u001b[0m \u001b[0mkey\u001b[0m \u001b[1;33m<\u001b[0m \u001b[1;36m0\u001b[0m\u001b[1;33m:\u001b[0m\u001b[1;33m\u001b[0m\u001b[0m\n\u001b[1;32m---> 10\u001b[1;33m         \u001b[1;32mraise\u001b[0m \u001b[0mIndexError\u001b[0m\u001b[1;33m\u001b[0m\u001b[0m\n\u001b[0m\u001b[0;32m     11\u001b[0m \u001b[1;33m\u001b[0m\u001b[0m\n\u001b[0;32m     12\u001b[0m \u001b[1;32mclass\u001b[0m \u001b[0mArithmeticSequence\u001b[0m\u001b[1;33m:\u001b[0m\u001b[1;33m\u001b[0m\u001b[0m\n",
      "\u001b[1;31mIndexError\u001b[0m: "
     ]
    }
   ],
   "source": [
    "s[-7]"
   ]
  },
  {
   "cell_type": "code",
   "execution_count": 48,
   "id": "wired-announcement",
   "metadata": {},
   "outputs": [],
   "source": [
    "#从 list、 dict 和 str 派生\n",
    "#一个带访问计算器的列表（实现类似于内置列表的序列类型，可直接继承list\n",
    "class CounterList(list):\n",
    "    def __init__(self, *args):\n",
    "        super().__init__(*args)\n",
    "        self.counter = 0\n",
    "    def __getitem__(self, index):\n",
    "        self.counter += 1\n",
    "        return super(CounterList, self).__getitem__(index)"
   ]
  },
  {
   "cell_type": "code",
   "execution_count": 68,
   "id": "facial-ecology",
   "metadata": {},
   "outputs": [],
   "source": [
    "cl = CounterList(range(10))"
   ]
  },
  {
   "cell_type": "code",
   "execution_count": 69,
   "id": "casual-fighter",
   "metadata": {},
   "outputs": [
    {
     "data": {
      "text/plain": [
       "[0, 1, 2, 3, 4, 5, 6, 7, 8, 9]"
      ]
     },
     "execution_count": 69,
     "metadata": {},
     "output_type": "execute_result"
    }
   ],
   "source": [
    "cl"
   ]
  },
  {
   "cell_type": "code",
   "execution_count": 70,
   "id": "stopped-regression",
   "metadata": {},
   "outputs": [
    {
     "name": "stdout",
     "output_type": "stream",
     "text": [
      "[9, 8, 7, 6, 5, 4, 3, 2, 1, 0]\n"
     ]
    }
   ],
   "source": [
    "cl.reverse()\n",
    "print(cl)"
   ]
  },
  {
   "cell_type": "code",
   "execution_count": 71,
   "id": "crazy-motor",
   "metadata": {},
   "outputs": [],
   "source": [
    "del cl[3:5]"
   ]
  },
  {
   "cell_type": "code",
   "execution_count": 72,
   "id": "parallel-dutch",
   "metadata": {},
   "outputs": [
    {
     "data": {
      "text/plain": [
       "[9, 8, 7, 4, 3, 2, 1, 0]"
      ]
     },
     "execution_count": 72,
     "metadata": {},
     "output_type": "execute_result"
    }
   ],
   "source": [
    "cl"
   ]
  },
  {
   "cell_type": "code",
   "execution_count": 73,
   "id": "bigger-kuwait",
   "metadata": {},
   "outputs": [
    {
     "data": {
      "text/plain": [
       "0"
      ]
     },
     "execution_count": 73,
     "metadata": {},
     "output_type": "execute_result"
    }
   ],
   "source": [
    "cl.counter"
   ]
  },
  {
   "cell_type": "code",
   "execution_count": 74,
   "id": "fifth-aaron",
   "metadata": {},
   "outputs": [
    {
     "data": {
      "text/plain": [
       "10"
      ]
     },
     "execution_count": 74,
     "metadata": {},
     "output_type": "execute_result"
    }
   ],
   "source": [
    "cl[4]+cl[2]"
   ]
  },
  {
   "cell_type": "code",
   "execution_count": 75,
   "id": "sacred-fourth",
   "metadata": {},
   "outputs": [
    {
     "data": {
      "text/plain": [
       "2"
      ]
     },
     "execution_count": 75,
     "metadata": {},
     "output_type": "execute_result"
    }
   ],
   "source": [
    "cl.counter"
   ]
  },
  {
   "cell_type": "code",
   "execution_count": 76,
   "id": "rubber-there",
   "metadata": {},
   "outputs": [],
   "source": [
    "class Rectangle:\n",
    "    def __init__(self):\n",
    "        self.width = 0\n",
    "        self.height = 0\n",
    "    def set_size(self, size):\n",
    "        self.width, self.height = size\n",
    "    def get_size(self):\n",
    "        return self.width, self.height"
   ]
  },
  {
   "cell_type": "code",
   "execution_count": 77,
   "id": "civilian-reader",
   "metadata": {},
   "outputs": [
    {
     "data": {
      "text/plain": [
       "(10, 5)"
      ]
     },
     "execution_count": 77,
     "metadata": {},
     "output_type": "execute_result"
    }
   ],
   "source": [
    "r = Rectangle()\n",
    "r.width = 10\n",
    "r.height = 5\n",
    "r.get_size()"
   ]
  },
  {
   "cell_type": "code",
   "execution_count": 78,
   "id": "aerial-attitude",
   "metadata": {},
   "outputs": [
    {
     "data": {
      "text/plain": [
       "150"
      ]
     },
     "execution_count": 78,
     "metadata": {},
     "output_type": "execute_result"
    }
   ],
   "source": [
    "r.set_size((150, 100))\n",
    "r.width"
   ]
  },
  {
   "cell_type": "code",
   "execution_count": 79,
   "id": "needed-tracker",
   "metadata": {},
   "outputs": [],
   "source": [
    "#通过存取方法定义的属性通常称为特性（ property）\n",
    "#函数property，它只能用于新式类\n",
    "class Rectangle:\n",
    "    def __init__ (self):\n",
    "        self.width = 0\n",
    "        self.height = 0\n",
    "    def set_size(self, size):\n",
    "        self.width, self.height = size\n",
    "    def get_size(self):\n",
    "        return self.width, self.height\n",
    "    size = property(get_size, set_size)"
   ]
  },
  {
   "cell_type": "code",
   "execution_count": 80,
   "id": "tribal-macro",
   "metadata": {},
   "outputs": [],
   "source": [
    "r = Rectangle()"
   ]
  },
  {
   "cell_type": "code",
   "execution_count": 81,
   "id": "satisfied-wales",
   "metadata": {},
   "outputs": [
    {
     "data": {
      "text/plain": [
       "(10, 5)"
      ]
     },
     "execution_count": 81,
     "metadata": {},
     "output_type": "execute_result"
    }
   ],
   "source": [
    "r.width = 10\n",
    "r.height = 5\n",
    "r.size"
   ]
  },
  {
   "cell_type": "code",
   "execution_count": 83,
   "id": "preceding-syndrome",
   "metadata": {},
   "outputs": [
    {
     "name": "stdout",
     "output_type": "stream",
     "text": [
      "150\n",
      "(150, 100)\n"
     ]
    }
   ],
   "source": [
    "r.size = 150, 100\n",
    "print(r.width)\n",
    "print(r.size)"
   ]
  },
  {
   "cell_type": "code",
   "execution_count": 85,
   "id": "royal-tractor",
   "metadata": {},
   "outputs": [],
   "source": [
    "#静态方法和类方法\n",
    "#静态方法的定义中没有参数self，可直接通过类来调用\n",
    "#类方法的定义中包含类似于self的参数，通常被命名为cls\n",
    "#对于类方法，也可通过对象直接调用，但参数cls将自动关联到类。\n",
    "class MyClass:\n",
    "    def smeth():\n",
    "        print('This is a static method')\n",
    "    smeth = staticmethod(smeth)\n",
    "    def cmeth(cls):\n",
    "        print('This is a class method of', cls)\n",
    "    cmeth = classmethod(cmeth)"
   ]
  },
  {
   "cell_type": "code",
   "execution_count": 86,
   "id": "necessary-legend",
   "metadata": {},
   "outputs": [],
   "source": [
    "#在Python 2.4中，引入了一种名为装饰器的新语法，可用于像这样包装方法。\n",
    "#实际上，装饰器可用于包装任何可调用的对象，并且可用于方法和函数\n",
    "'''\n",
    "可指定一个或多个装饰器，为此可在方法（或函数）前面使用运算符@列出这些装饰器（指\n",
    "定了多个装饰器时，应用的顺序与列出的顺序相反）\n",
    "'''\n",
    "class MyClass:\n",
    "    @staticmethod\n",
    "    def smeth():\n",
    "        print('This is a static method')\n",
    "    @classmethod\n",
    "    def cmeth(cls):\n",
    "        print('This is a class method of', cls)\n",
    "#定义这些方法后，就可像下面这样使用它们（无需实例化类）："
   ]
  },
  {
   "cell_type": "code",
   "execution_count": 87,
   "id": "attended-stage",
   "metadata": {},
   "outputs": [
    {
     "name": "stdout",
     "output_type": "stream",
     "text": [
      "This is a static method\n"
     ]
    }
   ],
   "source": [
    "MyClass.smeth()"
   ]
  },
  {
   "cell_type": "code",
   "execution_count": 88,
   "id": "sudden-rebate",
   "metadata": {},
   "outputs": [
    {
     "name": "stdout",
     "output_type": "stream",
     "text": [
      "This is a class method of <class '__main__.MyClass'>\n"
     ]
    }
   ],
   "source": [
    "MyClass.cmeth()"
   ]
  },
  {
   "cell_type": "code",
   "execution_count": 89,
   "id": "green-integrity",
   "metadata": {},
   "outputs": [],
   "source": [
    "#__getattr__、 __setattr__等方法\n",
    "#要在属性被访问时执行一段代码，必须使用一些魔法方法\n",
    "#下面的四个魔法方法提供了你需要的所有功能（在旧式类中，只需使用后面三个）。\n",
    "#__getattribute__(self, name)：在属性被访问时自动调用（只适用于新式类）。\n",
    "#__getattr__(self, name)：在属性被访问而对象没有这样的属性时自动调用。\n",
    "#__setattr__(self, name, value)：试图给属性赋值时自动调用。\n",
    "#__delattr__(self, name)：试图删除属性时自动调用。"
   ]
  },
  {
   "cell_type": "code",
   "execution_count": 92,
   "id": "departmental-alcohol",
   "metadata": {},
   "outputs": [
    {
     "data": {
      "text/plain": [
       "'\\n在 __getattribute__中访问当前实例的属性时，唯一安全的方式是使用超类的方\\n法__getattribute__（使用super）。\\n'"
      ]
     },
     "execution_count": 92,
     "metadata": {},
     "output_type": "execute_result"
    }
   ],
   "source": [
    "#看前面的Rectangle示例，但这里使用的是魔法方法：\n",
    "class Rectangle:\n",
    "    def __init__ (self):\n",
    "        self.width = 0\n",
    "        self.height = 0\n",
    "    def __setattr__(self, name, value):\n",
    "        if name == 'size':\n",
    "            self.width, self.height = value\n",
    "        else:\n",
    "            self. __dict__[name] = value\n",
    "    def __getattr__(self, name):\n",
    "        if name == 'size':\n",
    "            return self.width, self.height\n",
    "        else:\n",
    "            raise AttributeError()\n",
    "'''\n",
    "即便涉及的属性不是size，也将调用方法__setattr__。因此这个方法必须考虑如下两种\n",
    "情形：如果涉及的属性为size，就执行与以前一样的操作；否则就使用魔法属性__dict__。\n",
    "__dict__属性是一个字典，其中包含所有的实例属性。之所以使用它而不是执行常规属性\n",
    "赋值，是因为旨在避免再次调用__setattr__，进而导致无限循环\n",
    "'''\n",
    "'''\n",
    "在 __getattribute__中访问当前实例的属性时，唯一安全的方式是使用超类的方\n",
    "法__getattribute__（使用super）。\n",
    "'''"
   ]
  },
  {
   "cell_type": "code",
   "execution_count": 93,
   "id": "senior-alabama",
   "metadata": {},
   "outputs": [],
   "source": [
    "#迭代器（和可迭代对象）\n",
    "#介绍__iter__，它是迭代器协议的基础\n",
    "#迭代器协议\n",
    "#迭代（ iterate）意味着重复多次，就像循环那样。本书前面只使用for循环迭代过序列和字典，\n",
    "#但实际上也可迭代其他对象(实现了方法__iter__的对象)\n",
    "#方法__iter__返回一个迭代器，它是包含方法__next__的对象\n",
    "#而调用__next__方法时可不提供任何参数(next(it)与it.__next__()等效）"
   ]
  },
  {
   "cell_type": "code",
   "execution_count": 94,
   "id": "suitable-method",
   "metadata": {},
   "outputs": [],
   "source": [
    "#列表可能占用太多的内存。但还有其他原因：使用迭代器更通用、更简单、更优雅\n",
    "class Fibs:\n",
    "    def __init__(self):\n",
    "        self.a = 0\n",
    "        self.b = 1\n",
    "    def __next__(self):\n",
    "        self.a, self.b = self.b, self.a + self.b\n",
    "        return self.a\n",
    "    def __iter__(self):\n",
    "        return self\n",
    "#实现了方法__iter__的对象是可迭代的，而实现了方法__next__的对象是迭代器。"
   ]
  },
  {
   "cell_type": "code",
   "execution_count": 95,
   "id": "chronic-pixel",
   "metadata": {},
   "outputs": [
    {
     "data": {
      "text/plain": [
       "<__main__.Fibs at 0x19180e61ac8>"
      ]
     },
     "execution_count": 95,
     "metadata": {},
     "output_type": "execute_result"
    }
   ],
   "source": [
    "fibs = Fibs()\n",
    "fibs"
   ]
  },
  {
   "cell_type": "code",
   "execution_count": 96,
   "id": "gothic-condition",
   "metadata": {},
   "outputs": [
    {
     "data": {
      "text/plain": [
       "__main__.Fibs"
      ]
     },
     "execution_count": 96,
     "metadata": {},
     "output_type": "execute_result"
    }
   ],
   "source": [
    "type(fibs)"
   ]
  },
  {
   "cell_type": "code",
   "execution_count": 97,
   "id": "loving-wrong",
   "metadata": {},
   "outputs": [
    {
     "name": "stdout",
     "output_type": "stream",
     "text": [
      "1597\n"
     ]
    }
   ],
   "source": [
    "#可以在for循环中使用这个可迭代对象，如找出第一个大于1000的fibs数\n",
    "for f in fibs:\n",
    "    if f > 1000:\n",
    "        print(f)\n",
    "        break"
   ]
  },
  {
   "cell_type": "code",
   "execution_count": 98,
   "id": "green-andrews",
   "metadata": {},
   "outputs": [
    {
     "data": {
      "text/plain": [
       "<list_iterator at 0x19180b7c9b0>"
      ]
     },
     "execution_count": 98,
     "metadata": {},
     "output_type": "execute_result"
    }
   ],
   "source": [
    "#通过对可迭代对象调用内置函数iter，可获得一个迭代器\n",
    "it = iter([1,2,3])\n",
    "it"
   ]
  },
  {
   "cell_type": "code",
   "execution_count": 99,
   "id": "intense-unemployment",
   "metadata": {},
   "outputs": [
    {
     "data": {
      "text/plain": [
       "1"
      ]
     },
     "execution_count": 99,
     "metadata": {},
     "output_type": "execute_result"
    }
   ],
   "source": [
    "next(it)"
   ]
  },
  {
   "cell_type": "code",
   "execution_count": 100,
   "id": "violent-carry",
   "metadata": {},
   "outputs": [
    {
     "data": {
      "text/plain": [
       "2"
      ]
     },
     "execution_count": 100,
     "metadata": {},
     "output_type": "execute_result"
    }
   ],
   "source": [
    "next(it)"
   ]
  },
  {
   "cell_type": "code",
   "execution_count": 101,
   "id": "weird-sharing",
   "metadata": {},
   "outputs": [
    {
     "data": {
      "text/plain": [
       "3"
      ]
     },
     "execution_count": 101,
     "metadata": {},
     "output_type": "execute_result"
    }
   ],
   "source": [
    "next(it)"
   ]
  },
  {
   "cell_type": "code",
   "execution_count": 102,
   "id": "annual-sellers",
   "metadata": {},
   "outputs": [
    {
     "ename": "StopIteration",
     "evalue": "",
     "output_type": "error",
     "traceback": [
      "\u001b[1;31m---------------------------------------------------------------------------\u001b[0m",
      "\u001b[1;31mStopIteration\u001b[0m                             Traceback (most recent call last)",
      "\u001b[1;32m<ipython-input-102-74e64ed6c80d>\u001b[0m in \u001b[0;36m<module>\u001b[1;34m\u001b[0m\n\u001b[1;32m----> 1\u001b[1;33m \u001b[0mit\u001b[0m\u001b[1;33m.\u001b[0m\u001b[0m__next__\u001b[0m\u001b[1;33m(\u001b[0m\u001b[1;33m)\u001b[0m\u001b[1;33m\u001b[0m\u001b[0m\n\u001b[0m",
      "\u001b[1;31mStopIteration\u001b[0m: "
     ]
    }
   ],
   "source": [
    "it.__next__()"
   ]
  },
  {
   "cell_type": "code",
   "execution_count": 103,
   "id": "italian-planet",
   "metadata": {},
   "outputs": [
    {
     "ename": "StopIteration",
     "evalue": "",
     "output_type": "error",
     "traceback": [
      "\u001b[1;31m---------------------------------------------------------------------------\u001b[0m",
      "\u001b[1;31mStopIteration\u001b[0m                             Traceback (most recent call last)",
      "\u001b[1;32m<ipython-input-103-bc1ab118995a>\u001b[0m in \u001b[0;36m<module>\u001b[1;34m\u001b[0m\n\u001b[1;32m----> 1\u001b[1;33m \u001b[0mnext\u001b[0m\u001b[1;33m(\u001b[0m\u001b[0mit\u001b[0m\u001b[1;33m)\u001b[0m\u001b[1;33m\u001b[0m\u001b[0m\n\u001b[0m",
      "\u001b[1;31mStopIteration\u001b[0m: "
     ]
    }
   ],
   "source": [
    "next(it)"
   ]
  },
  {
   "cell_type": "code",
   "execution_count": 104,
   "id": "portable-austin",
   "metadata": {},
   "outputs": [],
   "source": [
    "#从迭代器创建序列\n",
    "class TestIterator:\n",
    "    value = 0\n",
    "    def __next__(self):\n",
    "        self.value += 1\n",
    "        if self.value > 10: raise StopIteration\n",
    "        return self.value\n",
    "    def __iter__(self):\n",
    "        return self"
   ]
  },
  {
   "cell_type": "code",
   "execution_count": 106,
   "id": "binding-issue",
   "metadata": {},
   "outputs": [
    {
     "data": {
      "text/plain": [
       "[1, 2, 3, 4, 5, 6, 7, 8, 9, 10]"
      ]
     },
     "execution_count": 106,
     "metadata": {},
     "output_type": "execute_result"
    }
   ],
   "source": [
    "ti = TestIterator()\n",
    "list(ti)"
   ]
  },
  {
   "cell_type": "code",
   "execution_count": 107,
   "id": "divided-governor",
   "metadata": {},
   "outputs": [
    {
     "data": {
      "text/plain": [
       "11"
      ]
     },
     "execution_count": 107,
     "metadata": {},
     "output_type": "execute_result"
    }
   ],
   "source": [
    "ti.value"
   ]
  },
  {
   "cell_type": "code",
   "execution_count": 108,
   "id": "bibliographic-basin",
   "metadata": {},
   "outputs": [
    {
     "data": {
      "text/plain": [
       "11"
      ]
     },
     "execution_count": 108,
     "metadata": {},
     "output_type": "execute_result"
    }
   ],
   "source": [
    "ti.value"
   ]
  },
  {
   "cell_type": "code",
   "execution_count": 109,
   "id": "persistent-reaction",
   "metadata": {},
   "outputs": [
    {
     "data": {
      "text/plain": [
       "0"
      ]
     },
     "execution_count": 109,
     "metadata": {},
     "output_type": "execute_result"
    }
   ],
   "source": [
    "ti2 = TestIterator()\n",
    "ti2.value"
   ]
  },
  {
   "cell_type": "code",
   "execution_count": 110,
   "id": "facial-direction",
   "metadata": {},
   "outputs": [
    {
     "data": {
      "text/plain": [
       "11"
      ]
     },
     "execution_count": 110,
     "metadata": {},
     "output_type": "execute_result"
    }
   ],
   "source": [
    "ti.value"
   ]
  },
  {
   "cell_type": "code",
   "execution_count": 111,
   "id": "sixth-liabilities",
   "metadata": {},
   "outputs": [
    {
     "data": {
      "text/plain": [
       "[]"
      ]
     },
     "execution_count": 111,
     "metadata": {},
     "output_type": "execute_result"
    }
   ],
   "source": [
    "list(ti)"
   ]
  },
  {
   "cell_type": "code",
   "execution_count": 112,
   "id": "plain-product",
   "metadata": {},
   "outputs": [
    {
     "data": {
      "text/plain": [
       "[1, 2, 3, 4, 5, 6, 7, 8, 9, 10]"
      ]
     },
     "execution_count": 112,
     "metadata": {},
     "output_type": "execute_result"
    }
   ],
   "source": [
    "list(ti2)"
   ]
  },
  {
   "cell_type": "code",
   "execution_count": 113,
   "id": "racial-belgium",
   "metadata": {},
   "outputs": [
    {
     "data": {
      "text/plain": [
       "11"
      ]
     },
     "execution_count": 113,
     "metadata": {},
     "output_type": "execute_result"
    }
   ],
   "source": [
    "ti2.value"
   ]
  },
  {
   "cell_type": "code",
   "execution_count": 114,
   "id": "increased-georgia",
   "metadata": {},
   "outputs": [],
   "source": [
    "#生成器\n",
    "#生成器是一个相对较新的Python概念\n",
    "#由于历史原因，它也被称为简单生成器（simplegenerator）\n",
    "#请放心，无论编写什么程序，都完全可以不使用生成器\n",
    "'''\n",
    "生成器是一种使用普通函数语法定义的迭代器\n",
    "'''\n",
    "nested = [[1, 2], [3, 4], [5]]\n",
    "def flatten(nested):\n",
    "    for sublist in nested:\n",
    "        for element in sublist:\n",
    "            yield element\n",
    "#包含yield语句的函数都被称为生成器"
   ]
  },
  {
   "cell_type": "code",
   "execution_count": 115,
   "id": "taken-composer",
   "metadata": {},
   "outputs": [
    {
     "name": "stdout",
     "output_type": "stream",
     "text": [
      "1\n",
      "2\n",
      "3\n",
      "4\n",
      "5\n"
     ]
    }
   ],
   "source": [
    "for num in flatten(nested):\n",
    "    print(num)"
   ]
  },
  {
   "cell_type": "code",
   "execution_count": 116,
   "id": "conventional-version",
   "metadata": {},
   "outputs": [
    {
     "data": {
      "text/plain": [
       "[[1, 2], [3, 4], [5]]"
      ]
     },
     "execution_count": 116,
     "metadata": {},
     "output_type": "execute_result"
    }
   ],
   "source": [
    "nested"
   ]
  },
  {
   "cell_type": "code",
   "execution_count": 117,
   "id": "guilty-disease",
   "metadata": {},
   "outputs": [
    {
     "data": {
      "text/plain": [
       "[[1, 2], [3, 4], [5]]"
      ]
     },
     "execution_count": 117,
     "metadata": {},
     "output_type": "execute_result"
    }
   ],
   "source": [
    "list(nested)"
   ]
  },
  {
   "cell_type": "code",
   "execution_count": 118,
   "id": "solar-basement",
   "metadata": {},
   "outputs": [
    {
     "data": {
      "text/plain": [
       "[1, 2, 3, 4, 5]"
      ]
     },
     "execution_count": 118,
     "metadata": {},
     "output_type": "execute_result"
    }
   ],
   "source": [
    "list(flatten(nested))"
   ]
  },
  {
   "cell_type": "code",
   "execution_count": 119,
   "id": "empirical-abraham",
   "metadata": {},
   "outputs": [],
   "source": [
    "#如果初始并不知道要处理多少层的嵌套列表，可以借助递归\n",
    "def flatten(nested):\n",
    "    try:\n",
    "        for sublist in nested:\n",
    "            for element in flatten(sublist):\n",
    "                yield element\n",
    "    except TypeError:\n",
    "        yield nested"
   ]
  },
  {
   "cell_type": "code",
   "execution_count": 120,
   "id": "removed-utility",
   "metadata": {},
   "outputs": [
    {
     "data": {
      "text/plain": [
       "[1, 2, 3, 4, 5, 6, 7, 8]"
      ]
     },
     "execution_count": 120,
     "metadata": {},
     "output_type": "execute_result"
    }
   ],
   "source": [
    "list(flatten([[[1], 2], 3, 4, [5, [6, 7]], 8]))"
   ]
  },
  {
   "cell_type": "code",
   "execution_count": 122,
   "id": "destroyed-nirvana",
   "metadata": {},
   "outputs": [
    {
     "ename": "TypeError",
     "evalue": "can only concatenate list (not \"str\") to list",
     "output_type": "error",
     "traceback": [
      "\u001b[1;31m---------------------------------------------------------------------------\u001b[0m",
      "\u001b[1;31mTypeError\u001b[0m                                 Traceback (most recent call last)",
      "\u001b[1;32m<ipython-input-122-0cbfc68b8c0e>\u001b[0m in \u001b[0;36m<module>\u001b[1;34m\u001b[0m\n\u001b[1;32m----> 1\u001b[1;33m \u001b[0mlist\u001b[0m\u001b[1;33m(\u001b[0m\u001b[0mflatten\u001b[0m\u001b[1;33m(\u001b[0m\u001b[1;33m[\u001b[0m\u001b[1;33m[\u001b[0m\u001b[1;33m[\u001b[0m\u001b[1;36m1\u001b[0m\u001b[1;33m]\u001b[0m\u001b[1;33m,\u001b[0m \u001b[1;36m2\u001b[0m\u001b[1;33m]\u001b[0m\u001b[1;33m,\u001b[0m \u001b[1;36m3\u001b[0m\u001b[1;33m,\u001b[0m \u001b[1;36m4\u001b[0m\u001b[1;33m,\u001b[0m \u001b[1;33m[\u001b[0m\u001b[1;36m5\u001b[0m\u001b[1;33m,\u001b[0m \u001b[1;33m[\u001b[0m\u001b[1;36m6\u001b[0m\u001b[1;33m,\u001b[0m \u001b[1;36m7\u001b[0m\u001b[1;33m]\u001b[0m\u001b[1;33m]\u001b[0m\u001b[1;33m,\u001b[0m \u001b[1;36m8\u001b[0m\u001b[1;33m]\u001b[0m\u001b[1;33m)\u001b[0m\u001b[1;33m)\u001b[0m\u001b[1;33m+\u001b[0m\u001b[1;34m\"\"\u001b[0m\u001b[1;33m\u001b[0m\u001b[0m\n\u001b[0m",
      "\u001b[1;31mTypeError\u001b[0m: can only concatenate list (not \"str\") to list"
     ]
    }
   ],
   "source": [
    "list(flatten([[[1], 2], 3, 4, [5, [6, 7]], 8]))+\"\""
   ]
  },
  {
   "cell_type": "code",
   "execution_count": 130,
   "id": "incorporate-metabolism",
   "metadata": {},
   "outputs": [],
   "source": [
    "def flatten(nested):\n",
    "    try:\n",
    "        # 不迭代类似于字符串的对象：\n",
    "        try: nested + ''\n",
    "        except TypeError: pass\n",
    "        else: raise TypeError\n",
    "        for sublist in nested:\n",
    "            for element in flatten(sublist):\n",
    "                yield element\n",
    "    except TypeError:\n",
    "        yield nested"
   ]
  },
  {
   "cell_type": "code",
   "execution_count": 131,
   "id": "naval-dominant",
   "metadata": {},
   "outputs": [
    {
     "data": {
      "text/plain": [
       "[1, 2, 3, 4, 5, 6, 7, 8]"
      ]
     },
     "execution_count": 131,
     "metadata": {},
     "output_type": "execute_result"
    }
   ],
   "source": [
    "list(flatten(list(flatten([[[1], 2], 3, 4, [5, [6, 7]], 8]))))"
   ]
  },
  {
   "cell_type": "code",
   "execution_count": 132,
   "id": "recovered-passage",
   "metadata": {},
   "outputs": [
    {
     "data": {
      "text/plain": [
       "['foo', 'bar', 'baz']"
      ]
     },
     "execution_count": 132,
     "metadata": {},
     "output_type": "execute_result"
    }
   ],
   "source": [
    "list(flatten(['foo', ['bar', ['baz']]]))"
   ]
  },
  {
   "cell_type": "code",
   "execution_count": 134,
   "id": "signed-athens",
   "metadata": {},
   "outputs": [
    {
     "data": {
      "text/plain": [
       "['abcdefg', 'hijklmn']"
      ]
     },
     "execution_count": 134,
     "metadata": {},
     "output_type": "execute_result"
    }
   ],
   "source": [
    "list(flatten(['abcdefg','hijklmn']))"
   ]
  },
  {
   "cell_type": "code",
   "execution_count": 135,
   "id": "pressed-familiar",
   "metadata": {},
   "outputs": [],
   "source": [
    "#通用生成器\n",
    "#生成器是包含关键字yield的函数，但被调用时不会执行函数体内的代码，而是返回一个迭代器\n",
    "#yield意味着应生成一个值，而return意味着生成器应停止执行\n",
    "#仅当在生成器调用return时，才能不提供任何参数\n",
    "#换而言之，生成器由两个单独的部分组成： 生成器的函数和生成器的迭代器\n",
    "#生成器的函数是由def语句定义的，其中包含yield。生成器的迭代器是这个函数返回的结果\n",
    "def simple_generator():\n",
    "    yield 1"
   ]
  },
  {
   "cell_type": "code",
   "execution_count": 136,
   "id": "pregnant-silver",
   "metadata": {},
   "outputs": [
    {
     "data": {
      "text/plain": [
       "<function __main__.simple_generator()>"
      ]
     },
     "execution_count": 136,
     "metadata": {},
     "output_type": "execute_result"
    }
   ],
   "source": [
    "simple_generator"
   ]
  },
  {
   "cell_type": "code",
   "execution_count": 137,
   "id": "joint-wheel",
   "metadata": {},
   "outputs": [
    {
     "data": {
      "text/plain": [
       "<function __main__.simple_generator()>"
      ]
     },
     "execution_count": 137,
     "metadata": {},
     "output_type": "execute_result"
    }
   ],
   "source": [
    "simple_generator"
   ]
  },
  {
   "cell_type": "code",
   "execution_count": 138,
   "id": "polished-robertson",
   "metadata": {},
   "outputs": [
    {
     "data": {
      "text/plain": [
       "<generator object simple_generator at 0x0000019181407200>"
      ]
     },
     "execution_count": 138,
     "metadata": {},
     "output_type": "execute_result"
    }
   ],
   "source": [
    "simple_generator()"
   ]
  },
  {
   "cell_type": "code",
   "execution_count": 139,
   "id": "sacred-plate",
   "metadata": {},
   "outputs": [
    {
     "data": {
      "text/plain": [
       "<generator object simple_generator at 0x0000019181407150>"
      ]
     },
     "execution_count": 139,
     "metadata": {},
     "output_type": "execute_result"
    }
   ],
   "source": [
    "simple_generator()"
   ]
  },
  {
   "cell_type": "markdown",
   "id": "applicable-killing",
   "metadata": {},
   "source": [
    "对于生成器的函数返回的迭代器，可以像使用其他迭代器一样使用它"
   ]
  },
  {
   "cell_type": "code",
   "execution_count": 140,
   "id": "theoretical-palmer",
   "metadata": {},
   "outputs": [],
   "source": [
    "#生成器的方法\n",
    "#在生成器开始运行后，可使用生成器和外部之间的通信渠道向它提供值\n",
    "#这个通信渠道包含如下两个端点:外部世界和生成器\n",
    "#外部世界可访问生成器的方法send，这个方法类似于next， 但接受一个参数（要发送的“消息”，可以是任何对象）。\n",
    "#生成器：在挂起的生成器内部， yield可能用作表达式而不是语句。换而言之，当生成器重新运行时， yield返回一个值——通过send从外部世界发送的值。如果使用的是next，yield将返回None。\n",
    "#仅当生成器被挂起（即遇到第一个yield）后，使用send（而不是next）才有意义\n",
    "def repeater(value):\n",
    "    while True:\n",
    "        new = (yield value)\n",
    "        if new is not None: value = new"
   ]
  },
  {
   "cell_type": "code",
   "execution_count": 141,
   "id": "cutting-lebanon",
   "metadata": {},
   "outputs": [],
   "source": [
    "r = repeater(42)"
   ]
  },
  {
   "cell_type": "code",
   "execution_count": 142,
   "id": "alpha-watch",
   "metadata": {},
   "outputs": [
    {
     "data": {
      "text/plain": [
       "<generator object repeater at 0x0000019181407938>"
      ]
     },
     "execution_count": 142,
     "metadata": {},
     "output_type": "execute_result"
    }
   ],
   "source": [
    "r"
   ]
  },
  {
   "cell_type": "code",
   "execution_count": 143,
   "id": "secure-practice",
   "metadata": {},
   "outputs": [
    {
     "data": {
      "text/plain": [
       "42"
      ]
     },
     "execution_count": 143,
     "metadata": {},
     "output_type": "execute_result"
    }
   ],
   "source": [
    "next(r)"
   ]
  },
  {
   "cell_type": "code",
   "execution_count": 144,
   "id": "other-theory",
   "metadata": {},
   "outputs": [
    {
     "data": {
      "text/plain": [
       "42"
      ]
     },
     "execution_count": 144,
     "metadata": {},
     "output_type": "execute_result"
    }
   ],
   "source": [
    "next(r)"
   ]
  },
  {
   "cell_type": "code",
   "execution_count": 145,
   "id": "choice-latvia",
   "metadata": {},
   "outputs": [
    {
     "data": {
      "text/plain": [
       "'hello, world'"
      ]
     },
     "execution_count": 145,
     "metadata": {},
     "output_type": "execute_result"
    }
   ],
   "source": [
    "r.send('hello, world')"
   ]
  },
  {
   "cell_type": "code",
   "execution_count": 146,
   "id": "informational-arkansas",
   "metadata": {},
   "outputs": [
    {
     "data": {
      "text/plain": [
       "'python'"
      ]
     },
     "execution_count": 146,
     "metadata": {},
     "output_type": "execute_result"
    }
   ],
   "source": [
    "r.send('python')"
   ]
  },
  {
   "cell_type": "code",
   "execution_count": 147,
   "id": "average-constraint",
   "metadata": {},
   "outputs": [
    {
     "data": {
      "text/plain": [
       "<generator object repeater at 0x0000019181407938>"
      ]
     },
     "execution_count": 147,
     "metadata": {},
     "output_type": "execute_result"
    }
   ],
   "source": [
    "r"
   ]
  },
  {
   "cell_type": "code",
   "execution_count": 148,
   "id": "romance-tomato",
   "metadata": {},
   "outputs": [],
   "source": [
    "r2 = repeater(43)"
   ]
  },
  {
   "cell_type": "code",
   "execution_count": 149,
   "id": "checked-stack",
   "metadata": {},
   "outputs": [
    {
     "data": {
      "text/plain": [
       "'python'"
      ]
     },
     "execution_count": 149,
     "metadata": {},
     "output_type": "execute_result"
    }
   ],
   "source": [
    "next(r)"
   ]
  },
  {
   "cell_type": "code",
   "execution_count": 150,
   "id": "thousand-reducing",
   "metadata": {},
   "outputs": [
    {
     "data": {
      "text/plain": [
       "43"
      ]
     },
     "execution_count": 150,
     "metadata": {},
     "output_type": "execute_result"
    }
   ],
   "source": [
    "next(r2)"
   ]
  },
  {
   "cell_type": "code",
   "execution_count": 151,
   "id": "reduced-great",
   "metadata": {},
   "outputs": [],
   "source": [
    "#生成器还包含另外两个方法\n",
    "#方法throw：用于在生成器中（ yield表达式处）引发异常，调用时可提供一个异常类型、一个可选值和一个traceback对象\n",
    "#方法close：用于停止生成器，调用时无需提供任何参数:由 Python 垃圾收 集 器在 需要 时 调用 "
   ]
  },
  {
   "cell_type": "code",
   "execution_count": null,
   "id": "conceptual-indianapolis",
   "metadata": {},
   "outputs": [],
   "source": [
    "#八皇后问题？"
   ]
  }
 ],
 "metadata": {
  "kernelspec": {
   "display_name": "Python 3",
   "language": "python",
   "name": "python3"
  },
  "language_info": {
   "codemirror_mode": {
    "name": "ipython",
    "version": 3
   },
   "file_extension": ".py",
   "mimetype": "text/x-python",
   "name": "python",
   "nbconvert_exporter": "python",
   "pygments_lexer": "ipython3",
   "version": "3.6.5"
  }
 },
 "nbformat": 4,
 "nbformat_minor": 5
}
