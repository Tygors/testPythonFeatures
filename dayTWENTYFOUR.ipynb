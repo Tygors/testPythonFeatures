{
 "cells": [
  {
   "cell_type": "markdown",
   "id": "external-concrete",
   "metadata": {},
   "source": [
    "You are given words. Some words may repeat. For each word, output its number of occurrences. The output order should correspond with the input order of appearance of the word. See the sample input/output for clarification.\n",
    "\n",
    "If the following string is given as input to the program:\n",
    "\n",
    "4\n",
    "bcdef\n",
    "abcdefg\n",
    "bcde\n",
    "bcdef\n",
    "Then, the output of the program should be:\n",
    "\n",
    "3\n",
    "2 1 1"
   ]
  },
  {
   "cell_type": "code",
   "execution_count": 5,
   "id": "infinite-police",
   "metadata": {},
   "outputs": [
    {
     "name": "stdout",
     "output_type": "stream",
     "text": [
      "4\n",
      "bcdef\n",
      "['bcdef']\n",
      "abcdefg\n",
      "['bcdef', 'abcdefg']\n",
      "bcde\n",
      "['bcdef', 'abcdefg', 'bcde']\n",
      "bcdef\n",
      "{'bcdef': 2, 'abcdefg': 1, 'bcde': 1}\n",
      "3\n",
      "2 1 1 "
     ]
    }
   ],
   "source": [
    "n = int(input())\n",
    "\n",
    "word_list = []\n",
    "word_dict = {}\n",
    "\n",
    "for i in range(n):\n",
    "    word = input()\n",
    "    if word not in word_dict:\n",
    "        word_list.append(word)\n",
    "        print(word_list)\n",
    "    word_dict[word] = word_dict.get(word, 0) + 1\n",
    "print(word_dict)\n",
    "print(len(word_list))\n",
    "for word in word_list:\n",
    "    print(word_dict[word], end=' ')"
   ]
  },
  {
   "cell_type": "markdown",
   "id": "gentle-producer",
   "metadata": {},
   "source": [
    "You are given a string.Your task is to count the frequency of letters of the string and print the letters in descending order of frequency.\n",
    "\n",
    "If the following string is given as input to the program:\n",
    "\n",
    "aabbbccde\n",
    "Then, the output of the program should be:\n",
    "\n",
    "b 3\n",
    "a 2\n",
    "c 2\n",
    "d 1\n",
    "e 1"
   ]
  },
  {
   "cell_type": "code",
   "execution_count": 34,
   "id": "furnished-potato",
   "metadata": {},
   "outputs": [
    {
     "name": "stdout",
     "output_type": "stream",
     "text": [
      "{'c': 2}\n",
      "{'c': 2, 'd': 1}\n",
      "{'c': 2, 'd': 1, 'e': 1}\n",
      "{'c': 2, 'd': 1, 'e': 1, 'b': 3}\n",
      "{'c': 2, 'd': 1, 'e': 1, 'b': 3, 'a': 2}\n",
      "b 3\n",
      "c 2\n",
      "a 2\n",
      "d 1\n",
      "e 1\n"
     ]
    }
   ],
   "source": [
    "strInput = 'aabbbccde'\n",
    "str2set = set(strInput)\n",
    "ans = {}\n",
    "for i in str2set:\n",
    "    ans[i] = strInput.count(i)\n",
    "    print(ans)\n",
    "result = sorted(ans.items(), key=lambda x: x[1], reverse = True)\n",
    "for i in result:\n",
    "    print(f'{i[0]} {i[1]}')"
   ]
  },
  {
   "cell_type": "code",
   "execution_count": 32,
   "id": "specific-foster",
   "metadata": {},
   "outputs": [
    {
     "name": "stdout",
     "output_type": "stream",
     "text": [
      "[('b', 3), ('a', 2), ('c', 2), ('d', 1), ('e', 1)]\n",
      "b 3\n",
      "a 2\n",
      "c 2\n",
      "d 1\n",
      "e 1\n"
     ]
    }
   ],
   "source": [
    "word = 'aabbbccde'\n",
    "dct = {}\n",
    "for i in word:\n",
    "     dct[i] = dct.get(i, 0) + 1\n",
    "dct = sorted(dct.items(), key = lambda x: (-x[1], x[0]))#这里加符号是希望递减排序\n",
    "print(dct)\n",
    "for i in dct:\n",
    "    print(i[0], i[1])"
   ]
  },
  {
   "cell_type": "code",
   "execution_count": 35,
   "id": "yellow-button",
   "metadata": {},
   "outputs": [
    {
     "name": "stdout",
     "output_type": "stream",
     "text": [
      "b 3\n",
      "a 2\n",
      "c 2\n",
      "d 1\n",
      "e 1\n"
     ]
    }
   ],
   "source": [
    "X = 'aabbbccde'\n",
    "mySet = set(X)\n",
    "arr = []\n",
    "for item in mySet:\n",
    "    arr.append([item, X.count(item)])\n",
    "tmp = sorted(arr, key = lambda x: (-x[1], x[0]))\n",
    "\n",
    "for i in tmp:\n",
    "    print(i[0]+' '+str(i[1]))"
   ]
  },
  {
   "cell_type": "code",
   "execution_count": 36,
   "id": "removed-imagination",
   "metadata": {},
   "outputs": [
    {
     "name": "stdout",
     "output_type": "stream",
     "text": [
      "b 3\n",
      "a 2\n",
      "c 2\n",
      "d 1\n",
      "e 1\n"
     ]
    }
   ],
   "source": [
    "s = 'aabbbccde'\n",
    "dict_count_ = {k:s.count(k) for k in s}\n",
    "list_of_tuples = [(k, v) for k, v in dict_count_.items()]\n",
    "list_of_tuples.sort(key = lambda x: x[1], reverse=True)\n",
    "\n",
    "for item in list_of_tuples:\n",
    "    print(item[0], item[1])"
   ]
  },
  {
   "cell_type": "markdown",
   "id": "polished-karaoke",
   "metadata": {},
   "source": [
    "Write a Python program that accepts a string and calculate the number of digits and letters.\n",
    "\n",
    "Input\n",
    "\n",
    "Hello321Bye360\n",
    "Output\n",
    "\n",
    "Digit - 6\n",
    "Letter - 8"
   ]
  },
  {
   "cell_type": "code",
   "execution_count": 23,
   "id": "sunrise-adult",
   "metadata": {},
   "outputs": [
    {
     "name": "stdout",
     "output_type": "stream",
     "text": [
      "6\n",
      "8\n"
     ]
    }
   ],
   "source": [
    "strInput = 'Hello321Bye360'\n",
    "strInput = strInput.lower()\n",
    "alph, num = 0, 0\n",
    "for i in strInput:\n",
    "    if 'a'<=i<='z':\n",
    "        alph+=1\n",
    "    if '0'<=i<='9':\n",
    "        num+=1\n",
    "print(num)\n",
    "print(alph)"
   ]
  },
  {
   "cell_type": "code",
   "execution_count": 37,
   "id": "sporting-redhead",
   "metadata": {},
   "outputs": [
    {
     "name": "stdout",
     "output_type": "stream",
     "text": [
      "digit - 6\n",
      "letter - 8\n"
     ]
    }
   ],
   "source": [
    "word = 'Hello321Bye360'\n",
    "digit, letter = 0, 0\n",
    "for char in word:\n",
    "    digit+=char.isdigit()\n",
    "    letter+=char.isalpha()\n",
    "    \n",
    "print('digit -', digit)\n",
    "print('letter -', letter)"
   ]
  },
  {
   "cell_type": "markdown",
   "id": "combined-detroit",
   "metadata": {},
   "source": [
    "Given a number N.Find Sum of 1 to N Using Recursion\n",
    "\n",
    "Input\n",
    "\n",
    "5\n",
    "Output\n",
    "\n",
    "15"
   ]
  },
  {
   "cell_type": "code",
   "execution_count": 25,
   "id": "quick-celebrity",
   "metadata": {},
   "outputs": [
    {
     "name": "stdout",
     "output_type": "stream",
     "text": [
      "5\n",
      "15\n"
     ]
    }
   ],
   "source": [
    "n = int(input())\n",
    "result = 0\n",
    "for i in range(1, n+1):\n",
    "    result += i\n",
    "print(result)"
   ]
  },
  {
   "cell_type": "code",
   "execution_count": 38,
   "id": "distributed-english",
   "metadata": {},
   "outputs": [
    {
     "name": "stdout",
     "output_type": "stream",
     "text": [
      "7\n",
      "28\n"
     ]
    }
   ],
   "source": [
    "def rec(n):\n",
    "    if n==0:\n",
    "        return 0\n",
    "    return rec(n-1)+n\n",
    "n = int(input())\n",
    "sum = rec(n)\n",
    "print(sum)"
   ]
  },
  {
   "cell_type": "code",
   "execution_count": 30,
   "id": "widespread-herald",
   "metadata": {},
   "outputs": [
    {
     "name": "stdout",
     "output_type": "stream",
     "text": [
      "7\n",
      "28\n"
     ]
    }
   ],
   "source": [
    "n = int(input())\n",
    "def sumRecursion(n):\n",
    "    if n!=1:\n",
    "        return n+sumRecursion(n-1)\n",
    "    else: return 1\n",
    "print(sumRecursion(n))"
   ]
  },
  {
   "cell_type": "code",
   "execution_count": 39,
   "id": "reflected-graham",
   "metadata": {},
   "outputs": [
    {
     "name": "stdout",
     "output_type": "stream",
     "text": [
      "> 7\n",
      "28\n"
     ]
    }
   ],
   "source": [
    "def summer(counter, n, current):\n",
    "    if n == 0:\n",
    "        return 0\n",
    "    if counter == n:\n",
    "        return current+n\n",
    "    else:\n",
    "        current = current+counter\n",
    "        counter += 1\n",
    "        return summer(counter, n, current)\n",
    "    \n",
    "N = int(input('> '))\n",
    "print(summer(1, N, 0))"
   ]
  },
  {
   "cell_type": "code",
   "execution_count": null,
   "id": "reduced-advocacy",
   "metadata": {},
   "outputs": [],
   "source": []
  }
 ],
 "metadata": {
  "kernelspec": {
   "display_name": "Python 3",
   "language": "python",
   "name": "python3"
  },
  "language_info": {
   "codemirror_mode": {
    "name": "ipython",
    "version": 3
   },
   "file_extension": ".py",
   "mimetype": "text/x-python",
   "name": "python",
   "nbconvert_exporter": "python",
   "pygments_lexer": "ipython3",
   "version": "3.6.5"
  }
 },
 "nbformat": 4,
 "nbformat_minor": 5
}
