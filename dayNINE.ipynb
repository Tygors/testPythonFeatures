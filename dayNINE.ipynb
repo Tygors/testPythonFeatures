{
 "cells": [
  {
   "cell_type": "markdown",
   "id": "changed-injection",
   "metadata": {},
   "source": [
    "Define a function which can compute the sum of two numbers."
   ]
  },
  {
   "cell_type": "code",
   "execution_count": 2,
   "id": "unique-secretariat",
   "metadata": {},
   "outputs": [
    {
     "name": "stdout",
     "output_type": "stream",
     "text": [
      "19\n"
     ]
    }
   ],
   "source": [
    "sumTest = lambda x1 ,x2 : x1+x2\n",
    "print(sumTest(12,7))"
   ]
  },
  {
   "cell_type": "markdown",
   "id": "rough-dakota",
   "metadata": {},
   "source": [
    "Define a function that can convert a integer into a string and print it in console."
   ]
  },
  {
   "cell_type": "code",
   "execution_count": 5,
   "id": "adapted-singer",
   "metadata": {},
   "outputs": [
    {
     "name": "stdout",
     "output_type": "stream",
     "text": [
      "35\n",
      "<class 'str'>\n"
     ]
    }
   ],
   "source": [
    "int2str = lambda intTest : str(intTest)\n",
    "print(type(int2str(int(input()))))"
   ]
  },
  {
   "cell_type": "markdown",
   "id": "negative-tulsa",
   "metadata": {},
   "source": [
    "Define a function that can receive two integer numbers in string form and compute their sum and then print it in console."
   ]
  },
  {
   "cell_type": "code",
   "execution_count": 9,
   "id": "cloudy-observation",
   "metadata": {},
   "outputs": [
    {
     "name": "stdout",
     "output_type": "stream",
     "text": [
      "30\n",
      "15\n",
      "45\n"
     ]
    }
   ],
   "source": [
    "sumStr2int = lambda y1, y2 : int(y1) + int(y2)\n",
    "print(sumStr2int(input(),input()))"
   ]
  },
  {
   "cell_type": "markdown",
   "id": "invalid-model",
   "metadata": {},
   "source": [
    "Define a function that can accept two strings as input and concatenate them and then print it in console."
   ]
  },
  {
   "cell_type": "code",
   "execution_count": 10,
   "id": "ordinary-professional",
   "metadata": {},
   "outputs": [
    {
     "name": "stdout",
     "output_type": "stream",
     "text": [
      "tygors\n",
      "woo\n",
      "tygorswoo\n"
     ]
    }
   ],
   "source": [
    "concatStr = lambda s1 , s2 : s1 + s2\n",
    "print(concatStr(input(),input()))"
   ]
  },
  {
   "cell_type": "markdown",
   "id": "generic-perry",
   "metadata": {},
   "source": [
    "Define a function that can accept two strings as input and print the string with maximum length in console. If two strings have the same length, then the function should print all strings line by line."
   ]
  },
  {
   "cell_type": "code",
   "execution_count": 11,
   "id": "neural-space",
   "metadata": {},
   "outputs": [
    {
     "name": "stdout",
     "output_type": "stream",
     "text": [
      "tygors\n",
      "woo\n",
      "tygors\n"
     ]
    }
   ],
   "source": [
    "def printMaxLen(str1,str2):\n",
    "    if len(str1)>len(str2):\n",
    "        print(str1)\n",
    "    elif len(str1)<len(str2):\n",
    "        print(str2)\n",
    "    else :\n",
    "        print(f'{str1}\\n{str2}')\n",
    "printMaxLen(input(),input())"
   ]
  },
  {
   "cell_type": "code",
   "execution_count": 12,
   "id": "reserved-native",
   "metadata": {},
   "outputs": [
    {
     "name": "stdout",
     "output_type": "stream",
     "text": [
      "tygors\n",
      "tigers\n",
      "tygors\n",
      "tigers\n"
     ]
    }
   ],
   "source": [
    "printMaxLen(input(),input())"
   ]
  },
  {
   "cell_type": "code",
   "execution_count": 14,
   "id": "perceived-count",
   "metadata": {},
   "outputs": [],
   "source": [
    "func = lambda a, b: print(max((a, b), key = len)) if len(a)!= len(b) else print(a+'\\n'+b)"
   ]
  },
  {
   "cell_type": "code",
   "execution_count": 15,
   "id": "approximate-fabric",
   "metadata": {},
   "outputs": [
    {
     "name": "stdout",
     "output_type": "stream",
     "text": [
      "tygors\n",
      "tigers\n",
      "tygors\n",
      "tigers\n"
     ]
    }
   ],
   "source": [
    "func(input(),input())"
   ]
  },
  {
   "cell_type": "code",
   "execution_count": 16,
   "id": "unlimited-warner",
   "metadata": {},
   "outputs": [
    {
     "name": "stdout",
     "output_type": "stream",
     "text": [
      "tygors\n",
      "woo\n",
      "tygors\n"
     ]
    }
   ],
   "source": [
    "func(input(),input())"
   ]
  },
  {
   "cell_type": "code",
   "execution_count": null,
   "id": "ultimate-detail",
   "metadata": {},
   "outputs": [],
   "source": []
  }
 ],
 "metadata": {
  "kernelspec": {
   "display_name": "Python 3",
   "language": "python",
   "name": "python3"
  },
  "language_info": {
   "codemirror_mode": {
    "name": "ipython",
    "version": 3
   },
   "file_extension": ".py",
   "mimetype": "text/x-python",
   "name": "python",
   "nbconvert_exporter": "python",
   "pygments_lexer": "ipython3",
   "version": "3.6.5"
  }
 },
 "nbformat": 4,
 "nbformat_minor": 5
}
