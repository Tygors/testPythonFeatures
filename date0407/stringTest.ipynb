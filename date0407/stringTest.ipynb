{
 "cells": [
  {
   "cell_type": "code",
   "execution_count": 1,
   "id": "vocal-session",
   "metadata": {},
   "outputs": [
    {
     "ename": "TypeError",
     "evalue": "'str' object does not support item assignment",
     "output_type": "error",
     "traceback": [
      "\u001b[1;31m---------------------------------------------------------------------------\u001b[0m",
      "\u001b[1;31mTypeError\u001b[0m                                 Traceback (most recent call last)",
      "\u001b[1;32m<ipython-input-1-3e219c690972>\u001b[0m in \u001b[0;36m<module>\u001b[1;34m\u001b[0m\n\u001b[0;32m      1\u001b[0m \u001b[0mwebsite\u001b[0m \u001b[1;33m=\u001b[0m \u001b[1;34m'http://www.python.org'\u001b[0m\u001b[1;33m\u001b[0m\u001b[0m\n\u001b[1;32m----> 2\u001b[1;33m \u001b[0mwebsite\u001b[0m\u001b[1;33m[\u001b[0m\u001b[1;33m-\u001b[0m\u001b[1;36m3\u001b[0m\u001b[1;33m:\u001b[0m\u001b[1;33m]\u001b[0m \u001b[1;33m=\u001b[0m \u001b[1;34m'com'\u001b[0m\u001b[1;33m\u001b[0m\u001b[0m\n\u001b[0m",
      "\u001b[1;31mTypeError\u001b[0m: 'str' object does not support item assignment"
     ]
    }
   ],
   "source": [
    "#字符串是不可变的，因此所有的元素赋值和切片赋值都是非法的\n",
    "website = 'http://www.python.org'\n",
    "website[-3:] = 'com'"
   ]
  },
  {
   "cell_type": "code",
   "execution_count": 1,
   "id": "mechanical-extension",
   "metadata": {},
   "outputs": [
    {
     "data": {
      "text/plain": [
       "'hello, world. hot enough for you?'"
      ]
     },
     "execution_count": 1,
     "metadata": {},
     "output_type": "execute_result"
    }
   ],
   "source": [
    "#转换说明符%s,%.3f三位小数的浮点数\n",
    "format = \"hello, %s. %s enough for you?\"\n",
    "values = (\"world\", \"hot\")\n",
    "format % values"
   ]
  },
  {
   "cell_type": "code",
   "execution_count": 2,
   "id": "impossible-entity",
   "metadata": {},
   "outputs": [
    {
     "name": "stdout",
     "output_type": "stream",
     "text": [
      "<string.Template object at 0x000002F389F2D5C0>\n"
     ]
    },
    {
     "data": {
      "text/plain": [
       "'hello, mars! dusty enough for you?'"
      ]
     },
     "execution_count": 2,
     "metadata": {},
     "output_type": "execute_result"
    }
   ],
   "source": [
    "#模板字符串,实际上就是用Template类创建一个对象，然后使用对象的方法传入关键字参数\n",
    "from string import Template\n",
    "tmpl = Template(\"hello, $who! $what enough for you?\")\n",
    "print(tmpl)\n",
    "tmpl.substitute(who=\"mars\", what=\"dusty\")"
   ]
  },
  {
   "cell_type": "code",
   "execution_count": 3,
   "id": "interior-guyana",
   "metadata": {},
   "outputs": [
    {
     "data": {
      "text/plain": [
       "'first, second and third'"
      ]
     },
     "execution_count": 3,
     "metadata": {},
     "output_type": "execute_result"
    }
   ],
   "source": [
    "#新的办法是使用字符串方法format\n",
    "\"{}, {} and {}\".format(\"first\", \"second\", \"third\")"
   ]
  },
  {
   "cell_type": "code",
   "execution_count": 4,
   "id": "national-sheffield",
   "metadata": {},
   "outputs": [
    {
     "data": {
      "text/plain": [
       "'to be or not to be'"
      ]
     },
     "execution_count": 4,
     "metadata": {},
     "output_type": "execute_result"
    }
   ],
   "source": [
    "\"{3} {0} {2} {1} {3} {0}\".format(\"be\", \"not\", \"or\", \"to\")"
   ]
  },
  {
   "cell_type": "code",
   "execution_count": 19,
   "id": "accessory-tackle",
   "metadata": {},
   "outputs": [
    {
     "data": {
      "text/plain": [
       "'Π is approximately 3.1416'"
      ]
     },
     "execution_count": 19,
     "metadata": {},
     "output_type": "execute_result"
    }
   ],
   "source": [
    "from math import pi\n",
    "\"{name} is approximately {value:.4f}\".format(value=pi, name=\"Π\")"
   ]
  },
  {
   "cell_type": "code",
   "execution_count": 13,
   "id": "common-carpet",
   "metadata": {},
   "outputs": [
    {
     "name": "stdout",
     "output_type": "stream",
     "text": [
      "Euler's constant is roughly 2.718281828459045.\n",
      "Euler's constant is roughly 2.718.\n"
     ]
    }
   ],
   "source": [
    "from math import e\n",
    "print(f\"Euler's constant is roughly {e}.\")\n",
    "print(f\"Euler's constant is roughly {e:.3f}.\")"
   ]
  },
  {
   "cell_type": "code",
   "execution_count": 9,
   "id": "sublime-excitement",
   "metadata": {},
   "outputs": [
    {
     "data": {
      "text/plain": [
       "\"Euler's constant is roughly 2.718.\""
      ]
     },
     "execution_count": 9,
     "metadata": {},
     "output_type": "execute_result"
    }
   ],
   "source": [
    "\"Euler's constant is roughly {e:.3f}.\".format(e=e)"
   ]
  },
  {
   "cell_type": "code",
   "execution_count": 2,
   "id": "ancient-ordering",
   "metadata": {},
   "outputs": [
    {
     "data": {
      "text/plain": [
       "\"{ceci n'est pas une replacement field}\""
      ]
     },
     "execution_count": 2,
     "metadata": {},
     "output_type": "execute_result"
    }
   ],
   "source": [
    "\"{{ceci n'est pas une replacement field}}\".format()"
   ]
  },
  {
   "cell_type": "code",
   "execution_count": 3,
   "id": "patient-latest",
   "metadata": {},
   "outputs": [],
   "source": [
    "#格式字符串，替换字段由   字段名、转换标志、格式说明符组成"
   ]
  },
  {
   "cell_type": "code",
   "execution_count": 5,
   "id": "adverse-pride",
   "metadata": {},
   "outputs": [
    {
     "data": {
      "text/plain": [
       "'3 1 4 2'"
      ]
     },
     "execution_count": 5,
     "metadata": {},
     "output_type": "execute_result"
    }
   ],
   "source": [
    "#替换字段名\n",
    "#未命名参数\n",
    "\"{foo} {} {bar} {}\".format(1, 2, bar=4, foo=3)"
   ]
  },
  {
   "cell_type": "code",
   "execution_count": 6,
   "id": "specialized-chair",
   "metadata": {},
   "outputs": [
    {
     "data": {
      "text/plain": [
       "'3 2 4 1'"
      ]
     },
     "execution_count": 6,
     "metadata": {},
     "output_type": "execute_result"
    }
   ],
   "source": [
    "#未命名参数\n",
    "\"{foo} {1} {bar} {0}\".format(1, 2, bar=4, foo=3)"
   ]
  },
  {
   "cell_type": "code",
   "execution_count": 7,
   "id": "excited-domestic",
   "metadata": {},
   "outputs": [
    {
     "data": {
      "text/plain": [
       "'mr smoketoomuch'"
      ]
     },
     "execution_count": 7,
     "metadata": {},
     "output_type": "execute_result"
    }
   ],
   "source": [
    "fullname = [\"alfred\", \"smoketoomuch\"]\n",
    "\"mr {name[1]}\".format(name=fullname)"
   ]
  },
  {
   "cell_type": "code",
   "execution_count": 8,
   "id": "specific-appliance",
   "metadata": {},
   "outputs": [
    {
     "data": {
      "text/plain": [
       "'the math module defines the value 3.141592653589793 for Π'"
      ]
     },
     "execution_count": 8,
     "metadata": {},
     "output_type": "execute_result"
    }
   ],
   "source": [
    "import math\n",
    "tmpl = \"the {mod.__name__} module defines the value {mod.pi} for Π\"\n",
    "tmpl.format(mod=math)"
   ]
  },
  {
   "cell_type": "code",
   "execution_count": 10,
   "id": "least-magic",
   "metadata": {},
   "outputs": [
    {
     "name": "stdout",
     "output_type": "stream",
     "text": [
      "Π 'Π' '\\u03a0'\n"
     ]
    }
   ],
   "source": [
    "#基本变换\n",
    "#指定要在字段中包含的值后，就可以添加有关如何设置其格式的指令了，首先可以提供一个转换标志\n",
    "print(\"{pi!s} {pi!r} {pi!a}\".format(pi=\"Π\"))"
   ]
  },
  {
   "cell_type": "code",
   "execution_count": 11,
   "id": "ignored-roulette",
   "metadata": {},
   "outputs": [
    {
     "data": {
      "text/plain": [
       "'the number is 42'"
      ]
     },
     "execution_count": 11,
     "metadata": {},
     "output_type": "execute_result"
    }
   ],
   "source": [
    "\"the number is {num}\".format(num=42)"
   ]
  },
  {
   "cell_type": "code",
   "execution_count": 12,
   "id": "imported-swimming",
   "metadata": {},
   "outputs": [
    {
     "data": {
      "text/plain": [
       "'the number is 42.000000'"
      ]
     },
     "execution_count": 12,
     "metadata": {},
     "output_type": "execute_result"
    }
   ],
   "source": [
    "\"the number is {num:f}\".format(num=42)"
   ]
  },
  {
   "cell_type": "code",
   "execution_count": 13,
   "id": "posted-cycling",
   "metadata": {},
   "outputs": [
    {
     "data": {
      "text/plain": [
       "'the number is 42.000'"
      ]
     },
     "execution_count": 13,
     "metadata": {},
     "output_type": "execute_result"
    }
   ],
   "source": [
    "\"the number is {num:.3f}\".format(num=42)"
   ]
  },
  {
   "cell_type": "code",
   "execution_count": 14,
   "id": "editorial-actress",
   "metadata": {},
   "outputs": [
    {
     "data": {
      "text/plain": [
       "'the number is 101010'"
      ]
     },
     "execution_count": 14,
     "metadata": {},
     "output_type": "execute_result"
    }
   ],
   "source": [
    "\"the number is {num:b}\".format(num=42)"
   ]
  },
  {
   "cell_type": "code",
   "execution_count": 15,
   "id": "advanced-default",
   "metadata": {},
   "outputs": [
    {
     "data": {
      "text/plain": [
       "'         3'"
      ]
     },
     "execution_count": 15,
     "metadata": {},
     "output_type": "execute_result"
    }
   ],
   "source": [
    "#宽度、精度和千位分隔符\n",
    "#宽度使用整数指定\n",
    "\"{num:10}\".format(num=3)"
   ]
  },
  {
   "cell_type": "code",
   "execution_count": 16,
   "id": "brutal-preference",
   "metadata": {},
   "outputs": [
    {
     "data": {
      "text/plain": [
       "'bob       '"
      ]
     },
     "execution_count": 16,
     "metadata": {},
     "output_type": "execute_result"
    }
   ],
   "source": [
    "\"{name:10}\".format(name=\"bob\")\n",
    "#字符串和数的对齐方式不同"
   ]
  },
  {
   "cell_type": "code",
   "execution_count": 6,
   "id": "protected-bookmark",
   "metadata": {},
   "outputs": [
    {
     "data": {
      "text/plain": [
       "'pi day is 3.142'"
      ]
     },
     "execution_count": 6,
     "metadata": {},
     "output_type": "execute_result"
    }
   ],
   "source": [
    "#精度也是用证书指定，但需要在前面加上小数点\n",
    "from math import pi\n",
    "\"pi day is {Pi:.3f}\".format(Pi=pi)"
   ]
  },
  {
   "cell_type": "code",
   "execution_count": 7,
   "id": "least-kitty",
   "metadata": {},
   "outputs": [
    {
     "data": {
      "text/plain": [
       "'      3.14'"
      ]
     },
     "execution_count": 7,
     "metadata": {},
     "output_type": "execute_result"
    }
   ],
   "source": [
    "\"{pi:10.2f}\".format(pi=pi)"
   ]
  },
  {
   "cell_type": "code",
   "execution_count": 8,
   "id": "brief-affairs",
   "metadata": {},
   "outputs": [
    {
     "data": {
      "text/plain": [
       "'guido'"
      ]
     },
     "execution_count": 8,
     "metadata": {},
     "output_type": "execute_result"
    }
   ],
   "source": [
    "#对于其他类型也可以指定指定，但不常见\n",
    "\"{:.5}\".format(\"guido van rossum\")"
   ]
  },
  {
   "cell_type": "code",
   "execution_count": 9,
   "id": "reported-beaver",
   "metadata": {},
   "outputs": [
    {
     "data": {
      "text/plain": [
       "'one googol is 10,000,000,000,000,000,000,000,000,000,000,000,000,000,000,000,000,000,000,000,000,000,000,000,000,000,000,000,000,000,000,000,000,000'"
      ]
     },
     "execution_count": 9,
     "metadata": {},
     "output_type": "execute_result"
    }
   ],
   "source": [
    "#使用逗号来指出要添加的千位分隔符,在指定其他格式设置元素时，逗号应放在宽度和表示精度的句点之间\n",
    "\"one googol is {:,}\".format(10**100)"
   ]
  },
  {
   "cell_type": "code",
   "execution_count": 10,
   "id": "checked-hungary",
   "metadata": {},
   "outputs": [
    {
     "data": {
      "text/plain": [
       "'0000003.14'"
      ]
     },
     "execution_count": 10,
     "metadata": {},
     "output_type": "execute_result"
    }
   ],
   "source": [
    "#符号、对齐和用0填充\n",
    "#在指定宽度和精度的数前面，可添加一个标志，可以是零加号减号或空格，其中零表示用0来填充数字\n",
    "'{:010.2f}'.format(pi)"
   ]
  },
  {
   "cell_type": "code",
   "execution_count": 11,
   "id": "quarterly-writing",
   "metadata": {},
   "outputs": [
    {
     "ename": "IndexError",
     "evalue": "tuple index out of range",
     "output_type": "error",
     "traceback": [
      "\u001b[1;31m---------------------------------------------------------------------------\u001b[0m",
      "\u001b[1;31mIndexError\u001b[0m                                Traceback (most recent call last)",
      "\u001b[1;32m<ipython-input-11-7b35447d27de>\u001b[0m in \u001b[0;36m<module>\u001b[1;34m\u001b[0m\n\u001b[0;32m      1\u001b[0m \u001b[1;31m#使用<、>、^ 来实现左、右对齐和居中\u001b[0m\u001b[1;33m\u001b[0m\u001b[1;33m\u001b[0m\u001b[0m\n\u001b[1;32m----> 2\u001b[1;33m \u001b[0mprint\u001b[0m\u001b[1;33m(\u001b[0m\u001b[1;34m'{:<10.2f}\\n{:^10.2f}\\n{:>10.2f}'\u001b[0m\u001b[1;33m.\u001b[0m\u001b[0mformat\u001b[0m\u001b[1;33m(\u001b[0m\u001b[0mpi\u001b[0m\u001b[1;33m)\u001b[0m\u001b[1;33m)\u001b[0m\u001b[1;33m\u001b[0m\u001b[0m\n\u001b[0m",
      "\u001b[1;31mIndexError\u001b[0m: tuple index out of range"
     ]
    }
   ],
   "source": [
    "#使用<、>、^ 来实现左、右对齐和居中\n",
    "print('{:<10.2f}\\n{:^10.2f}\\n{:>10.2f}'.format(pi))"
   ]
  },
  {
   "cell_type": "code",
   "execution_count": 12,
   "id": "concerned-connection",
   "metadata": {},
   "outputs": [
    {
     "name": "stdout",
     "output_type": "stream",
     "text": [
      "3.14      \n",
      "   3.14   \n",
      "      3.14\n"
     ]
    }
   ],
   "source": [
    "#使用<、>、^ 来实现左、右对齐和居中\n",
    "print('{0:<10.2f}\\n{0:^10.2f}\\n{0:>10.2f}'.format(pi))"
   ]
  },
  {
   "cell_type": "code",
   "execution_count": 16,
   "id": "enhanced-jewelry",
   "metadata": {},
   "outputs": [
    {
     "data": {
      "text/plain": [
       "'$$$ win big $$$'"
      ]
     },
     "execution_count": 16,
     "metadata": {},
     "output_type": "execute_result"
    }
   ],
   "source": [
    "#可以使用填充字符来扩充对齐说明符，即可以使用指定的字符来填充\n",
    "\"{:$^15}\".format(\" win big \")"
   ]
  },
  {
   "cell_type": "code",
   "execution_count": 17,
   "id": "wrong-level",
   "metadata": {},
   "outputs": [
    {
     "name": "stdout",
     "output_type": "stream",
     "text": [
      "      3.14\n",
      "     -3.14\n",
      "      3.14\n",
      "-     3.14\n"
     ]
    }
   ],
   "source": [
    "print('{0:10.2f}\\n{1:10.2f}'.format(pi, -pi))\n",
    "#更具体的说明符=它指定将填充字符放在符号和数字之间\n",
    "print('{0:10.2f}\\n{1:=10.2f}'.format(pi, -pi))"
   ]
  },
  {
   "cell_type": "code",
   "execution_count": 26,
   "id": "vocational-import",
   "metadata": {},
   "outputs": [
    {
     "name": "stdout",
     "output_type": "stream",
     "text": [
      "3.14\n",
      "-3.14\n",
      "+3.14\n",
      "-3.14\n",
      " 3.14\n",
      "-3.14\n"
     ]
    }
   ],
   "source": [
    "#要给整数加上符号，用说明符+，将+放在对齐说明符后面，而不是默认的-\n",
    "#如果将符号说明符指定为空格，会在整数前面加上空格而不是+\n",
    "print('{0:-.2f}\\n{1:-.2f}'.format(pi, -pi))#默认就是这种，也就是不用写-\n",
    "print('{0:+.2f}\\n{1:+.2f}'.format(pi, -pi))\n",
    "print('{0: .2f}\\n{1: .2f}'.format(pi, -pi))"
   ]
  },
  {
   "cell_type": "code",
   "execution_count": 27,
   "id": "primary-newspaper",
   "metadata": {},
   "outputs": [
    {
     "name": "stdout",
     "output_type": "stream",
     "text": [
      "101010\n",
      "0b101010\n"
     ]
    }
   ],
   "source": [
    "#井号#选项，可放在符号说明符和宽度之间，将触发另一种转换方式，转换细节随类型而异\n",
    "#例如对于二进制八进制和十六进制，将加上一个前缀\n",
    "print(\"{:b}\".format(42))\n",
    "print(\"{:#b}\".format(42))"
   ]
  },
  {
   "cell_type": "code",
   "execution_count": 28,
   "id": "deadly-canberra",
   "metadata": {},
   "outputs": [
    {
     "name": "stdout",
     "output_type": "stream",
     "text": [
      "42\n",
      "42.0000\n"
     ]
    }
   ],
   "source": [
    "#对于各种十进制数，它要求必须包含小数点（对于类型g，它保留小数点后面的零）\n",
    "print(\"{:g}\".format(42))\n",
    "print(\"{:#g}\".format(42))"
   ]
  },
  {
   "cell_type": "markdown",
   "id": "employed-california",
   "metadata": {},
   "source": [
    "import turtle\n",
    "q = turtle.Pen()\n",
    "turtle.bgcolor(\"black\")\n",
    "sides = 7\n",
    "colors = [\"red\",\"orange\",\"yellow\",\"green\",\"cyan\",\"blue\",\"purple\",]\n",
    "for  x  in  range(360):\n",
    "\tq.pencolor(colors[x%sides])\n",
    "\tq.forward(x*3/sides+x)\n",
    "\tq.left(360/sides+1)\n",
    "\tq.width(x*sides/200)"
   ]
  },
  {
   "cell_type": "code",
   "execution_count": 32,
   "id": "subjective-coupon",
   "metadata": {},
   "outputs": [
    {
     "name": "stdout",
     "output_type": "stream",
     "text": [
      "plz input width: 35\n",
      "{:25}{:>10} <class 'str'>\n",
      "{:25}{:>10.2f} <class 'str'>\n",
      "===================================\n",
      "Item                          Price\n",
      "-----------------------------------\n",
      "apples                         0.40\n",
      "pears                          0.50\n",
      "cantaloupes                    1.92\n",
      "dried apricots(16 oz.)         8.00\n",
      "prunes(4 lbs)                 12.00\n",
      "===================================\n"
     ]
    }
   ],
   "source": [
    "#根据指定的宽度打印格式良好的价格列表，分两次设置了字符串的格式\n",
    "#第一次为了插入最终将作为格式说明符的字段宽度（因为信息是客户提供的，无法直接硬编码指定字段宽度）\n",
    "width = int(input('plz input width: '))\n",
    "\n",
    "price_width = 10\n",
    "item_width = width - price_width\n",
    "\n",
    "header_fmt = '{{:{}}}{{:>{}}}'.format(item_width, price_width)\n",
    "print(header_fmt,type(header_fmt))\n",
    "fmt = '{{:{}}}{{:>{}.2f}}'.format(item_width, price_width)\n",
    "print(fmt,type(fmt))\n",
    "\n",
    "print('='*width)\n",
    "print(header_fmt.format('Item', 'Price'))\n",
    "print('-'*width)\n",
    "\n",
    "print(fmt.format('apples', 0.4))\n",
    "print(fmt.format('pears', 0.5))\n",
    "print(fmt.format('cantaloupes', 1.92))\n",
    "print(fmt.format('dried apricots(16 oz.)', 8))\n",
    "print(fmt.format('prunes(4 lbs)', 12))\n",
    "\n",
    "print('='*width)\n"
   ]
  },
  {
   "cell_type": "code",
   "execution_count": null,
   "id": "resident-emission",
   "metadata": {},
   "outputs": [],
   "source": []
  }
 ],
 "metadata": {
  "kernelspec": {
   "display_name": "Python 3",
   "language": "python",
   "name": "python3"
  },
  "language_info": {
   "codemirror_mode": {
    "name": "ipython",
    "version": 3
   },
   "file_extension": ".py",
   "mimetype": "text/x-python",
   "name": "python",
   "nbconvert_exporter": "python",
   "pygments_lexer": "ipython3",
   "version": "3.6.5"
  }
 },
 "nbformat": 4,
 "nbformat_minor": 5
}
