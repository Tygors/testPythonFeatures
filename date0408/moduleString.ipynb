{
 "cells": [
  {
   "cell_type": "code",
   "execution_count": 2,
   "id": "permanent-decade",
   "metadata": {},
   "outputs": [
    {
     "data": {
      "text/plain": [
       "'0123456789'"
      ]
     },
     "execution_count": 2,
     "metadata": {},
     "output_type": "execute_result"
    }
   ],
   "source": [
    "#字符串的方法要多得多\n",
    "#因为很多方法都是从模块string那里继承过来的\n",
    "import string\n",
    "string.digits"
   ]
  },
  {
   "cell_type": "code",
   "execution_count": 3,
   "id": "exclusive-dinner",
   "metadata": {},
   "outputs": [
    {
     "data": {
      "text/plain": [
       "'abcdefghijklmnopqrstuvwxyzABCDEFGHIJKLMNOPQRSTUVWXYZ'"
      ]
     },
     "execution_count": 3,
     "metadata": {},
     "output_type": "execute_result"
    }
   ],
   "source": [
    "string.ascii_letters"
   ]
  },
  {
   "cell_type": "code",
   "execution_count": 4,
   "id": "boxed-german",
   "metadata": {},
   "outputs": [
    {
     "data": {
      "text/plain": [
       "'abcdefghijklmnopqrstuvwxyz'"
      ]
     },
     "execution_count": 4,
     "metadata": {},
     "output_type": "execute_result"
    }
   ],
   "source": [
    "string.ascii_lowercase"
   ]
  },
  {
   "cell_type": "code",
   "execution_count": 5,
   "id": "polished-oklahoma",
   "metadata": {},
   "outputs": [
    {
     "data": {
      "text/plain": [
       "'0123456789abcdefghijklmnopqrstuvwxyzABCDEFGHIJKLMNOPQRSTUVWXYZ!\"#$%&\\'()*+,-./:;<=>?@[\\\\]^_`{|}~ \\t\\n\\r\\x0b\\x0c'"
      ]
     },
     "execution_count": 5,
     "metadata": {},
     "output_type": "execute_result"
    }
   ],
   "source": [
    "string.printable"
   ]
  },
  {
   "cell_type": "code",
   "execution_count": 6,
   "id": "controlling-bridge",
   "metadata": {},
   "outputs": [
    {
     "data": {
      "text/plain": [
       "'!\"#$%&\\'()*+,-./:;<=>?@[\\\\]^_`{|}~'"
      ]
     },
     "execution_count": 6,
     "metadata": {},
     "output_type": "execute_result"
    }
   ],
   "source": [
    "string.punctuation"
   ]
  },
  {
   "cell_type": "code",
   "execution_count": 8,
   "id": "pending-beach",
   "metadata": {},
   "outputs": [
    {
     "data": {
      "text/plain": [
       "'ABCDEFGHIJKLMNOPQRSTUVWXYZ'"
      ]
     },
     "execution_count": 8,
     "metadata": {},
     "output_type": "execute_result"
    }
   ],
   "source": [
    "string.ascii_uppercase"
   ]
  },
  {
   "cell_type": "code",
   "execution_count": 9,
   "id": "tamil-circuit",
   "metadata": {},
   "outputs": [
    {
     "data": {
      "text/plain": [
       "'     the middle by jimmy eat world     '"
      ]
     },
     "execution_count": 9,
     "metadata": {},
     "output_type": "execute_result"
    }
   ],
   "source": [
    "#方法center通过在两边添加填充字符（默认为空格）让字符串居中\n",
    "\"the middle by jimmy eat world\".center(39)"
   ]
  },
  {
   "cell_type": "code",
   "execution_count": 10,
   "id": "acting-federal",
   "metadata": {},
   "outputs": [
    {
     "data": {
      "text/plain": [
       "'*****the middle by jimmy eat world*****'"
      ]
     },
     "execution_count": 10,
     "metadata": {},
     "output_type": "execute_result"
    }
   ],
   "source": [
    "\"the middle by jimmy eat world\".center(39, \"*\")"
   ]
  },
  {
   "cell_type": "code",
   "execution_count": 11,
   "id": "excess-ensemble",
   "metadata": {},
   "outputs": [
    {
     "data": {
      "text/plain": [
       "7"
      ]
     },
     "execution_count": 11,
     "metadata": {},
     "output_type": "execute_result"
    }
   ],
   "source": [
    "#方法find在字符串中查找子串，如果找到就返回第一个字符的索引，找不到则返回-1\n",
    "'with a moo-moo here, and a moo-moo there'.find('moo')"
   ]
  },
  {
   "cell_type": "code",
   "execution_count": 12,
   "id": "greatest-technique",
   "metadata": {},
   "outputs": [
    {
     "data": {
      "text/plain": [
       "0"
      ]
     },
     "execution_count": 12,
     "metadata": {},
     "output_type": "execute_result"
    }
   ],
   "source": [
    "title = \"monty python's flying circus\"\n",
    "title.find('monty')"
   ]
  },
  {
   "cell_type": "code",
   "execution_count": 13,
   "id": "encouraging-block",
   "metadata": {},
   "outputs": [
    {
     "data": {
      "text/plain": [
       "6"
      ]
     },
     "execution_count": 13,
     "metadata": {},
     "output_type": "execute_result"
    }
   ],
   "source": [
    "title.find('python')"
   ]
  },
  {
   "cell_type": "code",
   "execution_count": 14,
   "id": "turned-mistake",
   "metadata": {},
   "outputs": [
    {
     "data": {
      "text/plain": [
       "15"
      ]
     },
     "execution_count": 14,
     "metadata": {},
     "output_type": "execute_result"
    }
   ],
   "source": [
    "title.find('flying')"
   ]
  },
  {
   "cell_type": "code",
   "execution_count": 15,
   "id": "occupational-orlando",
   "metadata": {},
   "outputs": [
    {
     "data": {
      "text/plain": [
       "-1"
      ]
     },
     "execution_count": 15,
     "metadata": {},
     "output_type": "execute_result"
    }
   ],
   "source": [
    "title.find('zoo')"
   ]
  },
  {
   "cell_type": "code",
   "execution_count": 16,
   "id": "compact-doubt",
   "metadata": {},
   "outputs": [
    {
     "data": {
      "text/plain": [
       "16"
      ]
     },
     "execution_count": 16,
     "metadata": {},
     "output_type": "execute_result"
    }
   ],
   "source": [
    "subject = '$$ get rich now $$$'\n",
    "subject.find('$$$')"
   ]
  },
  {
   "cell_type": "code",
   "execution_count": 19,
   "id": "systematic-forum",
   "metadata": {},
   "outputs": [
    {
     "data": {
      "text/plain": [
       "16"
      ]
     },
     "execution_count": 19,
     "metadata": {},
     "output_type": "execute_result"
    }
   ],
   "source": [
    "subject.find('$$', 1,18)"
   ]
  },
  {
   "cell_type": "code",
   "execution_count": 20,
   "id": "unlimited-forty",
   "metadata": {},
   "outputs": [
    {
     "data": {
      "text/plain": [
       "-1"
      ]
     },
     "execution_count": 20,
     "metadata": {},
     "output_type": "execute_result"
    }
   ],
   "source": [
    "subject.find('$$', 1,17)"
   ]
  },
  {
   "cell_type": "code",
   "execution_count": 21,
   "id": "green-darkness",
   "metadata": {},
   "outputs": [
    {
     "data": {
      "text/plain": [
       "16"
      ]
     },
     "execution_count": 21,
     "metadata": {},
     "output_type": "execute_result"
    }
   ],
   "source": [
    "subject.find('$$', 1)#起点"
   ]
  },
  {
   "cell_type": "code",
   "execution_count": 22,
   "id": "fatal-attendance",
   "metadata": {},
   "outputs": [
    {
     "ename": "TypeError",
     "evalue": "sequence item 0: expected str instance, int found",
     "output_type": "error",
     "traceback": [
      "\u001b[1;31m---------------------------------------------------------------------------\u001b[0m",
      "\u001b[1;31mTypeError\u001b[0m                                 Traceback (most recent call last)",
      "\u001b[1;32m<ipython-input-22-b62625725f5e>\u001b[0m in \u001b[0;36m<module>\u001b[1;34m\u001b[0m\n\u001b[0;32m      2\u001b[0m \u001b[0mseq\u001b[0m \u001b[1;33m=\u001b[0m \u001b[1;33m[\u001b[0m\u001b[1;36m1\u001b[0m\u001b[1;33m,\u001b[0m\u001b[1;36m2\u001b[0m\u001b[1;33m,\u001b[0m\u001b[1;36m3\u001b[0m\u001b[1;33m,\u001b[0m\u001b[1;36m4\u001b[0m\u001b[1;33m,\u001b[0m\u001b[1;36m5\u001b[0m\u001b[1;33m]\u001b[0m\u001b[1;33m\u001b[0m\u001b[0m\n\u001b[0;32m      3\u001b[0m \u001b[0msep\u001b[0m \u001b[1;33m=\u001b[0m \u001b[1;34m'+'\u001b[0m\u001b[1;33m\u001b[0m\u001b[0m\n\u001b[1;32m----> 4\u001b[1;33m \u001b[0msep\u001b[0m\u001b[1;33m.\u001b[0m\u001b[0mjoin\u001b[0m\u001b[1;33m(\u001b[0m\u001b[0mseq\u001b[0m\u001b[1;33m)\u001b[0m\u001b[1;31m#这里尝试合并一个数字列表\u001b[0m\u001b[1;33m\u001b[0m\u001b[0m\n\u001b[0m",
      "\u001b[1;31mTypeError\u001b[0m: sequence item 0: expected str instance, int found"
     ]
    }
   ],
   "source": [
    "#重要的join方法，作用与split相反，用于合并序列的元素\n",
    "seq = [1,2,3,4,5]\n",
    "sep = '+'\n",
    "sep.join(seq)#这里尝试合并一个数字列表"
   ]
  },
  {
   "cell_type": "code",
   "execution_count": 23,
   "id": "fixed-pearl",
   "metadata": {},
   "outputs": [
    {
     "data": {
      "text/plain": [
       "'1+2+3+4+5'"
      ]
     },
     "execution_count": 23,
     "metadata": {},
     "output_type": "execute_result"
    }
   ],
   "source": [
    "seq = ['1','2','3','4','5']\n",
    "sep = '+'\n",
    "sep.join(seq)#这里尝试合并一个数字列表"
   ]
  },
  {
   "cell_type": "code",
   "execution_count": 24,
   "id": "political-alert",
   "metadata": {},
   "outputs": [
    {
     "data": {
      "text/plain": [
       "'/usr/bin/env'"
      ]
     },
     "execution_count": 24,
     "metadata": {},
     "output_type": "execute_result"
    }
   ],
   "source": [
    "dirs = '', 'usr', 'bin', 'env'\n",
    "'/'.join(dirs)"
   ]
  },
  {
   "cell_type": "code",
   "execution_count": 25,
   "id": "graduate-relevance",
   "metadata": {},
   "outputs": [
    {
     "name": "stdout",
     "output_type": "stream",
     "text": [
      "C:\\usr\\bin\\env\n"
     ]
    }
   ],
   "source": [
    "print('C:' + '\\\\'.join(dirs))"
   ]
  },
  {
   "cell_type": "code",
   "execution_count": 26,
   "id": "incorrect-honey",
   "metadata": {},
   "outputs": [
    {
     "data": {
      "text/plain": [
       "'trondheim hammer dance'"
      ]
     },
     "execution_count": 26,
     "metadata": {},
     "output_type": "execute_result"
    }
   ],
   "source": [
    "#lower方法返回字符串的小写版本\n",
    "'Trondheim Hammer Dance'.lower()"
   ]
  },
  {
   "cell_type": "code",
   "execution_count": 27,
   "id": "suburban-fortune",
   "metadata": {},
   "outputs": [],
   "source": [
    "if 'Gumby' in ['gumby', 'smith', 'jones']:\n",
    "    print('Found it!')"
   ]
  },
  {
   "cell_type": "code",
   "execution_count": 28,
   "id": "enormous-mobile",
   "metadata": {},
   "outputs": [
    {
     "name": "stdout",
     "output_type": "stream",
     "text": [
      "Found it!\n"
     ]
    }
   ],
   "source": [
    "if 'Gumby'.lower() in ['gumby', 'smith', 'jones']:\n",
    "    print('Found it!')"
   ]
  },
  {
   "cell_type": "code",
   "execution_count": 29,
   "id": "sound-payment",
   "metadata": {},
   "outputs": [
    {
     "data": {
      "text/plain": [
       "\"That'S All Folks\""
      ]
     },
     "execution_count": 29,
     "metadata": {},
     "output_type": "execute_result"
    }
   ],
   "source": [
    "#title方法可以首字母大写，但是单词边界不合理会有问题\n",
    "\"that's all folks\".title()"
   ]
  },
  {
   "cell_type": "code",
   "execution_count": 30,
   "id": "organized-gross",
   "metadata": {},
   "outputs": [
    {
     "data": {
      "text/plain": [
       "\"That's All, Folks\""
      ]
     },
     "execution_count": 30,
     "metadata": {},
     "output_type": "execute_result"
    }
   ],
   "source": [
    "#另一种首字母大写的方法是string中的函数capwords\n",
    "import string\n",
    "string.capwords(\"that's all, folks\")"
   ]
  },
  {
   "cell_type": "code",
   "execution_count": 31,
   "id": "neutral-courage",
   "metadata": {},
   "outputs": [
    {
     "data": {
      "text/plain": [
       "'theez eez a test'"
      ]
     },
     "execution_count": 31,
     "metadata": {},
     "output_type": "execute_result"
    }
   ],
   "source": [
    "#replace方法将指定子串都替换为另一个字符串，并返回替换后的结果\n",
    "'this is a test'.replace('is', 'eez')"
   ]
  },
  {
   "cell_type": "code",
   "execution_count": 32,
   "id": "hindu-invasion",
   "metadata": {},
   "outputs": [
    {
     "name": "stdout",
     "output_type": "stream",
     "text": [
      "['1', '2', '3', '4', '5']\n",
      "<class 'list'>\n"
     ]
    }
   ],
   "source": [
    "#split是一个非常重要的字符串方法，其作用与join相反，用于将字符串拆分为序列\n",
    "print('1+2+3+4+5'.split('+'))\n",
    "print(type('1+2+3+4+5'.split('+')))"
   ]
  },
  {
   "cell_type": "code",
   "execution_count": 33,
   "id": "young-acrylic",
   "metadata": {},
   "outputs": [
    {
     "data": {
      "text/plain": [
       "['', 'usr', 'bin', 'env']"
      ]
     },
     "execution_count": 33,
     "metadata": {},
     "output_type": "execute_result"
    }
   ],
   "source": [
    "'/usr/bin/env'.split('/')"
   ]
  },
  {
   "cell_type": "code",
   "execution_count": 35,
   "id": "cardiac-connecticut",
   "metadata": {},
   "outputs": [
    {
     "data": {
      "text/plain": [
       "['using', 'the', 'default']"
      ]
     },
     "execution_count": 35,
     "metadata": {},
     "output_type": "execute_result"
    }
   ],
   "source": [
    "'using the default'.split()"
   ]
  },
  {
   "cell_type": "code",
   "execution_count": 36,
   "id": "stable-system",
   "metadata": {},
   "outputs": [
    {
     "data": {
      "text/plain": [
       "'internal whitespace is kept'"
      ]
     },
     "execution_count": 36,
     "metadata": {},
     "output_type": "execute_result"
    }
   ],
   "source": [
    "#strip方法将字符串开头和末尾的空白（不包括中间的空白）删除，并返回删除后的结果\n",
    "'           internal whitespace is kept         '.strip()"
   ]
  },
  {
   "cell_type": "code",
   "execution_count": 39,
   "id": "random-electron",
   "metadata": {},
   "outputs": [
    {
     "name": "stdout",
     "output_type": "stream",
     "text": [
      "please use strip\n",
      "found it\n"
     ]
    }
   ],
   "source": [
    "names = ['gumby', 'smith', 'jones']\n",
    "name = 'gumby  '\n",
    "if name in names:\n",
    "    print('found it')\n",
    "else:\n",
    "    print('please use strip')\n",
    "if name.strip() in names:\n",
    "    print('found it')"
   ]
  },
  {
   "cell_type": "code",
   "execution_count": 42,
   "id": "dangerous-saver",
   "metadata": {},
   "outputs": [
    {
     "data": {
      "text/plain": [
       "' spam * for * everyone!!! '"
      ]
     },
     "execution_count": 42,
     "metadata": {},
     "output_type": "execute_result"
    }
   ],
   "source": [
    "'*** spam * for * everyone!!! ***'.strip('*!')"
   ]
  },
  {
   "cell_type": "code",
   "execution_count": 43,
   "id": "three-specific",
   "metadata": {},
   "outputs": [
    {
     "data": {
      "text/plain": [
       "'spam * for * everyone'"
      ]
     },
     "execution_count": 43,
     "metadata": {},
     "output_type": "execute_result"
    }
   ],
   "source": [
    "'*** spam * for * everyone!!! ***'.strip(' *!')"
   ]
  },
  {
   "cell_type": "code",
   "execution_count": 44,
   "id": "rocky-pharmaceutical",
   "metadata": {},
   "outputs": [
    {
     "data": {
      "text/plain": [
       "{99: 107, 115: 122}"
      ]
     },
     "execution_count": 44,
     "metadata": {},
     "output_type": "execute_result"
    }
   ],
   "source": [
    "#方法translate与replace一样替换字符串的特定部分，但不同的是它只能进行单字符替换\n",
    "#可以同时替换多个字符，效率比replace高\n",
    "#在使用translate前要创建一个转换表，说明转换关系\n",
    "table = str.maketrans('cs', 'kz')\n",
    "table"
   ]
  },
  {
   "cell_type": "code",
   "execution_count": 45,
   "id": "altered-shield",
   "metadata": {},
   "outputs": [
    {
     "data": {
      "text/plain": [
       "'thiz iz an inkredible tezt'"
      ]
     },
     "execution_count": 45,
     "metadata": {},
     "output_type": "execute_result"
    }
   ],
   "source": [
    "'this is an incredible test'.translate(table)"
   ]
  },
  {
   "cell_type": "code",
   "execution_count": 46,
   "id": "equivalent-stranger",
   "metadata": {},
   "outputs": [
    {
     "name": "stdout",
     "output_type": "stream",
     "text": [
      "{99: 107, 115: 122, 32: None}\n"
     ]
    },
    {
     "data": {
      "text/plain": [
       "'thizizaninkredibletezt'"
      ]
     },
     "execution_count": 46,
     "metadata": {},
     "output_type": "execute_result"
    }
   ],
   "source": [
    "table = str.maketrans('cs', 'kz', ' ')#第三个参数，指定要将哪些字母删除\n",
    "print(table)\n",
    "'this is an incredible test'.translate(table)"
   ]
  },
  {
   "cell_type": "markdown",
   "id": "conditional-focus",
   "metadata": {},
   "source": [
    "#判断字符串是否满足特定的条件\n",
    "#如果字符串具备特定的性质，这些方法就返回True，否则返回False。\n",
    "#isalnum、 isalpha、 isdecimal、 isdigit、 isidentifier、 islower、 isnumeric、\n",
    "#isprintable、 isspace、 istitle、 isupper"
   ]
  }
 ],
 "metadata": {
  "kernelspec": {
   "display_name": "Python 3",
   "language": "python",
   "name": "python3"
  },
  "language_info": {
   "codemirror_mode": {
    "name": "ipython",
    "version": 3
   },
   "file_extension": ".py",
   "mimetype": "text/x-python",
   "name": "python",
   "nbconvert_exporter": "python",
   "pygments_lexer": "ipython3",
   "version": "3.6.5"
  }
 },
 "nbformat": 4,
 "nbformat_minor": 5
}
