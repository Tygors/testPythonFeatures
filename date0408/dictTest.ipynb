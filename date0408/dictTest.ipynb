{
 "cells": [
  {
   "cell_type": "markdown",
   "id": "sitting-triangle",
   "metadata": {},
   "source": [
    "需要将一系列值组合成数据结构并通过编号来访问各个值时，列表很有用。\n",
    "字典是Python中唯一的内置映射类型，其中的值不按顺序排列，而是存储在键下。键可能是数、字符串或元组。"
   ]
  },
  {
   "cell_type": "code",
   "execution_count": 1,
   "id": "patient-speaking",
   "metadata": {},
   "outputs": [
    {
     "data": {
      "text/plain": [
       "'3158'"
      ]
     },
     "execution_count": 1,
     "metadata": {},
     "output_type": "execute_result"
    }
   ],
   "source": [
    "names = ['alice', 'beth', 'cecil', 'dee-dee', 'earl']\n",
    "numbers = ['2341', '9102', '3158', '0142', '5551']\n",
    "numbers[names.index('cecil')]"
   ]
  },
  {
   "cell_type": "code",
   "execution_count": 2,
   "id": "historical-eligibility",
   "metadata": {},
   "outputs": [
    {
     "data": {
      "text/plain": [
       "'3258'"
      ]
     },
     "execution_count": 2,
     "metadata": {},
     "output_type": "execute_result"
    }
   ],
   "source": [
    "#创建和使用字典\n",
    "phonebook = {'alice':'2341', 'beth':'9102', 'cecil':'3258'}\n",
    "phonebook['cecil']"
   ]
  },
  {
   "cell_type": "code",
   "execution_count": 3,
   "id": "derived-bench",
   "metadata": {},
   "outputs": [
    {
     "data": {
      "text/plain": [
       "{'name': 'gumby', 'age': 42}"
      ]
     },
     "execution_count": 3,
     "metadata": {},
     "output_type": "execute_result"
    }
   ],
   "source": [
    "#函数dict,可以使用函数dict从其他映射（如其他字典）或键值对序列创建字典\n",
    "items = [('name', 'gumby'), ('age', 42)]\n",
    "d = dict(items)\n",
    "d"
   ]
  },
  {
   "cell_type": "code",
   "execution_count": 4,
   "id": "nutritional-space",
   "metadata": {},
   "outputs": [
    {
     "data": {
      "text/plain": [
       "'gumby'"
      ]
     },
     "execution_count": 4,
     "metadata": {},
     "output_type": "execute_result"
    }
   ],
   "source": [
    "d['name']"
   ]
  },
  {
   "cell_type": "code",
   "execution_count": 5,
   "id": "annoying-fitness",
   "metadata": {},
   "outputs": [
    {
     "data": {
      "text/plain": [
       "{'name': 'cecil', 'age': 35}"
      ]
     },
     "execution_count": 5,
     "metadata": {},
     "output_type": "execute_result"
    }
   ],
   "source": [
    "#也可以使用关键字实参来调用这个函数\n",
    "d = dict(name='cecil', age=35) #这里的name是实参变量，不写成字符串\n",
    "d"
   ]
  },
  {
   "cell_type": "code",
   "execution_count": 6,
   "id": "angry-incentive",
   "metadata": {},
   "outputs": [
    {
     "ename": "IndexError",
     "evalue": "list assignment index out of range",
     "output_type": "error",
     "traceback": [
      "\u001b[1;31m---------------------------------------------------------------------------\u001b[0m",
      "\u001b[1;31mIndexError\u001b[0m                                Traceback (most recent call last)",
      "\u001b[1;32m<ipython-input-6-ededf527de3c>\u001b[0m in \u001b[0;36m<module>\u001b[1;34m\u001b[0m\n\u001b[0;32m      2\u001b[0m \u001b[1;31m#字典中的键可以是任何不可变的类型，如浮点数、字符串或元组\u001b[0m\u001b[1;33m\u001b[0m\u001b[1;33m\u001b[0m\u001b[0m\n\u001b[0;32m      3\u001b[0m \u001b[0mx\u001b[0m \u001b[1;33m=\u001b[0m \u001b[1;33m[\u001b[0m\u001b[1;33m]\u001b[0m\u001b[1;33m\u001b[0m\u001b[0m\n\u001b[1;32m----> 4\u001b[1;33m \u001b[0mx\u001b[0m\u001b[1;33m[\u001b[0m\u001b[1;36m42\u001b[0m\u001b[1;33m]\u001b[0m \u001b[1;33m=\u001b[0m \u001b[1;34m'Foobar'\u001b[0m\u001b[1;33m\u001b[0m\u001b[0m\n\u001b[0m",
      "\u001b[1;31mIndexError\u001b[0m: list assignment index out of range"
     ]
    }
   ],
   "source": [
    "#基本的字典操作\n",
    "#字典中的键可以是任何不可变的类型，如浮点数、字符串或元组\n",
    "x = []\n",
    "x[42] = 'Foobar'"
   ]
  },
  {
   "cell_type": "code",
   "execution_count": 7,
   "id": "absent-official",
   "metadata": {},
   "outputs": [
    {
     "data": {
      "text/plain": [
       "{42: 'Foobar'}"
      ]
     },
     "execution_count": 7,
     "metadata": {},
     "output_type": "execute_result"
    }
   ],
   "source": [
    "x = {}\n",
    "x[42] = 'Foobar'\n",
    "x"
   ]
  },
  {
   "cell_type": "code",
   "execution_count": 8,
   "id": "brave-beach",
   "metadata": {},
   "outputs": [],
   "source": [
    "#创建电话簿数据库的代码\n",
    "people = {\n",
    "    'alice':{\n",
    "        'phone': '2341',\n",
    "        'addr': 'foo drive 23'\n",
    "    },\n",
    "    'beth': {\n",
    "        'phone': '9102',\n",
    "        'addr': 'bar street 42'\n",
    "    },\n",
    "    'cecil': {\n",
    "        'phone': '3158',\n",
    "        'addr': 'baz avenue 90'\n",
    "    }\n",
    "}"
   ]
  },
  {
   "cell_type": "code",
   "execution_count": 9,
   "id": "ruled-chair",
   "metadata": {},
   "outputs": [
    {
     "name": "stdout",
     "output_type": "stream",
     "text": [
      "name: beth\n",
      "phone number p or address a?a\n",
      "beth's address is bar street 42.\n"
     ]
    }
   ],
   "source": [
    "#电话号码和地址的描述性标签，供打印输出时使用\n",
    "labels = {\n",
    "    'phone':'phone number',\n",
    "    'addr':'address'\n",
    "}\n",
    "name = input('name: ')\n",
    "request = input('phone number p or address a?')\n",
    "\n",
    "if request == 'p':\n",
    "    key = 'phone'\n",
    "if request == 'a':\n",
    "    key = 'addr'\n",
    "    \n",
    "if name in people:\n",
    "    print(\"{}'s {} is {}.\".format(name,labels[key],people[name][key]))"
   ]
  },
  {
   "cell_type": "code",
   "execution_count": 10,
   "id": "constant-vacuum",
   "metadata": {},
   "outputs": [
    {
     "data": {
      "text/plain": [
       "{'alice': '2341', 'beth': '9102', 'cecil': '3258'}"
      ]
     },
     "execution_count": 10,
     "metadata": {},
     "output_type": "execute_result"
    }
   ],
   "source": [
    "#将字符串格式设置功能用于字典\n",
    "phonebook"
   ]
  },
  {
   "cell_type": "code",
   "execution_count": 11,
   "id": "smooth-technical",
   "metadata": {},
   "outputs": [
    {
     "data": {
      "text/plain": [
       "\"cecil's phone number is 3258.\""
      ]
     },
     "execution_count": 11,
     "metadata": {},
     "output_type": "execute_result"
    }
   ],
   "source": [
    "\"cecil's phone number is {cecil}.\".format_map(phonebook)"
   ]
  },
  {
   "cell_type": "code",
   "execution_count": 14,
   "id": "efficient-decline",
   "metadata": {},
   "outputs": [
    {
     "name": "stdout",
     "output_type": "stream",
     "text": [
      "<html>\n",
      "    <head><title>my home page</title></head>\n",
      "    <body>\n",
      "    <h1>my home page</h1>\n",
      "    <p>welcome to my home page!</p>\n",
      "    </body>\n"
     ]
    }
   ],
   "source": [
    "#可以指定任意数量的转换说明符，条件是所有的字段名都是包含在字典中的键\n",
    "template =  '''<html>\n",
    "    <head><title>{title}</title></head>\n",
    "    <body>\n",
    "    <h1>{title}</h1>\n",
    "    <p>{text}</p>\n",
    "    </body>'''\n",
    "data = {'title':'my home page', 'text':'welcome to my home page!'}\n",
    "print(template.format_map(data))"
   ]
  },
  {
   "cell_type": "code",
   "execution_count": 16,
   "id": "cleared-buying",
   "metadata": {},
   "outputs": [
    {
     "data": {
      "text/plain": [
       "{'name': 'Gumby', 'age': 42}"
      ]
     },
     "execution_count": 16,
     "metadata": {},
     "output_type": "execute_result"
    }
   ],
   "source": [
    "#字典方法\n",
    "#方法clear删除所有的字典项，这种操作是就地执行的（就像list.sort一样），因此什么都不返回（或者说返回None）。\n",
    "d = {}\n",
    "d['name'] = 'Gumby'\n",
    "d['age'] = 42\n",
    "d"
   ]
  },
  {
   "cell_type": "code",
   "execution_count": 17,
   "id": "concrete-symbol",
   "metadata": {},
   "outputs": [
    {
     "data": {
      "text/plain": [
       "{}"
      ]
     },
     "execution_count": 17,
     "metadata": {},
     "output_type": "execute_result"
    }
   ],
   "source": [
    "returned_value = d.clear()\n",
    "d"
   ]
  },
  {
   "cell_type": "code",
   "execution_count": 18,
   "id": "appreciated-pleasure",
   "metadata": {},
   "outputs": [
    {
     "name": "stdout",
     "output_type": "stream",
     "text": [
      "None\n"
     ]
    }
   ],
   "source": [
    "print(returned_value)"
   ]
  },
  {
   "cell_type": "code",
   "execution_count": 26,
   "id": "amateur-column",
   "metadata": {},
   "outputs": [
    {
     "name": "stdout",
     "output_type": "stream",
     "text": [
      "2498247234688\n",
      "2498247234688\n"
     ]
    },
    {
     "data": {
      "text/plain": [
       "{'key': 'value'}"
      ]
     },
     "execution_count": 26,
     "metadata": {},
     "output_type": "execute_result"
    }
   ],
   "source": [
    "#clear很有用的两个场景，场景一：\n",
    "x = {}\n",
    "y = x\n",
    "print(id(x))\n",
    "print(id(y))\n",
    "x['key'] = 'value'\n",
    "y"
   ]
  },
  {
   "cell_type": "code",
   "execution_count": 20,
   "id": "ranking-sauce",
   "metadata": {},
   "outputs": [
    {
     "data": {
      "text/plain": [
       "{'key': 'value'}"
      ]
     },
     "execution_count": 20,
     "metadata": {},
     "output_type": "execute_result"
    }
   ],
   "source": [
    "x = {}\n",
    "y"
   ]
  },
  {
   "cell_type": "code",
   "execution_count": 21,
   "id": "julian-member",
   "metadata": {},
   "outputs": [
    {
     "data": {
      "text/plain": [
       "{}"
      ]
     },
     "execution_count": 21,
     "metadata": {},
     "output_type": "execute_result"
    }
   ],
   "source": [
    "x = {}\n",
    "y = x\n",
    "x['key'] = 'value'\n",
    "x.clear()\n",
    "y"
   ]
  },
  {
   "cell_type": "code",
   "execution_count": 43,
   "id": "equivalent-smith",
   "metadata": {},
   "outputs": [
    {
     "name": "stdout",
     "output_type": "stream",
     "text": [
      "2498246150904\n",
      "2498246150040\n",
      "2498232480008 2498232480008\n",
      "{'username': 'admin', 'machines': ['foo', 'baz']} {'username': 'mlh', 'machines': ['foo', 'baz']}\n"
     ]
    }
   ],
   "source": [
    "#方法copy返回一个新字典，其包含的键值对与原来的字典相同（这个方法执行的是浅复制，因为值本身是原件，而非副本）\n",
    "x = {'username': 'admin', 'machines': ['foo', 'bar', 'baz']}\n",
    "y = x.copy()\n",
    "print(id(x))\n",
    "print(id(y))\n",
    "print(id(x['machines']),id(y['machines']))\n",
    "y['username'] = 'mlh'\n",
    "y['machines'].remove('bar')\n",
    "print(x,y)"
   ]
  },
  {
   "cell_type": "code",
   "execution_count": 44,
   "id": "beginning-radius",
   "metadata": {},
   "outputs": [
    {
     "name": "stdout",
     "output_type": "stream",
     "text": [
      "2498246150904\n",
      "2498246150040\n",
      "True\n"
     ]
    }
   ],
   "source": [
    "print(id(x))\n",
    "print(id(y))\n",
    "print(id(x['machines'])==id(y['machines']))"
   ]
  },
  {
   "cell_type": "code",
   "execution_count": 45,
   "id": "unauthorized-genetics",
   "metadata": {},
   "outputs": [
    {
     "name": "stdout",
     "output_type": "stream",
     "text": [
      "{'names': ['Alfred', 'Bertrand', 'Clive']} {'names': ['Alfred', 'Bertrand']}\n"
     ]
    }
   ],
   "source": [
    "from copy import deepcopy\n",
    "d = {}\n",
    "d['names'] = ['Alfred', 'Bertrand']\n",
    "c = d.copy()\n",
    "dc = deepcopy(d)\n",
    "d['names'].append('Clive')\n",
    "print(c,dc)"
   ]
  },
  {
   "cell_type": "code",
   "execution_count": 46,
   "id": "fixed-oakland",
   "metadata": {},
   "outputs": [
    {
     "data": {
      "text/plain": [
       "{'name': None, 'age': None}"
      ]
     },
     "execution_count": 46,
     "metadata": {},
     "output_type": "execute_result"
    }
   ],
   "source": [
    "#方法fromkeys创建一个新字典，其中包含指定的键，且每个键对应的值都是None\n",
    "{}.fromkeys(['name','age'])"
   ]
  },
  {
   "cell_type": "code",
   "execution_count": 47,
   "id": "private-mentor",
   "metadata": {},
   "outputs": [
    {
     "data": {
      "text/plain": [
       "{'name': None, 'age': None}"
      ]
     },
     "execution_count": 47,
     "metadata": {},
     "output_type": "execute_result"
    }
   ],
   "source": [
    "dict.fromkeys(['name','age'])"
   ]
  },
  {
   "cell_type": "code",
   "execution_count": 48,
   "id": "musical-cover",
   "metadata": {},
   "outputs": [
    {
     "data": {
      "text/plain": [
       "{'name': 'unknown', 'age': 'unknown'}"
      ]
     },
     "execution_count": 48,
     "metadata": {},
     "output_type": "execute_result"
    }
   ],
   "source": [
    "dict.fromkeys(['name','age'],'unknown')"
   ]
  },
  {
   "cell_type": "code",
   "execution_count": 49,
   "id": "third-compromise",
   "metadata": {},
   "outputs": [
    {
     "ename": "KeyError",
     "evalue": "'name'",
     "output_type": "error",
     "traceback": [
      "\u001b[1;31m---------------------------------------------------------------------------\u001b[0m",
      "\u001b[1;31mKeyError\u001b[0m                                  Traceback (most recent call last)",
      "\u001b[1;32m<ipython-input-49-8ad41d7a2094>\u001b[0m in \u001b[0;36m<module>\u001b[1;34m\u001b[0m\n\u001b[0;32m      2\u001b[0m \u001b[1;31m#通常，如果你试图访问字典中没有的项，将引发错误\u001b[0m\u001b[1;33m\u001b[0m\u001b[1;33m\u001b[0m\u001b[0m\n\u001b[0;32m      3\u001b[0m \u001b[0md\u001b[0m \u001b[1;33m=\u001b[0m \u001b[1;33m{\u001b[0m\u001b[1;33m}\u001b[0m\u001b[1;33m\u001b[0m\u001b[0m\n\u001b[1;32m----> 4\u001b[1;33m \u001b[0mprint\u001b[0m\u001b[1;33m(\u001b[0m\u001b[0md\u001b[0m\u001b[1;33m[\u001b[0m\u001b[1;34m'name'\u001b[0m\u001b[1;33m]\u001b[0m\u001b[1;33m)\u001b[0m\u001b[1;33m\u001b[0m\u001b[0m\n\u001b[0m",
      "\u001b[1;31mKeyError\u001b[0m: 'name'"
     ]
    }
   ],
   "source": [
    "#方法get为访问字典项提供了宽松的环境。\n",
    "#通常，如果你试图访问字典中没有的项，将引发错误\n",
    "d = {}\n",
    "print(d['name'])"
   ]
  },
  {
   "cell_type": "code",
   "execution_count": 50,
   "id": "accompanied-property",
   "metadata": {},
   "outputs": [
    {
     "name": "stdout",
     "output_type": "stream",
     "text": [
      "None\n"
     ]
    }
   ],
   "source": [
    "print(d.get('name'))"
   ]
  },
  {
   "cell_type": "code",
   "execution_count": 51,
   "id": "upper-sewing",
   "metadata": {},
   "outputs": [
    {
     "data": {
      "text/plain": [
       "'N/A'"
      ]
     },
     "execution_count": 51,
     "metadata": {},
     "output_type": "execute_result"
    }
   ],
   "source": [
    "d.get('name','N/A')"
   ]
  },
  {
   "cell_type": "code",
   "execution_count": 52,
   "id": "compound-objective",
   "metadata": {},
   "outputs": [
    {
     "data": {
      "text/plain": [
       "'Eric'"
      ]
     },
     "execution_count": 52,
     "metadata": {},
     "output_type": "execute_result"
    }
   ],
   "source": [
    "d['name'] = 'Eric'\n",
    "d.get('name')"
   ]
  },
  {
   "cell_type": "code",
   "execution_count": 67,
   "id": "sudden-cologne",
   "metadata": {},
   "outputs": [
    {
     "name": "stdout",
     "output_type": "stream",
     "text": [
      "Name: beth\n",
      "Phone number (p) or address (a)? v\n",
      "beth's v is not available.\n"
     ]
    }
   ],
   "source": [
    "#一个使用get()的简单数据库\n",
    "people = {\n",
    "    'alice':{\n",
    "        'phone': '2341',\n",
    "        'addr': 'foo drive 23'\n",
    "    },\n",
    "    'beth': {\n",
    "        'phone': '9102',\n",
    "        'addr': 'bar street 42'\n",
    "    },\n",
    "    'cecil': {\n",
    "        'phone': '3158',\n",
    "        'addr': 'baz avenue 90'\n",
    "    }\n",
    "}\n",
    "labels = {\n",
    "'phone': 'phone number',\n",
    "'addr': 'address'\n",
    "}\n",
    "name = input('Name: ')\n",
    "# 要查找电话号码还是地址？\n",
    "request = input('Phone number (p) or address (a)? ')\n",
    "# 使用正确的键：\n",
    "key = request # 如果request既不是'p'也不是'a'\n",
    "if request == 'p': key = 'phone'\n",
    "if request == 'a': key = 'addr'\n",
    "# 使用get提供默认值\n",
    "person = people.get(name, {})\n",
    "label = labels.get(key, key)\n",
    "result = person.get(key, 'not available')\n",
    "print(\"{}'s {} is {}.\".format(name, label, result))"
   ]
  },
  {
   "cell_type": "code",
   "execution_count": 68,
   "id": "transparent-spanking",
   "metadata": {},
   "outputs": [
    {
     "data": {
      "text/plain": [
       "dict_items([('title', 'Python Web Site'), ('url', 'http://www.python.org'), ('spam', 0)])"
      ]
     },
     "execution_count": 68,
     "metadata": {},
     "output_type": "execute_result"
    }
   ],
   "source": [
    "#方法items返回一个包含所有字典项的列表，其中每个元素都为(key, value)的形式。字典项在列表中的排列顺序不确定\n",
    "d = {'title': 'Python Web Site', 'url': 'http://www.python.org', 'spam': 0}\n",
    "d.items()#返回值属于一种名为字典视图的特殊类型。字典视图可用于迭代"
   ]
  },
  {
   "cell_type": "code",
   "execution_count": 69,
   "id": "bulgarian-party",
   "metadata": {},
   "outputs": [
    {
     "data": {
      "text/plain": [
       "3"
      ]
     },
     "execution_count": 69,
     "metadata": {},
     "output_type": "execute_result"
    }
   ],
   "source": [
    "it = d.items()\n",
    "len(it)"
   ]
  },
  {
   "cell_type": "code",
   "execution_count": 70,
   "id": "utility-protest",
   "metadata": {},
   "outputs": [
    {
     "data": {
      "text/plain": [
       "True"
      ]
     },
     "execution_count": 70,
     "metadata": {},
     "output_type": "execute_result"
    }
   ],
   "source": [
    "('spam', 0) in it"
   ]
  },
  {
   "cell_type": "code",
   "execution_count": 71,
   "id": "forward-mambo",
   "metadata": {},
   "outputs": [
    {
     "data": {
      "text/plain": [
       "False"
      ]
     },
     "execution_count": 71,
     "metadata": {},
     "output_type": "execute_result"
    }
   ],
   "source": [
    "#视图的一个优点是不复制，它们始终是底层字典的反映，即便你修改了底层字典亦如此\n",
    "d['spam'] = 1\n",
    "('spam', 0) in it"
   ]
  },
  {
   "cell_type": "code",
   "execution_count": 72,
   "id": "anonymous-payment",
   "metadata": {},
   "outputs": [
    {
     "data": {
      "text/plain": [
       "True"
      ]
     },
     "execution_count": 72,
     "metadata": {},
     "output_type": "execute_result"
    }
   ],
   "source": [
    "d['spam'] = 0\n",
    "('spam',0) in it"
   ]
  },
  {
   "cell_type": "code",
   "execution_count": 74,
   "id": "scheduled-wonder",
   "metadata": {},
   "outputs": [
    {
     "name": "stdout",
     "output_type": "stream",
     "text": [
      "dict_items([('title', 'Python Web Site'), ('url', 'http://www.python.org'), ('spam', 0)])\n",
      "[('title', 'Python Web Site'), ('url', 'http://www.python.org'), ('spam', 0)]\n"
     ]
    }
   ],
   "source": [
    "print(d.items())\n",
    "print(list(d.items()))"
   ]
  },
  {
   "cell_type": "code",
   "execution_count": 75,
   "id": "occupational-marina",
   "metadata": {},
   "outputs": [
    {
     "data": {
      "text/plain": [
       "dict_keys(['title', 'url', 'spam'])"
      ]
     },
     "execution_count": 75,
     "metadata": {},
     "output_type": "execute_result"
    }
   ],
   "source": [
    "d.keys()"
   ]
  },
  {
   "cell_type": "code",
   "execution_count": 77,
   "id": "faced-judges",
   "metadata": {},
   "outputs": [
    {
     "data": {
      "text/plain": [
       "1"
      ]
     },
     "execution_count": 77,
     "metadata": {},
     "output_type": "execute_result"
    }
   ],
   "source": [
    "#方法pop可用于获取与指定键相关联的值，并将该键值对从字典中删除\n",
    "d = {'x':1, 'y':2}\n",
    "d.pop('x')#有返回值，返回对应的值"
   ]
  },
  {
   "cell_type": "code",
   "execution_count": 78,
   "id": "human-pennsylvania",
   "metadata": {},
   "outputs": [
    {
     "data": {
      "text/plain": [
       "{'y': 2}"
      ]
     },
     "execution_count": 78,
     "metadata": {},
     "output_type": "execute_result"
    }
   ],
   "source": [
    "d"
   ]
  },
  {
   "cell_type": "code",
   "execution_count": 79,
   "id": "wooden-career",
   "metadata": {},
   "outputs": [
    {
     "data": {
      "text/plain": [
       "('title', 'Python Web Site')"
      ]
     },
     "execution_count": 79,
     "metadata": {},
     "output_type": "execute_result"
    }
   ],
   "source": [
    "#popitem随机地弹出一个字典项，因为字典项的顺序是不确定的，没有“最后一个元素”的概念\n",
    "d = {'url': 'http://www.python.org', 'spam': 0, 'title': 'Python Web Site'}\n",
    "d.popitem()"
   ]
  },
  {
   "cell_type": "code",
   "execution_count": 80,
   "id": "eleven-trouble",
   "metadata": {},
   "outputs": [
    {
     "data": {
      "text/plain": [
       "{'url': 'http://www.python.org', 'spam': 0}"
      ]
     },
     "execution_count": 80,
     "metadata": {},
     "output_type": "execute_result"
    }
   ],
   "source": [
    "d"
   ]
  },
  {
   "cell_type": "code",
   "execution_count": 81,
   "id": "conditional-lucas",
   "metadata": {},
   "outputs": [
    {
     "data": {
      "text/plain": [
       "('spam', 0)"
      ]
     },
     "execution_count": 81,
     "metadata": {},
     "output_type": "execute_result"
    }
   ],
   "source": [
    "d.popitem()"
   ]
  },
  {
   "cell_type": "code",
   "execution_count": 82,
   "id": "adaptive-working",
   "metadata": {},
   "outputs": [
    {
     "data": {
      "text/plain": [
       "{'url': 'http://www.python.org'}"
      ]
     },
     "execution_count": 82,
     "metadata": {},
     "output_type": "execute_result"
    }
   ],
   "source": [
    "d"
   ]
  },
  {
   "cell_type": "code",
   "execution_count": 83,
   "id": "accredited-medicare",
   "metadata": {},
   "outputs": [
    {
     "data": {
      "text/plain": [
       "'N/A'"
      ]
     },
     "execution_count": 83,
     "metadata": {},
     "output_type": "execute_result"
    }
   ],
   "source": [
    "#方法setdefault有点像get，因为它也获取与指定键相关联的值\n",
    "#setdefault还在字典不包含指定的键时，在字典中添加指定的键值对\n",
    "d = {}\n",
    "d.setdefault('name', 'N/A')"
   ]
  },
  {
   "cell_type": "code",
   "execution_count": 84,
   "id": "declared-yacht",
   "metadata": {},
   "outputs": [
    {
     "data": {
      "text/plain": [
       "{'name': 'N/A'}"
      ]
     },
     "execution_count": 84,
     "metadata": {},
     "output_type": "execute_result"
    }
   ],
   "source": [
    "d"
   ]
  },
  {
   "cell_type": "code",
   "execution_count": 85,
   "id": "medium-adjustment",
   "metadata": {},
   "outputs": [
    {
     "data": {
      "text/plain": [
       "'Gumby'"
      ]
     },
     "execution_count": 85,
     "metadata": {},
     "output_type": "execute_result"
    }
   ],
   "source": [
    "d['name'] = 'Gumby'\n",
    "d.setdefault('name', 'N/A')"
   ]
  },
  {
   "cell_type": "code",
   "execution_count": 87,
   "id": "specified-trinidad",
   "metadata": {},
   "outputs": [
    {
     "data": {
      "text/plain": [
       "{'name': 'Gumby'}"
      ]
     },
     "execution_count": 87,
     "metadata": {},
     "output_type": "execute_result"
    }
   ],
   "source": [
    "d"
   ]
  },
  {
   "cell_type": "code",
   "execution_count": 88,
   "id": "therapeutic-recall",
   "metadata": {},
   "outputs": [
    {
     "name": "stdout",
     "output_type": "stream",
     "text": [
      "None\n"
     ]
    }
   ],
   "source": [
    "#与get一样，值是可选的；如果没有指定，默认为None\n",
    "d = {}\n",
    "print(d.setdefault('name'))"
   ]
  },
  {
   "cell_type": "code",
   "execution_count": 89,
   "id": "endless-portrait",
   "metadata": {},
   "outputs": [
    {
     "data": {
      "text/plain": [
       "{'name': None}"
      ]
     },
     "execution_count": 89,
     "metadata": {},
     "output_type": "execute_result"
    }
   ],
   "source": [
    "d"
   ]
  },
  {
   "cell_type": "code",
   "execution_count": 91,
   "id": "forty-people",
   "metadata": {},
   "outputs": [
    {
     "data": {
      "text/plain": [
       "{'title': 'Python Web Site',\n",
       " 'url': 'http://www.python.org',\n",
       " 'changed': 'Mar 14 22:09:15 MET 2016'}"
      ]
     },
     "execution_count": 91,
     "metadata": {},
     "output_type": "execute_result"
    }
   ],
   "source": [
    "#方法update使用一个字典中的项来更新另一个字典。\n",
    "d = {\n",
    "    'title': 'Python Web Site',\n",
    "    'url': 'http://www.python.org',\n",
    "    'changed': 'Mar 14 22:09:15 MET 2016'\n",
    "    }\n",
    "d"
   ]
  },
  {
   "cell_type": "code",
   "execution_count": 92,
   "id": "designed-money",
   "metadata": {},
   "outputs": [
    {
     "data": {
      "text/plain": [
       "{'title': 'Python Language Website',\n",
       " 'url': 'http://www.python.org',\n",
       " 'changed': 'Mar 14 22:09:15 MET 2016'}"
      ]
     },
     "execution_count": 92,
     "metadata": {},
     "output_type": "execute_result"
    }
   ],
   "source": [
    "x = {'title': 'Python Language Website'}\n",
    "d.update(x)\n",
    "d"
   ]
  },
  {
   "cell_type": "code",
   "execution_count": 93,
   "id": "contemporary-price",
   "metadata": {},
   "outputs": [
    {
     "data": {
      "text/plain": [
       "{'title': 'Python Language Website',\n",
       " 'url': 'http://www.python.org',\n",
       " 'changed': 'Mar 14 22:09:15 MET 2016',\n",
       " 'title1': 'Python Web Site'}"
      ]
     },
     "execution_count": 93,
     "metadata": {},
     "output_type": "execute_result"
    }
   ],
   "source": [
    "y = {'title1': 'Python Web Site'}\n",
    "d.update(y)\n",
    "d"
   ]
  },
  {
   "cell_type": "code",
   "execution_count": 96,
   "id": "baking-casting",
   "metadata": {},
   "outputs": [
    {
     "name": "stdout",
     "output_type": "stream",
     "text": [
      "dict_values([1, 2, 3, 1, 2])\n",
      "{1: 1, 2: 2, 3: 3, 4: 1, 5: 2}\n"
     ]
    }
   ],
   "source": [
    "#方法values返回一个由字典中的值组成的字典视图。\n",
    "#不同于方法keys，方法values返回的视图可能包含重复的值\n",
    "d = {}\n",
    "d[1] = 1\n",
    "d[2] = 2\n",
    "d[3] = 3\n",
    "d[4] = 1\n",
    "d[5] = 2\n",
    "print(d.values())\n",
    "print(d)"
   ]
  },
  {
   "cell_type": "code",
   "execution_count": null,
   "id": "determined-atlantic",
   "metadata": {},
   "outputs": [],
   "source": []
  }
 ],
 "metadata": {
  "kernelspec": {
   "display_name": "Python 3",
   "language": "python",
   "name": "python3"
  },
  "language_info": {
   "codemirror_mode": {
    "name": "ipython",
    "version": 3
   },
   "file_extension": ".py",
   "mimetype": "text/x-python",
   "name": "python",
   "nbconvert_exporter": "python",
   "pygments_lexer": "ipython3",
   "version": "3.6.5"
  }
 },
 "nbformat": 4,
 "nbformat_minor": 5
}
