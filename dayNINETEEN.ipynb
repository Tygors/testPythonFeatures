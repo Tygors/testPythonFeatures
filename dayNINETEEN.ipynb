{
 "cells": [
  {
   "cell_type": "markdown",
   "id": "ambient-extension",
   "metadata": {},
   "source": [
    "Please write a program to randomly print a integer number between 7 and 15 inclusive."
   ]
  },
  {
   "cell_type": "code",
   "execution_count": 2,
   "id": "hearing-orbit",
   "metadata": {},
   "outputs": [
    {
     "data": {
      "text/plain": [
       "13"
      ]
     },
     "execution_count": 2,
     "metadata": {},
     "output_type": "execute_result"
    }
   ],
   "source": [
    "import random\n",
    "random.randrange(7,16)"
   ]
  },
  {
   "cell_type": "markdown",
   "id": "stock-influence",
   "metadata": {},
   "source": [
    "Please write a program to compress and decompress the string \"hello world!hello world!hello world!hello world!\"."
   ]
  },
  {
   "cell_type": "code",
   "execution_count": 6,
   "id": "arranged-bubble",
   "metadata": {},
   "outputs": [
    {
     "name": "stdout",
     "output_type": "stream",
     "text": [
      "hello world!hello world!hello world!hello world!\n",
      "b'x\\x9c\\xcbH\\xcd\\xc9\\xc9W(\\xcf/\\xcaIQ\\xcc \\x82\\r\\x00\\xbd[\\x11\\xf5'\n",
      "b'hello world!hello world!hello world!hello world!'\n"
     ]
    }
   ],
   "source": [
    "import zlib\n",
    "print('hello world!hello world!hello world!hello world!')\n",
    "print(zlib.compress(b'hello world!hello world!hello world!hello world!'))\n",
    "print(zlib.decompress(zlib.compress(b'hello world!hello world!hello world!hello world!')))"
   ]
  },
  {
   "cell_type": "code",
   "execution_count": 7,
   "id": "athletic-pierre",
   "metadata": {},
   "outputs": [
    {
     "name": "stdout",
     "output_type": "stream",
     "text": [
      "b'x\\x9c\\xcbH\\xcd\\xc9\\xc9W(\\xcf/\\xcaIQ\\xcc \\x82\\r\\x00\\xbd[\\x11\\xf5'\n",
      "b'hello world!hello world!hello world!hello world!'\n"
     ]
    }
   ],
   "source": [
    "s = 'hello world!hello world!hello world!hello world!'\n",
    "# In Python 3 zlib.compress() accepts only DataType <bytes>\n",
    "y = bytes(s, 'utf-8')\n",
    "x = zlib.compress(y)\n",
    "print(x)\n",
    "print(zlib.decompress(x))"
   ]
  },
  {
   "cell_type": "markdown",
   "id": "constitutional-terrace",
   "metadata": {},
   "source": [
    "Please write a program to print the running time of execution of \"1+1\" for 100 times.\n",
    "\n",
    "Use timeit() function to measure the running time.\n",
    "\n",
    "\n"
   ]
  },
  {
   "cell_type": "code",
   "execution_count": 9,
   "id": "sporting-december",
   "metadata": {},
   "outputs": [
    {
     "name": "stdout",
     "output_type": "stream",
     "text": [
      "999\n"
     ]
    }
   ],
   "source": [
    "import datetime\n",
    "before = datetime.datetime.now()\n",
    "for i in range(100):\n",
    "    x = 1+1\n",
    "after = datetime.datetime.now()\n",
    "executionTime = after - before\n",
    "print(executionTime.microseconds)"
   ]
  },
  {
   "cell_type": "code",
   "execution_count": 10,
   "id": "incorporate-baptist",
   "metadata": {},
   "outputs": [
    {
     "name": "stdout",
     "output_type": "stream",
     "text": [
      "0\n"
     ]
    }
   ],
   "source": [
    "import datetime\n",
    "before = datetime.datetime.now()\n",
    "for i in range(100):\n",
    "    x = 1+1\n",
    "after = datetime.datetime.now()\n",
    "executionTime = after - before\n",
    "print(executionTime.microseconds)"
   ]
  },
  {
   "cell_type": "code",
   "execution_count": 11,
   "id": "statewide-reply",
   "metadata": {},
   "outputs": [
    {
     "name": "stdout",
     "output_type": "stream",
     "text": [
      "0.0\n"
     ]
    }
   ],
   "source": [
    "import time\n",
    "before = time.time()\n",
    "for i in range(100):\n",
    "    x = 1+1\n",
    "after = time.time()\n",
    "executionTime=after-before\n",
    "print(executionTime)"
   ]
  },
  {
   "cell_type": "markdown",
   "id": "numerous-thunder",
   "metadata": {},
   "source": [
    "Please write a program to shuffle and print the list [3,6,7,8]."
   ]
  },
  {
   "cell_type": "code",
   "execution_count": 19,
   "id": "respected-richmond",
   "metadata": {},
   "outputs": [
    {
     "name": "stdout",
     "output_type": "stream",
     "text": [
      "[7, 8, 6, 3]\n",
      "[6, 8, 7, 3]\n",
      "[8, 3, 7, 6]\n",
      "[7, 3, 6, 8]\n"
     ]
    }
   ],
   "source": [
    "import random\n",
    "lst = [3,6,7,8]\n",
    "random.shuffle(lst)\n",
    "print(lst)\n",
    "random.shuffle(lst)\n",
    "print(lst)\n",
    "random.shuffle(lst)\n",
    "print(lst)\n",
    "random.shuffle(lst)\n",
    "print(lst)"
   ]
  },
  {
   "cell_type": "code",
   "execution_count": 20,
   "id": "nearby-salmon",
   "metadata": {},
   "outputs": [
    {
     "name": "stdout",
     "output_type": "stream",
     "text": [
      "[8, 3, 7, 6]\n",
      "[6, 3, 8, 7]\n",
      "[7, 3, 6, 8]\n",
      "[8, 3, 7, 6]\n"
     ]
    }
   ],
   "source": [
    "#shuffle with a chosen seed????seed???\n",
    "seed = 7\n",
    "random.Random(seed).shuffle(lst)\n",
    "print(lst)\n",
    "random.Random(seed).shuffle(lst)\n",
    "print(lst)\n",
    "random.Random(seed).shuffle(lst)\n",
    "print(lst)\n",
    "random.Random(seed).shuffle(lst)\n",
    "print(lst)"
   ]
  },
  {
   "cell_type": "markdown",
   "id": "thick-senate",
   "metadata": {},
   "source": [
    "Please write a program to generate all sentences where subject is in [\"I\", \"You\"] and verb is in [\"Play\", \"Love\"] and the object is in [\"Hockey\",\"Football\"].\n",
    "\n",
    "Use list[index] notation to get a element from a list."
   ]
  },
  {
   "cell_type": "code",
   "execution_count": 21,
   "id": "above-purple",
   "metadata": {},
   "outputs": [
    {
     "name": "stdout",
     "output_type": "stream",
     "text": [
      "i play hockey\n",
      "i play football\n",
      "i love hockey\n",
      "i love football\n",
      "you play hockey\n",
      "you play football\n",
      "you love hockey\n",
      "you love football\n"
     ]
    }
   ],
   "source": [
    "subjects = ['i', 'you']\n",
    "verbs = ['play', 'love']\n",
    "objects = ['hockey', 'football']\n",
    "for sub in subjects:\n",
    "    for verb in verbs:\n",
    "        for obj in objects:\n",
    "            print('{} {} {}'.format(sub,verb,obj))"
   ]
  },
  {
   "cell_type": "code",
   "execution_count": 23,
   "id": "academic-fifty",
   "metadata": {},
   "outputs": [
    {
     "name": "stdout",
     "output_type": "stream",
     "text": [
      "('i', 'play', 'hockey')\n",
      "('i', 'play', 'football')\n",
      "('i', 'love', 'hockey')\n",
      "('i', 'love', 'football')\n",
      "('you', 'play', 'hockey')\n",
      "('you', 'play', 'football')\n",
      "('you', 'love', 'hockey')\n",
      "('you', 'love', 'football')\n"
     ]
    }
   ],
   "source": [
    "import itertools\n",
    "sentence = [subjects, verbs, objects]\n",
    "n = list(itertools.product(*sentence))\n",
    "for i in n:\n",
    "    print(i)"
   ]
  },
  {
   "cell_type": "code",
   "execution_count": 25,
   "id": "residential-preserve",
   "metadata": {},
   "outputs": [
    {
     "name": "stdout",
     "output_type": "stream",
     "text": [
      "i play hockey\n",
      "i play football\n",
      "i love hockey\n",
      "i love football\n",
      "you play hockey\n",
      "you play football\n",
      "you love hockey\n",
      "you love football\n"
     ]
    }
   ],
   "source": [
    "from itertools import product\n",
    "prod = [p for p in product(range(2), repeat = 3)]\n",
    "for combination in prod:\n",
    "    print(f'{subjects[combination[0]]} {verbs[combination[1]]} {objects[combination[2]]}')"
   ]
  },
  {
   "cell_type": "code",
   "execution_count": null,
   "id": "confused-telling",
   "metadata": {},
   "outputs": [],
   "source": []
  }
 ],
 "metadata": {
  "kernelspec": {
   "display_name": "Python 3",
   "language": "python",
   "name": "python3"
  },
  "language_info": {
   "codemirror_mode": {
    "name": "ipython",
    "version": 3
   },
   "file_extension": ".py",
   "mimetype": "text/x-python",
   "name": "python",
   "nbconvert_exporter": "python",
   "pygments_lexer": "ipython3",
   "version": "3.6.5"
  }
 },
 "nbformat": 4,
 "nbformat_minor": 5
}
