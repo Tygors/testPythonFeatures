{
 "cells": [
  {
   "cell_type": "markdown",
   "id": "fifth-touch",
   "metadata": {},
   "source": [
    "Given the participants' score sheet for your University Sports Day, you are required to find the runner-up score. You are given scores. Store them in a list and find the score of the runner-up.\n",
    "\n",
    "If the following string is given as input to the program:\n",
    "\n",
    "5\n",
    "2 3 6 6 5\n",
    "Then, the output of the program should be:\n",
    "\n",
    "5"
   ]
  },
  {
   "cell_type": "code",
   "execution_count": 108,
   "id": "contrary-saudi",
   "metadata": {},
   "outputs": [
    {
     "name": "stdout",
     "output_type": "stream",
     "text": [
      "5\n",
      "2 3 6 6 5\n",
      "{'5', '2', '3', '6'}\n",
      "['5', '2', '3', '6']\n",
      "['2', '3', '5', '6']\n",
      "5\n"
     ]
    }
   ],
   "source": [
    "n = int(input())\n",
    "lst = input().split(' ')\n",
    "list2set = set(lst)\n",
    "set2list = list(list2set)\n",
    "print(list2set)\n",
    "print(set2list)\n",
    "set2list.sort()\n",
    "print(set2list)\n",
    "print(set2list[-2])"
   ]
  },
  {
   "cell_type": "code",
   "execution_count": 17,
   "id": "quiet-nightmare",
   "metadata": {},
   "outputs": [
    {
     "name": "stdout",
     "output_type": "stream",
     "text": [
      "5 2 3 6 6 5\n",
      "5\n"
     ]
    }
   ],
   "source": [
    "arr = map(int, input().split(' '))\n",
    "arr = list(set(arr))\n",
    "arr.sort()\n",
    "print(arr[-2])"
   ]
  },
  {
   "cell_type": "code",
   "execution_count": 25,
   "id": "welsh-nicaragua",
   "metadata": {},
   "outputs": [
    {
     "name": "stdout",
     "output_type": "stream",
     "text": [
      "enter num: 5\n",
      "enter another num: 0tobreak2\n",
      "enter another num: 0tobreak3\n",
      "enter another num: 0tobreak6\n",
      "enter another num: 0tobreak6\n",
      "enter another num: 0tobreak5\n",
      "enter another num: 0tobreak0\n",
      "[2, 3, 5, 6]\n",
      "the runner-up is 5\n"
     ]
    }
   ],
   "source": [
    "num = int(input('enter num: '))\n",
    "L = []\n",
    "\n",
    "while True:\n",
    "    L.append(num)\n",
    "    num = int(input('enter another num: 0tobreak'))\n",
    "    if num == 0:\n",
    "        break\n",
    "#L1 = list(set(L))#一样\n",
    "L1 = list(set(L[:]))\n",
    "L2 = sorted(L1)\n",
    "print(L2)\n",
    "\n",
    "print(f'the runner-up is {L2[-2]}')"
   ]
  },
  {
   "cell_type": "code",
   "execution_count": 114,
   "id": "driven-board",
   "metadata": {},
   "outputs": [
    {
     "name": "stdout",
     "output_type": "stream",
     "text": [
      "5\n",
      "2 3 6 6 5\n",
      "5\n"
     ]
    }
   ],
   "source": [
    "num = int(input())\n",
    "scores = list(map(int, input().split()))\n",
    "winner = max(scores)\n",
    "lst = []\n",
    "\n",
    "if len(scores) != num:\n",
    "    print('len of score is greater than input given')\n",
    "else:\n",
    "    for score in scores:\n",
    "        if winner > score:\n",
    "            lst.append(score)\n",
    "runnerup = max(lst)\n",
    "print(runnerup)"
   ]
  },
  {
   "cell_type": "markdown",
   "id": "found-olive",
   "metadata": {},
   "source": [
    "You are given a string S and width W. Your task is to wrap the string into a paragraph of width.\n",
    "\n",
    "If the following string is given as input to the program:\n",
    "\n",
    "ABCDEFGHIJKLIMNOQRSTUVWXYZ 4\n",
    "\n",
    "Then, the output of the program should be:\n",
    "\n",
    "ABCD EFGH IJKL IMNO QRST UVWX YZ"
   ]
  },
  {
   "cell_type": "code",
   "execution_count": 49,
   "id": "pharmaceutical-carol",
   "metadata": {},
   "outputs": [
    {
     "name": "stdout",
     "output_type": "stream",
     "text": [
      "j=  0\n",
      "i=  0\n",
      "i=  1\n",
      "i=  2\n",
      "i=  3\n",
      "j=  1\n",
      "i=  0\n",
      "i=  1\n",
      "i=  2\n",
      "i=  3\n",
      "j=  2\n",
      "i=  0\n",
      "i=  1\n",
      "i=  2\n",
      "i=  3\n",
      "j=  3\n",
      "i=  0\n",
      "i=  1\n",
      "i=  2\n",
      "i=  3\n",
      "j=  4\n",
      "i=  0\n",
      "i=  1\n",
      "i=  2\n",
      "i=  3\n",
      "j=  5\n",
      "i=  0\n",
      "i=  1\n",
      "i=  2\n",
      "i=  3\n",
      "j=  6\n",
      "i=  0\n",
      "i=  1\n",
      "i=  2\n",
      "25\n",
      "ABCD EFGH IJKL IMNO QRST UVWX YZ \n"
     ]
    }
   ],
   "source": [
    "strInput = 'ABCDEFGHIJKLIMNOQRSTUVWXYZ 4'\n",
    "str2list = strInput.split(' ')\n",
    "def wrapParagraph(args):\n",
    "    listStr = ''\n",
    "    stringTest = args[0]\n",
    "    width = int(args[1])\n",
    "    for j in range(len(stringTest)//4+1):\n",
    "        print('j= ',j)\n",
    "        for i in range(width):\n",
    "            print('i= ',i)\n",
    "            if j*4+i == len(stringTest):\n",
    "                print(j*4+1)\n",
    "                break\n",
    "            else:\n",
    "                listStr += stringTest[j*4+i]\n",
    "        listStr += ' '\n",
    "    print(listStr)\n",
    "wrapParagraph(str2list)"
   ]
  },
  {
   "cell_type": "code",
   "execution_count": 53,
   "id": "exposed-orchestra",
   "metadata": {},
   "outputs": [
    {
     "name": "stdout",
     "output_type": "stream",
     "text": [
      "ABCDEFGHIJKLIMNOQRSTUVWXYZ\n",
      "4\n",
      "['ABCD', 'EFGH', 'IJKL', 'IMNO', 'QRST', 'UVWX', 'YZ']\n",
      "ABCD\n",
      "EFGH\n",
      "IJKL\n",
      "IMNO\n",
      "QRST\n",
      "UVWX\n",
      "YZ\n"
     ]
    }
   ],
   "source": [
    "import textwrap\n",
    "def wrap(string, max_width):\n",
    "    string = textwrap.wrap(string, max_width)\n",
    "    print(string)\n",
    "    string = '\\n'.join(string)\n",
    "    return string\n",
    "\n",
    "\n",
    "string, max_width = input(), int(input())\n",
    "result = wrap(string,max_width)\n",
    "print(result)"
   ]
  },
  {
   "cell_type": "code",
   "execution_count": 54,
   "id": "buried-construction",
   "metadata": {},
   "outputs": [
    {
     "name": "stdout",
     "output_type": "stream",
     "text": [
      "ABCDEFGHIJKLIMNOQRSTUVWXYZ\n",
      "4\n",
      "ABCD\n",
      "EFGH\n",
      "IJKL\n",
      "IMNO\n",
      "QRST\n",
      "UVWX\n",
      "YZ\n"
     ]
    }
   ],
   "source": [
    "import textwrap\n",
    "\n",
    "string = input()\n",
    "width = int(input())\n",
    "\n",
    "print(textwrap.fill(string, width))"
   ]
  },
  {
   "cell_type": "code",
   "execution_count": 116,
   "id": "amber-prophet",
   "metadata": {},
   "outputs": [
    {
     "name": "stdout",
     "output_type": "stream",
     "text": [
      ": ABCDEFGHIJKLIMNOQRSTUVWXYZ\n",
      "4\n",
      "ABCD\n",
      "EFGH\n",
      "IJKL\n",
      "IMNO\n",
      "QRST\n",
      "UVWX\n",
      "YZ\n"
     ]
    }
   ],
   "source": [
    "from textwrap import wrap\n",
    "x = str(input(': '))\n",
    "w = int(input())\n",
    "z = list(wrap(x, w))#wrap出来是字符串\n",
    "for i in z:\n",
    "    print(i)"
   ]
  },
  {
   "cell_type": "code",
   "execution_count": 117,
   "id": "wireless-battlefield",
   "metadata": {},
   "outputs": [
    {
     "name": "stdout",
     "output_type": "stream",
     "text": [
      "ABCDEFGHIJKLIMNOQRSTUVWXYZ\n",
      "4\n",
      "ABCD\n",
      "EFGH\n",
      "IJKL\n",
      "IMNO\n",
      "QRST\n",
      "UVWX\n",
      "YZ\n"
     ]
    }
   ],
   "source": [
    "import textwrap\n",
    "string = input('')\n",
    "print('\\n'.join(textwrap.wrap(string, width = int(input('')))))"
   ]
  },
  {
   "cell_type": "code",
   "execution_count": 122,
   "id": "amber-celebrity",
   "metadata": {},
   "outputs": [
    {
     "name": "stdout",
     "output_type": "stream",
     "text": [
      "> ABCDEFGHIJKLIMNOQRSTUVWXYZ\n",
      "what is the iwdth of the groupings?4\n",
      "ABCD\n",
      "EFGH\n",
      "IJKL\n",
      "IMNO\n",
      "QRST\n",
      "UVWX\n",
      "YZ\n"
     ]
    }
   ],
   "source": [
    "import itertools\n",
    "string = input('> ')\n",
    "width_length = int(input('what is the iwdth of the groupings?'))\n",
    "\n",
    "def grouper(string, width):\n",
    "    iters = [iter(string)] * width\n",
    "    return itertools.zip_longest(*iters, fillvalue = '')\n",
    "\n",
    "def displayer(groups):\n",
    "    for x in groups:\n",
    "        if x == '':\n",
    "            continue\n",
    "        else:\n",
    "            print(''.join(x))\n",
    "displayer(grouper(string, width_length))"
   ]
  },
  {
   "cell_type": "markdown",
   "id": "geographic-brave",
   "metadata": {},
   "source": [
    "You are given an integer, N. Your task is to print an alphabet rangoli of size N. (Rangoli is a form of Indian folk art based on creation of patterns.)\n",
    "\n",
    "Different sizes of alphabet rangoli are shown below:\n",
    "    \n",
    "size = 3\n",
    "    \n",
    "----c----\n",
    "\n",
    "--c-b-c--\n",
    "\n",
    "c-b-a-b-c\n",
    "\n",
    "--c-b-c--\n",
    "\n",
    "----c----\n",
    "\n",
    "size = 5\n",
    "\n",
    "--------e--------\n",
    "\n",
    "------e-d-e------\n",
    "\n",
    "----e-d-c-d-e----\n",
    "\n",
    "--e-d-c-b-c-d-e--\n",
    "\n",
    "e-d-c-b-a-b-c-d-e\n",
    "\n",
    "--e-d-c-b-c-d-e--\n",
    "\n",
    "----e-d-c-d-e----\n",
    "\n",
    "------e-d-e------\n",
    "\n",
    "--------e--------"
   ]
  },
  {
   "cell_type": "code",
   "execution_count": 65,
   "id": "opposed-effort",
   "metadata": {},
   "outputs": [
    {
     "name": "stdout",
     "output_type": "stream",
     "text": [
      "enter size: 5\n",
      "e\n",
      ".........left..............\n",
      "e\n",
      ".........mid..............\n",
      "--------e--------\n",
      ".........final............\n",
      "d-e\n",
      ".........left..............\n",
      "e-d-e\n",
      ".........mid..............\n",
      "------e-d-e------\n",
      ".........final............\n",
      "c-d-e\n",
      ".........left..............\n",
      "e-d-c-d-e\n",
      ".........mid..............\n",
      "----e-d-c-d-e----\n",
      ".........final............\n",
      "b-c-d-e\n",
      ".........left..............\n",
      "e-d-c-b-c-d-e\n",
      ".........mid..............\n",
      "--e-d-c-b-c-d-e--\n",
      ".........final............\n",
      "a-b-c-d-e\n",
      ".........left..............\n",
      "e-d-c-b-a-b-c-d-e\n",
      ".........mid..............\n",
      "e-d-c-b-a-b-c-d-e\n",
      ".........final............\n",
      "--e-d-c-b-c-d-e--\n",
      "----e-d-c-d-e----\n",
      "------e-d-e------\n",
      "--------e--------\n",
      "...........................\n",
      "--------e--------\n",
      "------e-d-e------\n",
      "----e-d-c-d-e----\n",
      "--e-d-c-b-c-d-e--\n",
      "e-d-c-b-a-b-c-d-e\n",
      "--e-d-c-b-c-d-e--\n",
      "----e-d-c-d-e----\n",
      "------e-d-e------\n",
      "--------e--------\n"
     ]
    }
   ],
   "source": [
    "import string\n",
    "\n",
    "def printRangoli(size):\n",
    "    n = size\n",
    "    alph = string.ascii_lowercase\n",
    "    width = 4*n-3\n",
    "    \n",
    "    ans = []\n",
    "    for i in range(n):\n",
    "        left = '-'.join(alph[n-i-1 : n])\n",
    "        print(left)\n",
    "        print('.........left..............')\n",
    "        mid = left[-1:0:-1] + left\n",
    "        print(mid)\n",
    "        print('.........mid..............')\n",
    "        final = mid.center(width, '-')\n",
    "        print(final)\n",
    "        print('.........final............')\n",
    "        ans.append(final)\n",
    "    if len(ans) > 1:\n",
    "        for i in ans[n-2::-1]:\n",
    "            print(i)\n",
    "            ans.append(i)\n",
    "        print('...........................')\n",
    "    ans = '\\n'.join(ans)\n",
    "    print(ans)\n",
    "    \n",
    "n = int(input('enter size: '))\n",
    "printRangoli(n)"
   ]
  },
  {
   "cell_type": "code",
   "execution_count": 131,
   "id": "fitting-edinburgh",
   "metadata": {
    "scrolled": true
   },
   "outputs": [
    {
     "name": "stdout",
     "output_type": "stream",
     "text": [
      "['a', 'b', 'c', 'd', 'e', 'f', 'g', 'h', 'i', 'j', 'k', 'l', 'm', 'n', 'o', 'p', 'q', 'r', 's', 't', 'u', 'v', 'w', 'x', 'y', 'z']\n",
      "--------e--------\n",
      "------e-d-e------\n",
      "----e-d-c-d-e----\n",
      "--e-d-c-b-c-d-e--\n",
      "e-d-c-b-a-b-c-d-e\n",
      "--e-d-c-b-c-d-e--\n",
      "----e-d-c-d-e----\n",
      "------e-d-e------\n",
      "--------e--------\n"
     ]
    }
   ],
   "source": [
    "def rangoli(n):\n",
    "    l1 = list(map(chr, range(97, 123)))#拿出所有小写字母\n",
    "    print(l1)\n",
    "    x = l1[n-1::-1]+l1[1:n]#从n-1回头到最开始切片拼接上第二个到第n-1个\n",
    "    mid = len('-'.join(x))#得到每行最中间内容，用-拼接起来\n",
    "    for i in range(1, n):\n",
    "        print('-'.join(l1[n-1:n-i:-1]+l1[n-i:n]).center(mid, '-'))#把获得的子串前后拼上-\n",
    "    for i in range(n,0,-1):\n",
    "        print('-'.join(l1[n-1:n-i:-1]+l1[n-i:n]).center(mid, '-'))#把获得的子串前后拼上-\n",
    "rangoli(5)"
   ]
  },
  {
   "cell_type": "markdown",
   "id": "controlled-guinea",
   "metadata": {},
   "source": [
    "You are given a date. Your task is to find what the day is on that date.\n",
    "\n",
    "Input\n",
    "\n",
    "A single line of input containing the space separated month, day and year, respectively, in MM DD YYYY format.\n",
    "\n",
    "08 05 2015\n",
    "\n",
    "Output\n",
    "\n",
    "Output the correct day in capital letters.\n",
    "\n",
    "WEDNESDAY\n",
    "\n",
    "Use weekday function of calender module"
   ]
  },
  {
   "cell_type": "code",
   "execution_count": 70,
   "id": "confidential-identification",
   "metadata": {},
   "outputs": [
    {
     "name": "stdout",
     "output_type": "stream",
     "text": [
      "04 28 2021\n",
      "4 28 2021\n",
      "WEDNESDAY\n"
     ]
    }
   ],
   "source": [
    "import calendar\n",
    "month, day, year = map(int, input().split())\n",
    "print(month, day, year)\n",
    "dayId = calendar.weekday(year, month, day)\n",
    "print(calendar.day_name[dayId].upper())"
   ]
  },
  {
   "cell_type": "markdown",
   "id": "adjustable-detection",
   "metadata": {},
   "source": [
    "Given 2 sets of integers, M and N, print their symmetric difference in ascending order. The term symmetric difference indicates those values that exist in either M or N but do not exist in both.\n",
    "\n",
    "Input\n",
    "\n",
    "The first line of input contains an integer, M.The second line contains M space-separated integers.The third line contains an integer, N.The fourth line contains N space-separated integers.\n",
    "\n",
    "4 2 4 5 9 4 2 4 11 12\n",
    "\n",
    "Output\n",
    "\n",
    "Output the symmetric difference integers in ascending order, one per line.\n",
    "\n",
    "5 9 11 12"
   ]
  },
  {
   "cell_type": "code",
   "execution_count": 102,
   "id": "secret-governor",
   "metadata": {},
   "outputs": [
    {
     "name": "stdout",
     "output_type": "stream",
     "text": [
      "4\n",
      "9 2 4 5\n",
      "4\n",
      "2 11 4 12\n",
      "<function <lambda> at 0x000001A8F78D6510>\n",
      "5\n",
      "9\n",
      "11\n",
      "12\n"
     ]
    }
   ],
   "source": [
    "set1 = {2,4,5,9}\n",
    "set2 = {2,4,11,12}\n",
    "result = set1^set2\n",
    "print(len(set1))\n",
    "print(' '.join(str(x) for x in set1))\n",
    "print(len(set2))\n",
    "print(' '.join(str(x) for x in set2))\n",
    "#print(' '.join([str(x) for x in result]))\n",
    "print(lambda x: x (x for x in result))\n",
    "for x in result:\n",
    "    print(f'{x}')"
   ]
  },
  {
   "cell_type": "code",
   "execution_count": 107,
   "id": "prompt-syndicate",
   "metadata": {},
   "outputs": [
    {
     "name": "stdout",
     "output_type": "stream",
     "text": [
      "4\n",
      "2 4 5 9\n",
      "4\n",
      "2 4 11 12\n",
      "5\n",
      "9\n",
      "11\n",
      "12\n"
     ]
    }
   ],
   "source": [
    "n = int(input())\n",
    "set1 = set(map(int, input().split()))\n",
    "\n",
    "m = int(input())\n",
    "set2 = set(map(int, input().split()))\n",
    "\n",
    "ans = list(set1^set2)\n",
    "ans.sort()\n",
    "for i in ans:\n",
    "    print(i)"
   ]
  },
  {
   "cell_type": "code",
   "execution_count": null,
   "id": "excessive-track",
   "metadata": {},
   "outputs": [],
   "source": []
  }
 ],
 "metadata": {
  "kernelspec": {
   "display_name": "Python 3",
   "language": "python",
   "name": "python3"
  }
 },
 "nbformat": 4,
 "nbformat_minor": 5
}
