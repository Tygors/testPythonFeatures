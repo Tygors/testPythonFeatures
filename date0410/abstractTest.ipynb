{
 "cells": [
  {
   "cell_type": "code",
   "execution_count": 4,
   "id": "innovative-yellow",
   "metadata": {},
   "outputs": [
    {
     "name": "stdout",
     "output_type": "stream",
     "text": [
      "[0, 1]\n",
      "[0, 1, 1]\n",
      "[0, 1, 1, 2]\n",
      "[0, 1, 1, 2, 3]\n",
      "[0, 1, 1, 2, 3, 5]\n",
      "[0, 1, 1, 2, 3, 5, 8]\n",
      "[0, 1, 1, 2, 3, 5, 8, 13]\n",
      "[0, 1, 1, 2, 3, 5, 8, 13, 21]\n",
      "[0, 1, 1, 2, 3, 5, 8, 13, 21, 34]\n"
     ]
    }
   ],
   "source": [
    "#计算斐波那契数\n",
    "fibs = [0, 1]\n",
    "print(fibs)\n",
    "for i in range(8):\n",
    "    fibs.append(fibs[-2] + fibs[-1])\n",
    "    print(fibs)"
   ]
  },
  {
   "cell_type": "code",
   "execution_count": 5,
   "id": "bulgarian-reduction",
   "metadata": {},
   "outputs": [
    {
     "name": "stdout",
     "output_type": "stream",
     "text": [
      "How many Fibonacci numbers do you want? 10\n",
      "[0, 1, 1, 2, 3, 5, 8, 13, 21, 34]\n"
     ]
    }
   ],
   "source": [
    "fibs = [0, 1]\n",
    "num = int(input('How many Fibonacci numbers do you want? '))\n",
    "for i in range(num-2):\n",
    "    fibs.append(fibs[-2] + fibs[-1])\n",
    "print(fibs)"
   ]
  },
  {
   "cell_type": "code",
   "execution_count": 7,
   "id": "naked-ozone",
   "metadata": {},
   "outputs": [],
   "source": [
    "#抽象和结构\n",
    "#这些操作的具体细节，将在其他地方（独立的函数定义）中给出"
   ]
  },
  {
   "cell_type": "code",
   "execution_count": 8,
   "id": "grand-validation",
   "metadata": {},
   "outputs": [
    {
     "data": {
      "text/plain": [
       "False"
      ]
     },
     "execution_count": 8,
     "metadata": {},
     "output_type": "execute_result"
    }
   ],
   "source": [
    "#自定义函数，函数执行特定的操作并返回一个值\n",
    "#可以调用它（调用时可能需要提供一些参数——放在圆括号中的内容）\n",
    "#要判断某个对象是否可调用，可使用内置函数callable\n",
    "import math\n",
    "x = 1\n",
    "y = math.sqrt\n",
    "callable(x)"
   ]
  },
  {
   "cell_type": "code",
   "execution_count": 9,
   "id": "atlantic-object",
   "metadata": {},
   "outputs": [
    {
     "data": {
      "text/plain": [
       "True"
      ]
     },
     "execution_count": 9,
     "metadata": {},
     "output_type": "execute_result"
    }
   ],
   "source": [
    "callable(y)"
   ]
  },
  {
   "cell_type": "code",
   "execution_count": 10,
   "id": "electrical-finance",
   "metadata": {},
   "outputs": [],
   "source": [
    "#使用def（表示定义函数）语句\n",
    "def hello(name):\n",
    "    return 'Hello, ' + name + '!'"
   ]
  },
  {
   "cell_type": "code",
   "execution_count": 12,
   "id": "mighty-flour",
   "metadata": {},
   "outputs": [
    {
     "data": {
      "text/plain": [
       "'Hello, world!'"
      ]
     },
     "execution_count": 12,
     "metadata": {},
     "output_type": "execute_result"
    }
   ],
   "source": [
    "hello('world')"
   ]
  },
  {
   "cell_type": "code",
   "execution_count": 13,
   "id": "binding-refund",
   "metadata": {},
   "outputs": [
    {
     "data": {
      "text/plain": [
       "'Hello, tygors!'"
      ]
     },
     "execution_count": 13,
     "metadata": {},
     "output_type": "execute_result"
    }
   ],
   "source": [
    "hello('tygors')"
   ]
  },
  {
   "cell_type": "code",
   "execution_count": 16,
   "id": "declared-appearance",
   "metadata": {},
   "outputs": [],
   "source": [
    "def fibs(num):\n",
    "    result = [0,1]\n",
    "    for i in range(num-2):\n",
    "        result.append(result[-2] + result[-1])\n",
    "    return result"
   ]
  },
  {
   "cell_type": "code",
   "execution_count": 17,
   "id": "sitting-brown",
   "metadata": {},
   "outputs": [
    {
     "data": {
      "text/plain": [
       "[0, 1, 1, 2, 3, 5, 8, 13, 21, 34]"
      ]
     },
     "execution_count": 17,
     "metadata": {},
     "output_type": "execute_result"
    }
   ],
   "source": [
    "fibs(10)"
   ]
  },
  {
   "cell_type": "code",
   "execution_count": 18,
   "id": "comfortable-flexibility",
   "metadata": {},
   "outputs": [
    {
     "data": {
      "text/plain": [
       "[0, 1, 1, 2, 3, 5, 8, 13, 21, 34, 55, 89, 144, 233, 377, 610, 987, 1597, 2584]"
      ]
     },
     "execution_count": 18,
     "metadata": {},
     "output_type": "execute_result"
    }
   ],
   "source": [
    "fibs(19)"
   ]
  },
  {
   "cell_type": "code",
   "execution_count": 19,
   "id": "approximate-surgery",
   "metadata": {},
   "outputs": [],
   "source": [
    "#给函数编写文档,除了注释，添加独立的字符串\n",
    "#直接放在def语句后面的引号语句（字符串）,称为文档字符串\n",
    "def square(x):\n",
    "    'Calculates the square of the number x.'\n",
    "    return x * x\n"
   ]
  },
  {
   "cell_type": "code",
   "execution_count": 20,
   "id": "fallen-amateur",
   "metadata": {},
   "outputs": [
    {
     "data": {
      "text/plain": [
       "'Calculates the square of the number x.'"
      ]
     },
     "execution_count": 20,
     "metadata": {},
     "output_type": "execute_result"
    }
   ],
   "source": [
    "square.__doc__"
   ]
  },
  {
   "cell_type": "code",
   "execution_count": 21,
   "id": "understanding-english",
   "metadata": {},
   "outputs": [
    {
     "name": "stdout",
     "output_type": "stream",
     "text": [
      "Help on function square in module __main__:\n",
      "\n",
      "square(x)\n",
      "    Calculates the square of the number x.\n",
      "\n"
     ]
    }
   ],
   "source": [
    "help(square)"
   ]
  },
  {
   "cell_type": "code",
   "execution_count": 22,
   "id": "homeless-promotion",
   "metadata": {},
   "outputs": [],
   "source": [
    "#其实并不是函数的函数(即使不返回任何值,也会返回None)\n",
    "def test():\n",
    "    print('This is printed')\n",
    "    return\n",
    "    print('This is not')"
   ]
  },
  {
   "cell_type": "code",
   "execution_count": 23,
   "id": "popular-handbook",
   "metadata": {},
   "outputs": [
    {
     "name": "stdout",
     "output_type": "stream",
     "text": [
      "This is printed\n"
     ]
    }
   ],
   "source": [
    "x = test()"
   ]
  },
  {
   "cell_type": "code",
   "execution_count": 24,
   "id": "uniform-arizona",
   "metadata": {},
   "outputs": [],
   "source": [
    "x"
   ]
  },
  {
   "cell_type": "code",
   "execution_count": 25,
   "id": "pointed-justice",
   "metadata": {},
   "outputs": [
    {
     "name": "stdout",
     "output_type": "stream",
     "text": [
      "None\n"
     ]
    }
   ],
   "source": [
    "print(x)"
   ]
  },
  {
   "cell_type": "code",
   "execution_count": 26,
   "id": "mathematical-simon",
   "metadata": {},
   "outputs": [
    {
     "data": {
      "text/plain": [
       "'Mrs. Entity'"
      ]
     },
     "execution_count": 26,
     "metadata": {},
     "output_type": "execute_result"
    }
   ],
   "source": [
    "#参数魔法\n",
    "#修改参数，在函数内部给参数赋值对外部没有任何影响\n",
    "def try_to_change(n):\n",
    "    n = 'Mr. Gumby'\n",
    "    return n\n",
    "\n",
    "name = 'Mrs. Entity'\n",
    "try_to_change(name)\n",
    "name"
   ]
  },
  {
   "cell_type": "code",
   "execution_count": 27,
   "id": "casual-syria",
   "metadata": {},
   "outputs": [
    {
     "data": {
      "text/plain": [
       "['Mr. Gumby', 'Mrs. Thing']"
      ]
     },
     "execution_count": 27,
     "metadata": {},
     "output_type": "execute_result"
    }
   ],
   "source": [
    "#字符串（以及数和元组）是不可变的（ immutable）\n",
    "def change(n):\n",
    "    n[0] = 'Mr. Gumby'\n",
    "names = ['Mrs. Entity', 'Mrs. Thing']\n",
    "change(names)\n",
    "names"
   ]
  },
  {
   "cell_type": "code",
   "execution_count": 28,
   "id": "unusual-colors",
   "metadata": {},
   "outputs": [
    {
     "data": {
      "text/plain": [
       "['Mrs. Entity', 'Mrs. Thing']"
      ]
     },
     "execution_count": 28,
     "metadata": {},
     "output_type": "execute_result"
    }
   ],
   "source": [
    "names = ['Mrs. Entity', 'Mrs. Thing']\n",
    "change(names[:])#用切片复制传递副本\n",
    "names"
   ]
  },
  {
   "cell_type": "code",
   "execution_count": 29,
   "id": "later-adventure",
   "metadata": {},
   "outputs": [
    {
     "name": "stdout",
     "output_type": "stream",
     "text": [
      "{'first': {'Magnus': ['Magnus Lie Hetland']}, 'middle': {'Lie': ['Magnus Lie Hetland']}, 'last': {'Hetland': ['Magnus Lie Hetland']}}\n"
     ]
    }
   ],
   "source": [
    "#编写一个程序，让它存储姓名，并让用户能够根据名字、中间名或姓找人\n",
    "#数据结构\n",
    "storage = {}\n",
    "storage['first'] = {}\n",
    "storage['middle'] = {}\n",
    "storage['last'] = {}\n",
    "\n",
    "me = 'Magnus Lie Hetland'\n",
    "storage['first']['Magnus'] = [me]\n",
    "storage['middle']['Lie'] = [me]\n",
    "storage['last']['Hetland'] = [me]\n",
    "print(storage)"
   ]
  },
  {
   "cell_type": "code",
   "execution_count": 30,
   "id": "theoretical-venue",
   "metadata": {},
   "outputs": [
    {
     "data": {
      "text/plain": [
       "['Magnus Lie Hetland']"
      ]
     },
     "execution_count": 30,
     "metadata": {},
     "output_type": "execute_result"
    }
   ],
   "source": [
    "storage['middle']['Lie']"
   ]
  },
  {
   "cell_type": "code",
   "execution_count": 31,
   "id": "affecting-patient",
   "metadata": {},
   "outputs": [
    {
     "data": {
      "text/plain": [
       "['Anne Lie Hetland']"
      ]
     },
     "execution_count": 31,
     "metadata": {},
     "output_type": "execute_result"
    }
   ],
   "source": [
    "my_sister = 'Anne Lie Hetland'\n",
    "storage['first'].setdefault('Anne', []).append(my_sister)\n",
    "storage['middle'].setdefault('Lie', []).append(my_sister)\n",
    "storage['last'].setdefault('Hetland', []).append(my_sister)\n",
    "storage['first']['Anne']"
   ]
  },
  {
   "cell_type": "code",
   "execution_count": 32,
   "id": "threaded-poetry",
   "metadata": {},
   "outputs": [
    {
     "data": {
      "text/plain": [
       "{'first': {'Magnus': ['Magnus Lie Hetland'], 'Anne': ['Anne Lie Hetland']},\n",
       " 'middle': {'Lie': ['Magnus Lie Hetland', 'Anne Lie Hetland']},\n",
       " 'last': {'Hetland': ['Magnus Lie Hetland', 'Anne Lie Hetland']}}"
      ]
     },
     "execution_count": 32,
     "metadata": {},
     "output_type": "execute_result"
    }
   ],
   "source": [
    "storage"
   ]
  },
  {
   "cell_type": "code",
   "execution_count": 33,
   "id": "hindu-platform",
   "metadata": {},
   "outputs": [],
   "source": [
    "#抽象的关键在于隐藏所有的更新细节，为此可使用函数\n",
    "def init(data):\n",
    "    data['first'] = {}\n",
    "    data['middle'] = {}\n",
    "    data['last'] = {}"
   ]
  },
  {
   "cell_type": "code",
   "execution_count": 35,
   "id": "painted-alpha",
   "metadata": {},
   "outputs": [
    {
     "data": {
      "text/plain": [
       "{'first': {}, 'middle': {}, 'last': {}}"
      ]
     },
     "execution_count": 35,
     "metadata": {},
     "output_type": "execute_result"
    }
   ],
   "source": [
    "storage = {}\n",
    "init(storage)\n",
    "storage"
   ]
  },
  {
   "cell_type": "code",
   "execution_count": 37,
   "id": "enormous-purple",
   "metadata": {},
   "outputs": [],
   "source": [
    "#在字典中，键的排列顺序是不固定的，因此打印字典时，每次的顺序都可能不同\n",
    "#如果你在解释器中打印出来的顺序不同，请不用担心\n",
    "#先来编写获取人员姓名的函数，再接着编写存储人员姓名的函数\n",
    "def lookup(data, label, name):\n",
    "    return data[label].get(name)"
   ]
  },
  {
   "cell_type": "code",
   "execution_count": 38,
   "id": "matched-marsh",
   "metadata": {},
   "outputs": [
    {
     "data": {
      "text/plain": [
       "['Magnus Lie Hetland', 'Anne Lie Hetland']"
      ]
     },
     "execution_count": 38,
     "metadata": {},
     "output_type": "execute_result"
    }
   ],
   "source": [
    "storage = {}\n",
    "storage['first'] = {}\n",
    "storage['middle'] = {}\n",
    "storage['last'] = {}\n",
    "\n",
    "me = 'Magnus Lie Hetland'\n",
    "storage['first']['Magnus'] = [me]\n",
    "storage['middle']['Lie'] = [me]\n",
    "storage['last']['Hetland'] = [me]\n",
    "\n",
    "my_sister = 'Anne Lie Hetland'\n",
    "storage['first'].setdefault('Anne', []).append(my_sister)\n",
    "storage['middle'].setdefault('Lie', []).append(my_sister)\n",
    "storage['last'].setdefault('Hetland', []).append(my_sister)\n",
    "storage['first']['Anne']\n",
    "\n",
    "lookup(storage, 'middle', 'Lie')"
   ]
  },
  {
   "cell_type": "code",
   "execution_count": 44,
   "id": "neural-breed",
   "metadata": {},
   "outputs": [],
   "source": [
    "storage = {}\n",
    "init(storage)\n",
    "storage\n",
    "#编写将人员存储到数据结构中的函数\n",
    "def store(data, full_name):    #将参数data和full_name提供到函数\n",
    "    names = full_name.split()  #拆分full_name以创建一个名为names的列表\n",
    "    if len(names) == 2:        #如果names的长度为2(只有名字和姓)，就将中间名设置为空字符串\n",
    "        names.insert(1, '')     \n",
    "    labels = 'first', 'middle', 'last'  #将first、middle、last存储在元组labels中（或者列表)\n",
    "    \n",
    "    for label, name in zip(labels, names):  #使用函数zip将标签和对应的名字合并\n",
    "        people = lookup(data, label, name)  #获取属于该标签和名字的列表\n",
    "        if people:                          #如果找到\n",
    "            people.append(full_name)        #将full_name附加到该列表末尾\n",
    "        else:                               #如果没找到\n",
    "            data[label][name] = [full_name] #插入一个新列表"
   ]
  },
  {
   "cell_type": "code",
   "execution_count": 45,
   "id": "simple-robin",
   "metadata": {},
   "outputs": [
    {
     "data": {
      "text/plain": [
       "['Magnus Lie Hetland']"
      ]
     },
     "execution_count": 45,
     "metadata": {},
     "output_type": "execute_result"
    }
   ],
   "source": [
    "MyNames = {}\n",
    "init(MyNames)\n",
    "store(MyNames, 'Magnus Lie Hetland')\n",
    "lookup(MyNames, 'middle', 'Lie')"
   ]
  },
  {
   "cell_type": "code",
   "execution_count": 46,
   "id": "comfortable-intersection",
   "metadata": {},
   "outputs": [
    {
     "data": {
      "text/plain": [
       "{'first': {'Magnus': ['Magnus Lie Hetland']},\n",
       " 'middle': {'Lie': ['Magnus Lie Hetland']},\n",
       " 'last': {'Hetland': ['Magnus Lie Hetland']}}"
      ]
     },
     "execution_count": 46,
     "metadata": {},
     "output_type": "execute_result"
    }
   ],
   "source": [
    "MyNames"
   ]
  },
  {
   "cell_type": "code",
   "execution_count": 47,
   "id": "competitive-shield",
   "metadata": {},
   "outputs": [
    {
     "data": {
      "text/plain": [
       "{'first': {'Magnus': ['Magnus Lie Hetland'],\n",
       "  'Robin': ['Robin Hood', 'Robin Locksley']},\n",
       " 'middle': {'Lie': ['Magnus Lie Hetland'],\n",
       "  '': ['Robin Hood', 'Robin Locksley']},\n",
       " 'last': {'Hetland': ['Magnus Lie Hetland'],\n",
       "  'Hood': ['Robin Hood'],\n",
       "  'Locksley': ['Robin Locksley']}}"
      ]
     },
     "execution_count": 47,
     "metadata": {},
     "output_type": "execute_result"
    }
   ],
   "source": [
    "store(MyNames, 'Robin Hood')\n",
    "store(MyNames, 'Robin Locksley')\n",
    "MyNames"
   ]
  },
  {
   "cell_type": "code",
   "execution_count": 48,
   "id": "spatial-daniel",
   "metadata": {},
   "outputs": [
    {
     "data": {
      "text/plain": [
       "['Robin Hood', 'Robin Locksley']"
      ]
     },
     "execution_count": 48,
     "metadata": {},
     "output_type": "execute_result"
    }
   ],
   "source": [
    "lookup(MyNames, 'first', 'Robin')"
   ]
  },
  {
   "cell_type": "code",
   "execution_count": 49,
   "id": "beneficial-marine",
   "metadata": {},
   "outputs": [
    {
     "data": {
      "text/plain": [
       "['Robin Hood', 'Robin Locksley', 'Mr. Gumby']"
      ]
     },
     "execution_count": 49,
     "metadata": {},
     "output_type": "execute_result"
    }
   ],
   "source": [
    "store(MyNames, 'Mr. Gumby')\n",
    "lookup(MyNames, 'middle', '')"
   ]
  },
  {
   "cell_type": "code",
   "execution_count": 50,
   "id": "funky-factory",
   "metadata": {},
   "outputs": [
    {
     "data": {
      "text/plain": [
       "11"
      ]
     },
     "execution_count": 50,
     "metadata": {},
     "output_type": "execute_result"
    }
   ],
   "source": [
    "#如果参数是不可变的:不好意思，没办法。\n",
    "#在这种情况下，应从函数返回所有需要的值（如果需要返回多个值，就以元组的方式返回它们）。\n",
    "def inc(x): return x + 1\n",
    "\n",
    "foo = 10\n",
    "foo = inc(foo)\n",
    "foo"
   ]
  },
  {
   "cell_type": "code",
   "execution_count": 51,
   "id": "turkish-things",
   "metadata": {},
   "outputs": [
    {
     "data": {
      "text/plain": [
       "[11]"
      ]
     },
     "execution_count": 51,
     "metadata": {},
     "output_type": "execute_result"
    }
   ],
   "source": [
    "#如果一定要修改参数，可玩点花样，比如将值放在列表中\n",
    "def inc(x): x[0] = x[0] + 1\n",
    "\n",
    "foo = [10]\n",
    "inc(foo)\n",
    "foo"
   ]
  },
  {
   "cell_type": "code",
   "execution_count": 52,
   "id": "black-cause",
   "metadata": {},
   "outputs": [],
   "source": [
    "#关键字参数和默认值\n",
    "def hello_1(greeting, name):\n",
    "    print('{}, {}!'.format(greeting,name))\n",
    "    \n",
    "def hello_2(name, greeting):\n",
    "    print('{}, {}!'.format(name, greeting))"
   ]
  },
  {
   "cell_type": "code",
   "execution_count": 53,
   "id": "bearing-allowance",
   "metadata": {},
   "outputs": [
    {
     "name": "stdout",
     "output_type": "stream",
     "text": [
      "hello, world!\n"
     ]
    }
   ],
   "source": [
    "hello_1('hello', 'world')"
   ]
  },
  {
   "cell_type": "code",
   "execution_count": 54,
   "id": "quantitative-surge",
   "metadata": {},
   "outputs": [
    {
     "name": "stdout",
     "output_type": "stream",
     "text": [
      "HELLO, WORLD!\n"
     ]
    }
   ],
   "source": [
    "hello_2('HELLO', 'WORLD')"
   ]
  },
  {
   "cell_type": "code",
   "execution_count": 55,
   "id": "packed-brook",
   "metadata": {},
   "outputs": [
    {
     "name": "stdout",
     "output_type": "stream",
     "text": [
      "hello, world!\n"
     ]
    }
   ],
   "source": [
    "hello_1(name='world',greeting='hello')"
   ]
  },
  {
   "cell_type": "code",
   "execution_count": 56,
   "id": "amazing-direction",
   "metadata": {},
   "outputs": [
    {
     "name": "stdout",
     "output_type": "stream",
     "text": [
      "world, hello!\n"
     ]
    }
   ],
   "source": [
    "hello_2(greeting='hello', name='world')"
   ]
  },
  {
   "cell_type": "code",
   "execution_count": 57,
   "id": "unlimited-chemistry",
   "metadata": {},
   "outputs": [],
   "source": [
    "def hello_3(greeting='hello', name='world'):\n",
    "    print('{}, {}!'.format(greeting, name))"
   ]
  },
  {
   "cell_type": "code",
   "execution_count": 58,
   "id": "palestinian-canada",
   "metadata": {},
   "outputs": [
    {
     "name": "stdout",
     "output_type": "stream",
     "text": [
      "hello, world!\n"
     ]
    }
   ],
   "source": [
    "hello_3()"
   ]
  },
  {
   "cell_type": "code",
   "execution_count": 59,
   "id": "foster-guarantee",
   "metadata": {},
   "outputs": [
    {
     "name": "stdout",
     "output_type": "stream",
     "text": [
      "Greetings, world!\n"
     ]
    }
   ],
   "source": [
    "hello_3('Greetings')"
   ]
  },
  {
   "cell_type": "code",
   "execution_count": 60,
   "id": "corrected-speech",
   "metadata": {},
   "outputs": [
    {
     "name": "stdout",
     "output_type": "stream",
     "text": [
      "Greetings, universe!\n"
     ]
    }
   ],
   "source": [
    "hello_3('Greetings', 'universe')"
   ]
  },
  {
   "cell_type": "code",
   "execution_count": 61,
   "id": "beautiful-polyester",
   "metadata": {},
   "outputs": [
    {
     "name": "stdout",
     "output_type": "stream",
     "text": [
      "Greetings, universe!\n"
     ]
    }
   ],
   "source": [
    "hello_3(name='universe', greeting='Greetings')"
   ]
  },
  {
   "cell_type": "code",
   "execution_count": 62,
   "id": "sunrise-arabic",
   "metadata": {},
   "outputs": [
    {
     "name": "stdout",
     "output_type": "stream",
     "text": [
      "hello, gumby!\n"
     ]
    }
   ],
   "source": [
    "hello_3(name='gumby')"
   ]
  },
  {
   "cell_type": "code",
   "execution_count": 63,
   "id": "becoming-syracuse",
   "metadata": {},
   "outputs": [],
   "source": [
    "def hello_4(name, greeting='Hello', punctuation='!'):\n",
    "    print('{}, {}{}'.format(greeting, name, punctuation))"
   ]
  },
  {
   "cell_type": "code",
   "execution_count": 64,
   "id": "meaning-graphic",
   "metadata": {},
   "outputs": [
    {
     "name": "stdout",
     "output_type": "stream",
     "text": [
      "Hello, Mars!\n"
     ]
    }
   ],
   "source": [
    "hello_4('Mars')"
   ]
  },
  {
   "cell_type": "code",
   "execution_count": 65,
   "id": "civil-stereo",
   "metadata": {},
   "outputs": [
    {
     "name": "stdout",
     "output_type": "stream",
     "text": [
      "Howdy, Mars!\n"
     ]
    }
   ],
   "source": [
    "hello_4('Mars', 'Howdy')"
   ]
  },
  {
   "cell_type": "code",
   "execution_count": 66,
   "id": "dying-wednesday",
   "metadata": {},
   "outputs": [
    {
     "name": "stdout",
     "output_type": "stream",
     "text": [
      "Howdy, Mars...\n"
     ]
    }
   ],
   "source": [
    "hello_4('Mars', 'Howdy', '...')"
   ]
  },
  {
   "cell_type": "code",
   "execution_count": 67,
   "id": "equivalent-region",
   "metadata": {},
   "outputs": [
    {
     "name": "stdout",
     "output_type": "stream",
     "text": [
      "Hello, Mars.\n"
     ]
    }
   ],
   "source": [
    "hello_4('Mars', punctuation='.')"
   ]
  },
  {
   "cell_type": "code",
   "execution_count": 68,
   "id": "short-husband",
   "metadata": {},
   "outputs": [
    {
     "name": "stdout",
     "output_type": "stream",
     "text": [
      "Top of the morning to ya, Mars!\n"
     ]
    }
   ],
   "source": [
    "hello_4('Mars', greeting='Top of the morning to ya')"
   ]
  },
  {
   "cell_type": "code",
   "execution_count": 69,
   "id": "final-chick",
   "metadata": {},
   "outputs": [
    {
     "ename": "TypeError",
     "evalue": "hello_4() missing 1 required positional argument: 'name'",
     "output_type": "error",
     "traceback": [
      "\u001b[1;31m---------------------------------------------------------------------------\u001b[0m",
      "\u001b[1;31mTypeError\u001b[0m                                 Traceback (most recent call last)",
      "\u001b[1;32m<ipython-input-69-8ee2b2468f0f>\u001b[0m in \u001b[0;36m<module>\u001b[1;34m\u001b[0m\n\u001b[1;32m----> 1\u001b[1;33m \u001b[0mhello_4\u001b[0m\u001b[1;33m(\u001b[0m\u001b[1;33m)\u001b[0m\u001b[1;33m\u001b[0m\u001b[0m\n\u001b[0m",
      "\u001b[1;31mTypeError\u001b[0m: hello_4() missing 1 required positional argument: 'name'"
     ]
    }
   ],
   "source": [
    " hello_4()"
   ]
  },
  {
   "cell_type": "code",
   "execution_count": 70,
   "id": "transparent-conservation",
   "metadata": {},
   "outputs": [],
   "source": [
    "#收集参数\n",
    "#如果能够像下面这样同时存储多个姓名就好了\n",
    "def print_params(*params):\n",
    "    print(params)"
   ]
  },
  {
   "cell_type": "code",
   "execution_count": 71,
   "id": "medical-shield",
   "metadata": {},
   "outputs": [
    {
     "name": "stdout",
     "output_type": "stream",
     "text": [
      "('Testing',)\n"
     ]
    }
   ],
   "source": [
    "print_params('Testing')"
   ]
  },
  {
   "cell_type": "code",
   "execution_count": 72,
   "id": "entitled-istanbul",
   "metadata": {},
   "outputs": [
    {
     "name": "stdout",
     "output_type": "stream",
     "text": [
      "(1, 2, 3)\n"
     ]
    }
   ],
   "source": [
    "print_params(1, 2, 3)"
   ]
  },
  {
   "cell_type": "code",
   "execution_count": 73,
   "id": "comprehensive-attendance",
   "metadata": {},
   "outputs": [],
   "source": [
    "def print_params_2(title, *params):\n",
    "    print(title)\n",
    "    print(params)"
   ]
  },
  {
   "cell_type": "code",
   "execution_count": 74,
   "id": "friendly-restaurant",
   "metadata": {},
   "outputs": [
    {
     "name": "stdout",
     "output_type": "stream",
     "text": [
      "Params:\n",
      "(1, 2, 3)\n"
     ]
    }
   ],
   "source": [
    "print_params_2('Params:', 1, 2, 3)"
   ]
  },
  {
   "cell_type": "code",
   "execution_count": 75,
   "id": "analyzed-month",
   "metadata": {},
   "outputs": [
    {
     "name": "stdout",
     "output_type": "stream",
     "text": [
      "Nothing:\n",
      "()\n"
     ]
    }
   ],
   "source": [
    "print_params_2('Nothing:')"
   ]
  },
  {
   "cell_type": "code",
   "execution_count": 76,
   "id": "neither-yeast",
   "metadata": {},
   "outputs": [],
   "source": [
    "def in_the_middle(x, *y, z):\n",
    "    print(x, y, z)"
   ]
  },
  {
   "cell_type": "code",
   "execution_count": 77,
   "id": "hollywood-algeria",
   "metadata": {},
   "outputs": [
    {
     "name": "stdout",
     "output_type": "stream",
     "text": [
      "1 (2, 3, 4, 5) 7\n"
     ]
    }
   ],
   "source": [
    "in_the_middle(1, 2, 3, 4, 5, z=7)"
   ]
  },
  {
   "cell_type": "code",
   "execution_count": 78,
   "id": "studied-house",
   "metadata": {},
   "outputs": [
    {
     "ename": "TypeError",
     "evalue": "in_the_middle() missing 1 required keyword-only argument: 'z'",
     "output_type": "error",
     "traceback": [
      "\u001b[1;31m---------------------------------------------------------------------------\u001b[0m",
      "\u001b[1;31mTypeError\u001b[0m                                 Traceback (most recent call last)",
      "\u001b[1;32m<ipython-input-78-856c00be8eb8>\u001b[0m in \u001b[0;36m<module>\u001b[1;34m\u001b[0m\n\u001b[1;32m----> 1\u001b[1;33m \u001b[0min_the_middle\u001b[0m\u001b[1;33m(\u001b[0m\u001b[1;36m1\u001b[0m\u001b[1;33m,\u001b[0m \u001b[1;36m2\u001b[0m\u001b[1;33m,\u001b[0m \u001b[1;36m3\u001b[0m\u001b[1;33m,\u001b[0m \u001b[1;36m4\u001b[0m\u001b[1;33m,\u001b[0m \u001b[1;36m5\u001b[0m\u001b[1;33m,\u001b[0m \u001b[1;36m7\u001b[0m\u001b[1;33m)\u001b[0m\u001b[1;33m\u001b[0m\u001b[0m\n\u001b[0m",
      "\u001b[1;31mTypeError\u001b[0m: in_the_middle() missing 1 required keyword-only argument: 'z'"
     ]
    }
   ],
   "source": [
    "in_the_middle(1, 2, 3, 4, 5, 7)"
   ]
  },
  {
   "cell_type": "code",
   "execution_count": 79,
   "id": "literary-introduction",
   "metadata": {},
   "outputs": [
    {
     "ename": "TypeError",
     "evalue": "print_params_2() got an unexpected keyword argument 'something'",
     "output_type": "error",
     "traceback": [
      "\u001b[1;31m---------------------------------------------------------------------------\u001b[0m",
      "\u001b[1;31mTypeError\u001b[0m                                 Traceback (most recent call last)",
      "\u001b[1;32m<ipython-input-79-6041b74d2bef>\u001b[0m in \u001b[0;36m<module>\u001b[1;34m\u001b[0m\n\u001b[0;32m      1\u001b[0m \u001b[1;31m#星号不会收集关键字参数\u001b[0m\u001b[1;33m\u001b[0m\u001b[1;33m\u001b[0m\u001b[0m\n\u001b[1;32m----> 2\u001b[1;33m \u001b[0mprint_params_2\u001b[0m\u001b[1;33m(\u001b[0m\u001b[1;34m'Hmm...'\u001b[0m\u001b[1;33m,\u001b[0m \u001b[0msomething\u001b[0m\u001b[1;33m=\u001b[0m\u001b[1;36m42\u001b[0m\u001b[1;33m)\u001b[0m\u001b[1;33m\u001b[0m\u001b[0m\n\u001b[0m",
      "\u001b[1;31mTypeError\u001b[0m: print_params_2() got an unexpected keyword argument 'something'"
     ]
    }
   ],
   "source": [
    "#星号不会收集关键字参数\n",
    "print_params_2('Hmm...', something=42)"
   ]
  },
  {
   "cell_type": "code",
   "execution_count": 80,
   "id": "derived-traffic",
   "metadata": {},
   "outputs": [
    {
     "ename": "TypeError",
     "evalue": "print_params_2() got multiple values for argument 'title'",
     "output_type": "error",
     "traceback": [
      "\u001b[1;31m---------------------------------------------------------------------------\u001b[0m",
      "\u001b[1;31mTypeError\u001b[0m                                 Traceback (most recent call last)",
      "\u001b[1;32m<ipython-input-80-3c6b53567ba2>\u001b[0m in \u001b[0;36m<module>\u001b[1;34m\u001b[0m\n\u001b[1;32m----> 1\u001b[1;33m \u001b[0mprint_params_2\u001b[0m\u001b[1;33m(\u001b[0m\u001b[1;34m'Hmm...'\u001b[0m\u001b[1;33m,\u001b[0m \u001b[0mtitle\u001b[0m\u001b[1;33m=\u001b[0m\u001b[1;36m42\u001b[0m\u001b[1;33m)\u001b[0m\u001b[1;33m\u001b[0m\u001b[0m\n\u001b[0m",
      "\u001b[1;31mTypeError\u001b[0m: print_params_2() got multiple values for argument 'title'"
     ]
    }
   ],
   "source": [
    "print_params_2('Hmm...', title=42)"
   ]
  },
  {
   "cell_type": "code",
   "execution_count": 81,
   "id": "adapted-athens",
   "metadata": {},
   "outputs": [],
   "source": [
    "#要收集关键字参数，可使用两个星号!!!!\n",
    "def print_params_3(**params):\n",
    "    print(params)"
   ]
  },
  {
   "cell_type": "code",
   "execution_count": 82,
   "id": "diverse-option",
   "metadata": {},
   "outputs": [
    {
     "name": "stdout",
     "output_type": "stream",
     "text": [
      "{'x': 1, 'y': 2, 'z': 3}\n"
     ]
    }
   ],
   "source": [
    "#这样得到的是一个字典而不是元组\n",
    "print_params_3(x=1, y=2, z=3)"
   ]
  },
  {
   "cell_type": "code",
   "execution_count": 83,
   "id": "practical-addiction",
   "metadata": {},
   "outputs": [],
   "source": [
    "def print_params_4(x, y, z=3, *pospar, **keypar):\n",
    "    print(x, y, z)\n",
    "    print(pospar)\n",
    "    print(keypar)"
   ]
  },
  {
   "cell_type": "code",
   "execution_count": 84,
   "id": "bound-acrylic",
   "metadata": {},
   "outputs": [
    {
     "name": "stdout",
     "output_type": "stream",
     "text": [
      "1 2 3\n",
      "(5, 6, 7)\n",
      "{'foo': 1, 'bar': 2}\n"
     ]
    }
   ],
   "source": [
    "print_params_4(1, 2, 3, 5, 6, 7, foo=1, bar=2)"
   ]
  },
  {
   "cell_type": "code",
   "execution_count": 85,
   "id": "prerequisite-destiny",
   "metadata": {},
   "outputs": [
    {
     "name": "stdout",
     "output_type": "stream",
     "text": [
      "1 2 3\n",
      "()\n",
      "{}\n"
     ]
    }
   ],
   "source": [
    "print_params_4(1, 2)"
   ]
  },
  {
   "cell_type": "code",
   "execution_count": 86,
   "id": "absolute-people",
   "metadata": {},
   "outputs": [],
   "source": [
    "def store(data, *full_names): #将参数data和*full_name（可有多个）提供到函数\n",
    "    for full_name in full_names: #从多个full_name中遍历出来\n",
    "        names = full_name.split() #拆分full_name以创建一个名为names的列表\n",
    "        if len(names) == 2: #如果names的长度为2(只有名字和姓)，就将中间名设置为空字符串\n",
    "            names.insert(1, '')\n",
    "        labels = 'first', 'middle', 'last'#将first、middle、last存储在元组labels中（或者列表）\n",
    "        for label, name in zip(labels, names):#使用函数zip将标签和对应的名字合并，并对应的label和name遍历出来\n",
    "            people = lookup(data, label, name)#获取属于该标签和名字的列表\n",
    "            if people:#如果找到\n",
    "                people.append(full_name)#将full_name附加到该列表末尾\n",
    "            else:#如果没找到\n",
    "                data[label][name] = [full_name]#插入一个新列表"
   ]
  },
  {
   "cell_type": "code",
   "execution_count": 94,
   "id": "unlike-heating",
   "metadata": {},
   "outputs": [
    {
     "name": "stdout",
     "output_type": "stream",
     "text": [
      "{'first': {}, 'middle': {}, 'last': {}}\n"
     ]
    }
   ],
   "source": [
    "d = {}\n",
    "init(d)\n",
    "print(d)\n",
    "store(d, 'Han Solo')"
   ]
  },
  {
   "cell_type": "code",
   "execution_count": 95,
   "id": "infrared-click",
   "metadata": {},
   "outputs": [
    {
     "data": {
      "text/plain": [
       "{'first': {'Han': ['Han Solo']},\n",
       " 'middle': {'': ['Han Solo']},\n",
       " 'last': {'Solo': ['Han Solo']}}"
      ]
     },
     "execution_count": 95,
     "metadata": {},
     "output_type": "execute_result"
    }
   ],
   "source": [
    "d"
   ]
  },
  {
   "cell_type": "code",
   "execution_count": 96,
   "id": "worthy-insertion",
   "metadata": {},
   "outputs": [
    {
     "data": {
      "text/plain": [
       "{'first': {'Han': ['Han Solo'],\n",
       "  'Luke': ['Luke Skywalker'],\n",
       "  'Anakin': ['Anakin Skywalker']},\n",
       " 'middle': {'': ['Han Solo', 'Luke Skywalker', 'Anakin Skywalker']},\n",
       " 'last': {'Solo': ['Han Solo'],\n",
       "  'Skywalker': ['Luke Skywalker', 'Anakin Skywalker']}}"
      ]
     },
     "execution_count": 96,
     "metadata": {},
     "output_type": "execute_result"
    }
   ],
   "source": [
    "store(d, 'Luke Skywalker', 'Anakin Skywalker')\n",
    "lookup(d, 'last', 'Skywalker')\n",
    "d"
   ]
  },
  {
   "cell_type": "code",
   "execution_count": 97,
   "id": "tight-newport",
   "metadata": {},
   "outputs": [],
   "source": [
    "#分配参数，收集参数相反的操作\n",
    "def add(x, y):\n",
    "    return x + y"
   ]
  },
  {
   "cell_type": "code",
   "execution_count": 98,
   "id": "heard-violation",
   "metadata": {},
   "outputs": [
    {
     "data": {
      "text/plain": [
       "3"
      ]
     },
     "execution_count": 98,
     "metadata": {},
     "output_type": "execute_result"
    }
   ],
   "source": [
    "#有一个元组，其中包含两个你要相加的数\n",
    "params = (1, 2)\n",
    "#在调用函数（而不是定义函数）时使用运算符*实现的\n",
    "add(*params)"
   ]
  },
  {
   "cell_type": "code",
   "execution_count": 100,
   "id": "professional-classics",
   "metadata": {},
   "outputs": [
    {
     "name": "stdout",
     "output_type": "stream",
     "text": [
      "well met, sir robin!\n"
     ]
    }
   ],
   "source": [
    "#参数分配也可用于参数列表一部分，要求需要分配的部分位于参数列表末尾\n",
    "#此时需要用**可以分配给关键字参数，因为**传过去的就是带着键（关键字）的元组\n",
    "params = {'name': 'sir robin', 'greeting': 'well met'}\n",
    "hello_3(**params)"
   ]
  },
  {
   "cell_type": "code",
   "execution_count": 104,
   "id": "necessary-hampshire",
   "metadata": {},
   "outputs": [],
   "source": [
    "#如果在定义和调用函数时都使用*或**，将只传递元组或字典\n",
    "#一般都不这么使用\n",
    "def with_stars(**kwds):\n",
    "    print(kwds)\n",
    "    print(kwds['name'], 'is', kwds['age'], 'years old')\n",
    "\n",
    "def without_stars(kwds):\n",
    "    print(kwds)\n",
    "    print(kwds['name'], 'is', kwds['age'], 'years old')"
   ]
  },
  {
   "cell_type": "code",
   "execution_count": 105,
   "id": "charitable-huntington",
   "metadata": {},
   "outputs": [
    {
     "name": "stdout",
     "output_type": "stream",
     "text": [
      "{'name': 'Mr. Gumby', 'age': 42}\n",
      "Mr. Gumby is 42 years old\n"
     ]
    }
   ],
   "source": [
    "args = {'name': 'Mr. Gumby', 'age': 42}\n",
    "with_stars(**args)"
   ]
  },
  {
   "cell_type": "code",
   "execution_count": 106,
   "id": "certified-polymer",
   "metadata": {},
   "outputs": [
    {
     "name": "stdout",
     "output_type": "stream",
     "text": [
      "{'name': 'Mr. Gumby', 'age': 42}\n",
      "Mr. Gumby is 42 years old\n"
     ]
    }
   ],
   "source": [
    "without_stars(args)"
   ]
  },
  {
   "cell_type": "code",
   "execution_count": 115,
   "id": "broad-cliff",
   "metadata": {},
   "outputs": [
    {
     "name": "stdout",
     "output_type": "stream",
     "text": [
      "Calling foo!\n",
      "(1, 2, 3) {'n': 4, 'm': 5}\n",
      "1 2 3 5 4\n"
     ]
    }
   ],
   "source": [
    "#只有在定义函数（允许可变数量的参数） 或调用函数时（拆分字典或序列）使用，星号才能发挥作用\n",
    "def foo(x, y, z, m=0, n=0):\n",
    "    print(x, y, z, m, n)\n",
    "def call_foo(*args, **kwds):\n",
    "    print(\"Calling foo!\")\n",
    "    print(args,kwds)\n",
    "    foo(*args, **kwds)\n",
    "    \n",
    "parameters1 = (1,2,3)\n",
    "parameters2 = {'n':4,'m':5}\n",
    "\n",
    "call_foo(*parameters1,**parameters2)"
   ]
  },
  {
   "cell_type": "code",
   "execution_count": 133,
   "id": "experienced-nevada",
   "metadata": {},
   "outputs": [],
   "source": [
    "#练习使用参数\n",
    "def story(**kwds):\n",
    "    return 'Once upon a time, there was a ' \\\n",
    "        '{job} called {name}.'.format_map(kwds)\n",
    "\n",
    "def power(x, y, *others):\n",
    "    if others:\n",
    "        print('Received redundant parameters:', others)\n",
    "    return pow(x, y)\n",
    "\n",
    "def interval(start, stop=None, step=1):\n",
    "    'Imitates range() for step > 0'\n",
    "    if stop is None: # 如果没有给参数stop指定值，\n",
    "        start, stop = 0, start # 就调整参数start和stop的值（交换位置）\n",
    "    result = []\n",
    "    i = start # 从start开始往上数\n",
    "    while i < stop: # 数到stop位置\n",
    "        result.append(i) # 将当前数的数附加到result末尾\n",
    "        i += step # 增加到当前数和step（ > 0）之和\n",
    "    return result"
   ]
  },
  {
   "cell_type": "code",
   "execution_count": 117,
   "id": "willing-independence",
   "metadata": {},
   "outputs": [
    {
     "name": "stdout",
     "output_type": "stream",
     "text": [
      "Once upon a time, there was a king called Gumby.\n"
     ]
    }
   ],
   "source": [
    "print(story(job='king', name='Gumby'))"
   ]
  },
  {
   "cell_type": "code",
   "execution_count": 118,
   "id": "resistant-colleague",
   "metadata": {},
   "outputs": [
    {
     "name": "stdout",
     "output_type": "stream",
     "text": [
      "Once upon a time, there was a brave knight called Sir Robin.\n"
     ]
    }
   ],
   "source": [
    "print(story(name='Sir Robin', job='brave knight'))"
   ]
  },
  {
   "cell_type": "code",
   "execution_count": 119,
   "id": "lucky-massachusetts",
   "metadata": {},
   "outputs": [
    {
     "name": "stdout",
     "output_type": "stream",
     "text": [
      "Once upon a time, there was a language called Python.\n"
     ]
    }
   ],
   "source": [
    "params = {'job': 'language', 'name': 'Python'}\n",
    "print(story(**params))"
   ]
  },
  {
   "cell_type": "code",
   "execution_count": 120,
   "id": "magnetic-involvement",
   "metadata": {},
   "outputs": [
    {
     "name": "stdout",
     "output_type": "stream",
     "text": [
      "Once upon a time, there was a stroke of genius called Python.\n"
     ]
    }
   ],
   "source": [
    "del params['job']\n",
    "print(story(job='stroke of genius', **params))"
   ]
  },
  {
   "cell_type": "code",
   "execution_count": 121,
   "id": "extreme-adobe",
   "metadata": {},
   "outputs": [
    {
     "data": {
      "text/plain": [
       "8"
      ]
     },
     "execution_count": 121,
     "metadata": {},
     "output_type": "execute_result"
    }
   ],
   "source": [
    "power(2, 3)"
   ]
  },
  {
   "cell_type": "code",
   "execution_count": 122,
   "id": "focal-guess",
   "metadata": {},
   "outputs": [
    {
     "data": {
      "text/plain": [
       "9"
      ]
     },
     "execution_count": 122,
     "metadata": {},
     "output_type": "execute_result"
    }
   ],
   "source": [
    "power(3, 2)"
   ]
  },
  {
   "cell_type": "code",
   "execution_count": 123,
   "id": "victorian-figure",
   "metadata": {},
   "outputs": [
    {
     "data": {
      "text/plain": [
       "8"
      ]
     },
     "execution_count": 123,
     "metadata": {},
     "output_type": "execute_result"
    }
   ],
   "source": [
    "power(y=3, x=2)"
   ]
  },
  {
   "cell_type": "code",
   "execution_count": 124,
   "id": "textile-suffering",
   "metadata": {},
   "outputs": [
    {
     "name": "stdout",
     "output_type": "stream",
     "text": [
      "(5, 5)\n"
     ]
    },
    {
     "data": {
      "text/plain": [
       "3125"
      ]
     },
     "execution_count": 124,
     "metadata": {},
     "output_type": "execute_result"
    }
   ],
   "source": [
    "params = (5,) * 2\n",
    "print(params)\n",
    "power(*params)"
   ]
  },
  {
   "cell_type": "code",
   "execution_count": 125,
   "id": "martial-tobacco",
   "metadata": {},
   "outputs": [
    {
     "name": "stdout",
     "output_type": "stream",
     "text": [
      "Received redundant parameters: ('Hello, world',)\n"
     ]
    },
    {
     "data": {
      "text/plain": [
       "27"
      ]
     },
     "execution_count": 125,
     "metadata": {},
     "output_type": "execute_result"
    }
   ],
   "source": [
    "power(3, 3, 'Hello, world')"
   ]
  },
  {
   "cell_type": "code",
   "execution_count": 134,
   "id": "elegant-plate",
   "metadata": {},
   "outputs": [
    {
     "data": {
      "text/plain": [
       "[0, 1, 2, 3, 4, 5, 6, 7, 8, 9]"
      ]
     },
     "execution_count": 134,
     "metadata": {},
     "output_type": "execute_result"
    }
   ],
   "source": [
    "interval(10)"
   ]
  },
  {
   "cell_type": "code",
   "execution_count": 135,
   "id": "listed-rings",
   "metadata": {},
   "outputs": [
    {
     "data": {
      "text/plain": [
       "[1, 2, 3, 4]"
      ]
     },
     "execution_count": 135,
     "metadata": {},
     "output_type": "execute_result"
    }
   ],
   "source": [
    "interval(1, 5)"
   ]
  },
  {
   "cell_type": "code",
   "execution_count": 136,
   "id": "changed-generator",
   "metadata": {},
   "outputs": [
    {
     "data": {
      "text/plain": [
       "[3, 7, 11]"
      ]
     },
     "execution_count": 136,
     "metadata": {},
     "output_type": "execute_result"
    }
   ],
   "source": [
    "interval(3, 12, 4)"
   ]
  },
  {
   "cell_type": "code",
   "execution_count": 137,
   "id": "victorian-casting",
   "metadata": {},
   "outputs": [
    {
     "name": "stdout",
     "output_type": "stream",
     "text": [
      "Received redundant parameters: (5, 6)\n"
     ]
    },
    {
     "data": {
      "text/plain": [
       "81"
      ]
     },
     "execution_count": 137,
     "metadata": {},
     "output_type": "execute_result"
    }
   ],
   "source": [
    "power(*interval(3, 7))"
   ]
  },
  {
   "cell_type": "code",
   "execution_count": 138,
   "id": "joined-reference",
   "metadata": {},
   "outputs": [
    {
     "data": {
      "text/plain": [
       "1"
      ]
     },
     "execution_count": 138,
     "metadata": {},
     "output_type": "execute_result"
    }
   ],
   "source": [
    "#作用域\n",
    "x = 1\n",
    "scope = vars()\n",
    "scope['x']"
   ]
  },
  {
   "cell_type": "code",
   "execution_count": 139,
   "id": "copyrighted-trigger",
   "metadata": {},
   "outputs": [
    {
     "name": "stdout",
     "output_type": "stream",
     "text": [
      "{'__name__': '__main__', '__doc__': 'Automatically created module for IPython interactive environment', '__package__': None, '__loader__': None, '__spec__': None, '__builtin__': <module 'builtins' (built-in)>, '__builtins__': <module 'builtins' (built-in)>, '_ih': ['', '#计算斐波那契数\\nfibs = [0, 1]\\nfor i in range(8):\\n    fibs.append(fibs[-2] + fibs[-1])', 'fibs', '#计算斐波那契数\\nfibs = [0, 1]\\nfor i in range(8):\\n    fibs.append(fibs[-2] + fibs[-1])\\n    print(fibs)', '#计算斐波那契数\\nfibs = [0, 1]\\nprint(fibs)\\nfor i in range(8):\\n    fibs.append(fibs[-2] + fibs[-1])\\n    print(fibs)', \"fibs = [0, 1]\\nnum = int(input('How many Fibonacci numbers do you want? '))\\nfor i in range(num-2):\\n    fibs.append(fibs[-2] + fibs[-1])\\nprint(fibs)\", \"num = input('How many numbers do you want? ')\\nprint(fibs(num))\", '#抽象和结构\\n#这些操作的具体细节，将在其他地方（独立的函数定义）中给出', '#自定义函数，函数执行特定的操作并返回一个值\\n#可以调用它（调用时可能需要提供一些参数——放在圆括号中的内容）\\n#要判断某个对象是否可调用，可使用内置函数callable\\nimport math\\nx = 1\\ny = math.sqrt\\ncallable(x)', 'callable(y)', \"#使用def（表示定义函数）语句\\ndef hello(name):\\n    return 'Hello, ' + name + '!'\", 'hello(world)', \"hello('world')\", \"hello('tygors')\", 'def fibs(num):\\n    for i in range(num-2):\\n        result.append(result[-2] + result[-1])\\n    return result', 'fibs(10)', 'def fibs(num):\\n    result = [0,1]\\n    for i in range(num-2):\\n        result.append(result[-2] + result[-1])\\n    return result', 'fibs(10)', 'fibs(19)', \"#给函数编写文档,除了注释，添加独立的字符串\\n#直接放在def语句后面的引号语句（字符串）,称为文档字符串\\ndef square(x):\\n    'Calculates the square of the number x.'\\n    return x * x\", 'square.__doc__', 'help(square)', \"#其实并不是函数的函数(即使不返回任何值)\\ndef test():\\n    print('This is printed')\\n    return\\n    print('This is not')\", 'x = test()', 'x', 'print(x)', \"#参数魔法\\n#修改参数，在函数内部给参数赋值对外部没有任何影响\\ndef try_to_change(n):\\n    n = 'Mr. Gumby'\\n    return n\\n\\nname = 'Mrs. Entity'\\ntry_to_change(name)\\nname\", \"#字符串（以及数和元组）是不可变的（ immutable）\\ndef change(n):\\n    n[0] = 'Mr. Gumby'\\nnames = ['Mrs. Entity', 'Mrs. Thing']\\nchange(names)\\nnames\", \"names = ['Mrs. Entity', 'Mrs. Thing']\\nchange(names[:])\\nnames\", \"#编写一个程序，让它存储姓名，并让用户能够根据名字、中间名或姓找人\\n#数据结构\\nstorage = {}\\nstorage['first'] = {}\\nstorage['middle'] = {}\\nstorage['last'] = {}\\n\\nme = 'Magnus Lie Hetland'\\nstorage['first']['Magnus'] = [me]\\nstorage['middle']['Lie'] = [me]\\nstorage['last']['Hetland'] = [me]\\nprint(storage)\", \"storage['middle']['Lie']\", \"my_sister = 'Anne Lie Hetland'\\nstorage['first'].setdefault('Anne', []).append(my_sister)\\nstorage['middle'].setdefault('Lie', []).append(my_sister)\\nstorage['last'].setdefault('Hetland', []).append(my_sister)\\nstorage['first']['Anne']\", 'storage', \"#抽象的关键在于隐藏所有的更新细节，为此可使用函数\\ndef init(data):\\n    data['first'] = {}\\n    data['middle'] = {}\\n    data['last'] = {}\", 'storage = {}\\ninit(storage)\\nstorage', 'storage = {}\\ninit(storage)\\nstorage', '#在字典中，键的排列顺序是不固定的，因此打印字典时，每次的顺序都可能不同\\n#如果你在解释器中打印出来的顺序不同，请不用担心\\n#先来编写获取人员姓名的函数，再接着编写存储人员姓名的函数', '#在字典中，键的排列顺序是不固定的，因此打印字典时，每次的顺序都可能不同\\n#如果你在解释器中打印出来的顺序不同，请不用担心\\n#先来编写获取人员姓名的函数，再接着编写存储人员姓名的函数\\ndef lookup(data, label, name):\\n    return data[label].get(name)', \"storage = {}\\nstorage['first'] = {}\\nstorage['middle'] = {}\\nstorage['last'] = {}\\n\\nme = 'Magnus Lie Hetland'\\nstorage['first']['Magnus'] = [me]\\nstorage['middle']['Lie'] = [me]\\nstorage['last']['Hetland'] = [me]\\n\\nmy_sister = 'Anne Lie Hetland'\\nstorage['first'].setdefault('Anne', []).append(my_sister)\\nstorage['middle'].setdefault('Lie', []).append(my_sister)\\nstorage['last'].setdefault('Hetland', []).append(my_sister)\\nstorage['first']['Anne']\\n\\nlookup(storage, 'middle', 'Lie')\", \"storage = {}\\ninit(storage)\\nstorage\\n#编写将人员存储到数据结构中的函数\\ndef store(data, full_name):    #将参数data和full_name提供到函数\\n    names = full_name.split()  #拆分full_name以创建一个名为names的列表\\n    if len(names) == 2:        #如果names的长度为2(只有名字和姓)，就将中间名设置为空字符串\\n        name.insert(1, '')     \\n    labels = 'first', 'middle', 'last'  #将first、middle、last存储在元组labels中（或者列表)\\n    \\n    for label, name in zip(labels, names):  #使用函数zip将标签和对应的名字合并\\n        people = lookup(data, label, name)  #获取属于该标签和名字的列表\\n        if people:                          #如果找到\\n            people.append(full_name)        #将full_name附加到该列表末尾\\n        else:                               #如果没找到\\n            data[label][name] = [full_name] #插入一个新列表\", \"MyNames = {}\\ninit(MyNames)\\nstore(MyNames, 'Magnus Lie Hetland')\\nlookup(MyNames, 'middle', 'Lie')\", 'Mynames', 'MyNames', \"store(MyNames, 'Robin Hood')\\nstore(MyNames, 'Robin Locksley')\\nMyNames\", \"storage = {}\\ninit(storage)\\nstorage\\n#编写将人员存储到数据结构中的函数\\ndef store(data, full_name):    #将参数data和full_name提供到函数\\n    names = full_name.split()  #拆分full_name以创建一个名为names的列表\\n    if len(names) == 2:        #如果names的长度为2(只有名字和姓)，就将中间名设置为空字符串\\n        names.insert(1, '')     \\n    labels = 'first', 'middle', 'last'  #将first、middle、last存储在元组labels中（或者列表)\\n    \\n    for label, name in zip(labels, names):  #使用函数zip将标签和对应的名字合并\\n        people = lookup(data, label, name)  #获取属于该标签和名字的列表\\n        if people:                          #如果找到\\n            people.append(full_name)        #将full_name附加到该列表末尾\\n        else:                               #如果没找到\\n            data[label][name] = [full_name] #插入一个新列表\", \"MyNames = {}\\ninit(MyNames)\\nstore(MyNames, 'Magnus Lie Hetland')\\nlookup(MyNames, 'middle', 'Lie')\", 'MyNames', \"store(MyNames, 'Robin Hood')\\nstore(MyNames, 'Robin Locksley')\\nMyNames\", \"lookup(MyNames, 'first', 'Robin')\", \"store(MyNames, 'Mr. Gumby')\\nlookup(MyNames, 'middle', '')\", '#如果参数是不可变的:不好意思，没办法。\\n#在这种情况下，应从函数返回所有需要的值（如果需要返回多个值，就以元组的方式返回它们）。\\ndef inc(x): return x + 1\\n\\nfoo = 10\\nfoo = inc(foo)\\nfoo', '#如果一定要修改参数，可玩点花样，比如将值放在列表中\\ndef inc(x): x[0] = x[0] + 1\\n\\nfoo = [10]\\ninc(foo)\\nfoo', \"#关键字参数和默认值\\ndef hello_1(greeting, name):\\n    print('{}, {}!'.format(greeting,name))\\n    \\ndef hello_2(name, greeting):\\n    print('{}, {}!'.format(name, greeting))\", \"hello_1('hello', 'world')\", \"hello_2('HELLO', 'WORLD')\", \"hello_1(name='world',greeting='hello')\", \"hello_2(greeting='hello', name='world')\", \"def hello_3(greeting='hello', name='world'):\\n    print('{}, {}!'.format(greeting, name))\", 'hello_3()', \"hello_3('Greetings')\", \"hello_3('Greetings', 'universe')\", \"hello_3(name='universe', greeting='Greetings')\", \"hello_3(name='gumby')\", \"def hello_4(name, greeting='Hello', punctuation='!'):\\n    print('{}, {}{}'.format(greeting, name, punctuation))\", \"hello_4('Mars')\", \"hello_4('Mars', 'Howdy')\", \"hello_4('Mars', 'Howdy', '...')\", \"hello_4('Mars', punctuation='.')\", \"hello_4('Mars', greeting='Top of the morning to ya')\", 'hello_4()', '#收集参数\\n#如果能够像下面这样同时存储多个姓名就好了\\ndef print_params(*params):\\n    print(params)', \"print_params('Testing')\", 'print_params(1, 2, 3)', 'def print_params_2(title, *params):\\n    print(title)\\n    print(params)', \"print_params_2('Params:', 1, 2, 3)\", \"print_params_2('Nothing:')\", 'def in_the_middle(x, *y, z):\\n    print(x, y, z)', 'in_the_middle(1, 2, 3, 4, 5, z=7)', 'in_the_middle(1, 2, 3, 4, 5, 7)', \"#星号不会收集关键字参数\\nprint_params_2('Hmm...', something=42)\", \"print_params_2('Hmm...', title=42)\", '#要收集关键字参数，可使用两个星号\\ndef print_params_3(**params):\\n    print(params)', '#这样得到的是一个字典而不是元组\\nprint_params_3(x=1, y=2, z=3)', 'def print_params_4(x, y, z=3, *pospar, **keypar):\\n    print(x, y, z)\\n    print(pospar)\\n    print(keypar)', 'print_params_4(1, 2, 3, 5, 6, 7, foo=1, bar=2)', 'print_params_4(1, 2)', \"def store(data, *full_names):\\n    for full_name in full_names:\\n        names = full_name.split()\\n        if len(names) == 2: \\n            names.insert(1, '')\\n        labels = 'first', 'middle', 'last'\\n        for label, name in zip(labels, names):\\n            people = lookup(data, label, name)\\n            if people:\\n                people.append(full_name)\\n            else:\\n                data[label][name] = [full_name]\", \"d = {}\\ninit(d)\\nstore(d, 'Han Solo')\", 'store', 'print(store.items())', 'print(store)', 'd', \"store(d, 'Luke Skywalker', 'Anakin Skywalker')\\nlookup(d, 'last', 'Skywalker')\\nd\", \"d = {}\\ninit(d)\\nd\\nstore(d, 'Han Solo')\", \"d = {}\\ninit(d)\\nprint(d)\\nstore(d, 'Han Solo')\", 'd', \"store(d, 'Luke Skywalker', 'Anakin Skywalker')\\nlookup(d, 'last', 'Skywalker')\\nd\", '#分配参数，收集参数相反的操作\\ndef add(x, y):\\n    return x + y', '#有一个元组，其中包含两个你要相加的数\\nparams = (1, 2)\\n#在调用函数（而不是定义函数）时使用运算符*实现的\\nadd(*params)', \"#参数分配也可用于参数列表一部分，要求需要分配的部分位于参数列表末尾\\n#此时需要用**可以分配给关键字参数\\nparams = {'name': 'sir robin', 'greeting': 'well met'}\", \"#参数分配也可用于参数列表一部分，要求需要分配的部分位于参数列表末尾\\n#此时需要用**可以分配给关键字参数\\nparams = {'name': 'sir robin', 'greeting': 'well met'}\\nhello_3(**params)\", \"#如果在定义和调用函数时都使用*或**，将只传递元组或字典\\n#一般都不这么使用\\ndef with_stars(**kwds):\\n    print(kwds['name'], 'is', kwds['age'], 'years old')\\n\\ndef without_stars(kwds):\\n    print(kwds['name'], 'is', kwds['age'], 'years old')\", \"args = {'name': 'Mr. Gumby', 'age': 42}\\nwith_stars(**args)\", \"#如果在定义和调用函数时都使用*或**，将只传递元组或字典\\n#一般都不这么使用\\ndef with_stars(**kwds):\\n    print(kwds)\\n    print(kwds['name'], 'is', kwds['age'], 'years old')\\n\\ndef without_stars(kwds):\\n    print(kwds['name'], 'is', kwds['age'], 'years old')\", \"#如果在定义和调用函数时都使用*或**，将只传递元组或字典\\n#一般都不这么使用\\ndef with_stars(**kwds):\\n    print(kwds)\\n    print(kwds['name'], 'is', kwds['age'], 'years old')\\n\\ndef without_stars(kwds):\\n    print(kwds)\\n    print(kwds['name'], 'is', kwds['age'], 'years old')\", \"args = {'name': 'Mr. Gumby', 'age': 42}\\nwith_stars(**args)\", 'without_stars(args)', '#只有在定义函数（允许可变数量的参数） 或调用函数时（拆分字典或序列）使用，星号才能发挥作用\\ndef foo(x, y, z, m=0, n=0):\\n    print(x, y, z, m, n)\\ndef call_foo(*args, **kwds):\\n    print(\"Calling foo!\")\\n    foo(*args, **kwds)\\n    \\nparameters1 = (1,2,3)\\nparameters2 = {n=4,m=5}\\n\\ncall_foo(parameters1,parameters2)', '#只有在定义函数（允许可变数量的参数） 或调用函数时（拆分字典或序列）使用，星号才能发挥作用\\ndef foo(x, y, z, m=0, n=0):\\n    print(x, y, z, m, n)\\ndef call_foo(*args, **kwds):\\n    print(\"Calling foo!\")\\n    foo(*args, **kwds)\\n    \\nparameters1 = (1,2,3)\\nparameters2 = {n:4,m:5}\\n\\ncall_foo(parameters1,parameters2)', '#只有在定义函数（允许可变数量的参数） 或调用函数时（拆分字典或序列）使用，星号才能发挥作用\\ndef foo(x, y, z, m=0, n=0):\\n    print(x, y, z, m, n)\\ndef call_foo(*args, **kwds):\\n    print(\"Calling foo!\")\\n    foo(*args, **kwds)\\n    \\nparameters1 = (1,2,3)\\nparameters2 = {\\'n\\':4,\\'m\\':5}\\n\\ncall_foo(parameters1,parameters2)', '#只有在定义函数（允许可变数量的参数） 或调用函数时（拆分字典或序列）使用，星号才能发挥作用\\ndef foo(x, y, z, m=0, n=0):\\n    print(x, y, z, m, n)\\ndef call_foo(*args, **kwds):\\n    print(\"Calling foo!\")\\n    foo(*args, **kwds)\\n    \\nparameters1 = (1,2,3)\\nparameters2 = {\\'n\\':4,\\'m\\':5}\\n\\ncall_foo(*parameters1,**parameters2)', '#只有在定义函数（允许可变数量的参数） 或调用函数时（拆分字典或序列）使用，星号才能发挥作用\\ndef foo(x, y, z, m=0, n=0):\\n    print(x, y, z, m, n)\\ndef call_foo(*args, **kwds):\\n    print(\"Calling foo!\")\\n    foo(*args, **kwds)\\n    \\nparameters1 = (1,2,3)\\nparameters2 = {n=4,m=5}\\n\\ncall_foo(*parameters1,**parameters2)', '#只有在定义函数（允许可变数量的参数） 或调用函数时（拆分字典或序列）使用，星号才能发挥作用\\ndef foo(x, y, z, m=0, n=0):\\n    print(x, y, z, m, n)\\ndef call_foo(*args, **kwds):\\n    print(\"Calling foo!\")\\n    foo(*args, **kwds)\\n    \\nparameters1 = (1,2,3)\\nparameters2 = {n:4,m:5}\\n\\ncall_foo(*parameters1,**parameters2)', '#只有在定义函数（允许可变数量的参数） 或调用函数时（拆分字典或序列）使用，星号才能发挥作用\\ndef foo(x, y, z, m=0, n=0):\\n    print(x, y, z, m, n)\\ndef call_foo(*args, **kwds):\\n    print(\"Calling foo!\")\\n    foo(*args, **kwds)\\n    \\nparameters1 = (1,2,3)\\nparameters2 = {\\'n\\':4,\\'m\\':5}\\n\\ncall_foo(*parameters1,**parameters2)', '#只有在定义函数（允许可变数量的参数） 或调用函数时（拆分字典或序列）使用，星号才能发挥作用\\ndef foo(x, y, z, m=0, n=0):\\n    print(x, y, z, m, n)\\ndef call_foo(*args, **kwds):\\n    print(\"Calling foo!\")\\n    print(args,kwds)\\n    foo(*args, **kwds)\\n    \\nparameters1 = (1,2,3)\\nparameters2 = {\\'n\\':4,\\'m\\':5}\\n\\ncall_foo(*parameters1,**parameters2)', '#只有在定义函数（允许可变数量的参数） 或调用函数时（拆分字典或序列）使用，星号才能发挥作用\\ndef foo(x, y, z, m=0, n=0):\\n    print(x, y, z, m, n)\\ndef call_foo(*args, **kwds):\\n    print(\"Calling foo!\")\\n    print(args,kwds)\\n    foo(*args, **kwds)\\n    \\nparameters1 = (1,2,3)\\nparameters2 = {\\'n\\':4,\\'m\\':5}\\n\\ncall_foo(*parameters1,**parameters2)', \"#练习使用参数\\ndef story(**kwds):\\n    return 'Once upon a time, there was a ' \\\\\\n        '{job} called {name}.'.format_map(kwds)\\n\\ndef power(x, y, *others):\\n    if others:\\n        print('Received redundant parameters:', others)\\n    return pow(x, y)\\n\\ndef interval(start, stop=None, step=1):\\n    'Imitates range() for step > 0'\\n    if stop is None: # 如果没有给参数stop指定值，\\n        start, stop = 0, start # 就调整参数start和stop的值\\n    result = []\\n    i = start # 从start开始往上数\\n    while i < stop: # 数到stop位置\\n        result.append(i) # 将当前数的数附加到result末尾\\n        i += step # 增加到当前数和step（ > 0）之和\\n    return result\", \"print(story(job='king', name='Gumby'))\", \"print(story(name='Sir Robin', job='brave knight'))\", \"params = {'job': 'language', 'name': 'Python'}\\nprint(story(**params))\", \"del params['job']\\nprint(story(job='stroke of genius', **params))\", 'power(2, 3)', 'power(3, 2)', 'power(y=3, x=2)', 'params = (5,) * 2\\nprint(params)\\npower(*params)', \"power(3, 3, 'Hello, world')\", 'interval(10)', 'interval(1, 5)', 'interval(3, 12, 4)', 'power(*interval(3, 7))', \"#练习使用参数\\ndef story(**kwds):\\n    return 'Once upon a time, there was a ' \\\\\\n        '{job} called {name}.'.format_map(kwds)\\n\\ndef power(x, y, *others):\\n    if others:\\n        print('Received redundant parameters:', others)\\n    return pow(x, y)\\n\\ndef interval(start, stop=None, step=1):\\n    'Imitates range() for step > 0'\\n    if stop is None: # 如果没有给参数stop指定值，\\n        start, stop = 0 # 就调整参数start和stop的值\\n    result = []\\n    i = start # 从start开始往上数\\n    while i < stop: # 数到stop位置\\n        result.append(i) # 将当前数的数附加到result末尾\\n        i += step # 增加到当前数和step（ > 0）之和\\n    return result\", 'interval(10)', 'interval(10)', \"#练习使用参数\\ndef story(**kwds):\\n    return 'Once upon a time, there was a ' \\\\\\n        '{job} called {name}.'.format_map(kwds)\\n\\ndef power(x, y, *others):\\n    if others:\\n        print('Received redundant parameters:', others)\\n    return pow(x, y)\\n\\ndef interval(start, stop=None, step=1):\\n    'Imitates range() for step > 0'\\n    if stop is None: # 如果没有给参数stop指定值，\\n        start, stop = 0, start # 就调整参数start和stop的值（交换位置）\\n    result = []\\n    i = start # 从start开始往上数\\n    while i < stop: # 数到stop位置\\n        result.append(i) # 将当前数的数附加到result末尾\\n        i += step # 增加到当前数和step（ > 0）之和\\n    return result\", 'interval(10)', 'interval(1, 5)', 'interval(3, 12, 4)', 'power(*interval(3, 7))', \"#作用域\\nx = 1\\nscope = vars()\\nscope['x']\", 'print(scope)'], '_oh': {2: [0, 1, 1, 2, 3, 5, 8, 13, 21, 34], 8: False, 9: True, 12: 'Hello, world!', 13: 'Hello, tygors!', 17: [0, 1, 1, 2, 3, 5, 8, 13, 21, 34], 18: [0, 1, 1, 2, 3, 5, 8, 13, 21, 34, 55, 89, 144, 233, 377, 610, 987, 1597, 2584], 20: 'Calculates the square of the number x.', 26: 'Mrs. Entity', 27: ['Mr. Gumby', 'Mrs. Thing'], 28: ['Mrs. Entity', 'Mrs. Thing'], 30: ['Magnus Lie Hetland', 'Anne Lie Hetland'], 31: ['Anne Lie Hetland'], 32: {'first': {'Magnus': ['Magnus Lie Hetland'], 'Anne': ['Anne Lie Hetland']}, 'middle': {'Lie': ['Magnus Lie Hetland', 'Anne Lie Hetland']}, 'last': {'Hetland': ['Magnus Lie Hetland', 'Anne Lie Hetland']}}, 34: {'first': {}, 'middle': {}, 'last': {}}, 35: {'first': {}, 'middle': {}, 'last': {}}, 38: ['Magnus Lie Hetland', 'Anne Lie Hetland'], 40: ['Magnus Lie Hetland'], 42: {'first': {'Magnus': ['Magnus Lie Hetland']}, 'middle': {'Lie': ['Magnus Lie Hetland']}, 'last': {'Hetland': ['Magnus Lie Hetland']}}, 45: ['Magnus Lie Hetland'], 46: {'first': {'Magnus': ['Magnus Lie Hetland'], 'Robin': ['Robin Hood', 'Robin Locksley'], 'Mr.': ['Mr. Gumby']}, 'middle': {'Lie': ['Magnus Lie Hetland'], '': ['Robin Hood', 'Robin Locksley', 'Mr. Gumby']}, 'last': {'Hetland': ['Magnus Lie Hetland'], 'Hood': ['Robin Hood'], 'Locksley': ['Robin Locksley'], 'Gumby': ['Mr. Gumby']}}, 47: {'first': {'Magnus': ['Magnus Lie Hetland'], 'Robin': ['Robin Hood', 'Robin Locksley'], 'Mr.': ['Mr. Gumby']}, 'middle': {'Lie': ['Magnus Lie Hetland'], '': ['Robin Hood', 'Robin Locksley', 'Mr. Gumby']}, 'last': {'Hetland': ['Magnus Lie Hetland'], 'Hood': ['Robin Hood'], 'Locksley': ['Robin Locksley'], 'Gumby': ['Mr. Gumby']}}, 48: ['Robin Hood', 'Robin Locksley'], 49: ['Robin Hood', 'Robin Locksley', 'Mr. Gumby'], 50: 11, 51: [11], 88: <function store at 0x0000024B26DCD268>, 91: {'first': {'Han': ['Han Solo'], 'Luke': ['Luke Skywalker'], 'Anakin': ['Anakin Skywalker']}, 'middle': {'': ['Han Solo', 'Luke Skywalker', 'Anakin Skywalker']}, 'last': {'Solo': ['Han Solo'], 'Skywalker': ['Luke Skywalker', 'Anakin Skywalker']}}, 92: {'first': {'Han': ['Han Solo'], 'Luke': ['Luke Skywalker'], 'Anakin': ['Anakin Skywalker']}, 'middle': {'': ['Han Solo', 'Luke Skywalker', 'Anakin Skywalker']}, 'last': {'Solo': ['Han Solo'], 'Skywalker': ['Luke Skywalker', 'Anakin Skywalker']}}, 95: {'first': {'Han': ['Han Solo'], 'Luke': ['Luke Skywalker'], 'Anakin': ['Anakin Skywalker']}, 'middle': {'': ['Han Solo', 'Luke Skywalker', 'Anakin Skywalker']}, 'last': {'Solo': ['Han Solo'], 'Skywalker': ['Luke Skywalker', 'Anakin Skywalker']}}, 96: {'first': {'Han': ['Han Solo'], 'Luke': ['Luke Skywalker'], 'Anakin': ['Anakin Skywalker']}, 'middle': {'': ['Han Solo', 'Luke Skywalker', 'Anakin Skywalker']}, 'last': {'Solo': ['Han Solo'], 'Skywalker': ['Luke Skywalker', 'Anakin Skywalker']}}, 98: 3, 121: 8, 122: 9, 123: 8, 124: 3125, 125: 27, 126: [0, 1, 2, 3, 4, 5, 6, 7, 8, 9], 127: [1, 2, 3, 4], 128: [3, 7, 11], 129: 81, 134: [0, 1, 2, 3, 4, 5, 6, 7, 8, 9], 135: [1, 2, 3, 4], 136: [3, 7, 11], 137: 81, 138: 1}, '_dh': ['C:\\\\Users\\\\dell\\\\Downloads\\\\pythonPractise\\\\date0410'], 'In': ['', '#计算斐波那契数\\nfibs = [0, 1]\\nfor i in range(8):\\n    fibs.append(fibs[-2] + fibs[-1])', 'fibs', '#计算斐波那契数\\nfibs = [0, 1]\\nfor i in range(8):\\n    fibs.append(fibs[-2] + fibs[-1])\\n    print(fibs)', '#计算斐波那契数\\nfibs = [0, 1]\\nprint(fibs)\\nfor i in range(8):\\n    fibs.append(fibs[-2] + fibs[-1])\\n    print(fibs)', \"fibs = [0, 1]\\nnum = int(input('How many Fibonacci numbers do you want? '))\\nfor i in range(num-2):\\n    fibs.append(fibs[-2] + fibs[-1])\\nprint(fibs)\", \"num = input('How many numbers do you want? ')\\nprint(fibs(num))\", '#抽象和结构\\n#这些操作的具体细节，将在其他地方（独立的函数定义）中给出', '#自定义函数，函数执行特定的操作并返回一个值\\n#可以调用它（调用时可能需要提供一些参数——放在圆括号中的内容）\\n#要判断某个对象是否可调用，可使用内置函数callable\\nimport math\\nx = 1\\ny = math.sqrt\\ncallable(x)', 'callable(y)', \"#使用def（表示定义函数）语句\\ndef hello(name):\\n    return 'Hello, ' + name + '!'\", 'hello(world)', \"hello('world')\", \"hello('tygors')\", 'def fibs(num):\\n    for i in range(num-2):\\n        result.append(result[-2] + result[-1])\\n    return result', 'fibs(10)', 'def fibs(num):\\n    result = [0,1]\\n    for i in range(num-2):\\n        result.append(result[-2] + result[-1])\\n    return result', 'fibs(10)', 'fibs(19)', \"#给函数编写文档,除了注释，添加独立的字符串\\n#直接放在def语句后面的引号语句（字符串）,称为文档字符串\\ndef square(x):\\n    'Calculates the square of the number x.'\\n    return x * x\", 'square.__doc__', 'help(square)', \"#其实并不是函数的函数(即使不返回任何值)\\ndef test():\\n    print('This is printed')\\n    return\\n    print('This is not')\", 'x = test()', 'x', 'print(x)', \"#参数魔法\\n#修改参数，在函数内部给参数赋值对外部没有任何影响\\ndef try_to_change(n):\\n    n = 'Mr. Gumby'\\n    return n\\n\\nname = 'Mrs. Entity'\\ntry_to_change(name)\\nname\", \"#字符串（以及数和元组）是不可变的（ immutable）\\ndef change(n):\\n    n[0] = 'Mr. Gumby'\\nnames = ['Mrs. Entity', 'Mrs. Thing']\\nchange(names)\\nnames\", \"names = ['Mrs. Entity', 'Mrs. Thing']\\nchange(names[:])\\nnames\", \"#编写一个程序，让它存储姓名，并让用户能够根据名字、中间名或姓找人\\n#数据结构\\nstorage = {}\\nstorage['first'] = {}\\nstorage['middle'] = {}\\nstorage['last'] = {}\\n\\nme = 'Magnus Lie Hetland'\\nstorage['first']['Magnus'] = [me]\\nstorage['middle']['Lie'] = [me]\\nstorage['last']['Hetland'] = [me]\\nprint(storage)\", \"storage['middle']['Lie']\", \"my_sister = 'Anne Lie Hetland'\\nstorage['first'].setdefault('Anne', []).append(my_sister)\\nstorage['middle'].setdefault('Lie', []).append(my_sister)\\nstorage['last'].setdefault('Hetland', []).append(my_sister)\\nstorage['first']['Anne']\", 'storage', \"#抽象的关键在于隐藏所有的更新细节，为此可使用函数\\ndef init(data):\\n    data['first'] = {}\\n    data['middle'] = {}\\n    data['last'] = {}\", 'storage = {}\\ninit(storage)\\nstorage', 'storage = {}\\ninit(storage)\\nstorage', '#在字典中，键的排列顺序是不固定的，因此打印字典时，每次的顺序都可能不同\\n#如果你在解释器中打印出来的顺序不同，请不用担心\\n#先来编写获取人员姓名的函数，再接着编写存储人员姓名的函数', '#在字典中，键的排列顺序是不固定的，因此打印字典时，每次的顺序都可能不同\\n#如果你在解释器中打印出来的顺序不同，请不用担心\\n#先来编写获取人员姓名的函数，再接着编写存储人员姓名的函数\\ndef lookup(data, label, name):\\n    return data[label].get(name)', \"storage = {}\\nstorage['first'] = {}\\nstorage['middle'] = {}\\nstorage['last'] = {}\\n\\nme = 'Magnus Lie Hetland'\\nstorage['first']['Magnus'] = [me]\\nstorage['middle']['Lie'] = [me]\\nstorage['last']['Hetland'] = [me]\\n\\nmy_sister = 'Anne Lie Hetland'\\nstorage['first'].setdefault('Anne', []).append(my_sister)\\nstorage['middle'].setdefault('Lie', []).append(my_sister)\\nstorage['last'].setdefault('Hetland', []).append(my_sister)\\nstorage['first']['Anne']\\n\\nlookup(storage, 'middle', 'Lie')\", \"storage = {}\\ninit(storage)\\nstorage\\n#编写将人员存储到数据结构中的函数\\ndef store(data, full_name):    #将参数data和full_name提供到函数\\n    names = full_name.split()  #拆分full_name以创建一个名为names的列表\\n    if len(names) == 2:        #如果names的长度为2(只有名字和姓)，就将中间名设置为空字符串\\n        name.insert(1, '')     \\n    labels = 'first', 'middle', 'last'  #将first、middle、last存储在元组labels中（或者列表)\\n    \\n    for label, name in zip(labels, names):  #使用函数zip将标签和对应的名字合并\\n        people = lookup(data, label, name)  #获取属于该标签和名字的列表\\n        if people:                          #如果找到\\n            people.append(full_name)        #将full_name附加到该列表末尾\\n        else:                               #如果没找到\\n            data[label][name] = [full_name] #插入一个新列表\", \"MyNames = {}\\ninit(MyNames)\\nstore(MyNames, 'Magnus Lie Hetland')\\nlookup(MyNames, 'middle', 'Lie')\", 'Mynames', 'MyNames', \"store(MyNames, 'Robin Hood')\\nstore(MyNames, 'Robin Locksley')\\nMyNames\", \"storage = {}\\ninit(storage)\\nstorage\\n#编写将人员存储到数据结构中的函数\\ndef store(data, full_name):    #将参数data和full_name提供到函数\\n    names = full_name.split()  #拆分full_name以创建一个名为names的列表\\n    if len(names) == 2:        #如果names的长度为2(只有名字和姓)，就将中间名设置为空字符串\\n        names.insert(1, '')     \\n    labels = 'first', 'middle', 'last'  #将first、middle、last存储在元组labels中（或者列表)\\n    \\n    for label, name in zip(labels, names):  #使用函数zip将标签和对应的名字合并\\n        people = lookup(data, label, name)  #获取属于该标签和名字的列表\\n        if people:                          #如果找到\\n            people.append(full_name)        #将full_name附加到该列表末尾\\n        else:                               #如果没找到\\n            data[label][name] = [full_name] #插入一个新列表\", \"MyNames = {}\\ninit(MyNames)\\nstore(MyNames, 'Magnus Lie Hetland')\\nlookup(MyNames, 'middle', 'Lie')\", 'MyNames', \"store(MyNames, 'Robin Hood')\\nstore(MyNames, 'Robin Locksley')\\nMyNames\", \"lookup(MyNames, 'first', 'Robin')\", \"store(MyNames, 'Mr. Gumby')\\nlookup(MyNames, 'middle', '')\", '#如果参数是不可变的:不好意思，没办法。\\n#在这种情况下，应从函数返回所有需要的值（如果需要返回多个值，就以元组的方式返回它们）。\\ndef inc(x): return x + 1\\n\\nfoo = 10\\nfoo = inc(foo)\\nfoo', '#如果一定要修改参数，可玩点花样，比如将值放在列表中\\ndef inc(x): x[0] = x[0] + 1\\n\\nfoo = [10]\\ninc(foo)\\nfoo', \"#关键字参数和默认值\\ndef hello_1(greeting, name):\\n    print('{}, {}!'.format(greeting,name))\\n    \\ndef hello_2(name, greeting):\\n    print('{}, {}!'.format(name, greeting))\", \"hello_1('hello', 'world')\", \"hello_2('HELLO', 'WORLD')\", \"hello_1(name='world',greeting='hello')\", \"hello_2(greeting='hello', name='world')\", \"def hello_3(greeting='hello', name='world'):\\n    print('{}, {}!'.format(greeting, name))\", 'hello_3()', \"hello_3('Greetings')\", \"hello_3('Greetings', 'universe')\", \"hello_3(name='universe', greeting='Greetings')\", \"hello_3(name='gumby')\", \"def hello_4(name, greeting='Hello', punctuation='!'):\\n    print('{}, {}{}'.format(greeting, name, punctuation))\", \"hello_4('Mars')\", \"hello_4('Mars', 'Howdy')\", \"hello_4('Mars', 'Howdy', '...')\", \"hello_4('Mars', punctuation='.')\", \"hello_4('Mars', greeting='Top of the morning to ya')\", 'hello_4()', '#收集参数\\n#如果能够像下面这样同时存储多个姓名就好了\\ndef print_params(*params):\\n    print(params)', \"print_params('Testing')\", 'print_params(1, 2, 3)', 'def print_params_2(title, *params):\\n    print(title)\\n    print(params)', \"print_params_2('Params:', 1, 2, 3)\", \"print_params_2('Nothing:')\", 'def in_the_middle(x, *y, z):\\n    print(x, y, z)', 'in_the_middle(1, 2, 3, 4, 5, z=7)', 'in_the_middle(1, 2, 3, 4, 5, 7)', \"#星号不会收集关键字参数\\nprint_params_2('Hmm...', something=42)\", \"print_params_2('Hmm...', title=42)\", '#要收集关键字参数，可使用两个星号\\ndef print_params_3(**params):\\n    print(params)', '#这样得到的是一个字典而不是元组\\nprint_params_3(x=1, y=2, z=3)', 'def print_params_4(x, y, z=3, *pospar, **keypar):\\n    print(x, y, z)\\n    print(pospar)\\n    print(keypar)', 'print_params_4(1, 2, 3, 5, 6, 7, foo=1, bar=2)', 'print_params_4(1, 2)', \"def store(data, *full_names):\\n    for full_name in full_names:\\n        names = full_name.split()\\n        if len(names) == 2: \\n            names.insert(1, '')\\n        labels = 'first', 'middle', 'last'\\n        for label, name in zip(labels, names):\\n            people = lookup(data, label, name)\\n            if people:\\n                people.append(full_name)\\n            else:\\n                data[label][name] = [full_name]\", \"d = {}\\ninit(d)\\nstore(d, 'Han Solo')\", 'store', 'print(store.items())', 'print(store)', 'd', \"store(d, 'Luke Skywalker', 'Anakin Skywalker')\\nlookup(d, 'last', 'Skywalker')\\nd\", \"d = {}\\ninit(d)\\nd\\nstore(d, 'Han Solo')\", \"d = {}\\ninit(d)\\nprint(d)\\nstore(d, 'Han Solo')\", 'd', \"store(d, 'Luke Skywalker', 'Anakin Skywalker')\\nlookup(d, 'last', 'Skywalker')\\nd\", '#分配参数，收集参数相反的操作\\ndef add(x, y):\\n    return x + y', '#有一个元组，其中包含两个你要相加的数\\nparams = (1, 2)\\n#在调用函数（而不是定义函数）时使用运算符*实现的\\nadd(*params)', \"#参数分配也可用于参数列表一部分，要求需要分配的部分位于参数列表末尾\\n#此时需要用**可以分配给关键字参数\\nparams = {'name': 'sir robin', 'greeting': 'well met'}\", \"#参数分配也可用于参数列表一部分，要求需要分配的部分位于参数列表末尾\\n#此时需要用**可以分配给关键字参数\\nparams = {'name': 'sir robin', 'greeting': 'well met'}\\nhello_3(**params)\", \"#如果在定义和调用函数时都使用*或**，将只传递元组或字典\\n#一般都不这么使用\\ndef with_stars(**kwds):\\n    print(kwds['name'], 'is', kwds['age'], 'years old')\\n\\ndef without_stars(kwds):\\n    print(kwds['name'], 'is', kwds['age'], 'years old')\", \"args = {'name': 'Mr. Gumby', 'age': 42}\\nwith_stars(**args)\", \"#如果在定义和调用函数时都使用*或**，将只传递元组或字典\\n#一般都不这么使用\\ndef with_stars(**kwds):\\n    print(kwds)\\n    print(kwds['name'], 'is', kwds['age'], 'years old')\\n\\ndef without_stars(kwds):\\n    print(kwds['name'], 'is', kwds['age'], 'years old')\", \"#如果在定义和调用函数时都使用*或**，将只传递元组或字典\\n#一般都不这么使用\\ndef with_stars(**kwds):\\n    print(kwds)\\n    print(kwds['name'], 'is', kwds['age'], 'years old')\\n\\ndef without_stars(kwds):\\n    print(kwds)\\n    print(kwds['name'], 'is', kwds['age'], 'years old')\", \"args = {'name': 'Mr. Gumby', 'age': 42}\\nwith_stars(**args)\", 'without_stars(args)', '#只有在定义函数（允许可变数量的参数） 或调用函数时（拆分字典或序列）使用，星号才能发挥作用\\ndef foo(x, y, z, m=0, n=0):\\n    print(x, y, z, m, n)\\ndef call_foo(*args, **kwds):\\n    print(\"Calling foo!\")\\n    foo(*args, **kwds)\\n    \\nparameters1 = (1,2,3)\\nparameters2 = {n=4,m=5}\\n\\ncall_foo(parameters1,parameters2)', '#只有在定义函数（允许可变数量的参数） 或调用函数时（拆分字典或序列）使用，星号才能发挥作用\\ndef foo(x, y, z, m=0, n=0):\\n    print(x, y, z, m, n)\\ndef call_foo(*args, **kwds):\\n    print(\"Calling foo!\")\\n    foo(*args, **kwds)\\n    \\nparameters1 = (1,2,3)\\nparameters2 = {n:4,m:5}\\n\\ncall_foo(parameters1,parameters2)', '#只有在定义函数（允许可变数量的参数） 或调用函数时（拆分字典或序列）使用，星号才能发挥作用\\ndef foo(x, y, z, m=0, n=0):\\n    print(x, y, z, m, n)\\ndef call_foo(*args, **kwds):\\n    print(\"Calling foo!\")\\n    foo(*args, **kwds)\\n    \\nparameters1 = (1,2,3)\\nparameters2 = {\\'n\\':4,\\'m\\':5}\\n\\ncall_foo(parameters1,parameters2)', '#只有在定义函数（允许可变数量的参数） 或调用函数时（拆分字典或序列）使用，星号才能发挥作用\\ndef foo(x, y, z, m=0, n=0):\\n    print(x, y, z, m, n)\\ndef call_foo(*args, **kwds):\\n    print(\"Calling foo!\")\\n    foo(*args, **kwds)\\n    \\nparameters1 = (1,2,3)\\nparameters2 = {\\'n\\':4,\\'m\\':5}\\n\\ncall_foo(*parameters1,**parameters2)', '#只有在定义函数（允许可变数量的参数） 或调用函数时（拆分字典或序列）使用，星号才能发挥作用\\ndef foo(x, y, z, m=0, n=0):\\n    print(x, y, z, m, n)\\ndef call_foo(*args, **kwds):\\n    print(\"Calling foo!\")\\n    foo(*args, **kwds)\\n    \\nparameters1 = (1,2,3)\\nparameters2 = {n=4,m=5}\\n\\ncall_foo(*parameters1,**parameters2)', '#只有在定义函数（允许可变数量的参数） 或调用函数时（拆分字典或序列）使用，星号才能发挥作用\\ndef foo(x, y, z, m=0, n=0):\\n    print(x, y, z, m, n)\\ndef call_foo(*args, **kwds):\\n    print(\"Calling foo!\")\\n    foo(*args, **kwds)\\n    \\nparameters1 = (1,2,3)\\nparameters2 = {n:4,m:5}\\n\\ncall_foo(*parameters1,**parameters2)', '#只有在定义函数（允许可变数量的参数） 或调用函数时（拆分字典或序列）使用，星号才能发挥作用\\ndef foo(x, y, z, m=0, n=0):\\n    print(x, y, z, m, n)\\ndef call_foo(*args, **kwds):\\n    print(\"Calling foo!\")\\n    foo(*args, **kwds)\\n    \\nparameters1 = (1,2,3)\\nparameters2 = {\\'n\\':4,\\'m\\':5}\\n\\ncall_foo(*parameters1,**parameters2)', '#只有在定义函数（允许可变数量的参数） 或调用函数时（拆分字典或序列）使用，星号才能发挥作用\\ndef foo(x, y, z, m=0, n=0):\\n    print(x, y, z, m, n)\\ndef call_foo(*args, **kwds):\\n    print(\"Calling foo!\")\\n    print(args,kwds)\\n    foo(*args, **kwds)\\n    \\nparameters1 = (1,2,3)\\nparameters2 = {\\'n\\':4,\\'m\\':5}\\n\\ncall_foo(*parameters1,**parameters2)', '#只有在定义函数（允许可变数量的参数） 或调用函数时（拆分字典或序列）使用，星号才能发挥作用\\ndef foo(x, y, z, m=0, n=0):\\n    print(x, y, z, m, n)\\ndef call_foo(*args, **kwds):\\n    print(\"Calling foo!\")\\n    print(args,kwds)\\n    foo(*args, **kwds)\\n    \\nparameters1 = (1,2,3)\\nparameters2 = {\\'n\\':4,\\'m\\':5}\\n\\ncall_foo(*parameters1,**parameters2)', \"#练习使用参数\\ndef story(**kwds):\\n    return 'Once upon a time, there was a ' \\\\\\n        '{job} called {name}.'.format_map(kwds)\\n\\ndef power(x, y, *others):\\n    if others:\\n        print('Received redundant parameters:', others)\\n    return pow(x, y)\\n\\ndef interval(start, stop=None, step=1):\\n    'Imitates range() for step > 0'\\n    if stop is None: # 如果没有给参数stop指定值，\\n        start, stop = 0, start # 就调整参数start和stop的值\\n    result = []\\n    i = start # 从start开始往上数\\n    while i < stop: # 数到stop位置\\n        result.append(i) # 将当前数的数附加到result末尾\\n        i += step # 增加到当前数和step（ > 0）之和\\n    return result\", \"print(story(job='king', name='Gumby'))\", \"print(story(name='Sir Robin', job='brave knight'))\", \"params = {'job': 'language', 'name': 'Python'}\\nprint(story(**params))\", \"del params['job']\\nprint(story(job='stroke of genius', **params))\", 'power(2, 3)', 'power(3, 2)', 'power(y=3, x=2)', 'params = (5,) * 2\\nprint(params)\\npower(*params)', \"power(3, 3, 'Hello, world')\", 'interval(10)', 'interval(1, 5)', 'interval(3, 12, 4)', 'power(*interval(3, 7))', \"#练习使用参数\\ndef story(**kwds):\\n    return 'Once upon a time, there was a ' \\\\\\n        '{job} called {name}.'.format_map(kwds)\\n\\ndef power(x, y, *others):\\n    if others:\\n        print('Received redundant parameters:', others)\\n    return pow(x, y)\\n\\ndef interval(start, stop=None, step=1):\\n    'Imitates range() for step > 0'\\n    if stop is None: # 如果没有给参数stop指定值，\\n        start, stop = 0 # 就调整参数start和stop的值\\n    result = []\\n    i = start # 从start开始往上数\\n    while i < stop: # 数到stop位置\\n        result.append(i) # 将当前数的数附加到result末尾\\n        i += step # 增加到当前数和step（ > 0）之和\\n    return result\", 'interval(10)', 'interval(10)', \"#练习使用参数\\ndef story(**kwds):\\n    return 'Once upon a time, there was a ' \\\\\\n        '{job} called {name}.'.format_map(kwds)\\n\\ndef power(x, y, *others):\\n    if others:\\n        print('Received redundant parameters:', others)\\n    return pow(x, y)\\n\\ndef interval(start, stop=None, step=1):\\n    'Imitates range() for step > 0'\\n    if stop is None: # 如果没有给参数stop指定值，\\n        start, stop = 0, start # 就调整参数start和stop的值（交换位置）\\n    result = []\\n    i = start # 从start开始往上数\\n    while i < stop: # 数到stop位置\\n        result.append(i) # 将当前数的数附加到result末尾\\n        i += step # 增加到当前数和step（ > 0）之和\\n    return result\", 'interval(10)', 'interval(1, 5)', 'interval(3, 12, 4)', 'power(*interval(3, 7))', \"#作用域\\nx = 1\\nscope = vars()\\nscope['x']\", 'print(scope)'], 'Out': {2: [0, 1, 1, 2, 3, 5, 8, 13, 21, 34], 8: False, 9: True, 12: 'Hello, world!', 13: 'Hello, tygors!', 17: [0, 1, 1, 2, 3, 5, 8, 13, 21, 34], 18: [0, 1, 1, 2, 3, 5, 8, 13, 21, 34, 55, 89, 144, 233, 377, 610, 987, 1597, 2584], 20: 'Calculates the square of the number x.', 26: 'Mrs. Entity', 27: ['Mr. Gumby', 'Mrs. Thing'], 28: ['Mrs. Entity', 'Mrs. Thing'], 30: ['Magnus Lie Hetland', 'Anne Lie Hetland'], 31: ['Anne Lie Hetland'], 32: {'first': {'Magnus': ['Magnus Lie Hetland'], 'Anne': ['Anne Lie Hetland']}, 'middle': {'Lie': ['Magnus Lie Hetland', 'Anne Lie Hetland']}, 'last': {'Hetland': ['Magnus Lie Hetland', 'Anne Lie Hetland']}}, 34: {'first': {}, 'middle': {}, 'last': {}}, 35: {'first': {}, 'middle': {}, 'last': {}}, 38: ['Magnus Lie Hetland', 'Anne Lie Hetland'], 40: ['Magnus Lie Hetland'], 42: {'first': {'Magnus': ['Magnus Lie Hetland']}, 'middle': {'Lie': ['Magnus Lie Hetland']}, 'last': {'Hetland': ['Magnus Lie Hetland']}}, 45: ['Magnus Lie Hetland'], 46: {'first': {'Magnus': ['Magnus Lie Hetland'], 'Robin': ['Robin Hood', 'Robin Locksley'], 'Mr.': ['Mr. Gumby']}, 'middle': {'Lie': ['Magnus Lie Hetland'], '': ['Robin Hood', 'Robin Locksley', 'Mr. Gumby']}, 'last': {'Hetland': ['Magnus Lie Hetland'], 'Hood': ['Robin Hood'], 'Locksley': ['Robin Locksley'], 'Gumby': ['Mr. Gumby']}}, 47: {'first': {'Magnus': ['Magnus Lie Hetland'], 'Robin': ['Robin Hood', 'Robin Locksley'], 'Mr.': ['Mr. Gumby']}, 'middle': {'Lie': ['Magnus Lie Hetland'], '': ['Robin Hood', 'Robin Locksley', 'Mr. Gumby']}, 'last': {'Hetland': ['Magnus Lie Hetland'], 'Hood': ['Robin Hood'], 'Locksley': ['Robin Locksley'], 'Gumby': ['Mr. Gumby']}}, 48: ['Robin Hood', 'Robin Locksley'], 49: ['Robin Hood', 'Robin Locksley', 'Mr. Gumby'], 50: 11, 51: [11], 88: <function store at 0x0000024B26DCD268>, 91: {'first': {'Han': ['Han Solo'], 'Luke': ['Luke Skywalker'], 'Anakin': ['Anakin Skywalker']}, 'middle': {'': ['Han Solo', 'Luke Skywalker', 'Anakin Skywalker']}, 'last': {'Solo': ['Han Solo'], 'Skywalker': ['Luke Skywalker', 'Anakin Skywalker']}}, 92: {'first': {'Han': ['Han Solo'], 'Luke': ['Luke Skywalker'], 'Anakin': ['Anakin Skywalker']}, 'middle': {'': ['Han Solo', 'Luke Skywalker', 'Anakin Skywalker']}, 'last': {'Solo': ['Han Solo'], 'Skywalker': ['Luke Skywalker', 'Anakin Skywalker']}}, 95: {'first': {'Han': ['Han Solo'], 'Luke': ['Luke Skywalker'], 'Anakin': ['Anakin Skywalker']}, 'middle': {'': ['Han Solo', 'Luke Skywalker', 'Anakin Skywalker']}, 'last': {'Solo': ['Han Solo'], 'Skywalker': ['Luke Skywalker', 'Anakin Skywalker']}}, 96: {'first': {'Han': ['Han Solo'], 'Luke': ['Luke Skywalker'], 'Anakin': ['Anakin Skywalker']}, 'middle': {'': ['Han Solo', 'Luke Skywalker', 'Anakin Skywalker']}, 'last': {'Solo': ['Han Solo'], 'Skywalker': ['Luke Skywalker', 'Anakin Skywalker']}}, 98: 3, 121: 8, 122: 9, 123: 8, 124: 3125, 125: 27, 126: [0, 1, 2, 3, 4, 5, 6, 7, 8, 9], 127: [1, 2, 3, 4], 128: [3, 7, 11], 129: 81, 134: [0, 1, 2, 3, 4, 5, 6, 7, 8, 9], 135: [1, 2, 3, 4], 136: [3, 7, 11], 137: 81, 138: 1}, 'get_ipython': <bound method InteractiveShell.get_ipython of <ipykernel.zmqshell.ZMQInteractiveShell object at 0x0000024B25BBDEB8>>, 'exit': <IPython.core.autocall.ZMQExitAutocall object at 0x0000024B25C5F128>, 'quit': <IPython.core.autocall.ZMQExitAutocall object at 0x0000024B25C5F128>, '_': 1, '__': 81, '___': [3, 7, 11], '_i': \"#作用域\\nx = 1\\nscope = vars()\\nscope['x']\", '_ii': 'power(*interval(3, 7))', '_iii': 'interval(3, 12, 4)', '_i1': '#计算斐波那契数\\nfibs = [0, 1]\\nfor i in range(8):\\n    fibs.append(fibs[-2] + fibs[-1])', 'fibs': <function fibs at 0x0000024B25D488C8>, 'i': 7, '_i2': 'fibs', '_2': [0, 1, 1, 2, 3, 5, 8, 13, 21, 34], '_i3': '#计算斐波那契数\\nfibs = [0, 1]\\nfor i in range(8):\\n    fibs.append(fibs[-2] + fibs[-1])\\n    print(fibs)', '_i4': '#计算斐波那契数\\nfibs = [0, 1]\\nprint(fibs)\\nfor i in range(8):\\n    fibs.append(fibs[-2] + fibs[-1])\\n    print(fibs)', '_i5': \"fibs = [0, 1]\\nnum = int(input('How many Fibonacci numbers do you want? '))\\nfor i in range(num-2):\\n    fibs.append(fibs[-2] + fibs[-1])\\nprint(fibs)\", 'num': '10', '_i6': \"num = input('How many numbers do you want? ')\\nprint(fibs(num))\", '_i7': '#抽象和结构\\n#这些操作的具体细节，将在其他地方（独立的函数定义）中给出', '_i8': '#自定义函数，函数执行特定的操作并返回一个值\\n#可以调用它（调用时可能需要提供一些参数——放在圆括号中的内容）\\n#要判断某个对象是否可调用，可使用内置函数callable\\nimport math\\nx = 1\\ny = math.sqrt\\ncallable(x)', 'math': <module 'math' (built-in)>, 'x': 1, 'y': <built-in function sqrt>, '_8': False, '_i9': 'callable(y)', '_9': True, '_i10': \"#使用def（表示定义函数）语句\\ndef hello(name):\\n    return 'Hello, ' + name + '!'\", 'hello': <function hello at 0x0000024B25D48598>, '_i11': 'hello(world)', '_i12': \"hello('world')\", '_12': 'Hello, world!', '_i13': \"hello('tygors')\", '_13': 'Hello, tygors!', '_i14': 'def fibs(num):\\n    for i in range(num-2):\\n        result.append(result[-2] + result[-1])\\n    return result', '_i15': 'fibs(10)', '_i16': 'def fibs(num):\\n    result = [0,1]\\n    for i in range(num-2):\\n        result.append(result[-2] + result[-1])\\n    return result', '_i17': 'fibs(10)', '_17': [0, 1, 1, 2, 3, 5, 8, 13, 21, 34], '_i18': 'fibs(19)', '_18': [0, 1, 1, 2, 3, 5, 8, 13, 21, 34, 55, 89, 144, 233, 377, 610, 987, 1597, 2584], '_i19': \"#给函数编写文档,除了注释，添加独立的字符串\\n#直接放在def语句后面的引号语句（字符串）,称为文档字符串\\ndef square(x):\\n    'Calculates the square of the number x.'\\n    return x * x\", 'square': <function square at 0x0000024B25D48950>, '_i20': 'square.__doc__', '_20': 'Calculates the square of the number x.', '_i21': 'help(square)', '_i22': \"#其实并不是函数的函数(即使不返回任何值)\\ndef test():\\n    print('This is printed')\\n    return\\n    print('This is not')\", 'test': <function test at 0x0000024B25D489D8>, '_i23': 'x = test()', '_i24': 'x', '_i25': 'print(x)', '_i26': \"#参数魔法\\n#修改参数，在函数内部给参数赋值对外部没有任何影响\\ndef try_to_change(n):\\n    n = 'Mr. Gumby'\\n    return n\\n\\nname = 'Mrs. Entity'\\ntry_to_change(name)\\nname\", 'try_to_change': <function try_to_change at 0x0000024B25D48A60>, 'name': 'Mrs. Entity', '_26': 'Mrs. Entity', '_i27': \"#字符串（以及数和元组）是不可变的（ immutable）\\ndef change(n):\\n    n[0] = 'Mr. Gumby'\\nnames = ['Mrs. Entity', 'Mrs. Thing']\\nchange(names)\\nnames\", 'change': <function change at 0x0000024B25D486A8>, 'names': ['Mrs. Entity', 'Mrs. Thing'], '_27': ['Mr. Gumby', 'Mrs. Thing'], '_i28': \"names = ['Mrs. Entity', 'Mrs. Thing']\\nchange(names[:])\\nnames\", '_28': ['Mrs. Entity', 'Mrs. Thing'], '_i29': \"#编写一个程序，让它存储姓名，并让用户能够根据名字、中间名或姓找人\\n#数据结构\\nstorage = {}\\nstorage['first'] = {}\\nstorage['middle'] = {}\\nstorage['last'] = {}\\n\\nme = 'Magnus Lie Hetland'\\nstorage['first']['Magnus'] = [me]\\nstorage['middle']['Lie'] = [me]\\nstorage['last']['Hetland'] = [me]\\nprint(storage)\", 'storage': {'first': {}, 'middle': {}, 'last': {}}, 'me': 'Magnus Lie Hetland', '_i30': \"storage['middle']['Lie']\", '_30': ['Magnus Lie Hetland', 'Anne Lie Hetland'], '_i31': \"my_sister = 'Anne Lie Hetland'\\nstorage['first'].setdefault('Anne', []).append(my_sister)\\nstorage['middle'].setdefault('Lie', []).append(my_sister)\\nstorage['last'].setdefault('Hetland', []).append(my_sister)\\nstorage['first']['Anne']\", 'my_sister': 'Anne Lie Hetland', '_31': ['Anne Lie Hetland'], '_i32': 'storage', '_32': {'first': {'Magnus': ['Magnus Lie Hetland'], 'Anne': ['Anne Lie Hetland']}, 'middle': {'Lie': ['Magnus Lie Hetland', 'Anne Lie Hetland']}, 'last': {'Hetland': ['Magnus Lie Hetland', 'Anne Lie Hetland']}}, '_i33': \"#抽象的关键在于隐藏所有的更新细节，为此可使用函数\\ndef init(data):\\n    data['first'] = {}\\n    data['middle'] = {}\\n    data['last'] = {}\", 'init': <function init at 0x0000024B25D48D90>, '_i34': 'storage = {}\\ninit(storage)\\nstorage', '_34': {'first': {}, 'middle': {}, 'last': {}}, '_i35': 'storage = {}\\ninit(storage)\\nstorage', '_35': {'first': {}, 'middle': {}, 'last': {}}, '_i36': '#在字典中，键的排列顺序是不固定的，因此打印字典时，每次的顺序都可能不同\\n#如果你在解释器中打印出来的顺序不同，请不用担心\\n#先来编写获取人员姓名的函数，再接着编写存储人员姓名的函数', '_i37': '#在字典中，键的排列顺序是不固定的，因此打印字典时，每次的顺序都可能不同\\n#如果你在解释器中打印出来的顺序不同，请不用担心\\n#先来编写获取人员姓名的函数，再接着编写存储人员姓名的函数\\ndef lookup(data, label, name):\\n    return data[label].get(name)', 'lookup': <function lookup at 0x0000024B25D48B70>, '_i38': \"storage = {}\\nstorage['first'] = {}\\nstorage['middle'] = {}\\nstorage['last'] = {}\\n\\nme = 'Magnus Lie Hetland'\\nstorage['first']['Magnus'] = [me]\\nstorage['middle']['Lie'] = [me]\\nstorage['last']['Hetland'] = [me]\\n\\nmy_sister = 'Anne Lie Hetland'\\nstorage['first'].setdefault('Anne', []).append(my_sister)\\nstorage['middle'].setdefault('Lie', []).append(my_sister)\\nstorage['last'].setdefault('Hetland', []).append(my_sister)\\nstorage['first']['Anne']\\n\\nlookup(storage, 'middle', 'Lie')\", '_38': ['Magnus Lie Hetland', 'Anne Lie Hetland'], '_i39': \"storage = {}\\ninit(storage)\\nstorage\\n#编写将人员存储到数据结构中的函数\\ndef store(data, full_name):    #将参数data和full_name提供到函数\\n    names = full_name.split()  #拆分full_name以创建一个名为names的列表\\n    if len(names) == 2:        #如果names的长度为2(只有名字和姓)，就将中间名设置为空字符串\\n        name.insert(1, '')     \\n    labels = 'first', 'middle', 'last'  #将first、middle、last存储在元组labels中（或者列表)\\n    \\n    for label, name in zip(labels, names):  #使用函数zip将标签和对应的名字合并\\n        people = lookup(data, label, name)  #获取属于该标签和名字的列表\\n        if people:                          #如果找到\\n            people.append(full_name)        #将full_name附加到该列表末尾\\n        else:                               #如果没找到\\n            data[label][name] = [full_name] #插入一个新列表\", 'store': <function store at 0x0000024B26DCD268>, '_i40': \"MyNames = {}\\ninit(MyNames)\\nstore(MyNames, 'Magnus Lie Hetland')\\nlookup(MyNames, 'middle', 'Lie')\", 'MyNames': {'first': {'Magnus': ['Magnus Lie Hetland'], 'Robin': ['Robin Hood', 'Robin Locksley'], 'Mr.': ['Mr. Gumby']}, 'middle': {'Lie': ['Magnus Lie Hetland'], '': ['Robin Hood', 'Robin Locksley', 'Mr. Gumby']}, 'last': {'Hetland': ['Magnus Lie Hetland'], 'Hood': ['Robin Hood'], 'Locksley': ['Robin Locksley'], 'Gumby': ['Mr. Gumby']}}, '_40': ['Magnus Lie Hetland'], '_i41': 'Mynames', '_i42': 'MyNames', '_42': {'first': {'Magnus': ['Magnus Lie Hetland']}, 'middle': {'Lie': ['Magnus Lie Hetland']}, 'last': {'Hetland': ['Magnus Lie Hetland']}}, '_i43': \"store(MyNames, 'Robin Hood')\\nstore(MyNames, 'Robin Locksley')\\nMyNames\", '_i44': \"storage = {}\\ninit(storage)\\nstorage\\n#编写将人员存储到数据结构中的函数\\ndef store(data, full_name):    #将参数data和full_name提供到函数\\n    names = full_name.split()  #拆分full_name以创建一个名为names的列表\\n    if len(names) == 2:        #如果names的长度为2(只有名字和姓)，就将中间名设置为空字符串\\n        names.insert(1, '')     \\n    labels = 'first', 'middle', 'last'  #将first、middle、last存储在元组labels中（或者列表)\\n    \\n    for label, name in zip(labels, names):  #使用函数zip将标签和对应的名字合并\\n        people = lookup(data, label, name)  #获取属于该标签和名字的列表\\n        if people:                          #如果找到\\n            people.append(full_name)        #将full_name附加到该列表末尾\\n        else:                               #如果没找到\\n            data[label][name] = [full_name] #插入一个新列表\", '_i45': \"MyNames = {}\\ninit(MyNames)\\nstore(MyNames, 'Magnus Lie Hetland')\\nlookup(MyNames, 'middle', 'Lie')\", '_45': ['Magnus Lie Hetland'], '_i46': 'MyNames', '_46': {'first': {'Magnus': ['Magnus Lie Hetland'], 'Robin': ['Robin Hood', 'Robin Locksley'], 'Mr.': ['Mr. Gumby']}, 'middle': {'Lie': ['Magnus Lie Hetland'], '': ['Robin Hood', 'Robin Locksley', 'Mr. Gumby']}, 'last': {'Hetland': ['Magnus Lie Hetland'], 'Hood': ['Robin Hood'], 'Locksley': ['Robin Locksley'], 'Gumby': ['Mr. Gumby']}}, '_i47': \"store(MyNames, 'Robin Hood')\\nstore(MyNames, 'Robin Locksley')\\nMyNames\", '_47': {'first': {'Magnus': ['Magnus Lie Hetland'], 'Robin': ['Robin Hood', 'Robin Locksley'], 'Mr.': ['Mr. Gumby']}, 'middle': {'Lie': ['Magnus Lie Hetland'], '': ['Robin Hood', 'Robin Locksley', 'Mr. Gumby']}, 'last': {'Hetland': ['Magnus Lie Hetland'], 'Hood': ['Robin Hood'], 'Locksley': ['Robin Locksley'], 'Gumby': ['Mr. Gumby']}}, '_i48': \"lookup(MyNames, 'first', 'Robin')\", '_48': ['Robin Hood', 'Robin Locksley'], '_i49': \"store(MyNames, 'Mr. Gumby')\\nlookup(MyNames, 'middle', '')\", '_49': ['Robin Hood', 'Robin Locksley', 'Mr. Gumby'], '_i50': '#如果参数是不可变的:不好意思，没办法。\\n#在这种情况下，应从函数返回所有需要的值（如果需要返回多个值，就以元组的方式返回它们）。\\ndef inc(x): return x + 1\\n\\nfoo = 10\\nfoo = inc(foo)\\nfoo', 'inc': <function inc at 0x0000024B26DCD598>, 'foo': <function foo at 0x0000024B2766EA60>, '_50': 11, '_i51': '#如果一定要修改参数，可玩点花样，比如将值放在列表中\\ndef inc(x): x[0] = x[0] + 1\\n\\nfoo = [10]\\ninc(foo)\\nfoo', '_51': [11], '_i52': \"#关键字参数和默认值\\ndef hello_1(greeting, name):\\n    print('{}, {}!'.format(greeting,name))\\n    \\ndef hello_2(name, greeting):\\n    print('{}, {}!'.format(name, greeting))\", 'hello_1': <function hello_1 at 0x0000024B26DCDF28>, 'hello_2': <function hello_2 at 0x0000024B26DCDA60>, '_i53': \"hello_1('hello', 'world')\", '_i54': \"hello_2('HELLO', 'WORLD')\", '_i55': \"hello_1(name='world',greeting='hello')\", '_i56': \"hello_2(greeting='hello', name='world')\", '_i57': \"def hello_3(greeting='hello', name='world'):\\n    print('{}, {}!'.format(greeting, name))\", 'hello_3': <function hello_3 at 0x0000024B26DCD950>, '_i58': 'hello_3()', '_i59': \"hello_3('Greetings')\", '_i60': \"hello_3('Greetings', 'universe')\", '_i61': \"hello_3(name='universe', greeting='Greetings')\", '_i62': \"hello_3(name='gumby')\", '_i63': \"def hello_4(name, greeting='Hello', punctuation='!'):\\n    print('{}, {}{}'.format(greeting, name, punctuation))\", 'hello_4': <function hello_4 at 0x0000024B26DCDB70>, '_i64': \"hello_4('Mars')\", '_i65': \"hello_4('Mars', 'Howdy')\", '_i66': \"hello_4('Mars', 'Howdy', '...')\", '_i67': \"hello_4('Mars', punctuation='.')\", '_i68': \"hello_4('Mars', greeting='Top of the morning to ya')\", '_i69': ' hello_4()', '_i70': '#收集参数\\n#如果能够像下面这样同时存储多个姓名就好了\\ndef print_params(*params):\\n    print(params)', 'print_params': <function print_params at 0x0000024B26DCD840>, '_i71': \"print_params('Testing')\", '_i72': 'print_params(1, 2, 3)', '_i73': 'def print_params_2(title, *params):\\n    print(title)\\n    print(params)', 'print_params_2': <function print_params_2 at 0x0000024B26DCD488>, '_i74': \"print_params_2('Params:', 1, 2, 3)\", '_i75': \"print_params_2('Nothing:')\", '_i76': 'def in_the_middle(x, *y, z):\\n    print(x, y, z)', 'in_the_middle': <function in_the_middle at 0x0000024B26DCD400>, '_i77': 'in_the_middle(1, 2, 3, 4, 5, z=7)', '_i78': 'in_the_middle(1, 2, 3, 4, 5, 7)', '_i79': \"#星号不会收集关键字参数\\nprint_params_2('Hmm...', something=42)\", '_i80': \"print_params_2('Hmm...', title=42)\", '_i81': '#要收集关键字参数，可使用两个星号\\ndef print_params_3(**params):\\n    print(params)', 'print_params_3': <function print_params_3 at 0x0000024B26DCD510>, '_i82': '#这样得到的是一个字典而不是元组\\nprint_params_3(x=1, y=2, z=3)', '_i83': 'def print_params_4(x, y, z=3, *pospar, **keypar):\\n    print(x, y, z)\\n    print(pospar)\\n    print(keypar)', 'print_params_4': <function print_params_4 at 0x0000024B26DCD9D8>, '_i84': 'print_params_4(1, 2, 3, 5, 6, 7, foo=1, bar=2)', '_i85': 'print_params_4(1, 2)', '_i86': \"def store(data, *full_names):\\n    for full_name in full_names:\\n        names = full_name.split()\\n        if len(names) == 2: \\n            names.insert(1, '')\\n        labels = 'first', 'middle', 'last'\\n        for label, name in zip(labels, names):\\n            people = lookup(data, label, name)\\n            if people:\\n                people.append(full_name)\\n            else:\\n                data[label][name] = [full_name]\", '_i87': \"d = {}\\ninit(d)\\nstore(d, 'Han Solo')\", 'd': {'first': {'Han': ['Han Solo'], 'Luke': ['Luke Skywalker'], 'Anakin': ['Anakin Skywalker']}, 'middle': {'': ['Han Solo', 'Luke Skywalker', 'Anakin Skywalker']}, 'last': {'Solo': ['Han Solo'], 'Skywalker': ['Luke Skywalker', 'Anakin Skywalker']}}, '_i88': 'store', '_88': <function store at 0x0000024B26DCD268>, '_i89': 'print(store.items())', '_i90': 'print(store)', '_i91': 'd', '_91': {'first': {'Han': ['Han Solo'], 'Luke': ['Luke Skywalker'], 'Anakin': ['Anakin Skywalker']}, 'middle': {'': ['Han Solo', 'Luke Skywalker', 'Anakin Skywalker']}, 'last': {'Solo': ['Han Solo'], 'Skywalker': ['Luke Skywalker', 'Anakin Skywalker']}}, '_i92': \"store(d, 'Luke Skywalker', 'Anakin Skywalker')\\nlookup(d, 'last', 'Skywalker')\\nd\", '_92': {'first': {'Han': ['Han Solo'], 'Luke': ['Luke Skywalker'], 'Anakin': ['Anakin Skywalker']}, 'middle': {'': ['Han Solo', 'Luke Skywalker', 'Anakin Skywalker']}, 'last': {'Solo': ['Han Solo'], 'Skywalker': ['Luke Skywalker', 'Anakin Skywalker']}}, '_i93': \"d = {}\\ninit(d)\\nd\\nstore(d, 'Han Solo')\", '_i94': \"d = {}\\ninit(d)\\nprint(d)\\nstore(d, 'Han Solo')\", '_i95': 'd', '_95': {'first': {'Han': ['Han Solo'], 'Luke': ['Luke Skywalker'], 'Anakin': ['Anakin Skywalker']}, 'middle': {'': ['Han Solo', 'Luke Skywalker', 'Anakin Skywalker']}, 'last': {'Solo': ['Han Solo'], 'Skywalker': ['Luke Skywalker', 'Anakin Skywalker']}}, '_i96': \"store(d, 'Luke Skywalker', 'Anakin Skywalker')\\nlookup(d, 'last', 'Skywalker')\\nd\", '_96': {'first': {'Han': ['Han Solo'], 'Luke': ['Luke Skywalker'], 'Anakin': ['Anakin Skywalker']}, 'middle': {'': ['Han Solo', 'Luke Skywalker', 'Anakin Skywalker']}, 'last': {'Solo': ['Han Solo'], 'Skywalker': ['Luke Skywalker', 'Anakin Skywalker']}}, '_i97': '#分配参数，收集参数相反的操作\\ndef add(x, y):\\n    return x + y', 'add': <function add at 0x0000024B26DCD6A8>, '_i98': '#有一个元组，其中包含两个你要相加的数\\nparams = (1, 2)\\n#在调用函数（而不是定义函数）时使用运算符*实现的\\nadd(*params)', 'params': (5, 5), '_98': 3, '_i99': \"#参数分配也可用于参数列表一部分，要求需要分配的部分位于参数列表末尾\\n#此时需要用**可以分配给关键字参数\\nparams = {'name': 'sir robin', 'greeting': 'well met'}\", '_i100': \"#参数分配也可用于参数列表一部分，要求需要分配的部分位于参数列表末尾\\n#此时需要用**可以分配给关键字参数\\nparams = {'name': 'sir robin', 'greeting': 'well met'}\\nhello_3(**params)\", '_i101': \"#如果在定义和调用函数时都使用*或**，将只传递元组或字典\\n#一般都不这么使用\\ndef with_stars(**kwds):\\n    print(kwds['name'], 'is', kwds['age'], 'years old')\\n\\ndef without_stars(kwds):\\n    print(kwds['name'], 'is', kwds['age'], 'years old')\", 'with_stars': <function with_stars at 0x0000024B26DCD1E0>, 'without_stars': <function without_stars at 0x0000024B26DCD0D0>, '_i102': \"args = {'name': 'Mr. Gumby', 'age': 42}\\nwith_stars(**args)\", 'args': {'name': 'Mr. Gumby', 'age': 42}, '_i103': \"#如果在定义和调用函数时都使用*或**，将只传递元组或字典\\n#一般都不这么使用\\ndef with_stars(**kwds):\\n    print(kwds)\\n    print(kwds['name'], 'is', kwds['age'], 'years old')\\n\\ndef without_stars(kwds):\\n    print(kwds['name'], 'is', kwds['age'], 'years old')\", '_i104': \"#如果在定义和调用函数时都使用*或**，将只传递元组或字典\\n#一般都不这么使用\\ndef with_stars(**kwds):\\n    print(kwds)\\n    print(kwds['name'], 'is', kwds['age'], 'years old')\\n\\ndef without_stars(kwds):\\n    print(kwds)\\n    print(kwds['name'], 'is', kwds['age'], 'years old')\", '_i105': \"args = {'name': 'Mr. Gumby', 'age': 42}\\nwith_stars(**args)\", '_i106': 'without_stars(args)', '_i107': '#只有在定义函数（允许可变数量的参数） 或调用函数时（拆分字典或序列）使用，星号才能发挥作用\\ndef foo(x, y, z, m=0, n=0):\\n    print(x, y, z, m, n)\\ndef call_foo(*args, **kwds):\\n    print(\"Calling foo!\")\\n    foo(*args, **kwds)\\n    \\nparameters1 = (1,2,3)\\nparameters2 = {n=4,m=5}\\n\\ncall_foo(parameters1,parameters2)', '_i108': '#只有在定义函数（允许可变数量的参数） 或调用函数时（拆分字典或序列）使用，星号才能发挥作用\\ndef foo(x, y, z, m=0, n=0):\\n    print(x, y, z, m, n)\\ndef call_foo(*args, **kwds):\\n    print(\"Calling foo!\")\\n    foo(*args, **kwds)\\n    \\nparameters1 = (1,2,3)\\nparameters2 = {n:4,m:5}\\n\\ncall_foo(parameters1,parameters2)', 'call_foo': <function call_foo at 0x0000024B2766EBF8>, 'parameters1': (1, 2, 3), '_i109': '#只有在定义函数（允许可变数量的参数） 或调用函数时（拆分字典或序列）使用，星号才能发挥作用\\ndef foo(x, y, z, m=0, n=0):\\n    print(x, y, z, m, n)\\ndef call_foo(*args, **kwds):\\n    print(\"Calling foo!\")\\n    foo(*args, **kwds)\\n    \\nparameters1 = (1,2,3)\\nparameters2 = {\\'n\\':4,\\'m\\':5}\\n\\ncall_foo(parameters1,parameters2)', 'parameters2': {'n': 4, 'm': 5}, '_i110': '#只有在定义函数（允许可变数量的参数） 或调用函数时（拆分字典或序列）使用，星号才能发挥作用\\ndef foo(x, y, z, m=0, n=0):\\n    print(x, y, z, m, n)\\ndef call_foo(*args, **kwds):\\n    print(\"Calling foo!\")\\n    foo(*args, **kwds)\\n    \\nparameters1 = (1,2,3)\\nparameters2 = {\\'n\\':4,\\'m\\':5}\\n\\ncall_foo(*parameters1,**parameters2)', '_i111': '#只有在定义函数（允许可变数量的参数） 或调用函数时（拆分字典或序列）使用，星号才能发挥作用\\ndef foo(x, y, z, m=0, n=0):\\n    print(x, y, z, m, n)\\ndef call_foo(*args, **kwds):\\n    print(\"Calling foo!\")\\n    foo(*args, **kwds)\\n    \\nparameters1 = (1,2,3)\\nparameters2 = {n=4,m=5}\\n\\ncall_foo(*parameters1,**parameters2)', '_i112': '#只有在定义函数（允许可变数量的参数） 或调用函数时（拆分字典或序列）使用，星号才能发挥作用\\ndef foo(x, y, z, m=0, n=0):\\n    print(x, y, z, m, n)\\ndef call_foo(*args, **kwds):\\n    print(\"Calling foo!\")\\n    foo(*args, **kwds)\\n    \\nparameters1 = (1,2,3)\\nparameters2 = {n:4,m:5}\\n\\ncall_foo(*parameters1,**parameters2)', '_i113': '#只有在定义函数（允许可变数量的参数） 或调用函数时（拆分字典或序列）使用，星号才能发挥作用\\ndef foo(x, y, z, m=0, n=0):\\n    print(x, y, z, m, n)\\ndef call_foo(*args, **kwds):\\n    print(\"Calling foo!\")\\n    foo(*args, **kwds)\\n    \\nparameters1 = (1,2,3)\\nparameters2 = {\\'n\\':4,\\'m\\':5}\\n\\ncall_foo(*parameters1,**parameters2)', '_i114': '#只有在定义函数（允许可变数量的参数） 或调用函数时（拆分字典或序列）使用，星号才能发挥作用\\ndef foo(x, y, z, m=0, n=0):\\n    print(x, y, z, m, n)\\ndef call_foo(*args, **kwds):\\n    print(\"Calling foo!\")\\n    print(args,kwds)\\n    foo(*args, **kwds)\\n    \\nparameters1 = (1,2,3)\\nparameters2 = {\\'n\\':4,\\'m\\':5}\\n\\ncall_foo(*parameters1,**parameters2)', '_i115': '#只有在定义函数（允许可变数量的参数） 或调用函数时（拆分字典或序列）使用，星号才能发挥作用\\ndef foo(x, y, z, m=0, n=0):\\n    print(x, y, z, m, n)\\ndef call_foo(*args, **kwds):\\n    print(\"Calling foo!\")\\n    print(args,kwds)\\n    foo(*args, **kwds)\\n    \\nparameters1 = (1,2,3)\\nparameters2 = {\\'n\\':4,\\'m\\':5}\\n\\ncall_foo(*parameters1,**parameters2)', '_i116': \"#练习使用参数\\ndef story(**kwds):\\n    return 'Once upon a time, there was a ' \\\\\\n        '{job} called {name}.'.format_map(kwds)\\n\\ndef power(x, y, *others):\\n    if others:\\n        print('Received redundant parameters:', others)\\n    return pow(x, y)\\n\\ndef interval(start, stop=None, step=1):\\n    'Imitates range() for step > 0'\\n    if stop is None: # 如果没有给参数stop指定值，\\n        start, stop = 0, start # 就调整参数start和stop的值\\n    result = []\\n    i = start # 从start开始往上数\\n    while i < stop: # 数到stop位置\\n        result.append(i) # 将当前数的数附加到result末尾\\n        i += step # 增加到当前数和step（ > 0）之和\\n    return result\", 'story': <function story at 0x0000024B2766EAE8>, 'power': <function power at 0x0000024B2766EC80>, 'interval': <function interval at 0x0000024B2766E598>, '_i117': \"print(story(job='king', name='Gumby'))\", '_i118': \"print(story(name='Sir Robin', job='brave knight'))\", '_i119': \"params = {'job': 'language', 'name': 'Python'}\\nprint(story(**params))\", '_i120': \"del params['job']\\nprint(story(job='stroke of genius', **params))\", '_i121': 'power(2, 3)', '_121': 8, '_i122': 'power(3, 2)', '_122': 9, '_i123': 'power(y=3, x=2)', '_123': 8, '_i124': 'params = (5,) * 2\\nprint(params)\\npower(*params)', '_124': 3125, '_i125': \"power(3, 3, 'Hello, world')\", '_125': 27, '_i126': 'interval(10)', '_126': [0, 1, 2, 3, 4, 5, 6, 7, 8, 9], '_i127': 'interval(1, 5)', '_127': [1, 2, 3, 4], '_i128': 'interval(3, 12, 4)', '_128': [3, 7, 11], '_i129': 'power(*interval(3, 7))', '_129': 81, '_i130': \"#练习使用参数\\ndef story(**kwds):\\n    return 'Once upon a time, there was a ' \\\\\\n        '{job} called {name}.'.format_map(kwds)\\n\\ndef power(x, y, *others):\\n    if others:\\n        print('Received redundant parameters:', others)\\n    return pow(x, y)\\n\\ndef interval(start, stop=None, step=1):\\n    'Imitates range() for step > 0'\\n    if stop is None: # 如果没有给参数stop指定值，\\n        start, stop = 0 # 就调整参数start和stop的值\\n    result = []\\n    i = start # 从start开始往上数\\n    while i < stop: # 数到stop位置\\n        result.append(i) # 将当前数的数附加到result末尾\\n        i += step # 增加到当前数和step（ > 0）之和\\n    return result\", '_i131': 'interval(10)', '_i132': 'interval(10)', '_i133': \"#练习使用参数\\ndef story(**kwds):\\n    return 'Once upon a time, there was a ' \\\\\\n        '{job} called {name}.'.format_map(kwds)\\n\\ndef power(x, y, *others):\\n    if others:\\n        print('Received redundant parameters:', others)\\n    return pow(x, y)\\n\\ndef interval(start, stop=None, step=1):\\n    'Imitates range() for step > 0'\\n    if stop is None: # 如果没有给参数stop指定值，\\n        start, stop = 0, start # 就调整参数start和stop的值（交换位置）\\n    result = []\\n    i = start # 从start开始往上数\\n    while i < stop: # 数到stop位置\\n        result.append(i) # 将当前数的数附加到result末尾\\n        i += step # 增加到当前数和step（ > 0）之和\\n    return result\", '_i134': 'interval(10)', '_134': [0, 1, 2, 3, 4, 5, 6, 7, 8, 9], '_i135': 'interval(1, 5)', '_135': [1, 2, 3, 4], '_i136': 'interval(3, 12, 4)', '_136': [3, 7, 11], '_i137': 'power(*interval(3, 7))', '_137': 81, '_i138': \"#作用域\\nx = 1\\nscope = vars()\\nscope['x']\", 'scope': {...}, '_138': 1, '_i139': 'print(scope)'}\n"
     ]
    }
   ],
   "source": [
    "print(scope)"
   ]
  },
  {
   "cell_type": "code",
   "execution_count": 140,
   "id": "traditional-wales",
   "metadata": {},
   "outputs": [
    {
     "data": {
      "text/plain": [
       "2"
      ]
     },
     "execution_count": 140,
     "metadata": {},
     "output_type": "execute_result"
    }
   ],
   "source": [
    "scope['x'] += 1\n",
    "x"
   ]
  },
  {
   "cell_type": "code",
   "execution_count": 141,
   "id": "competitive-mounting",
   "metadata": {},
   "outputs": [
    {
     "data": {
      "text/plain": [
       "1"
      ]
     },
     "execution_count": 141,
     "metadata": {},
     "output_type": "execute_result"
    }
   ],
   "source": [
    "#每个函数调用都将创建一个作用域\n",
    "def foo():\n",
    "    x = 42\n",
    "    \n",
    "x = 1\n",
    "foo()\n",
    "x"
   ]
  },
  {
   "cell_type": "code",
   "execution_count": 142,
   "id": "orange-gazette",
   "metadata": {},
   "outputs": [
    {
     "name": "stdout",
     "output_type": "stream",
     "text": [
      "2\n"
     ]
    },
    {
     "data": {
      "text/plain": [
       "1"
      ]
     },
     "execution_count": 142,
     "metadata": {},
     "output_type": "execute_result"
    }
   ],
   "source": [
    "def output(x):\n",
    "    print(x)\n",
    "x = 1\n",
    "y = 2\n",
    "output(y)\n",
    "x"
   ]
  },
  {
   "cell_type": "code",
   "execution_count": 143,
   "id": "structured-resort",
   "metadata": {},
   "outputs": [
    {
     "name": "stdout",
     "output_type": "stream",
     "text": [
      "Shrubberry\n"
     ]
    }
   ],
   "source": [
    "def combine(parameter):\n",
    "    print(parameter + external)\n",
    "    \n",
    "external = 'berry'\n",
    "combine('Shrub')\n",
    "#像这样访问全局变量是众多bug的根源。务必慎用全局变量"
   ]
  },
  {
   "cell_type": "code",
   "execution_count": 144,
   "id": "alpine-intermediate",
   "metadata": {},
   "outputs": [],
   "source": [
    "#如果需要，可使用函数globals来访问全局变量。这个函数类似于vars，返回一个包含全局变量的字典。\n",
    "#locals返回一个包含局部变量的字典。"
   ]
  },
  {
   "cell_type": "code",
   "execution_count": 145,
   "id": "civic-harbor",
   "metadata": {},
   "outputs": [
    {
     "name": "stdout",
     "output_type": "stream",
     "text": [
      "Shrubberry\n"
     ]
    }
   ],
   "source": [
    "def combine(parameter):\n",
    "    print(parameter + globals()['parameter'])\n",
    "\n",
    "parameter = 'berry'\n",
    "combine('Shrub')"
   ]
  },
  {
   "cell_type": "code",
   "execution_count": 146,
   "id": "horizontal-preliminary",
   "metadata": {},
   "outputs": [
    {
     "name": "stdout",
     "output_type": "stream",
     "text": [
      "2\n"
     ]
    },
    {
     "data": {
      "text/plain": [
       "2"
      ]
     },
     "execution_count": 146,
     "metadata": {},
     "output_type": "execute_result"
    }
   ],
   "source": [
    "#重新关联全局变量（使其指向新值）是另一码事\n",
    "#在函数内部给变量赋值时，该变量默认为局部变量，除非你明确地告诉Python它是全局变量\n",
    "x = 1\n",
    "def change_global():\n",
    "    global x\n",
    "    x = x + 1\n",
    "    print(x)\n",
    "\n",
    "change_global()\n",
    "x"
   ]
  },
  {
   "cell_type": "code",
   "execution_count": 147,
   "id": "green-arthritis",
   "metadata": {},
   "outputs": [],
   "source": [
    "#作用域嵌套\n",
    "#一个函数位于另一个函数中，且外面的函数返回里面的函数\n",
    "#它携带着自己所在的环境（和相关的局部变量）\n",
    "def multiplier(factor):\n",
    "    def multiplyByFactor(number):\n",
    "        return number * factor\n",
    "    return multiplyByFactor\n",
    "#像multiplyByFactor这样存储其所在作用域的函数称为闭包。"
   ]
  },
  {
   "cell_type": "code",
   "execution_count": 148,
   "id": "satellite-egyptian",
   "metadata": {},
   "outputs": [
    {
     "data": {
      "text/plain": [
       "10"
      ]
     },
     "execution_count": 148,
     "metadata": {},
     "output_type": "execute_result"
    }
   ],
   "source": [
    "double = multiplier(2)\n",
    "double(5)"
   ]
  },
  {
   "cell_type": "code",
   "execution_count": 149,
   "id": "anonymous-crash",
   "metadata": {},
   "outputs": [
    {
     "data": {
      "text/plain": [
       "9"
      ]
     },
     "execution_count": 149,
     "metadata": {},
     "output_type": "execute_result"
    }
   ],
   "source": [
    "triple = multiplier(3)\n",
    "triple(3)"
   ]
  },
  {
   "cell_type": "code",
   "execution_count": 150,
   "id": "useful-holocaust",
   "metadata": {},
   "outputs": [
    {
     "data": {
      "text/plain": [
       "20"
      ]
     },
     "execution_count": 150,
     "metadata": {},
     "output_type": "execute_result"
    }
   ],
   "source": [
    "multiplier(5)(4)"
   ]
  },
  {
   "cell_type": "code",
   "execution_count": 151,
   "id": "together-damages",
   "metadata": {},
   "outputs": [],
   "source": [
    "#通常，不能给外部作用域内的变量赋值，但如果一定要这样做，可使用关键字nonlocal。\n",
    "#这个关键字的用法与global很像，让你能够给外部作用域（非全局作用域）内的变量赋值。"
   ]
  },
  {
   "cell_type": "code",
   "execution_count": 152,
   "id": "sized-olympus",
   "metadata": {},
   "outputs": [],
   "source": [
    "#递归，函数还可调用自己\n",
    "#简单地说，递归意味着引用（这里是调用）自身\n",
    "#递归函数通常包含下面两部分：\n",
    "#基线条件（针对最小的问题）：满足这种条件时函数将直接返回一个值。\n",
    "#递归条件：包含一个或多个调用，这些调用旨在解决问题的一部分。"
   ]
  },
  {
   "cell_type": "code",
   "execution_count": 153,
   "id": "legitimate-rescue",
   "metadata": {},
   "outputs": [],
   "source": [
    "#两个经典案例：阶乘和幂\n",
    "#阶乘\n",
    "def factorial(n):\n",
    "    result = n\n",
    "    for i in range(1, n):\n",
    "        result *= i\n",
    "    return result"
   ]
  },
  {
   "cell_type": "code",
   "execution_count": 154,
   "id": "spectacular-playback",
   "metadata": {},
   "outputs": [],
   "source": [
    "#用阶乘的定义，写成递归的形式\n",
    "#1的阶乘为1。\n",
    "#对于大于1的数字n，其阶乘为n - 1的阶乘再乘以n\n",
    "def factorial(n):\n",
    "    if n == 1:\n",
    "        return 1\n",
    "    else:\n",
    "        return n * factorial(n - 1)"
   ]
  },
  {
   "cell_type": "code",
   "execution_count": 155,
   "id": "micro-rwanda",
   "metadata": {},
   "outputs": [],
   "source": [
    "#计算幂\n",
    "def power(x, n):\n",
    "    result = 1\n",
    "    for i in range(n):\n",
    "        result *= x\n",
    "    return result"
   ]
  },
  {
   "cell_type": "code",
   "execution_count": 156,
   "id": "animal-portable",
   "metadata": {},
   "outputs": [],
   "source": [
    "#可以根据定义将计算幂的函数修改成递归式的\n",
    "#对于任何数字x， power(x, 0)都为1。\n",
    "#n>0时， power(x, n)为power(x, n-1)与x的乘积\n",
    "def power(x, n):\n",
    "    if n == 0:\n",
    "        return 1\n",
    "    else:\n",
    "        return x * power(x, n - 1)"
   ]
  },
  {
   "cell_type": "code",
   "execution_count": 157,
   "id": "executive-diagnosis",
   "metadata": {},
   "outputs": [],
   "source": [
    "#在大多数情况下，使用循环的效率可能更高\n",
    "#然而，在很多情况下，使用递归的可读性更高，且有时要高得多\n",
    "#作为程序员，你必须能够读懂其他人编写的递归算法和函数"
   ]
  },
  {
   "cell_type": "code",
   "execution_count": 160,
   "id": "stretch-cigarette",
   "metadata": {},
   "outputs": [],
   "source": [
    "#经典案例：二分查找\n",
    "#这种算法自然而然地引出了递归式定义和实现\n",
    "'''如果上限和下限相同，就说明它们都指向数字所在的位置，因此将这个数字返回。'''\n",
    "'''否则，找出区间的中间位置（上限和下限的平均值），再确定数字在左半部分还是右半部\n",
    "分。然后在继续在数字所在的那部分中查找'''\n",
    "def search(sequence, number, lower, upper):\n",
    "    if lower == upper:\n",
    "        assert number == sequence[upper]\n",
    "        return upper\n",
    "    else:\n",
    "        middle = (lower + upper) // 2\n",
    "        if number > sequence[middle]:\n",
    "            return search(sequence, number, middle + 1, upper)\n",
    "        else:\n",
    "            return search(sequence, number, lower, middle)"
   ]
  },
  {
   "cell_type": "markdown",
   "id": "judicial-castle",
   "metadata": {},
   "source": [
    "#为方便调用，还可将上限和下限设置为可选的。\n",
    "\n",
    "#为此，只需给参数lower和upper指定默认值，并在函数开头添加如下条件语句：\n",
    "\n",
    "def search(sequence, number, lower=0, upper=None):\n",
    "    \n",
    "    if upper is None: upper = len(sequence) - 1\n",
    "    \n",
    "如果你没有提供上限和下限，它们将分别设置为序列的第一个位置和最后一个位置"
   ]
  },
  {
   "cell_type": "code",
   "execution_count": 161,
   "id": "alien-rebate",
   "metadata": {},
   "outputs": [
    {
     "data": {
      "text/plain": [
       "[4, 8, 34, 67, 95, 100, 123]"
      ]
     },
     "execution_count": 161,
     "metadata": {},
     "output_type": "execute_result"
    }
   ],
   "source": [
    "seq = [34, 67, 8, 123, 4, 100, 95]\n",
    "seq.sort()\n",
    "seq"
   ]
  },
  {
   "cell_type": "code",
   "execution_count": 162,
   "id": "forty-recruitment",
   "metadata": {},
   "outputs": [
    {
     "data": {
      "text/plain": [
       "2"
      ]
     },
     "execution_count": 162,
     "metadata": {},
     "output_type": "execute_result"
    }
   ],
   "source": [
    "search(seq, 34,0,6)"
   ]
  },
  {
   "cell_type": "code",
   "execution_count": 163,
   "id": "appointed-basement",
   "metadata": {},
   "outputs": [
    {
     "data": {
      "text/plain": [
       "5"
      ]
     },
     "execution_count": 163,
     "metadata": {},
     "output_type": "execute_result"
    }
   ],
   "source": [
    " search(seq, 100,0,6)"
   ]
  },
  {
   "cell_type": "code",
   "execution_count": 164,
   "id": "dress-adjustment",
   "metadata": {},
   "outputs": [
    {
     "data": {
      "text/plain": [
       "100"
      ]
     },
     "execution_count": 164,
     "metadata": {},
     "output_type": "execute_result"
    }
   ],
   "source": [
    "seq[search(seq, 100,0,6)]"
   ]
  },
  {
   "cell_type": "code",
   "execution_count": 165,
   "id": "living-vulnerability",
   "metadata": {},
   "outputs": [
    {
     "data": {
      "text/plain": [
       "['0', '1', '2', '3', '4', '5', '6', '7', '8', '9']"
      ]
     },
     "execution_count": 165,
     "metadata": {},
     "output_type": "execute_result"
    }
   ],
   "source": [
    "list(map(str, range(10))) # 与[str(i) for i in range(10)]等价"
   ]
  },
  {
   "cell_type": "code",
   "execution_count": 168,
   "id": "olympic-wallpaper",
   "metadata": {},
   "outputs": [
    {
     "data": {
      "text/plain": [
       "['0', '1', '2', '3', '4', '5', '6', '7', '8', '9']"
      ]
     },
     "execution_count": 168,
     "metadata": {},
     "output_type": "execute_result"
    }
   ],
   "source": [
    "[str(i) for i in range(10)]"
   ]
  },
  {
   "cell_type": "code",
   "execution_count": 170,
   "id": "gorgeous-needle",
   "metadata": {},
   "outputs": [
    {
     "name": "stdout",
     "output_type": "stream",
     "text": [
      "True\n",
      "True\n",
      "False\n",
      "False\n"
     ]
    },
    {
     "data": {
      "text/plain": [
       "['foo', 'x41']"
      ]
     },
     "execution_count": 170,
     "metadata": {},
     "output_type": "execute_result"
    }
   ],
   "source": [
    "#使用filter根据布尔函数的返回值来对元素进行过滤\n",
    "def func(x):\n",
    "    print(x.isalnum())\n",
    "    return x.isalnum()\n",
    "seq = [\"foo\", \"x41\", \"?!\", \"***\"]\n",
    "list(filter(func, seq))"
   ]
  },
  {
   "cell_type": "code",
   "execution_count": 172,
   "id": "upper-toronto",
   "metadata": {},
   "outputs": [
    {
     "data": {
      "text/plain": [
       "['foo', 'x41']"
      ]
     },
     "execution_count": 172,
     "metadata": {},
     "output_type": "execute_result"
    }
   ],
   "source": [
    "[x for x in seq if x.isalnum()]"
   ]
  },
  {
   "cell_type": "code",
   "execution_count": 181,
   "id": "decreased-soviet",
   "metadata": {},
   "outputs": [
    {
     "data": {
      "text/plain": [
       "['foo', 'x41']"
      ]
     },
     "execution_count": 181,
     "metadata": {},
     "output_type": "execute_result"
    }
   ],
   "source": [
    "#lambda表达式:创建内嵌的简单函数\n",
    "#（主要供map、 filter和reduce使用）\n",
    "#Python2.7返回的是列表，Python3.x返回的是迭代器对象\n",
    "seq = [\"foo\", \"x41\", \"?!\", \"***\"]\n",
    "list(filter(lambda x: x.isalnum(), seq))"
   ]
  },
  {
   "cell_type": "code",
   "execution_count": 182,
   "id": "cellular-influence",
   "metadata": {},
   "outputs": [
    {
     "data": {
      "text/plain": [
       "1161"
      ]
     },
     "execution_count": 182,
     "metadata": {},
     "output_type": "execute_result"
    }
   ],
   "source": [
    "#如果你要将序列中的所有数相加，可结合使用reduce和lambda x, y: x+y\n",
    "numbers = [72, 101, 108, 108, 111, 44, 32, 119, 111, 114, 108, 100, 33]\n",
    "from functools import reduce\n",
    "reduce(lambda x, y: x + y, numbers)\n",
    "#还不如使用内置函数sum"
   ]
  },
  {
   "cell_type": "code",
   "execution_count": null,
   "id": "confidential-negotiation",
   "metadata": {},
   "outputs": [],
   "source": [
    "#lambda\n",
    "#filter\n",
    "#reduce?"
   ]
  }
 ],
 "metadata": {
  "kernelspec": {
   "display_name": "Python 3",
   "language": "python",
   "name": "python3"
  },
  "language_info": {
   "codemirror_mode": {
    "name": "ipython",
    "version": 3
   },
   "file_extension": ".py",
   "mimetype": "text/x-python",
   "name": "python",
   "nbconvert_exporter": "python",
   "pygments_lexer": "ipython3",
   "version": "3.6.5"
  }
 },
 "nbformat": 4,
 "nbformat_minor": 5
}
