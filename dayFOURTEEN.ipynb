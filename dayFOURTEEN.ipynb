{
 "cells": [
  {
   "cell_type": "markdown",
   "id": "unsigned-wyoming",
   "metadata": {},
   "source": [
    "Write a function to compute 5/0 and use try/except to catch the exceptions."
   ]
  },
  {
   "cell_type": "code",
   "execution_count": 1,
   "id": "terminal-investigator",
   "metadata": {},
   "outputs": [
    {
     "name": "stdout",
     "output_type": "stream",
     "text": [
      "you can divide somenum by zero\n"
     ]
    }
   ],
   "source": [
    "try :\n",
    "    5/0\n",
    "except ZeroDivisionError:\n",
    "    print('you can divide somenum by zero')"
   ]
  },
  {
   "cell_type": "code",
   "execution_count": 2,
   "id": "whole-credits",
   "metadata": {},
   "outputs": [
    {
     "name": "stdout",
     "output_type": "stream",
     "text": [
      "you can divide somenum by zero\n"
     ]
    }
   ],
   "source": [
    "def divide():\n",
    "    return 5/0\n",
    "\n",
    "try:\n",
    "    divide()\n",
    "except ZeroDivisionError:\n",
    "    print('you can divide somenum by zero')\n",
    "except:\n",
    "    print('other error')"
   ]
  },
  {
   "cell_type": "markdown",
   "id": "norman-campbell",
   "metadata": {},
   "source": [
    "Define a custom exception class which takes a string message as attribute."
   ]
  },
  {
   "cell_type": "code",
   "execution_count": 9,
   "id": "returning-retirement",
   "metadata": {},
   "outputs": [
    {
     "name": "stdout",
     "output_type": "stream",
     "text": [
      "10\n",
      "the error raised input equals to 10\n",
      "the error raised input equals to 10\n"
     ]
    }
   ],
   "source": [
    "class ExceptionTest(Exception):\n",
    "    '''\n",
    "    exception raised for custom purpose\n",
    "    \n",
    "    Attributes:\n",
    "        message -- explanation of the error\n",
    "    '''\n",
    "    def __init__(self, message):\n",
    "        self.message = message\n",
    "        \n",
    "    num = int(input())\n",
    "    \n",
    "    try:\n",
    "        if num < 10:\n",
    "            raise ExceptionTest('input is less than 10')\n",
    "            \n",
    "        elif num > 10:\n",
    "            raise ExceptionTest('input is greater than 10')\n",
    "        else: \n",
    "            raise ExceptionTest('input equals to 10')\n",
    "    except ExceptionTest as ce:\n",
    "        print('the error raised' , ce)\n",
    "        print('the error raised' +' '+ ce.message)"
   ]
  },
  {
   "cell_type": "markdown",
   "id": "dress-music",
   "metadata": {},
   "source": [
    "Assuming that we have some email addresses in the \"username@companyname.com\" format, please write program to print the user name of a given email address. Both user names and company names are composed of letters only.\n",
    "\n",
    "Example: If the following email address is given as input to the program:\n",
    "\n",
    "john@google.com\n",
    "Then, the output of the program should be:\n",
    "\n",
    "john\n",
    "In case of input data being supplied to the question, it should be assumed to be a console input."
   ]
  },
  {
   "cell_type": "code",
   "execution_count": 13,
   "id": "flying-christian",
   "metadata": {},
   "outputs": [
    {
     "name": "stdout",
     "output_type": "stream",
     "text": [
      "john@google.com\n",
      "john\n"
     ]
    }
   ],
   "source": [
    "def sepUsername(emailAddr):\n",
    "    return emailAddr.split('@')[0]\n",
    "    \n",
    "print(sepUsername(input()))"
   ]
  },
  {
   "cell_type": "code",
   "execution_count": 19,
   "id": "ranking-correction",
   "metadata": {},
   "outputs": [
    {
     "name": "stdout",
     "output_type": "stream",
     "text": [
      "['john@google.com', 'elise@python.com']\n",
      "['john', 'elise']\n"
     ]
    }
   ],
   "source": [
    "import re\n",
    "email = 'john@google.com1 elise@python.com23'\n",
    "pattern = '\\w+@\\w+.com'\n",
    "ans = re.findall(pattern, email)\n",
    "print(ans)\n",
    "pattern = '(\\w+)@\\w+'\n",
    "ans = re.findall(pattern, email)\n",
    "print(ans)"
   ]
  },
  {
   "cell_type": "code",
   "execution_count": null,
   "id": "unlike-rabbit",
   "metadata": {},
   "outputs": [],
   "source": []
  }
 ],
 "metadata": {
  "kernelspec": {
   "display_name": "Python 3",
   "language": "python",
   "name": "python3"
  },
  "language_info": {
   "codemirror_mode": {
    "name": "ipython",
    "version": 3
   },
   "file_extension": ".py",
   "mimetype": "text/x-python",
   "name": "python",
   "nbconvert_exporter": "python",
   "pygments_lexer": "ipython3",
   "version": "3.6.5"
  }
 },
 "nbformat": 4,
 "nbformat_minor": 5
}
