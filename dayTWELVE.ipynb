{
 "cells": [
  {
   "cell_type": "code",
   "execution_count": 4,
   "id": "cellular-cable",
   "metadata": {},
   "outputs": [
    {
     "data": {
      "text/plain": [
       "[1,\n",
       " 4,\n",
       " 9,\n",
       " 16,\n",
       " 25,\n",
       " 36,\n",
       " 49,\n",
       " 64,\n",
       " 81,\n",
       " 100,\n",
       " 121,\n",
       " 144,\n",
       " 169,\n",
       " 196,\n",
       " 225,\n",
       " 256,\n",
       " 289,\n",
       " 324,\n",
       " 361,\n",
       " 400]"
      ]
     },
     "execution_count": 4,
     "metadata": {},
     "output_type": "execute_result"
    }
   ],
   "source": [
    "listSqrt = map(lambda x: x**2, range(1,21))\n",
    "list(listSqrt)"
   ]
  },
  {
   "cell_type": "code",
   "execution_count": 11,
   "id": "republican-right",
   "metadata": {},
   "outputs": [
    {
     "name": "stdout",
     "output_type": "stream",
     "text": [
      "American\n"
     ]
    }
   ],
   "source": [
    "class American:\n",
    "    @staticmethod\n",
    "    def printNationality(nationality):\n",
    "        print(nationality)\n",
    "American().printNationality('American')"
   ]
  },
  {
   "cell_type": "code",
   "execution_count": 12,
   "id": "elder-folder",
   "metadata": {},
   "outputs": [
    {
     "name": "stdout",
     "output_type": "stream",
     "text": [
      "American\n"
     ]
    }
   ],
   "source": [
    "instanceAmerican = American()\n",
    "instanceAmerican.printNationality('American')"
   ]
  },
  {
   "cell_type": "code",
   "execution_count": 13,
   "id": "popular-change",
   "metadata": {},
   "outputs": [
    {
     "name": "stdout",
     "output_type": "stream",
     "text": [
      "American\n",
      "i am newyorker\n",
      "<class '__main__.American'>\n",
      "<class '__main__.NewYorker'>\n"
     ]
    }
   ],
   "source": [
    "class NewYorker(American):\n",
    "    def printCitizen(citizen):\n",
    "        print('i am newyorker')\n",
    "NewYorker().printNationality('American')\n",
    "instanceNewYorker = NewYorker()\n",
    "instanceNewYorker.printCitizen()\n",
    "print(American)\n",
    "print(NewYorker)"
   ]
  },
  {
   "cell_type": "code",
   "execution_count": 8,
   "id": "binding-residence",
   "metadata": {},
   "outputs": [
    {
     "name": "stdout",
     "output_type": "stream",
     "text": [
      "<__main__.American object at 0x0000027C54805940>\n",
      "<__main__.NewYorker object at 0x0000027C54805048>\n"
     ]
    }
   ],
   "source": [
    "class American():\n",
    "    pass\n",
    "\n",
    "class NewYorker(American):\n",
    "    pass\n",
    "\n",
    "american = American()\n",
    "newyorker = NewYorker()\n",
    "\n",
    "print(american)\n",
    "print(newyorker)"
   ]
  },
  {
   "cell_type": "code",
   "execution_count": 9,
   "id": "metric-there",
   "metadata": {},
   "outputs": [
    {
     "name": "stdout",
     "output_type": "stream",
     "text": [
      "<class '__main__.American'>\n",
      "<class '__main__.NewYorker'>\n"
     ]
    }
   ],
   "source": [
    "print(American)\n",
    "print(NewYorker)"
   ]
  },
  {
   "cell_type": "code",
   "execution_count": null,
   "id": "electric-airline",
   "metadata": {},
   "outputs": [],
   "source": []
  }
 ],
 "metadata": {
  "kernelspec": {
   "display_name": "Python 3",
   "language": "python",
   "name": "python3"
  },
  "language_info": {
   "codemirror_mode": {
    "name": "ipython",
    "version": 3
   },
   "file_extension": ".py",
   "mimetype": "text/x-python",
   "name": "python",
   "nbconvert_exporter": "python",
   "pygments_lexer": "ipython3",
   "version": "3.6.5"
  }
 },
 "nbformat": 4,
 "nbformat_minor": 5
}
