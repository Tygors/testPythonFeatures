{
 "cells": [
  {
   "cell_type": "code",
   "execution_count": 1,
   "id": "stopped-answer",
   "metadata": {},
   "outputs": [
    {
     "name": "stdout",
     "output_type": "stream",
     "text": [
      "age 42\n"
     ]
    }
   ],
   "source": [
    "#打印多个参数\n",
    "print('age',42)"
   ]
  },
  {
   "cell_type": "code",
   "execution_count": 2,
   "id": "weighted-nirvana",
   "metadata": {},
   "outputs": [
    {
     "name": "stdout",
     "output_type": "stream",
     "text": [
      "hello, mr. gumby\n"
     ]
    }
   ],
   "source": [
    "name = 'gumby'\n",
    "salutation = 'mr.'\n",
    "greeting = 'hello,'\n",
    "print(greeting,salutation,name)"
   ]
  },
  {
   "cell_type": "code",
   "execution_count": 3,
   "id": "knowing-drink",
   "metadata": {},
   "outputs": [
    {
     "name": "stdout",
     "output_type": "stream",
     "text": [
      "hello, , mr. gumby\n"
     ]
    }
   ],
   "source": [
    "print(greeting,',',salutation,name)#逗号字符前会多一个空格"
   ]
  },
  {
   "cell_type": "code",
   "execution_count": 4,
   "id": "happy-destination",
   "metadata": {},
   "outputs": [
    {
     "name": "stdout",
     "output_type": "stream",
     "text": [
      "hello,, mr. gumby\n"
     ]
    }
   ],
   "source": [
    "print(greeting+',',salutation,name)"
   ]
  },
  {
   "cell_type": "code",
   "execution_count": 5,
   "id": "hydraulic-break",
   "metadata": {},
   "outputs": [
    {
     "name": "stdout",
     "output_type": "stream",
     "text": [
      "i_wish_to_register_a_complaint\n"
     ]
    }
   ],
   "source": [
    "print('i','wish','to','register','a','complaint',sep='_')"
   ]
  },
  {
   "cell_type": "code",
   "execution_count": 6,
   "id": "guided-sterling",
   "metadata": {},
   "outputs": [
    {
     "name": "stdout",
     "output_type": "stream",
     "text": [
      "Hello,world!\n"
     ]
    }
   ],
   "source": [
    "#可自定义结束字符串，以替换默认的换行符\n",
    "#例如，如果将结束字符串指定为空字符串，以后就可继续打印到当前行\n",
    "print('Hello,', end='')\n",
    "print('world!')"
   ]
  },
  {
   "cell_type": "code",
   "execution_count": 7,
   "id": "manual-sending",
   "metadata": {},
   "outputs": [
    {
     "name": "stdout",
     "output_type": "stream",
     "text": [
      "1 2 3\n"
     ]
    }
   ],
   "source": [
    "#赋值魔法，序列解包\n",
    "#（或可迭代对象解包）：将一个序列（或任何可迭代对象）解包，并将得到的值存储到一系列变量中。\n",
    "x,y,z=1,2,3\n",
    "print(x,y,z)"
   ]
  },
  {
   "cell_type": "code",
   "execution_count": 8,
   "id": "featured-daughter",
   "metadata": {},
   "outputs": [
    {
     "name": "stdout",
     "output_type": "stream",
     "text": [
      "2 1 3\n"
     ]
    }
   ],
   "source": [
    "x,y = y,x\n",
    "print(x,y,z)"
   ]
  },
  {
   "cell_type": "code",
   "execution_count": 9,
   "id": "recreational-suffering",
   "metadata": {},
   "outputs": [
    {
     "name": "stdout",
     "output_type": "stream",
     "text": [
      "<class 'tuple'>\n",
      "(1, 2, 3)\n"
     ]
    }
   ],
   "source": [
    "values = 1, 2, 3\n",
    "print(type(values))\n",
    "print(values)"
   ]
  },
  {
   "cell_type": "code",
   "execution_count": 10,
   "id": "single-district",
   "metadata": {},
   "outputs": [
    {
     "data": {
      "text/plain": [
       "1"
      ]
     },
     "execution_count": 10,
     "metadata": {},
     "output_type": "execute_result"
    }
   ],
   "source": [
    "x,y,z = values\n",
    "x"
   ]
  },
  {
   "cell_type": "code",
   "execution_count": 11,
   "id": "immediate-grocery",
   "metadata": {},
   "outputs": [
    {
     "name": "stdout",
     "output_type": "stream",
     "text": [
      "girlfriend\n",
      "Marion\n"
     ]
    }
   ],
   "source": [
    "scoundrel = {'name': 'Robin', 'girlfriend': 'Marion'}\n",
    "key, value = scoundrel.popitem()\n",
    "print(key)\n",
    "print(value)"
   ]
  },
  {
   "cell_type": "code",
   "execution_count": 12,
   "id": "exposed-junior",
   "metadata": {},
   "outputs": [
    {
     "data": {
      "text/plain": [
       "[3, 4]"
      ]
     },
     "execution_count": 12,
     "metadata": {},
     "output_type": "execute_result"
    }
   ],
   "source": [
    "#可以使用星号运算符来收集多余的值\n",
    "a,b,*rest = [1,2,3,4]\n",
    "rest"
   ]
  },
  {
   "cell_type": "code",
   "execution_count": 13,
   "id": "robust-today",
   "metadata": {},
   "outputs": [
    {
     "data": {
      "text/plain": [
       "['Percival', 'Wulfric', 'Brian']"
      ]
     },
     "execution_count": 13,
     "metadata": {},
     "output_type": "execute_result"
    }
   ],
   "source": [
    "name = \"Albus Percival Wulfric Brian Dumbledore\"\n",
    "first, *middle, last = name.split()\n",
    "middle"
   ]
  },
  {
   "cell_type": "code",
   "execution_count": 14,
   "id": "circular-franklin",
   "metadata": {},
   "outputs": [
    {
     "data": {
      "text/plain": [
       "('a', ['b'], 'c')"
      ]
     },
     "execution_count": 14,
     "metadata": {},
     "output_type": "execute_result"
    }
   ],
   "source": [
    "#带星号的变量最终包含的总是一个列表\n",
    "a, *b, c = \"abc\"\n",
    "a, b, c"
   ]
  },
  {
   "cell_type": "markdown",
   "id": "studied-agent",
   "metadata": {},
   "source": [
    "#链式赋值\n",
    "#x = y = somefunction()"
   ]
  },
  {
   "cell_type": "code",
   "execution_count": 15,
   "id": "civic-canada",
   "metadata": {},
   "outputs": [
    {
     "data": {
      "text/plain": [
       "6"
      ]
     },
     "execution_count": 15,
     "metadata": {},
     "output_type": "execute_result"
    }
   ],
   "source": [
    "#增强赋值\n",
    "x = 2\n",
    "x += 1\n",
    "x *= 2\n",
    "x"
   ]
  },
  {
   "cell_type": "code",
   "execution_count": 16,
   "id": "daily-shore",
   "metadata": {},
   "outputs": [
    {
     "data": {
      "text/plain": [
       "'foobarfoobar'"
      ]
     },
     "execution_count": 16,
     "metadata": {},
     "output_type": "execute_result"
    }
   ],
   "source": [
    "fnord = 'foo'\n",
    "fnord += 'bar'\n",
    "fnord *= 2\n",
    "fnord"
   ]
  },
  {
   "cell_type": "code",
   "execution_count": 17,
   "id": "selected-procedure",
   "metadata": {},
   "outputs": [
    {
     "data": {
      "text/plain": [
       "True"
      ]
     },
     "execution_count": 17,
     "metadata": {},
     "output_type": "execute_result"
    }
   ],
   "source": [
    "#代码块：缩进的乐趣\n",
    "#条件和条件语句\n",
    "#以下均视为假\n",
    "#    False None 0 \"\" () [] {}\n",
    "True"
   ]
  },
  {
   "cell_type": "code",
   "execution_count": 18,
   "id": "contained-bruce",
   "metadata": {},
   "outputs": [
    {
     "data": {
      "text/plain": [
       "False"
      ]
     },
     "execution_count": 18,
     "metadata": {},
     "output_type": "execute_result"
    }
   ],
   "source": [
    "False"
   ]
  },
  {
   "cell_type": "code",
   "execution_count": 19,
   "id": "helpful-circulation",
   "metadata": {},
   "outputs": [
    {
     "data": {
      "text/plain": [
       "True"
      ]
     },
     "execution_count": 19,
     "metadata": {},
     "output_type": "execute_result"
    }
   ],
   "source": [
    "True==1"
   ]
  },
  {
   "cell_type": "code",
   "execution_count": 20,
   "id": "massive-jones",
   "metadata": {},
   "outputs": [
    {
     "data": {
      "text/plain": [
       "True"
      ]
     },
     "execution_count": 20,
     "metadata": {},
     "output_type": "execute_result"
    }
   ],
   "source": [
    "False==0"
   ]
  },
  {
   "cell_type": "code",
   "execution_count": 21,
   "id": "ambient-quantum",
   "metadata": {},
   "outputs": [
    {
     "data": {
      "text/plain": [
       "43"
      ]
     },
     "execution_count": 21,
     "metadata": {},
     "output_type": "execute_result"
    }
   ],
   "source": [
    "True+False+42"
   ]
  },
  {
   "cell_type": "code",
   "execution_count": 22,
   "id": "solar-resident",
   "metadata": {},
   "outputs": [
    {
     "data": {
      "text/plain": [
       "True"
      ]
     },
     "execution_count": 22,
     "metadata": {},
     "output_type": "execute_result"
    }
   ],
   "source": [
    "#布尔值True和False属于类型bool，而bool与list、 str和tuple一样，可用来转换其他的值\n",
    "bool('I think, therefore I am')#有东西所以为True"
   ]
  },
  {
   "cell_type": "code",
   "execution_count": 23,
   "id": "critical-restriction",
   "metadata": {},
   "outputs": [
    {
     "data": {
      "text/plain": [
       "True"
      ]
     },
     "execution_count": 23,
     "metadata": {},
     "output_type": "execute_result"
    }
   ],
   "source": [
    "bool(42)"
   ]
  },
  {
   "cell_type": "code",
   "execution_count": 24,
   "id": "manual-jewel",
   "metadata": {},
   "outputs": [
    {
     "data": {
      "text/plain": [
       "False"
      ]
     },
     "execution_count": 24,
     "metadata": {},
     "output_type": "execute_result"
    }
   ],
   "source": [
    "bool('')"
   ]
  },
  {
   "cell_type": "code",
   "execution_count": 25,
   "id": "modern-dollar",
   "metadata": {},
   "outputs": [
    {
     "data": {
      "text/plain": [
       "False"
      ]
     },
     "execution_count": 25,
     "metadata": {},
     "output_type": "execute_result"
    }
   ],
   "source": [
    "bool(0)"
   ]
  },
  {
   "cell_type": "code",
   "execution_count": 26,
   "id": "english-creek",
   "metadata": {},
   "outputs": [
    {
     "data": {
      "text/plain": [
       "True"
      ]
     },
     "execution_count": 26,
     "metadata": {},
     "output_type": "execute_result"
    }
   ],
   "source": [
    "bool([]) == bool(\"\") == False"
   ]
  },
  {
   "cell_type": "code",
   "execution_count": 27,
   "id": "stopped-romania",
   "metadata": {},
   "outputs": [
    {
     "data": {
      "text/plain": [
       "False"
      ]
     },
     "execution_count": 27,
     "metadata": {},
     "output_type": "execute_result"
    }
   ],
   "source": [
    "[]==''"
   ]
  },
  {
   "cell_type": "code",
   "execution_count": 29,
   "id": "supreme-hampshire",
   "metadata": {},
   "outputs": [
    {
     "data": {
      "text/plain": [
       "False"
      ]
     },
     "execution_count": 29,
     "metadata": {},
     "output_type": "execute_result"
    }
   ],
   "source": [
    "[]==\"\""
   ]
  },
  {
   "cell_type": "code",
   "execution_count": 1,
   "id": "incorporate-tribute",
   "metadata": {},
   "outputs": [
    {
     "name": "stdout",
     "output_type": "stream",
     "text": [
      "What is your name? Tygors Woo\n",
      "Hello, Mr. Woo\n"
     ]
    }
   ],
   "source": [
    "#有条件地执行和 if 语句\n",
    "name = input('What is your name? ')\n",
    "if name.endswith('Woo'):\n",
    "    print('Hello, Mr. Woo')"
   ]
  },
  {
   "cell_type": "code",
   "execution_count": 2,
   "id": "unavailable-bouquet",
   "metadata": {},
   "outputs": [
    {
     "name": "stdout",
     "output_type": "stream",
     "text": [
      "What is your name? Gumby\n",
      "Hello, stranger\n"
     ]
    }
   ],
   "source": [
    "#else 子句\n",
    "name = input('What is your name? ')\n",
    "if name.endswith('Woo'):\n",
    "    print('Hello, Mr. Woo')\n",
    "else:\n",
    "    print('Hello, stranger')"
   ]
  },
  {
   "cell_type": "code",
   "execution_count": 3,
   "id": "focal-twist",
   "metadata": {},
   "outputs": [
    {
     "data": {
      "text/plain": [
       "'friend'"
      ]
     },
     "execution_count": 3,
     "metadata": {},
     "output_type": "execute_result"
    }
   ],
   "source": [
    "#三目运算符的Python版本\n",
    "status = \"friend\" if name.endswith(\"Gumby\") else \"stranger\"\n",
    "status"
   ]
  },
  {
   "cell_type": "code",
   "execution_count": 4,
   "id": "fifth-israeli",
   "metadata": {},
   "outputs": [
    {
     "name": "stdout",
     "output_type": "stream",
     "text": [
      "Enter a number: -1\n",
      "The number is negative\n"
     ]
    }
   ],
   "source": [
    "#elif 子句\n",
    "num = int(input('Enter a number: '))\n",
    "if num > 0:\n",
    "    print('The number is positive')\n",
    "elif num < 0:\n",
    "    print('The number is negative')\n",
    "else:\n",
    "    print('The number is zero')"
   ]
  },
  {
   "cell_type": "code",
   "execution_count": 5,
   "id": "victorian-decline",
   "metadata": {},
   "outputs": [
    {
     "name": "stdout",
     "output_type": "stream",
     "text": [
      "What is your name? Mr. B Gumby\n",
      "Hello, Mr. Gumby\n"
     ]
    }
   ],
   "source": [
    "#代码块嵌套\n",
    "name = input('What is your name? ')\n",
    "if name.endswith('Gumby'):\n",
    "    if name.startswith('Mr.'):\n",
    "        print('Hello, Mr. Gumby')\n",
    "    elif name.startswith('Mrs.'):\n",
    "        print('Hello, Mrs. Gumby')\n",
    "    else:\n",
    "        print('Hello, Gumby')\n",
    "else:\n",
    "    print('Hello, stranger')"
   ]
  },
  {
   "cell_type": "markdown",
   "id": "adverse-routine",
   "metadata": {},
   "source": [
    "#==\n",
    "\n",
    "#<\n",
    "\n",
    "#>\n",
    "\n",
    "#>=\n",
    "\n",
    "#<=\n",
    "\n",
    "#!=\n",
    "\n",
    "is   是不是同一个对象\n",
    "\n",
    "is not 不同的对象\n",
    "\n",
    "in   是容器中的成员\n",
    "\n",
    "not in 不是容器中的成员"
   ]
  },
  {
   "cell_type": "code",
   "execution_count": 8,
   "id": "brown-worry",
   "metadata": {},
   "outputs": [
    {
     "data": {
      "text/plain": [
       "True"
      ]
     },
     "execution_count": 8,
     "metadata": {},
     "output_type": "execute_result"
    }
   ],
   "source": [
    "#支持链式比较：可同时使用多个比较运算符\n",
    "0 < 42 < 100"
   ]
  },
  {
   "cell_type": "code",
   "execution_count": 12,
   "id": "appreciated-moldova",
   "metadata": {},
   "outputs": [
    {
     "name": "stdout",
     "output_type": "stream",
     "text": [
      "True\n",
      "False\n"
     ]
    }
   ],
   "source": [
    "print(\"foo\" == \"foo\")\n",
    "print(\"foo\" == \"bar\")"
   ]
  },
  {
   "cell_type": "code",
   "execution_count": 13,
   "id": "occasional-editing",
   "metadata": {},
   "outputs": [
    {
     "data": {
      "text/plain": [
       "True"
      ]
     },
     "execution_count": 13,
     "metadata": {},
     "output_type": "execute_result"
    }
   ],
   "source": [
    "#is：相同运算符\n",
    "x = y = [1, 2, 3]\n",
    "z = [1, 2, 3]\n",
    "x == y"
   ]
  },
  {
   "cell_type": "code",
   "execution_count": 14,
   "id": "engaging-radar",
   "metadata": {},
   "outputs": [
    {
     "data": {
      "text/plain": [
       "True"
      ]
     },
     "execution_count": 14,
     "metadata": {},
     "output_type": "execute_result"
    }
   ],
   "source": [
    "x==z"
   ]
  },
  {
   "cell_type": "code",
   "execution_count": 18,
   "id": "rocky-settlement",
   "metadata": {},
   "outputs": [
    {
     "name": "stdout",
     "output_type": "stream",
     "text": [
      "True\n",
      "1671398599240 1671398599240\n"
     ]
    }
   ],
   "source": [
    "print(x is y)\n",
    "print(id(x),id(y))"
   ]
  },
  {
   "cell_type": "code",
   "execution_count": 16,
   "id": "based-queen",
   "metadata": {},
   "outputs": [
    {
     "data": {
      "text/plain": [
       "False"
      ]
     },
     "execution_count": 16,
     "metadata": {},
     "output_type": "execute_result"
    }
   ],
   "source": [
    "x is z"
   ]
  },
  {
   "cell_type": "code",
   "execution_count": 19,
   "id": "following-crack",
   "metadata": {},
   "outputs": [
    {
     "data": {
      "text/plain": [
       "True"
      ]
     },
     "execution_count": 19,
     "metadata": {},
     "output_type": "execute_result"
    }
   ],
   "source": [
    "x = [1, 2, 3]\n",
    "y = [2, 4]\n",
    "x is not y"
   ]
  },
  {
   "cell_type": "code",
   "execution_count": 20,
   "id": "chinese-iceland",
   "metadata": {},
   "outputs": [
    {
     "data": {
      "text/plain": [
       "True"
      ]
     },
     "execution_count": 20,
     "metadata": {},
     "output_type": "execute_result"
    }
   ],
   "source": [
    "del x[2]\n",
    "y[1] = 1\n",
    "y.reverse()\n",
    "x==y"
   ]
  },
  {
   "cell_type": "code",
   "execution_count": 21,
   "id": "tough-symphony",
   "metadata": {},
   "outputs": [
    {
     "data": {
      "text/plain": [
       "False"
      ]
     },
     "execution_count": 21,
     "metadata": {},
     "output_type": "execute_result"
    }
   ],
   "source": [
    "x is y"
   ]
  },
  {
   "cell_type": "code",
   "execution_count": 22,
   "id": "compound-benjamin",
   "metadata": {},
   "outputs": [
    {
     "name": "stdout",
     "output_type": "stream",
     "text": [
      "What is your name?tygors\n",
      "Your name contains the letter \"s\".\n"
     ]
    }
   ],
   "source": [
    "#in：成员资格运算符\n",
    "name = input('What is your name?')\n",
    "if 's' in name:\n",
    "    print('Your name contains the letter \"s\".')\n",
    "else:\n",
    "    print('Your name does not contain the letter \"s\".')"
   ]
  },
  {
   "cell_type": "code",
   "execution_count": 23,
   "id": "temporal-senator",
   "metadata": {},
   "outputs": [
    {
     "data": {
      "text/plain": [
       "True"
      ]
     },
     "execution_count": 23,
     "metadata": {},
     "output_type": "execute_result"
    }
   ],
   "source": [
    "#字符串和序列的比较\n",
    "#字符串是根据字符的字母排列顺序进行比较的\n",
    "\"alpha\" < \"beta\""
   ]
  },
  {
   "cell_type": "code",
   "execution_count": 25,
   "id": "hourly-arkansas",
   "metadata": {},
   "outputs": [
    {
     "data": {
      "text/plain": [
       "120"
      ]
     },
     "execution_count": 25,
     "metadata": {},
     "output_type": "execute_result"
    }
   ],
   "source": [
    "#获悉字母的顺序值，可使用函数ord。这个函数的作用与函数chr相反：\n",
    "ord(\"x\")"
   ]
  },
  {
   "cell_type": "code",
   "execution_count": 26,
   "id": "official-tanzania",
   "metadata": {},
   "outputs": [
    {
     "data": {
      "text/plain": [
       "121"
      ]
     },
     "execution_count": 26,
     "metadata": {},
     "output_type": "execute_result"
    }
   ],
   "source": [
    "ord(\"y\")"
   ]
  },
  {
   "cell_type": "code",
   "execution_count": 27,
   "id": "impressed-catalog",
   "metadata": {},
   "outputs": [
    {
     "data": {
      "text/plain": [
       "'y'"
      ]
     },
     "execution_count": 27,
     "metadata": {},
     "output_type": "execute_result"
    }
   ],
   "source": [
    "chr(121)"
   ]
  },
  {
   "cell_type": "code",
   "execution_count": 28,
   "id": "answering-louisville",
   "metadata": {},
   "outputs": [
    {
     "data": {
      "text/plain": [
       "False"
      ]
     },
     "execution_count": 28,
     "metadata": {},
     "output_type": "execute_result"
    }
   ],
   "source": [
    "#诀窍是忽略大小写。为此可使用字符串方法lower\n",
    "\"a\" < \"B\""
   ]
  },
  {
   "cell_type": "code",
   "execution_count": 29,
   "id": "integral-surfing",
   "metadata": {},
   "outputs": [
    {
     "data": {
      "text/plain": [
       "True"
      ]
     },
     "execution_count": 29,
     "metadata": {},
     "output_type": "execute_result"
    }
   ],
   "source": [
    "\"a\".lower() < \"B\".lower()"
   ]
  },
  {
   "cell_type": "code",
   "execution_count": 30,
   "id": "elementary-petroleum",
   "metadata": {},
   "outputs": [
    {
     "data": {
      "text/plain": [
       "True"
      ]
     },
     "execution_count": 30,
     "metadata": {},
     "output_type": "execute_result"
    }
   ],
   "source": [
    "'FnOrD'.lower() == 'Fnord'.lower()"
   ]
  },
  {
   "cell_type": "code",
   "execution_count": 31,
   "id": "printable-schedule",
   "metadata": {},
   "outputs": [
    {
     "data": {
      "text/plain": [
       "True"
      ]
     },
     "execution_count": 31,
     "metadata": {},
     "output_type": "execute_result"
    }
   ],
   "source": [
    "[1, 2] < [2, 1]"
   ]
  },
  {
   "cell_type": "code",
   "execution_count": 32,
   "id": "considerable-landing",
   "metadata": {},
   "outputs": [
    {
     "data": {
      "text/plain": [
       "True"
      ]
     },
     "execution_count": 32,
     "metadata": {},
     "output_type": "execute_result"
    }
   ],
   "source": [
    "[2, [1, 4]] < [2, [1, 5]]"
   ]
  },
  {
   "cell_type": "code",
   "execution_count": 1,
   "id": "incorporated-rates",
   "metadata": {},
   "outputs": [
    {
     "name": "stdout",
     "output_type": "stream",
     "text": [
      "Enter a number between 1 and 10: 11\n",
      "Wrong!\n"
     ]
    }
   ],
   "source": [
    "#布尔运算符\n",
    "#读取一个数，并检查这个数是否位于1～ 10（含）\n",
    "number = int(input('Enter a number between 1 and 10: '))\n",
    "if number <= 10:\n",
    "    if number >= 1:\n",
    "        print('Great!')\n",
    "    else:\n",
    "        print('Wrong!')\n",
    "else:\n",
    "    print('Wrong!')"
   ]
  },
  {
   "cell_type": "code",
   "execution_count": 2,
   "id": "available-initial",
   "metadata": {},
   "outputs": [
    {
     "name": "stdout",
     "output_type": "stream",
     "text": [
      "Enter a number between 1 and 10: 3\n",
      "Great!\n"
     ]
    }
   ],
   "source": [
    "number = int(input('Enter a number between 1 and 10: '))\n",
    "if number <= 10 and number >= 1:\n",
    "    print('Great!')\n",
    "else:\n",
    "    print('Wrong!')"
   ]
  },
  {
   "cell_type": "code",
   "execution_count": 3,
   "id": "aging-consultancy",
   "metadata": {},
   "outputs": [
    {
     "name": "stdout",
     "output_type": "stream",
     "text": [
      "Enter a number between 1 and 10: 1\n",
      "Great!\n"
     ]
    }
   ],
   "source": [
    "number = int(input('Enter a number between 1 and 10: '))\n",
    "if 1 <= number <= 10:\n",
    "    print('Great!')\n",
    "else:\n",
    "    print('Wrong!')"
   ]
  },
  {
   "cell_type": "code",
   "execution_count": 7,
   "id": "varying-kuwait",
   "metadata": {},
   "outputs": [
    {
     "name": "stdout",
     "output_type": "stream",
     "text": [
      "Please enter your name: \n",
      "<unknown>\n"
     ]
    }
   ],
   "source": [
    "#短路逻辑和条件表达式\n",
    "#and  如果x为假，这个表达式将立即返回假(其实是返回x)\n",
    "#在表达式x or y中，如果x为真，就返回x，否则返回y。\n",
    "name = input('Please enter your name: ') or '<unknown>'\n",
    "print(name)"
   ]
  },
  {
   "cell_type": "code",
   "execution_count": 12,
   "id": "appreciated-sandwich",
   "metadata": {},
   "outputs": [],
   "source": [
    "#断言:if语句有一个很有用的“亲戚”\n",
    "#错误条件出现时直接崩溃\n",
    "age = 10\n",
    "assert 0 < age < 100"
   ]
  },
  {
   "cell_type": "code",
   "execution_count": 13,
   "id": "chronic-hostel",
   "metadata": {},
   "outputs": [
    {
     "ename": "AssertionError",
     "evalue": "",
     "output_type": "error",
     "traceback": [
      "\u001b[1;31m---------------------------------------------------------------------------\u001b[0m",
      "\u001b[1;31mAssertionError\u001b[0m                            Traceback (most recent call last)",
      "\u001b[1;32m<ipython-input-13-3315f3eccfe8>\u001b[0m in \u001b[0;36m<module>\u001b[1;34m\u001b[0m\n\u001b[0;32m      1\u001b[0m \u001b[0mage\u001b[0m \u001b[1;33m=\u001b[0m \u001b[1;33m-\u001b[0m\u001b[1;36m1\u001b[0m\u001b[1;33m\u001b[0m\u001b[0m\n\u001b[1;32m----> 2\u001b[1;33m \u001b[1;32massert\u001b[0m \u001b[1;36m0\u001b[0m \u001b[1;33m<\u001b[0m \u001b[0mage\u001b[0m \u001b[1;33m<\u001b[0m \u001b[1;36m100\u001b[0m\u001b[1;33m\u001b[0m\u001b[0m\n\u001b[0m",
      "\u001b[1;31mAssertionError\u001b[0m: "
     ]
    }
   ],
   "source": [
    "age = -1\n",
    "assert 0 < age < 100"
   ]
  },
  {
   "cell_type": "code",
   "execution_count": 14,
   "id": "modified-recipient",
   "metadata": {
    "scrolled": true
   },
   "outputs": [
    {
     "ename": "AssertionError",
     "evalue": "The age must be realistic",
     "output_type": "error",
     "traceback": [
      "\u001b[1;31m---------------------------------------------------------------------------\u001b[0m",
      "\u001b[1;31mAssertionError\u001b[0m                            Traceback (most recent call last)",
      "\u001b[1;32m<ipython-input-14-54b230da6012>\u001b[0m in \u001b[0;36m<module>\u001b[1;34m\u001b[0m\n\u001b[0;32m      1\u001b[0m \u001b[1;31m#添加断言的语句\u001b[0m\u001b[1;33m\u001b[0m\u001b[1;33m\u001b[0m\u001b[0m\n\u001b[0;32m      2\u001b[0m \u001b[0mage\u001b[0m \u001b[1;33m=\u001b[0m \u001b[1;33m-\u001b[0m\u001b[1;36m1\u001b[0m\u001b[1;33m\u001b[0m\u001b[0m\n\u001b[1;32m----> 3\u001b[1;33m \u001b[1;32massert\u001b[0m \u001b[1;36m0\u001b[0m \u001b[1;33m<\u001b[0m \u001b[0mage\u001b[0m \u001b[1;33m<\u001b[0m \u001b[1;36m100\u001b[0m\u001b[1;33m,\u001b[0m \u001b[1;34m'The age must be realistic'\u001b[0m\u001b[1;33m\u001b[0m\u001b[0m\n\u001b[0m",
      "\u001b[1;31mAssertionError\u001b[0m: The age must be realistic"
     ]
    }
   ],
   "source": [
    "#添加断言的语句\n",
    "age = -1\n",
    "assert 0 < age < 100, 'The age must be realistic'"
   ]
  },
  {
   "cell_type": "code",
   "execution_count": 15,
   "id": "temporal-salmon",
   "metadata": {},
   "outputs": [
    {
     "name": "stdout",
     "output_type": "stream",
     "text": [
      "1\n",
      "2\n",
      "3\n",
      "4\n",
      "5\n",
      "6\n",
      "7\n",
      "8\n",
      "9\n",
      "10\n"
     ]
    }
   ],
   "source": [
    "#loop\n",
    "#whileLoop\n",
    "x = 1\n",
    "while x <= 10:\n",
    "    print(x)\n",
    "    x += 1"
   ]
  },
  {
   "cell_type": "code",
   "execution_count": 18,
   "id": "editorial-period",
   "metadata": {},
   "outputs": [
    {
     "name": "stdout",
     "output_type": "stream",
     "text": [
      "Please enter your name:  \n",
      "Please enter your name: \n",
      "Please enter your name:   \n",
      "Please enter your name: Tygors Woo\n",
      "Hello, Tygors Woo!\n"
     ]
    }
   ],
   "source": [
    "name = ''\n",
    "while not name or name.isspace():\n",
    "    name = input('Please enter your name: ')\n",
    "print('Hello, {}!'.format(name))"
   ]
  },
  {
   "cell_type": "code",
   "execution_count": 21,
   "id": "stylish-nickel",
   "metadata": {},
   "outputs": [
    {
     "name": "stdout",
     "output_type": "stream",
     "text": [
      "Please enter your name:   \n",
      "Please enter your name: \n",
      "Please enter your name:               Tygors Woo          \n",
      "Hello, Tygors Woo!\n"
     ]
    }
   ],
   "source": [
    "name = ''\n",
    "while not name.strip():\n",
    "    name = input('Please enter your name: ')\n",
    "print('Hello, {}!'.format(name.strip()))"
   ]
  },
  {
   "cell_type": "code",
   "execution_count": 25,
   "id": "theoretical-profit",
   "metadata": {},
   "outputs": [
    {
     "name": "stdout",
     "output_type": "stream",
     "text": [
      "this is an ex parrot "
     ]
    }
   ],
   "source": [
    "#forLoop\n",
    "#一种这样的需求是为序列（或其他可迭代对象）中每个元素执行代码块\n",
    "#可迭代对象是可使用for循环进行遍历的对象,可以暂时视为序列\n",
    "words = ['this', 'is', 'an', 'ex', 'parrot']\n",
    "for word in words:\n",
    "    print(word,end=' ')"
   ]
  },
  {
   "cell_type": "code",
   "execution_count": 26,
   "id": "golden-making",
   "metadata": {},
   "outputs": [
    {
     "name": "stdout",
     "output_type": "stream",
     "text": [
      "0\n",
      "1\n",
      "2\n",
      "3\n",
      "4\n",
      "5\n",
      "6\n",
      "7\n",
      "8\n",
      "9\n"
     ]
    }
   ],
   "source": [
    "numbers = [0, 1, 2, 3, 4, 5, 6, 7, 8, 9]\n",
    "for number in numbers:\n",
    "    print(number)"
   ]
  },
  {
   "cell_type": "code",
   "execution_count": 29,
   "id": "south-background",
   "metadata": {},
   "outputs": [
    {
     "data": {
      "text/plain": [
       "range(0, 10)"
      ]
     },
     "execution_count": 29,
     "metadata": {},
     "output_type": "execute_result"
    }
   ],
   "source": [
    "range(0,10)"
   ]
  },
  {
   "cell_type": "code",
   "execution_count": 30,
   "id": "living-opera",
   "metadata": {},
   "outputs": [
    {
     "data": {
      "text/plain": [
       "[0, 1, 2, 3, 4, 5, 6, 7, 8, 9]"
      ]
     },
     "execution_count": 30,
     "metadata": {},
     "output_type": "execute_result"
    }
   ],
   "source": [
    "list(range(0,10))"
   ]
  },
  {
   "cell_type": "code",
   "execution_count": 31,
   "id": "violent-crime",
   "metadata": {},
   "outputs": [
    {
     "name": "stdout",
     "output_type": "stream",
     "text": [
      "0\n",
      "1\n",
      "2\n",
      "3\n",
      "4\n",
      "5\n",
      "6\n",
      "7\n",
      "8\n",
      "9\n"
     ]
    }
   ],
   "source": [
    "for i in range(0,10):\n",
    "    print(i)"
   ]
  },
  {
   "cell_type": "markdown",
   "id": "objective-consumer",
   "metadata": {},
   "source": [
    "只要能够使用for循环，就不要使用while循环"
   ]
  },
  {
   "cell_type": "code",
   "execution_count": 32,
   "id": "unusual-dressing",
   "metadata": {},
   "outputs": [
    {
     "name": "stdout",
     "output_type": "stream",
     "text": [
      "x corresponds to 1\n",
      "y corresponds to 2\n",
      "z corresponds to 3\n"
     ]
    }
   ],
   "source": [
    "#迭代字典\n",
    "#遍历字典的所有关键字，可像遍历序列那样使用普通的for语句\n",
    "d = {'x': 1, 'y': 2, 'z': 3}\n",
    "for key in d:\n",
    "    print(key, 'corresponds to', d[key])"
   ]
  },
  {
   "cell_type": "code",
   "execution_count": 33,
   "id": "roman-flight",
   "metadata": {},
   "outputs": [
    {
     "name": "stdout",
     "output_type": "stream",
     "text": [
      "x corresponds to 1\n",
      "y corresponds to 2\n",
      "z corresponds to 3\n"
     ]
    }
   ],
   "source": [
    "for key in d.keys():\n",
    "    print(key, 'corresponds to', d[key])"
   ]
  },
  {
   "cell_type": "code",
   "execution_count": 34,
   "id": "academic-lawsuit",
   "metadata": {},
   "outputs": [
    {
     "name": "stdout",
     "output_type": "stream",
     "text": [
      "x corresponds to 1\n",
      "y corresponds to 2\n",
      "z corresponds to 3\n"
     ]
    }
   ],
   "source": [
    "for key, value in d.items():\n",
    "    print(key, 'corresponds to', value)"
   ]
  },
  {
   "cell_type": "markdown",
   "id": "fitting-discipline",
   "metadata": {},
   "source": [
    "如果顺序很重要，可将键或值存储在一个列表中并对列\n",
    "表排序，再进行迭代"
   ]
  },
  {
   "cell_type": "code",
   "execution_count": 35,
   "id": "functional-fluid",
   "metadata": {},
   "outputs": [
    {
     "name": "stdout",
     "output_type": "stream",
     "text": [
      "anne is 12 years old\n",
      "beth is 45 years old\n",
      "george is 32 years old\n",
      "damon is 102 years old\n"
     ]
    }
   ],
   "source": [
    "#一些迭代工具\n",
    "#并行迭代\n",
    "names = ['anne', 'beth', 'george', 'damon']\n",
    "ages = [12, 45, 32, 102]\n",
    "for i in range(len(names)):\n",
    "    print(names[i], 'is', ages[i], 'years old')"
   ]
  },
  {
   "cell_type": "code",
   "execution_count": 40,
   "id": "peaceful-swing",
   "metadata": {},
   "outputs": [
    {
     "data": {
      "text/plain": [
       "[('anne', 12), ('beth', 45), ('george', 32), ('damon', 102)]"
      ]
     },
     "execution_count": 40,
     "metadata": {},
     "output_type": "execute_result"
    }
   ],
   "source": [
    "#一个很有用的并行迭代工具是内置函数zip，它将两个序列“缝合”起来，并返回一个由元组组成的序列。\n",
    "list(zip(names, ages))"
   ]
  },
  {
   "cell_type": "code",
   "execution_count": 41,
   "id": "collaborative-samoa",
   "metadata": {},
   "outputs": [
    {
     "name": "stdout",
     "output_type": "stream",
     "text": [
      "anne is 12 years old\n",
      "beth is 45 years old\n",
      "george is 32 years old\n",
      "damon is 102 years old\n"
     ]
    }
   ],
   "source": [
    "#“缝合”后，可在循环中将元组解包。\n",
    "for name, age in zip(names, ages):\n",
    "    print(name, 'is', age, 'years old')"
   ]
  },
  {
   "cell_type": "code",
   "execution_count": 42,
   "id": "seventh-director",
   "metadata": {},
   "outputs": [
    {
     "data": {
      "text/plain": [
       "[(0, 0), (1, 1), (2, 2), (3, 3), (4, 4)]"
      ]
     },
     "execution_count": 42,
     "metadata": {},
     "output_type": "execute_result"
    }
   ],
   "source": [
    "#函数zip可用于“缝合”任意数量的序列,!!!最短序列缝合\n",
    "list(zip(range(5), range(100000000)))"
   ]
  },
  {
   "cell_type": "code",
   "execution_count": 53,
   "id": "naked-alpha",
   "metadata": {},
   "outputs": [
    {
     "name": "stdout",
     "output_type": "stream",
     "text": [
      "['tygors', 'woo', 'is', 'a', 'n66', '[censored]']\n"
     ]
    }
   ],
   "source": [
    "#迭代时获取索引\n",
    "#需要在迭代对象序列的同时获取当前对象的索引\n",
    "strings = ['tygors','woo','is','a','n66','er']\n",
    "for string in strings:\n",
    "    if 'e' in string:\n",
    "        index = strings.index(string) # 在字符串列表中查找字符串\n",
    "        strings[index] = '[censored]'\n",
    "print(strings)"
   ]
  },
  {
   "cell_type": "code",
   "execution_count": 54,
   "id": "national-heavy",
   "metadata": {},
   "outputs": [
    {
     "name": "stdout",
     "output_type": "stream",
     "text": [
      "['tygors', 'woo', 'is', '[censored]', 'n66', '[censored]']\n"
     ]
    }
   ],
   "source": [
    "index = 0\n",
    "for string in strings:\n",
    "    if 'a' in string:\n",
    "        strings[index] = '[censored]'\n",
    "    index += 1\n",
    "print(strings)"
   ]
  },
  {
   "cell_type": "code",
   "execution_count": 55,
   "id": "sought-stranger",
   "metadata": {},
   "outputs": [
    {
     "name": "stdout",
     "output_type": "stream",
     "text": [
      "['tygors', 'woo', '[censored]', '[censored]', 'n66', '[censored]']\n"
     ]
    }
   ],
   "source": [
    "#enumerate函数让你能够迭代索引-值对，其中的索引是自动提供的\n",
    "for index, string in enumerate(strings):\n",
    "    if 'is' in string:\n",
    "        strings[index] = '[censored]'\n",
    "print(strings)"
   ]
  },
  {
   "cell_type": "code",
   "execution_count": 56,
   "id": "varied-batman",
   "metadata": {},
   "outputs": [
    {
     "data": {
      "text/plain": [
       "[3, 3, 4, 6, 8]"
      ]
     },
     "execution_count": 56,
     "metadata": {},
     "output_type": "execute_result"
    }
   ],
   "source": [
    "#反向迭代和排序后再迭代reversed和sorted\n",
    "#sorted返回的是列表\n",
    "sorted([4, 3, 6, 8, 3])"
   ]
  },
  {
   "cell_type": "code",
   "execution_count": 58,
   "id": "fixed-champagne",
   "metadata": {},
   "outputs": [
    {
     "data": {
      "text/plain": [
       "[' ', ',', 'd', 'e', 'h', 'l', 'l', 'l', 'o', 'o', 'r', 'w']"
      ]
     },
     "execution_count": 58,
     "metadata": {},
     "output_type": "execute_result"
    }
   ],
   "source": [
    "sorted('hello, world')"
   ]
  },
  {
   "cell_type": "code",
   "execution_count": 59,
   "id": "seven-badge",
   "metadata": {},
   "outputs": [
    {
     "data": {
      "text/plain": [
       "['d', 'l', 'r', 'o', 'w', ' ', ',', 'o', 'l', 'l', 'e', 'h']"
      ]
     },
     "execution_count": 59,
     "metadata": {},
     "output_type": "execute_result"
    }
   ],
   "source": [
    "#reversed和zip返回的是神秘的可迭代对象\n",
    "list(reversed('hello, world'))"
   ]
  },
  {
   "cell_type": "code",
   "execution_count": 60,
   "id": "removed-harbor",
   "metadata": {},
   "outputs": [
    {
     "data": {
      "text/plain": [
       "'d l r o w   , o l l e h'"
      ]
     },
     "execution_count": 60,
     "metadata": {},
     "output_type": "execute_result"
    }
   ],
   "source": [
    "#只管在for循环和join等方法中去使用可迭代对象即可\n",
    "' '.join(reversed('hello, world'))"
   ]
  },
  {
   "cell_type": "code",
   "execution_count": 61,
   "id": "monthly-original",
   "metadata": {},
   "outputs": [
    {
     "name": "stdout",
     "output_type": "stream",
     "text": [
      "81\n"
     ]
    }
   ],
   "source": [
    "#跳出循环\n",
    "#有些情况下，你可能想中断循环、开始新迭代（进入“下一轮”代码块执行流程）或直接结束循环\n",
    "#break直接结束当前循环，即整个for都没了\n",
    "\n",
    "from math import sqrt\n",
    "for n in range(99, 0, -1):\n",
    "    root = sqrt(n)\n",
    "    if root == int(root):\n",
    "        print(n)\n",
    "        break"
   ]
  },
  {
   "cell_type": "markdown",
   "id": "linear-victoria",
   "metadata": {},
   "source": [
    "#continue是结束当前迭代，也就是结束当次for的continue下面的语句而已\n",
    "#剩下还在继续循环"
   ]
  },
  {
   "cell_type": "code",
   "execution_count": 66,
   "id": "confidential-crazy",
   "metadata": {},
   "outputs": [
    {
     "name": "stdout",
     "output_type": "stream",
     "text": [
      "Please enter a word: 123\n",
      "The word was 123\n",
      "Please enter a word: \n",
      "The word was \n"
     ]
    }
   ],
   "source": [
    "#while True/break成例\n",
    "word = 'dummy'\n",
    "while word:\n",
    "    word = input('Please enter a word: ')\n",
    "    # 使用这个单词做些事情：\n",
    "    print('The word was', word)"
   ]
  },
  {
   "cell_type": "code",
   "execution_count": 67,
   "id": "boolean-phone",
   "metadata": {},
   "outputs": [
    {
     "name": "stdout",
     "output_type": "stream",
     "text": [
      "Please enter a word: dum\n",
      "The word was  dum\n",
      "Please enter a word: \n"
     ]
    }
   ],
   "source": [
    "word = input('Please enter a word: ')\n",
    "while word:\n",
    "    # 使用这个单词做些事情：\n",
    "    print('The word was ', word)\n",
    "    word = input('Please enter a word: ')"
   ]
  },
  {
   "cell_type": "code",
   "execution_count": 68,
   "id": "aggregate-woman",
   "metadata": {},
   "outputs": [
    {
     "name": "stdout",
     "output_type": "stream",
     "text": [
      "Please enter a word: \n"
     ]
    }
   ],
   "source": [
    "while True:\n",
    "    word = input('Please enter a word: ')\n",
    "    if not word: break\n",
    "    # 使用这个单词做些事情：\n",
    "    print('The word was ', word)\n",
    "#if/break行将整个循环分成两部分：\n",
    "#第一部分负责设置（如果使用常规while循环，将重复这部分）\n",
    "#第二部分在循环条件为真时使用第一部分初始化的数据"
   ]
  },
  {
   "cell_type": "code",
   "execution_count": 69,
   "id": "fatal-cincinnati",
   "metadata": {},
   "outputs": [],
   "source": [
    "#循环中的 else 子句\n",
    "#在循环开始前定义一个布尔变量并将其设置为False\n",
    "#再在跳出循环时将其设置为True\n",
    "#这样就可在循环后面使用一条if语句来判断循环是否是提前结束的"
   ]
  },
  {
   "cell_type": "code",
   "execution_count": 70,
   "id": "documented-combat",
   "metadata": {},
   "outputs": [
    {
     "name": "stdout",
     "output_type": "stream",
     "text": [
      "Didn't find it!\n"
     ]
    }
   ],
   "source": [
    "#一种更简单的办法是在循环中添加一条else子句\n",
    "#它仅在没有调用break时才执行\n",
    "from math import sqrt\n",
    "for n in range(99, 81, -1):\n",
    "    root = sqrt(n)\n",
    "    if root == int(root):\n",
    "        print(n)\n",
    "        break\n",
    "else:\n",
    "    print(\"Didn't find it!\")"
   ]
  },
  {
   "cell_type": "code",
   "execution_count": 72,
   "id": "american-alpha",
   "metadata": {},
   "outputs": [
    {
     "data": {
      "text/plain": [
       "[0, 1, 4, 9, 16, 25, 36, 49, 64, 81]"
      ]
     },
     "execution_count": 72,
     "metadata": {},
     "output_type": "execute_result"
    }
   ],
   "source": [
    "#简单推导\n",
    "#列表推导是一种从其他列表创建列表的方式，类似于数学中的集合推导\n",
    "#列表推导的工作原理非常简单，有点类似于for循环\n",
    "[x * x for x in range(10)]"
   ]
  },
  {
   "cell_type": "code",
   "execution_count": 77,
   "id": "integral-concern",
   "metadata": {},
   "outputs": [
    {
     "data": {
      "text/plain": [
       "[0, 9, 36, 81]"
      ]
     },
     "execution_count": 77,
     "metadata": {},
     "output_type": "execute_result"
    }
   ],
   "source": [
    "[x*x for x in range(10) if x%3 == 0] "
   ]
  },
  {
   "cell_type": "code",
   "execution_count": 78,
   "id": "illegal-merit",
   "metadata": {},
   "outputs": [
    {
     "data": {
      "text/plain": [
       "[(0, 0), (0, 1), (0, 2), (1, 0), (1, 1), (1, 2), (2, 0), (2, 1), (2, 2)]"
      ]
     },
     "execution_count": 78,
     "metadata": {},
     "output_type": "execute_result"
    }
   ],
   "source": [
    "[(x, y) for x in range(3) for y in range(3)]"
   ]
  },
  {
   "cell_type": "code",
   "execution_count": 81,
   "id": "south-publicity",
   "metadata": {},
   "outputs": [
    {
     "data": {
      "text/plain": [
       "[(0, 0), (0, 1), (0, 2), (1, 0), (1, 1), (1, 2), (2, 0), (2, 1), (2, 2)]"
      ]
     },
     "execution_count": 81,
     "metadata": {},
     "output_type": "execute_result"
    }
   ],
   "source": [
    "result = []\n",
    "for x in range(3):\n",
    "    for y in range(3):\n",
    "        result.append((x, y))\n",
    "result"
   ]
  },
  {
   "cell_type": "code",
   "execution_count": 88,
   "id": "metropolitan-mediterranean",
   "metadata": {},
   "outputs": [
    {
     "name": "stdout",
     "output_type": "stream",
     "text": [
      "all\n",
      "all\n",
      "all\n"
     ]
    },
    {
     "data": {
      "text/plain": [
       "[None, None, None]"
      ]
     },
     "execution_count": 88,
     "metadata": {},
     "output_type": "execute_result"
    }
   ],
   "source": [
    "girls = ['alice', 'bernice', 'clarice']\n",
    "boys = ['chris', 'arnold', 'bob']\n",
    "[print('all') for b in boys]"
   ]
  },
  {
   "cell_type": "code",
   "execution_count": 89,
   "id": "african-vegetation",
   "metadata": {},
   "outputs": [
    {
     "data": {
      "text/plain": [
       "['chris+alice',\n",
       " 'chris+bernice',\n",
       " 'chris+clarice',\n",
       " 'arnold+alice',\n",
       " 'arnold+bernice',\n",
       " 'arnold+clarice',\n",
       " 'bob+alice',\n",
       " 'bob+bernice',\n",
       " 'bob+clarice']"
      ]
     },
     "execution_count": 89,
     "metadata": {},
     "output_type": "execute_result"
    }
   ],
   "source": [
    "girls = ['alice', 'bernice', 'clarice']\n",
    "boys = ['chris', 'arnold', 'bob']\n",
    "[b+'+'+g for b in boys for g in girls]"
   ]
  },
  {
   "cell_type": "code",
   "execution_count": 90,
   "id": "opened-theater",
   "metadata": {},
   "outputs": [
    {
     "data": {
      "text/plain": [
       "['chris+clarice', 'arnold+alice', 'bob+bernice']"
      ]
     },
     "execution_count": 90,
     "metadata": {},
     "output_type": "execute_result"
    }
   ],
   "source": [
    "girls = ['alice', 'bernice', 'clarice']\n",
    "boys = ['chris', 'arnold', 'bob']\n",
    "[b+'+'+g for b in boys for g in girls if b[0] == g[0]]"
   ]
  },
  {
   "cell_type": "code",
   "execution_count": 94,
   "id": "natural-vienna",
   "metadata": {},
   "outputs": [
    {
     "name": "stdout",
     "output_type": "stream",
     "text": [
      "alice\n",
      "{}\n",
      "bernice\n",
      "{'a': ['alice']}\n",
      "clarice\n",
      "{'a': ['alice'], 'b': ['bernice']}\n",
      "allis\n",
      "{'a': ['alice'], 'b': ['bernice'], 'c': ['clarice']}\n",
      "bert\n",
      "{'a': ['alice', 'allis'], 'b': ['bernice'], 'c': ['clarice']}\n",
      "{'a': ['alice', 'allis'], 'b': ['bernice', 'bert'], 'c': ['clarice']}\n",
      "['chris+clarice', 'arnold+alice', 'arnold+allis', 'bob+bernice', 'bob+bert']\n"
     ]
    }
   ],
   "source": [
    "girls = ['alice', 'bernice', 'clarice','allis','bert']\n",
    "boys = ['chris', 'arnold', 'bob']\n",
    "letterGirls = {}\n",
    "for girl in girls:\n",
    "    print(girl)\n",
    "    print(letterGirls)\n",
    "    letterGirls.setdefault(girl[0], []).append(girl) \n",
    "print(letterGirls)\n",
    "print([b+'+'+g for b in boys for g in letterGirls[b[0]]])"
   ]
  },
  {
   "cell_type": "code",
   "execution_count": 95,
   "id": "abstract-demand",
   "metadata": {},
   "outputs": [
    {
     "data": {
      "text/plain": [
       "'8 squared is 64'"
      ]
     },
     "execution_count": 95,
     "metadata": {},
     "output_type": "execute_result"
    }
   ],
   "source": [
    "#使用圆括号代替方括号并不能实现元组推导，而是将创建生成器\n",
    "#详细信息请参阅第9章的旁注“简单生成器”\n",
    "#然而，可使用花括号来执行字典推导\n",
    "squares = {i:\"{} squared is {}\".format(i, i**2) for i in range(10)}\n",
    "squares[8]"
   ]
  },
  {
   "cell_type": "code",
   "execution_count": 96,
   "id": "attempted-karen",
   "metadata": {},
   "outputs": [],
   "source": [
    "#在列表推导中， for前面只有一个表达式\n",
    "#而在字典推导中， for前面有两个用冒号分隔的表达式\n",
    "#这两个表达式分别为键及其对应的值"
   ]
  },
  {
   "cell_type": "code",
   "execution_count": 97,
   "id": "lonely-waters",
   "metadata": {},
   "outputs": [],
   "source": [
    "#pass、del和exec\n",
    "#pass这里什么都没有发生，可将其用作占位符"
   ]
  },
  {
   "cell_type": "code",
   "execution_count": 99,
   "id": "small-transfer",
   "metadata": {},
   "outputs": [
    {
     "data": {
      "text/plain": [
       "{'age': 42, 'first name': 'Robin', 'last name': 'of Locksley'}"
      ]
     },
     "execution_count": 99,
     "metadata": {},
     "output_type": "execute_result"
    }
   ],
   "source": [
    "#使用 del 删除\n",
    "#对于你不再使用的对象， Python通常会将其删除\n",
    "scoundrel = {'age': 42, 'first name': 'Robin', 'last name': 'of Locksley'}\n",
    "robin = scoundrel\n",
    "scoundrel"
   ]
  },
  {
   "cell_type": "code",
   "execution_count": 100,
   "id": "double-editor",
   "metadata": {},
   "outputs": [
    {
     "data": {
      "text/plain": [
       "{'age': 42, 'first name': 'Robin', 'last name': 'of Locksley'}"
      ]
     },
     "execution_count": 100,
     "metadata": {},
     "output_type": "execute_result"
    }
   ],
   "source": [
    "robin"
   ]
  },
  {
   "cell_type": "code",
   "execution_count": 101,
   "id": "composed-visiting",
   "metadata": {},
   "outputs": [
    {
     "data": {
      "text/plain": [
       "{'age': 42, 'first name': 'Robin', 'last name': 'of Locksley'}"
      ]
     },
     "execution_count": 101,
     "metadata": {},
     "output_type": "execute_result"
    }
   ],
   "source": [
    "scoundrel = None\n",
    "robin"
   ]
  },
  {
   "cell_type": "code",
   "execution_count": 102,
   "id": "caroline-effectiveness",
   "metadata": {},
   "outputs": [],
   "source": [
    "scoundrel"
   ]
  },
  {
   "cell_type": "code",
   "execution_count": 103,
   "id": "emotional-appendix",
   "metadata": {},
   "outputs": [
    {
     "name": "stdout",
     "output_type": "stream",
     "text": [
      "None\n"
     ]
    }
   ],
   "source": [
    "print(scoundrel)"
   ]
  },
  {
   "cell_type": "code",
   "execution_count": 105,
   "id": "biological-hollow",
   "metadata": {},
   "outputs": [],
   "source": [
    "robin=None"
   ]
  },
  {
   "cell_type": "code",
   "execution_count": 106,
   "id": "future-nomination",
   "metadata": {},
   "outputs": [
    {
     "name": "stdout",
     "output_type": "stream",
     "text": [
      "None\n"
     ]
    }
   ],
   "source": [
    "print(robin)"
   ]
  },
  {
   "cell_type": "code",
   "execution_count": 107,
   "id": "exotic-startup",
   "metadata": {},
   "outputs": [],
   "source": [
    "#此时python解释器启动GC垃圾收集"
   ]
  },
  {
   "cell_type": "code",
   "execution_count": 108,
   "id": "fiscal-bridal",
   "metadata": {},
   "outputs": [
    {
     "ename": "NameError",
     "evalue": "name 'x' is not defined",
     "output_type": "error",
     "traceback": [
      "\u001b[1;31m---------------------------------------------------------------------------\u001b[0m",
      "\u001b[1;31mNameError\u001b[0m                                 Traceback (most recent call last)",
      "\u001b[1;32m<ipython-input-108-5984e512818e>\u001b[0m in \u001b[0;36m<module>\u001b[1;34m\u001b[0m\n\u001b[0;32m      2\u001b[0m \u001b[0mx\u001b[0m \u001b[1;33m=\u001b[0m \u001b[1;36m1\u001b[0m\u001b[1;33m\u001b[0m\u001b[0m\n\u001b[0;32m      3\u001b[0m \u001b[1;32mdel\u001b[0m \u001b[0mx\u001b[0m\u001b[1;33m\u001b[0m\u001b[0m\n\u001b[1;32m----> 4\u001b[1;33m \u001b[0mx\u001b[0m\u001b[1;33m\u001b[0m\u001b[0m\n\u001b[0m",
      "\u001b[1;31mNameError\u001b[0m: name 'x' is not defined"
     ]
    }
   ],
   "source": [
    "#而主动删除对象引用和名称本身的办法是del语句\n",
    "x = 1\n",
    "del x\n",
    "x"
   ]
  },
  {
   "cell_type": "code",
   "execution_count": 109,
   "id": "polyphonic-cylinder",
   "metadata": {},
   "outputs": [
    {
     "data": {
      "text/plain": [
       "['Hello', 'Python']"
      ]
     },
     "execution_count": 109,
     "metadata": {},
     "output_type": "execute_result"
    }
   ],
   "source": [
    "x = [\"Hello\", \"world\"]\n",
    "y = x\n",
    "y[1] = \"Python\"\n",
    "x"
   ]
  },
  {
   "cell_type": "code",
   "execution_count": 110,
   "id": "protected-entry",
   "metadata": {},
   "outputs": [
    {
     "data": {
      "text/plain": [
       "['Hello', 'Python']"
      ]
     },
     "execution_count": 110,
     "metadata": {},
     "output_type": "execute_result"
    }
   ],
   "source": [
    "del x\n",
    "y"
   ]
  },
  {
   "cell_type": "code",
   "execution_count": 111,
   "id": "metric-neighborhood",
   "metadata": {},
   "outputs": [
    {
     "name": "stdout",
     "output_type": "stream",
     "text": [
      "Hello, world!\n"
     ]
    }
   ],
   "source": [
    "#使用 exec 和 eval 执行字符串及计算其结果\n",
    "#函数exec将字符串作为代码执行\n",
    "exec(\"print('Hello, world!')\")"
   ]
  },
  {
   "cell_type": "code",
   "execution_count": 112,
   "id": "promotional-pressure",
   "metadata": {},
   "outputs": [
    {
     "ename": "TypeError",
     "evalue": "'int' object is not callable",
     "output_type": "error",
     "traceback": [
      "\u001b[1;31m---------------------------------------------------------------------------\u001b[0m",
      "\u001b[1;31mTypeError\u001b[0m                                 Traceback (most recent call last)",
      "\u001b[1;32m<ipython-input-112-3d937c4d4560>\u001b[0m in \u001b[0;36m<module>\u001b[1;34m\u001b[0m\n\u001b[0;32m      2\u001b[0m \u001b[1;32mfrom\u001b[0m \u001b[0mmath\u001b[0m \u001b[1;32mimport\u001b[0m \u001b[0msqrt\u001b[0m\u001b[1;33m\u001b[0m\u001b[0m\n\u001b[0;32m      3\u001b[0m \u001b[0mexec\u001b[0m\u001b[1;33m(\u001b[0m\u001b[1;34m\"sqrt = 1\"\u001b[0m\u001b[1;33m)\u001b[0m\u001b[1;33m\u001b[0m\u001b[0m\n\u001b[1;32m----> 4\u001b[1;33m \u001b[0msqrt\u001b[0m\u001b[1;33m(\u001b[0m\u001b[1;36m4\u001b[0m\u001b[1;33m)\u001b[0m\u001b[1;33m\u001b[0m\u001b[0m\n\u001b[0m",
      "\u001b[1;31mTypeError\u001b[0m: 'int' object is not callable"
     ]
    }
   ],
   "source": [
    "#需要注意命名空间\n",
    "from math import sqrt\n",
    "exec(\"sqrt = 1\")\n",
    "sqrt(4)"
   ]
  },
  {
   "cell_type": "code",
   "execution_count": 116,
   "id": "meaningful-blank",
   "metadata": {},
   "outputs": [
    {
     "name": "stdout",
     "output_type": "stream",
     "text": [
      "2.0\n",
      "1\n"
     ]
    }
   ],
   "source": [
    "#为了安全起见，要提供一个字典以充当命名空间（作用域）\n",
    "#视为放置变量的地方，类似于一个看不见的字典\n",
    "from math import sqrt\n",
    "scope = {}\n",
    "exec('sqrt = 1', scope)\n",
    "print(sqrt(4))\n",
    "print(scope['sqrt'])\n"
   ]
  },
  {
   "cell_type": "code",
   "execution_count": 117,
   "id": "tribal-stevens",
   "metadata": {},
   "outputs": [
    {
     "name": "stdout",
     "output_type": "stream",
     "text": [
      "2\n",
      "dict_keys(['__builtins__', 'sqrt'])\n"
     ]
    }
   ],
   "source": [
    "print(len(scope))\n",
    "print(scope.keys())"
   ]
  },
  {
   "cell_type": "code",
   "execution_count": 118,
   "id": "advised-obligation",
   "metadata": {},
   "outputs": [
    {
     "name": "stdout",
     "output_type": "stream",
     "text": [
      "Enter an arithmetic expression: 6+18*2\n"
     ]
    },
    {
     "data": {
      "text/plain": [
       "42"
      ]
     },
     "execution_count": 118,
     "metadata": {},
     "output_type": "execute_result"
    }
   ],
   "source": [
    "#eval是一个类似于exec的内置函数\n",
    "#eval计算用字符串表示的Python表达式的值，并返回结果\n",
    "#exec什么都不返回，因为它本身是条语句\n",
    "eval(input(\"Enter an arithmetic expression: \"))"
   ]
  },
  {
   "cell_type": "code",
   "execution_count": 119,
   "id": "ranging-challenge",
   "metadata": {},
   "outputs": [
    {
     "data": {
      "text/plain": [
       "6"
      ]
     },
     "execution_count": 119,
     "metadata": {},
     "output_type": "execute_result"
    }
   ],
   "source": [
    "#与exec一样，也可向eval提供一个命名空间，虽然表达式通常不会像语句那样给变量重新赋值\n",
    "#向exec或eval提供命名空间时，可在使用这个命名空间前在其中添加一些值。\n",
    "scope = {}\n",
    "scope['x'] = 2\n",
    "scope['y'] = 3\n",
    "eval('x * y', scope)"
   ]
  },
  {
   "cell_type": "code",
   "execution_count": 120,
   "id": "preliminary-divide",
   "metadata": {},
   "outputs": [
    {
     "ename": "NameError",
     "evalue": "name 'x' is not defined",
     "output_type": "error",
     "traceback": [
      "\u001b[1;31m---------------------------------------------------------------------------\u001b[0m",
      "\u001b[1;31mNameError\u001b[0m                                 Traceback (most recent call last)",
      "\u001b[1;32m<ipython-input-120-6fcf9dfbd479>\u001b[0m in \u001b[0;36m<module>\u001b[1;34m\u001b[0m\n\u001b[1;32m----> 1\u001b[1;33m \u001b[0mx\u001b[0m\u001b[1;33m\u001b[0m\u001b[0m\n\u001b[0m",
      "\u001b[1;31mNameError\u001b[0m: name 'x' is not defined"
     ]
    }
   ],
   "source": [
    "x"
   ]
  },
  {
   "cell_type": "code",
   "execution_count": 122,
   "id": "decreased-gender",
   "metadata": {},
   "outputs": [
    {
     "name": "stdout",
     "output_type": "stream",
     "text": [
      "2\n"
     ]
    },
    {
     "data": {
      "text/plain": [
       "4"
      ]
     },
     "execution_count": 122,
     "metadata": {},
     "output_type": "execute_result"
    }
   ],
   "source": [
    "scope = {}\n",
    "exec('x = 2', scope)\n",
    "print(scope['x'])\n",
    "eval('x * x', scope)"
   ]
  },
  {
   "cell_type": "code",
   "execution_count": null,
   "id": "precious-writer",
   "metadata": {},
   "outputs": [],
   "source": []
  }
 ],
 "metadata": {
  "kernelspec": {
   "display_name": "Python 3",
   "language": "python",
   "name": "python3"
  },
  "language_info": {
   "codemirror_mode": {
    "name": "ipython",
    "version": 3
   },
   "file_extension": ".py",
   "mimetype": "text/x-python",
   "name": "python",
   "nbconvert_exporter": "python",
   "pygments_lexer": "ipython3",
   "version": "3.6.5"
  }
 },
 "nbformat": 4,
 "nbformat_minor": 5
}
