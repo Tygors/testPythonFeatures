{
 "cells": [
  {
   "cell_type": "markdown",
   "id": "living-robinson",
   "metadata": {},
   "source": [
    "Define a class named Circle which can be constructed by a radius. The Circle class has a method which can compute the area."
   ]
  },
  {
   "cell_type": "code",
   "execution_count": 2,
   "id": "possible-acrobat",
   "metadata": {},
   "outputs": [
    {
     "data": {
      "text/plain": [
       "12.56"
      ]
     },
     "execution_count": 2,
     "metadata": {},
     "output_type": "execute_result"
    }
   ],
   "source": [
    "class Circle:\n",
    "    def compArea(self, r):\n",
    "        return 3.14*r**2\n",
    "circleTest = Circle()\n",
    "circleTest.compArea(2)"
   ]
  },
  {
   "cell_type": "code",
   "execution_count": 3,
   "id": "victorian-military",
   "metadata": {},
   "outputs": [
    {
     "data": {
      "text/plain": [
       "12.56"
      ]
     },
     "execution_count": 3,
     "metadata": {},
     "output_type": "execute_result"
    }
   ],
   "source": [
    "class Circle():\n",
    "    def __init__(self,r):\n",
    "        self.r = r\n",
    "    def area(self):\n",
    "        return 3.14*self.r**2\n",
    "circle = Circle(2)#创建类实例时传递的函数是init来接收\n",
    "circle.area()"
   ]
  },
  {
   "cell_type": "markdown",
   "id": "assigned-channels",
   "metadata": {},
   "source": [
    "Define a class named Rectangle which can be constructed by a length and width. The Rectangle class has a method which can compute the area."
   ]
  },
  {
   "cell_type": "code",
   "execution_count": 5,
   "id": "round-powell",
   "metadata": {},
   "outputs": [
    {
     "data": {
      "text/plain": [
       "12"
      ]
     },
     "execution_count": 5,
     "metadata": {},
     "output_type": "execute_result"
    }
   ],
   "source": [
    "class Rectangle:\n",
    "    def __init__(self, length, width):\n",
    "        self.length = length\n",
    "        self.width = width\n",
    "    def rectArea(self):\n",
    "        return self.length*self.width\n",
    "rectangleTest = Rectangle(3, 4)\n",
    "rectangleTest.rectArea()"
   ]
  },
  {
   "cell_type": "code",
   "execution_count": 10,
   "id": "dimensional-outline",
   "metadata": {},
   "outputs": [
    {
     "data": {
      "text/plain": [
       "<__main__.Rectangle at 0x22731018908>"
      ]
     },
     "execution_count": 10,
     "metadata": {},
     "output_type": "execute_result"
    }
   ],
   "source": [
    "rectangleTest"
   ]
  },
  {
   "cell_type": "code",
   "execution_count": 12,
   "id": "perceived-criminal",
   "metadata": {},
   "outputs": [
    {
     "name": "stdout",
     "output_type": "stream",
     "text": [
      "3\n"
     ]
    }
   ],
   "source": [
    "if not vars().get('num',None):\n",
    "    num = 3\n",
    "else:\n",
    "    print(num)\n",
    "print(num)"
   ]
  },
  {
   "cell_type": "code",
   "execution_count": 13,
   "id": "local-separation",
   "metadata": {},
   "outputs": [
    {
     "name": "stdout",
     "output_type": "stream",
     "text": [
      "3\n",
      "3\n"
     ]
    }
   ],
   "source": [
    "if not vars().get('num',None):\n",
    "    num = 4\n",
    "else:\n",
    "    print(num)\n",
    "print(num)"
   ]
  },
  {
   "cell_type": "markdown",
   "id": "therapeutic-tradition",
   "metadata": {},
   "source": [
    "Define a class named Shape and its subclass Square. The Square class has an init function which takes a length as argument. Both classes have a area function which can print the area of the shape where Shape's area is 0 by default."
   ]
  },
  {
   "cell_type": "code",
   "execution_count": 27,
   "id": "median-translator",
   "metadata": {},
   "outputs": [
    {
     "name": "stdout",
     "output_type": "stream",
     "text": [
      "0\n"
     ]
    }
   ],
   "source": [
    "class Shape:\n",
    "    def __init__(self):\n",
    "        self.arg = 0\n",
    "    def area(self):\n",
    "        print(self.arg**2)\n",
    "    \n",
    "    \n",
    "class Square(Shape):\n",
    "    def __init__(self, length = 0):\n",
    "        self.length = length\n",
    "    def area(self):\n",
    "        print(self.length**2)\n",
    "shape = Shape()\n",
    "shape.area()"
   ]
  },
  {
   "cell_type": "code",
   "execution_count": 28,
   "id": "constitutional-relations",
   "metadata": {},
   "outputs": [
    {
     "name": "stdout",
     "output_type": "stream",
     "text": [
      "0\n",
      "9\n"
     ]
    }
   ],
   "source": [
    "square = Square()\n",
    "square.area()\n",
    "square1 = Square(3)\n",
    "square1.area()"
   ]
  },
  {
   "cell_type": "code",
   "execution_count": 29,
   "id": "optimum-causing",
   "metadata": {},
   "outputs": [
    {
     "name": "stdout",
     "output_type": "stream",
     "text": [
      "hey\n",
      "0\n",
      "hey\n",
      "0\n"
     ]
    }
   ],
   "source": [
    "class Shape():\n",
    "    def __init__(self):\n",
    "        self.watchme = 'hey'\n",
    "    def area(self):\n",
    "        return 0\n",
    "    \n",
    "class Square(Shape):\n",
    "    def __init__(self, length = 0):\n",
    "        Shape.__init__(self)\n",
    "        self.length = length\n",
    "        \n",
    "    def area(self):\n",
    "        print(self.watchme)\n",
    "        return self.length**2\n",
    "\n",
    "Asqr = Square()\n",
    "print(Asqr.area())\n",
    "print(Square().area())"
   ]
  },
  {
   "cell_type": "code",
   "execution_count": 30,
   "id": "foster-breakdown",
   "metadata": {},
   "outputs": [
    {
     "name": "stdout",
     "output_type": "stream",
     "text": [
      "hey\n",
      "25\n",
      "hey\n",
      "0\n"
     ]
    }
   ],
   "source": [
    "Asqr = Square(5)\n",
    "print(Asqr.area())\n",
    "print(Square().area())"
   ]
  },
  {
   "cell_type": "markdown",
   "id": "arranged-mason",
   "metadata": {},
   "source": [
    "Please raise a RuntimeError exception."
   ]
  },
  {
   "cell_type": "code",
   "execution_count": 32,
   "id": "funny-immigration",
   "metadata": {},
   "outputs": [
    {
     "ename": "RuntimeError",
     "evalue": "you've got a runtimeerror",
     "output_type": "error",
     "traceback": [
      "\u001b[1;31m---------------------------------------------------------------------------\u001b[0m",
      "\u001b[1;31mRuntimeError\u001b[0m                              Traceback (most recent call last)",
      "\u001b[1;32m<ipython-input-32-814cd074c89a>\u001b[0m in \u001b[0;36m<module>\u001b[1;34m\u001b[0m\n\u001b[1;32m----> 1\u001b[1;33m \u001b[1;32mraise\u001b[0m \u001b[0mRuntimeError\u001b[0m\u001b[1;33m(\u001b[0m\u001b[1;34m\"you've got a runtimeerror\"\u001b[0m\u001b[1;33m)\u001b[0m\u001b[1;33m\u001b[0m\u001b[0m\n\u001b[0m",
      "\u001b[1;31mRuntimeError\u001b[0m: you've got a runtimeerror"
     ]
    }
   ],
   "source": [
    "raise RuntimeError(\"you've got a runtimeerror\")"
   ]
  },
  {
   "cell_type": "code",
   "execution_count": null,
   "id": "authorized-constant",
   "metadata": {},
   "outputs": [],
   "source": []
  }
 ],
 "metadata": {
  "kernelspec": {
   "display_name": "Python 3",
   "language": "python",
   "name": "python3"
  },
  "language_info": {
   "codemirror_mode": {
    "name": "ipython",
    "version": 3
   },
   "file_extension": ".py",
   "mimetype": "text/x-python",
   "name": "python",
   "nbconvert_exporter": "python",
   "pygments_lexer": "ipython3",
   "version": "3.6.5"
  }
 },
 "nbformat": 4,
 "nbformat_minor": 5
}
