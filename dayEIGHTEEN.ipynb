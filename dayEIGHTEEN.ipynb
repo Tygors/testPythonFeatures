{
 "cells": [
  {
   "cell_type": "markdown",
   "id": "hindu-montgomery",
   "metadata": {},
   "source": [
    "Please write a program to output a random even number between 0 and 10 inclusive using random module and list comprehension."
   ]
  },
  {
   "cell_type": "code",
   "execution_count": 1,
   "id": "central-vaccine",
   "metadata": {},
   "outputs": [
    {
     "data": {
      "text/plain": [
       "4"
      ]
     },
     "execution_count": 1,
     "metadata": {},
     "output_type": "execute_result"
    }
   ],
   "source": [
    "import random\n",
    "random.choice([i for i in range(0,11) if i%2==0])"
   ]
  },
  {
   "cell_type": "code",
   "execution_count": 2,
   "id": "dense-loading",
   "metadata": {},
   "outputs": [
    {
     "data": {
      "text/plain": [
       "10"
      ]
     },
     "execution_count": 2,
     "metadata": {},
     "output_type": "execute_result"
    }
   ],
   "source": [
    "random.choice([i for i in range(0,11) if i%2==0])"
   ]
  },
  {
   "cell_type": "code",
   "execution_count": 3,
   "id": "sticky-bottle",
   "metadata": {},
   "outputs": [
    {
     "data": {
      "text/plain": [
       "4"
      ]
     },
     "execution_count": 3,
     "metadata": {},
     "output_type": "execute_result"
    }
   ],
   "source": [
    "random.choice([i for i in range(0,11) if i%2==0])"
   ]
  },
  {
   "cell_type": "code",
   "execution_count": 4,
   "id": "hollywood-friday",
   "metadata": {},
   "outputs": [
    {
     "data": {
      "text/plain": [
       "2"
      ]
     },
     "execution_count": 4,
     "metadata": {},
     "output_type": "execute_result"
    }
   ],
   "source": [
    "random.choice([i for i in range(0,11) if i%2==0])"
   ]
  },
  {
   "cell_type": "code",
   "execution_count": 5,
   "id": "normal-shanghai",
   "metadata": {},
   "outputs": [
    {
     "data": {
      "text/plain": [
       "2"
      ]
     },
     "execution_count": 5,
     "metadata": {},
     "output_type": "execute_result"
    }
   ],
   "source": [
    "random.choice([i for i in range(0,11) if i%2==0])"
   ]
  },
  {
   "cell_type": "code",
   "execution_count": 6,
   "id": "capable-offset",
   "metadata": {},
   "outputs": [
    {
     "data": {
      "text/plain": [
       "4"
      ]
     },
     "execution_count": 6,
     "metadata": {},
     "output_type": "execute_result"
    }
   ],
   "source": [
    "resp = [i for i in range(0,11,2)]\n",
    "random.choice(resp)"
   ]
  },
  {
   "cell_type": "code",
   "execution_count": 7,
   "id": "complicated-phase",
   "metadata": {},
   "outputs": [
    {
     "data": {
      "text/plain": [
       "0"
      ]
     },
     "execution_count": 7,
     "metadata": {},
     "output_type": "execute_result"
    }
   ],
   "source": [
    "random.choice(resp)"
   ]
  },
  {
   "cell_type": "code",
   "execution_count": 8,
   "id": "stone-photography",
   "metadata": {},
   "outputs": [
    {
     "data": {
      "text/plain": [
       "2"
      ]
     },
     "execution_count": 8,
     "metadata": {},
     "output_type": "execute_result"
    }
   ],
   "source": [
    "random.choice(resp)"
   ]
  },
  {
   "cell_type": "markdown",
   "id": "southwest-vehicle",
   "metadata": {},
   "source": [
    "Please write a program to output a random number, which is divisible by 5 and 7, between 10 and 150 inclusive using random module and list comprehension."
   ]
  },
  {
   "cell_type": "code",
   "execution_count": 9,
   "id": "proprietary-webmaster",
   "metadata": {},
   "outputs": [
    {
     "data": {
      "text/plain": [
       "35"
      ]
     },
     "execution_count": 9,
     "metadata": {},
     "output_type": "execute_result"
    }
   ],
   "source": [
    "random.choice([i for i in range(10,151) if i%35==0])"
   ]
  },
  {
   "cell_type": "code",
   "execution_count": 10,
   "id": "abstract-wisdom",
   "metadata": {},
   "outputs": [
    {
     "data": {
      "text/plain": [
       "70"
      ]
     },
     "execution_count": 10,
     "metadata": {},
     "output_type": "execute_result"
    }
   ],
   "source": [
    "random.choice([i for i in range(10,151) if i%35==0])"
   ]
  },
  {
   "cell_type": "code",
   "execution_count": 11,
   "id": "cleared-preparation",
   "metadata": {},
   "outputs": [
    {
     "data": {
      "text/plain": [
       "140"
      ]
     },
     "execution_count": 11,
     "metadata": {},
     "output_type": "execute_result"
    }
   ],
   "source": [
    "random.choice([i for i in range(10,151) if i%35==0])"
   ]
  },
  {
   "cell_type": "code",
   "execution_count": 12,
   "id": "photographic-familiar",
   "metadata": {},
   "outputs": [
    {
     "data": {
      "text/plain": [
       "35"
      ]
     },
     "execution_count": 12,
     "metadata": {},
     "output_type": "execute_result"
    }
   ],
   "source": [
    "random.choice([i for i in range(10,151) if i%35==0])"
   ]
  },
  {
   "cell_type": "code",
   "execution_count": 13,
   "id": "retained-forth",
   "metadata": {},
   "outputs": [
    {
     "data": {
      "text/plain": [
       "35"
      ]
     },
     "execution_count": 13,
     "metadata": {},
     "output_type": "execute_result"
    }
   ],
   "source": [
    "random.choice([i for i in range(10,151) if i%35==0])"
   ]
  },
  {
   "cell_type": "code",
   "execution_count": 14,
   "id": "nuclear-animal",
   "metadata": {},
   "outputs": [
    {
     "data": {
      "text/plain": [
       "35"
      ]
     },
     "execution_count": 14,
     "metadata": {},
     "output_type": "execute_result"
    }
   ],
   "source": [
    "random.choice([i for i in range(10,151) if i%35==0])"
   ]
  },
  {
   "cell_type": "markdown",
   "id": "authorized-shore",
   "metadata": {},
   "source": [
    "Please write a program to generate a list with 5 random numbers between 100 and 200 inclusive."
   ]
  },
  {
   "cell_type": "code",
   "execution_count": 15,
   "id": "organizational-craps",
   "metadata": {},
   "outputs": [
    {
     "name": "stdout",
     "output_type": "stream",
     "text": [
      "[130, 169, 191, 179, 109]\n"
     ]
    }
   ],
   "source": [
    "import random\n",
    "resp = random.sample(range(100,201), 5)\n",
    "print(resp)"
   ]
  },
  {
   "cell_type": "markdown",
   "id": "forbidden-album",
   "metadata": {},
   "source": [
    "Please write a program to randomly generate a list with 5 even numbers between 100 and 200 inclusive."
   ]
  },
  {
   "cell_type": "code",
   "execution_count": 16,
   "id": "three-documentation",
   "metadata": {},
   "outputs": [
    {
     "name": "stdout",
     "output_type": "stream",
     "text": [
      "[188, 166, 126, 148, 124]\n"
     ]
    }
   ],
   "source": [
    "resp = random.sample(range(100,201,2), 5)\n",
    "print(resp)"
   ]
  },
  {
   "cell_type": "markdown",
   "id": "extraordinary-greeting",
   "metadata": {},
   "source": [
    "Please write a program to randomly generate a list with 5 numbers, which are divisible by 5 and 7 , between 1 and 1000 inclusive."
   ]
  },
  {
   "cell_type": "code",
   "execution_count": 19,
   "id": "twenty-manitoba",
   "metadata": {},
   "outputs": [
    {
     "name": "stdout",
     "output_type": "stream",
     "text": [
      "[140, 560, 630, 980, 420]\n"
     ]
    }
   ],
   "source": [
    "resp = random.sample([i for i in range(1,1001) if i%35==0], 5)\n",
    "print(resp)"
   ]
  },
  {
   "cell_type": "code",
   "execution_count": null,
   "id": "atlantic-naples",
   "metadata": {},
   "outputs": [],
   "source": []
  }
 ],
 "metadata": {
  "kernelspec": {
   "display_name": "Python 3",
   "language": "python",
   "name": "python3"
  },
  "language_info": {
   "codemirror_mode": {
    "name": "ipython",
    "version": 3
   },
   "file_extension": ".py",
   "mimetype": "text/x-python",
   "name": "python",
   "nbconvert_exporter": "python",
   "pygments_lexer": "ipython3",
   "version": "3.6.5"
  }
 },
 "nbformat": 4,
 "nbformat_minor": 5
}
