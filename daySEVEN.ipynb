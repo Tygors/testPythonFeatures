{
 "cells": [
  {
   "cell_type": "markdown",
   "id": "unauthorized-virginia",
   "metadata": {},
   "source": [
    "Define a class with a generator which can iterate the numbers, which are divisible by 7, between a given range 0 and n."
   ]
  },
  {
   "cell_type": "code",
   "execution_count": 3,
   "id": "eleven-development",
   "metadata": {},
   "outputs": [
    {
     "name": "stdout",
     "output_type": "stream",
     "text": [
      "inputNum: 30\n",
      "0\n",
      "0\n",
      "1\n",
      "7\n",
      "2\n",
      "14\n",
      "3\n",
      "21\n",
      "4\n",
      "28\n"
     ]
    }
   ],
   "source": [
    "class iterTest():\n",
    "    def by_seven(self, n):\n",
    "        #要求出到n之前能整除7的所有数\n",
    "        #那么输入n除7后取整+1可以得到0~n所有能整除7的所有数\n",
    "        for i in range(0, int(n/7)+1):\n",
    "            print(i)\n",
    "            yield i * 7\n",
    "iterTest1 = iterTest()\n",
    "#iterTest().by_seven()\n",
    "for i in iterTest1.by_seven(int(input('inputNum: '))):\n",
    "    print(i)"
   ]
  },
  {
   "cell_type": "code",
   "execution_count": 6,
   "id": "bridal-engineering",
   "metadata": {},
   "outputs": [
    {
     "name": "stdout",
     "output_type": "stream",
     "text": [
      "number please: 30\n",
      "7\n",
      "14\n",
      "21\n",
      "28\n"
     ]
    }
   ],
   "source": [
    "class Divisible:\n",
    "    def by_seven(self, n):\n",
    "        for number in range(1, n+1):\n",
    "            if number % 7 == 0: yield number\n",
    "divisible = Divisible()\n",
    "#类里的方法才是真正的Iterator（因为有yield）\n",
    "generator = divisible.by_seven(int(input('number please: ')))\n",
    "for number in generator:\n",
    "    print(number)"
   ]
  },
  {
   "cell_type": "markdown",
   "id": "private-acceptance",
   "metadata": {},
   "source": [
    "A robot moves in a plane starting from the original point (0,0). The robot can move toward UP, DOWN, LEFT and RIGHT with a given steps. The trace of robot movement is shown as the following:\n",
    "\n",
    "UP 5\n",
    "DOWN 3\n",
    "LEFT 3\n",
    "RIGHT 2\n",
    "The numbers after the direction are steps. Please write a program to compute the distance from current position after a sequence of movement and original point. If the distance is a float, then just print the nearest integer. Example: If the following tuples are given as input to the program:\n",
    "\n",
    "UP 5\n",
    "DOWN 3\n",
    "LEFT 3\n",
    "RIGHT 2\n",
    "Then, the output of the program should be:\n",
    "\n",
    "2（2.236）"
   ]
  },
  {
   "cell_type": "code",
   "execution_count": 28,
   "id": "pressed-graphic",
   "metadata": {},
   "outputs": [
    {
     "name": "stdout",
     "output_type": "stream",
     "text": [
      "vec num: UP 5\n",
      "[0, 5]\n",
      "vec num: DOWN 3\n",
      "[0, 2]\n",
      "vec num: LEFT 3\n",
      "[-3, 2]\n",
      "vec num: RIGHT 2\n",
      "[-1, 2]\n",
      "vec num: \n",
      "2\n"
     ]
    }
   ],
   "source": [
    "import math\n",
    "originalP = [0,0]\n",
    "while True:\n",
    "    inputMove = input('vec num: ').split(' ')\n",
    "    if inputMove[0] == '':\n",
    "        break\n",
    "    if inputMove[0] == 'UP':\n",
    "        originalP[1] += int(inputMove[1])\n",
    "    elif inputMove[0] == 'DOWN':\n",
    "        originalP[1] -= int(inputMove[1])\n",
    "    elif inputMove[0] == 'RIGHT':\n",
    "        originalP[0] += int(inputMove[1])\n",
    "    elif inputMove[0] == 'LEFT':\n",
    "        originalP[0] -= int(inputMove[1])\n",
    "    print(originalP)\n",
    "print(round(math.sqrt(originalP[0]**2 + originalP[1]**2)))"
   ]
  },
  {
   "cell_type": "code",
   "execution_count": null,
   "id": "olive-classics",
   "metadata": {},
   "outputs": [],
   "source": []
  }
 ],
 "metadata": {
  "kernelspec": {
   "display_name": "Python 3",
   "language": "python",
   "name": "python3"
  },
  "language_info": {
   "codemirror_mode": {
    "name": "ipython",
    "version": 3
   },
   "file_extension": ".py",
   "mimetype": "text/x-python",
   "name": "python",
   "nbconvert_exporter": "python",
   "pygments_lexer": "ipython3",
   "version": "3.6.5"
  }
 },
 "nbformat": 4,
 "nbformat_minor": 5
}
