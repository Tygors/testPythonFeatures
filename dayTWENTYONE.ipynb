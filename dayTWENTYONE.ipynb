{
 "cells": [
  {
   "cell_type": "markdown",
   "id": "perfect-tyler",
   "metadata": {},
   "source": [
    "By using list comprehension, please write a program to print the list after removing the 0th,4th,5th numbers in [12,24,35,70,88,120,155]."
   ]
  },
  {
   "cell_type": "code",
   "execution_count": 4,
   "id": "proper-better",
   "metadata": {},
   "outputs": [
    {
     "name": "stdout",
     "output_type": "stream",
     "text": [
      "[24, 35, 70, 155]\n"
     ]
    }
   ],
   "source": [
    "li = [12,24,35,70,88,120,155]\n",
    "lst = [i for j,i in enumerate(li) if j not in [0,4,5]]\n",
    "print(lst)"
   ]
  },
  {
   "cell_type": "code",
   "execution_count": 5,
   "id": "taken-bible",
   "metadata": {},
   "outputs": [
    {
     "name": "stdout",
     "output_type": "stream",
     "text": [
      "[24, 35, 70, 155]\n"
     ]
    }
   ],
   "source": [
    "li = [12,24,35,70,88,120,155]\n",
    "li = [li[i] for i in range(len(li)) if i not in (0,4,5)]\n",
    "print(li)"
   ]
  },
  {
   "cell_type": "markdown",
   "id": "ahead-office",
   "metadata": {},
   "source": [
    "By using list comprehension, please write a program to print the list after removing the value 24 in [12,24,35,24,88,120,155]."
   ]
  },
  {
   "cell_type": "code",
   "execution_count": 7,
   "id": "tracked-congress",
   "metadata": {},
   "outputs": [
    {
     "name": "stdout",
     "output_type": "stream",
     "text": [
      "[12, 35, 24, 88, 120, 155]\n"
     ]
    }
   ],
   "source": [
    "li = [12,24,35,24,88,120,155]\n",
    "li.remove(24)\n",
    "print(li)"
   ]
  },
  {
   "cell_type": "code",
   "execution_count": 9,
   "id": "wanted-perry",
   "metadata": {},
   "outputs": [
    {
     "name": "stdout",
     "output_type": "stream",
     "text": [
      "[12, 35, 88, 120, 155]\n"
     ]
    }
   ],
   "source": [
    "li = [12,24,35,24,88,120,155]\n",
    "lst = [x for x in li if x!=24]\n",
    "print(lst)"
   ]
  },
  {
   "cell_type": "markdown",
   "id": "plastic-perfume",
   "metadata": {},
   "source": [
    "With two given lists [1,3,6,78,35,55] and [12,24,35,24,88,120,155], write a program to make a list whose elements are intersection of the above given lists."
   ]
  },
  {
   "cell_type": "code",
   "execution_count": 10,
   "id": "funded-director",
   "metadata": {},
   "outputs": [
    {
     "data": {
      "text/plain": [
       "{35}"
      ]
     },
     "execution_count": 10,
     "metadata": {},
     "output_type": "execute_result"
    }
   ],
   "source": [
    "li1 = [1,3,6,78,35,55]\n",
    "li2 = [12,24,35,24,88,120,155]\n",
    "set(li1)&set(li2)"
   ]
  },
  {
   "cell_type": "code",
   "execution_count": 11,
   "id": "extraordinary-princess",
   "metadata": {},
   "outputs": [
    {
     "name": "stdout",
     "output_type": "stream",
     "text": [
      "{35}\n"
     ]
    }
   ],
   "source": [
    "list1 = [1,3,6,78,35,55]\n",
    "list2 = [12,24,35,24,88,120,155]\n",
    "set1= set(list1)\n",
    "set2= set(list2)\n",
    "intersection = set1 & set2\n",
    "print(intersection)"
   ]
  },
  {
   "cell_type": "code",
   "execution_count": 12,
   "id": "consolidated-uncertainty",
   "metadata": {},
   "outputs": [
    {
     "name": "stdout",
     "output_type": "stream",
     "text": [
      "{35}\n"
     ]
    }
   ],
   "source": [
    "list1 = [1,3,6,78,35,55]\n",
    "list2 = [12,24,35,24,88,120,155]\n",
    "set1= set(list1)\n",
    "set2= set(list2)\n",
    "intersection = set.intersection(set1,set2)\n",
    "print(intersection)"
   ]
  },
  {
   "cell_type": "markdown",
   "id": "indie-clothing",
   "metadata": {},
   "source": [
    "With a given list [12,24,35,24,88,120,155,88,120,155], write a program to print this list after removing all duplicate values with original order reserved.\n",
    "\n"
   ]
  },
  {
   "cell_type": "code",
   "execution_count": 17,
   "id": "focal-graham",
   "metadata": {},
   "outputs": [
    {
     "data": {
      "text/plain": [
       "{12, 24, 35, 88, 120, 155}"
      ]
     },
     "execution_count": 17,
     "metadata": {},
     "output_type": "execute_result"
    }
   ],
   "source": [
    "li = [12,24,24,35,24,88,120,155,88,120,155]\n",
    "set(li)"
   ]
  },
  {
   "cell_type": "code",
   "execution_count": 15,
   "id": "differential-jordan",
   "metadata": {},
   "outputs": [
    {
     "name": "stdout",
     "output_type": "stream",
     "text": [
      "[12, 35, 24, 88, 120, 155]\n"
     ]
    }
   ],
   "source": [
    "#此方法不行\n",
    "li = [12,24,24,35,24,88,120,155,88,120,155]\n",
    "for i in li:\n",
    "    if li.count(i) > 1:\n",
    "        li.remove(i)\n",
    "print(li)"
   ]
  },
  {
   "cell_type": "code",
   "execution_count": 16,
   "id": "cellular-korea",
   "metadata": {},
   "outputs": [
    {
     "name": "stdout",
     "output_type": "stream",
     "text": [
      "[12, 35, 24, 88, 120, 155]\n"
     ]
    }
   ],
   "source": [
    "def removeDuplicate(li):\n",
    "    seen = {}\n",
    "    for item in li:\n",
    "        if item not in seen:\n",
    "            seen[item] = True\n",
    "            yield item\n",
    "            \n",
    "ans = list(removeDuplicate(li))\n",
    "print(ans)"
   ]
  },
  {
   "cell_type": "markdown",
   "id": "manufactured-outreach",
   "metadata": {},
   "source": [
    "Define a class Person and its two child classes: Male and Female. All classes have a method \"getGender\" which can print \"Male\" for Male class and \"Female\" for Female class."
   ]
  },
  {
   "cell_type": "code",
   "execution_count": 19,
   "id": "painful-fifteen",
   "metadata": {},
   "outputs": [
    {
     "name": "stdout",
     "output_type": "stream",
     "text": [
      "male\n",
      "female\n"
     ]
    }
   ],
   "source": [
    "class Person:\n",
    "    def __init__(self):\n",
    "        pass\n",
    "    def getGender(self):\n",
    "        print('undefined')\n",
    "        \n",
    "class Male(Person):\n",
    "    def __init__(self):\n",
    "        self.gender = 'male'\n",
    "    def getGender(self):\n",
    "        print(self.gender)\n",
    "class Female(Person):\n",
    "    def __init__(self):\n",
    "        self.gender = 'female'\n",
    "    def getGender(self):\n",
    "        print(self.gender)\n",
    "male = Male()\n",
    "male.getGender()\n",
    "female = Female()\n",
    "female.getGender()"
   ]
  },
  {
   "cell_type": "code",
   "execution_count": 22,
   "id": "accurate-worship",
   "metadata": {},
   "outputs": [
    {
     "name": "stdout",
     "output_type": "stream",
     "text": [
      "Female\n",
      "Male\n"
     ]
    }
   ],
   "source": [
    "class Person(object):\n",
    "    def __init__(self):\n",
    "        self.gender = \"unknown\"\n",
    "\n",
    "    def getGender(self):\n",
    "        print(self.gender)\n",
    "\n",
    "class Male(Person):\n",
    "    def __init__(self):\n",
    "        self.gender = \"Male\"\n",
    "\n",
    "class Female(Person):\n",
    "    def __init__(self):\n",
    "        self.gender = \"Female\"\n",
    "\n",
    "sharon = Female()\n",
    "doug = Male()\n",
    "sharon.getGender()\n",
    "doug.getGender()"
   ]
  },
  {
   "cell_type": "code",
   "execution_count": null,
   "id": "defensive-performance",
   "metadata": {},
   "outputs": [],
   "source": []
  }
 ],
 "metadata": {
  "kernelspec": {
   "display_name": "Python 3",
   "language": "python",
   "name": "python3"
  },
  "language_info": {
   "codemirror_mode": {
    "name": "ipython",
    "version": 3
   },
   "file_extension": ".py",
   "mimetype": "text/x-python",
   "name": "python",
   "nbconvert_exporter": "python",
   "pygments_lexer": "ipython3",
   "version": "3.6.5"
  }
 },
 "nbformat": 4,
 "nbformat_minor": 5
}
