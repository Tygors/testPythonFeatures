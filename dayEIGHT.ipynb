{
 "cells": [
  {
   "cell_type": "markdown",
   "id": "eleven-exploration",
   "metadata": {},
   "source": [
    "Write a program to compute the frequency of the words from the input. The output should output after sorting the key alphanumerically.\n",
    "\n",
    "Suppose the following input is supplied to the program:\n",
    "\n",
    "New to Python or choosing between Python 2 and Python 3? Read Python 2 or Python 3.\n",
    "Then, the output should be:\n",
    "\n",
    "2:2\n",
    "3.:1\n",
    "3?:1\n",
    "New:1\n",
    "Python:5\n",
    "Read:1\n",
    "and:1\n",
    "between:1\n",
    "choosing:1\n",
    "or:2\n",
    "to:1"
   ]
  },
  {
   "cell_type": "code",
   "execution_count": 17,
   "id": "informal-queensland",
   "metadata": {},
   "outputs": [
    {
     "name": "stdout",
     "output_type": "stream",
     "text": [
      "input a string: New to Python or choosing between Python 2 and Python 3? Read Python 2 or Python 3.\n",
      "2:2\n",
      "3.:1\n",
      "3?:1\n",
      "New:1\n",
      "Python:5\n",
      "Read:1\n",
      "and:1\n",
      "between:1\n",
      "choosing:1\n",
      "or:2\n",
      "to:1\n"
     ]
    }
   ],
   "source": [
    "inputList = input('input a string: ').split(' ')\n",
    "inputList.sort()\n",
    "countDict = {}\n",
    "for i in inputList:\n",
    "    countDict[i] = 0\n",
    "    for j in inputList:\n",
    "        if i == j:\n",
    "            countDict[i] +=1\n",
    "for key, value in countDict.items():\n",
    "    print(f'{key}:{value}')"
   ]
  },
  {
   "cell_type": "code",
   "execution_count": 18,
   "id": "certified-eugene",
   "metadata": {},
   "outputs": [
    {
     "name": "stdout",
     "output_type": "stream",
     "text": [
      "New to Python or choosing between Python 2 and Python 3? Read Python 2 or Python 3.\n",
      "['2', '3.', '3?', 'New', 'Python', 'Read', 'and', 'between', 'choosing', 'or', 'to']\n",
      "2:2\n",
      "3.:1\n",
      "3?:1\n",
      "New:1\n",
      "Python:5\n",
      "Read:1\n",
      "and:1\n",
      "between:1\n",
      "choosing:1\n",
      "or:2\n",
      "to:1\n"
     ]
    }
   ],
   "source": [
    "ss = input().split()\n",
    "word = sorted(set(ss))#先排除重复项，对不重复的集合排序\n",
    "print(word)\n",
    "\n",
    "for i in word:\n",
    "    print('{0}:{1}'.format(i, ss.count(i)))"
   ]
  },
  {
   "cell_type": "code",
   "execution_count": 20,
   "id": "similar-simon",
   "metadata": {},
   "outputs": [
    {
     "name": "stdout",
     "output_type": "stream",
     "text": [
      "New to Python or choosing between Python 2 and Python 3? Read Python 2 or Python 3.\n",
      "2:2\n",
      "3.:1\n",
      "3?:1\n",
      "New:1\n",
      "Python:5\n",
      "Read:1\n",
      "and:1\n",
      "between:1\n",
      "choosing:1\n",
      "or:2\n",
      "to:1\n"
     ]
    }
   ],
   "source": [
    "ss = input().split()\n",
    "dict = {}\n",
    "for i in ss:\n",
    "    i = dict.setdefault(i, ss.count(i))# setdefault() function takes key & value to set it as dictionary.\n",
    "dict = sorted(dict.items())\n",
    "for i in dict:\n",
    "    print('%s:%d'%(i[0],i[1]))"
   ]
  },
  {
   "cell_type": "code",
   "execution_count": 21,
   "id": "responsible-pregnancy",
   "metadata": {},
   "outputs": [
    {
     "name": "stdout",
     "output_type": "stream",
     "text": [
      "New to Python or choosing between Python 2 and Python 3? Read Python 2 or Python 3.\n",
      "2:2\n",
      "3.:1\n",
      "3?:1\n",
      "New:1\n",
      "Python:5\n",
      "Read:1\n",
      "and:1\n",
      "between:1\n",
      "choosing:1\n",
      "or:2\n",
      "to:1\n"
     ]
    }
   ],
   "source": [
    "ss = input().split()\n",
    "dict = {i:ss.count(i) for i in ss}\n",
    "dict = sorted(dict.items())\n",
    "for i in dict:\n",
    "    print('%s:%d'%(i[0],i[1]))"
   ]
  },
  {
   "cell_type": "code",
   "execution_count": 23,
   "id": "knowing-setting",
   "metadata": {},
   "outputs": [
    {
     "name": "stdout",
     "output_type": "stream",
     "text": [
      "New to Python or choosing between Python 2 and Python 3? Read Python 2 or Python 3.\n",
      "2:2\n",
      "3.:1\n",
      "3?:1\n",
      "New:1\n",
      "Python:5\n",
      "Read:1\n",
      "and:1\n",
      "between:1\n",
      "choosing:1\n",
      "or:2\n",
      "to:1\n"
     ]
    }
   ],
   "source": [
    "from collections import Counter\n",
    "ss = input().split()\n",
    "ss = Counter(ss)# returns key & frequency as a dictionary\n",
    "ss = sorted(ss.items())# returns as a tuple list\n",
    "for i in ss:\n",
    "    print('%s:%d'%(i[0],i[1]))"
   ]
  },
  {
   "cell_type": "code",
   "execution_count": 24,
   "id": "working-shelter",
   "metadata": {},
   "outputs": [
    {
     "name": "stdout",
     "output_type": "stream",
     "text": [
      "New to Python or choosing between Python 2 and Python 3? Read Python 2 or Python 3.\n",
      "{'2': 2,\n",
      " '3.': 1,\n",
      " '3?': 1,\n",
      " 'New': 1,\n",
      " 'Python': 5,\n",
      " 'Read': 1,\n",
      " 'and': 1,\n",
      " 'between': 1,\n",
      " 'choosing': 1,\n",
      " 'or': 2,\n",
      " 'to': 1}\n"
     ]
    }
   ],
   "source": [
    "from pprint import pprint\n",
    "p=input().split()\n",
    "pprint({i:p.count(i) for i in p})"
   ]
  },
  {
   "cell_type": "markdown",
   "id": "joint-anderson",
   "metadata": {},
   "source": [
    "Write a method which can calculate square value of number"
   ]
  },
  {
   "cell_type": "code",
   "execution_count": 27,
   "id": "sharing-conference",
   "metadata": {},
   "outputs": [
    {
     "name": "stdout",
     "output_type": "stream",
     "text": [
      "input n3\n",
      "9\n"
     ]
    }
   ],
   "source": [
    "def squareTest(n):\n",
    "    result = int(n)**2\n",
    "    return result\n",
    "print(squareTest(input('input n')))"
   ]
  },
  {
   "cell_type": "code",
   "execution_count": 28,
   "id": "greek-marriage",
   "metadata": {},
   "outputs": [
    {
     "name": "stdout",
     "output_type": "stream",
     "text": [
      "3\n",
      "9\n"
     ]
    }
   ],
   "source": [
    "n = int(input())\n",
    "print(n**2)"
   ]
  },
  {
   "cell_type": "markdown",
   "id": "crude-fifth",
   "metadata": {},
   "source": [
    "Python has many built-in functions, and if you do not know how to use it, you can read document online or find some books. But Python has a built-in document function for every built-in functions.\n",
    "\n",
    "Please write a program to print some Python built-in functions documents, such as abs(), int(), raw_input()\n",
    "\n",
    "And add document for your own function"
   ]
  },
  {
   "cell_type": "code",
   "execution_count": 30,
   "id": "trying-escape",
   "metadata": {},
   "outputs": [
    {
     "name": "stdout",
     "output_type": "stream",
     "text": [
      "Return the absolute value of the argument.\n"
     ]
    }
   ],
   "source": [
    "def printDoc(docName):\n",
    "    'print document of some func'\n",
    "    print(docName.__doc__)\n",
    "printDoc(abs)"
   ]
  },
  {
   "cell_type": "code",
   "execution_count": 32,
   "id": "spiritual-strap",
   "metadata": {},
   "outputs": [
    {
     "name": "stdout",
     "output_type": "stream",
     "text": [
      "int(x=0) -> integer\n",
      "int(x, base=10) -> integer\n",
      "\n",
      "Convert a number or string to an integer, or return 0 if no arguments\n",
      "are given.  If x is a number, return x.__int__().  For floating point\n",
      "numbers, this truncates towards zero.\n",
      "\n",
      "If x is not a number or if base is given, then x must be a string,\n",
      "bytes, or bytearray instance representing an integer literal in the\n",
      "given base.  The literal can be preceded by '+' or '-' and be surrounded\n",
      "by whitespace.  The base defaults to 10.  Valid bases are 0 and 2-36.\n",
      "Base 0 means to interpret the base from the string as an integer literal.\n",
      ">>> int('0b100', base=0)\n",
      "4\n"
     ]
    }
   ],
   "source": [
    "printDoc(int)"
   ]
  },
  {
   "cell_type": "code",
   "execution_count": 34,
   "id": "hearing-builder",
   "metadata": {},
   "outputs": [
    {
     "name": "stdout",
     "output_type": "stream",
     "text": [
      "print document of some func\n"
     ]
    }
   ],
   "source": [
    "printDoc(printDoc)"
   ]
  },
  {
   "cell_type": "markdown",
   "id": "rolled-enzyme",
   "metadata": {},
   "source": [
    "Define a class, which have a class parameter and have a same instance parameter."
   ]
  },
  {
   "cell_type": "code",
   "execution_count": 48,
   "id": "dental-powell",
   "metadata": {},
   "outputs": [
    {
     "name": "stdout",
     "output_type": "stream",
     "text": [
      "123\n",
      "ins1 : 456\n",
      "456\n",
      "ins2 : 456\n",
      "456\n",
      "123\n"
     ]
    }
   ],
   "source": [
    "class classTest():\n",
    "    paramTest = 123\n",
    "    def __init__(self,name='None'):\n",
    "        self.name = name\n",
    "        self.paramTest = 456\n",
    "        print(self.name,':',self.paramTest)\n",
    "    print(paramTest)\n",
    "ins1 = classTest(\"ins1\")\n",
    "print(ins1.paramTest)\n",
    "ins1 = classTest('ins2')\n",
    "print(ins1.paramTest)\n",
    "print(classTest.paramTest)"
   ]
  },
  {
   "cell_type": "code",
   "execution_count": 50,
   "id": "adult-favorite",
   "metadata": {},
   "outputs": [
    {
     "name": "stdout",
     "output_type": "stream",
     "text": [
      "Car name is Honda\n",
      "Car name is toyota\n"
     ]
    }
   ],
   "source": [
    "class Car:\n",
    "    name = 'Car'\n",
    "    def __init__(self, name = 'None'):\n",
    "        self.name = name\n",
    "honda = Car('Honda')\n",
    "print('%s name is %s'%(Car.name,honda.name))\n",
    "toyota = Car()\n",
    "toyota.name = 'toyota'\n",
    "print('%s name is %s'%(Car.name,toyota.name))"
   ]
  },
  {
   "cell_type": "code",
   "execution_count": null,
   "id": "union-apparel",
   "metadata": {},
   "outputs": [],
   "source": []
  }
 ],
 "metadata": {
  "kernelspec": {
   "display_name": "Python 3",
   "language": "python",
   "name": "python3"
  },
  "language_info": {
   "codemirror_mode": {
    "name": "ipython",
    "version": 3
   },
   "file_extension": ".py",
   "mimetype": "text/x-python",
   "name": "python",
   "nbconvert_exporter": "python",
   "pygments_lexer": "ipython3",
   "version": "3.6.5"
  }
 },
 "nbformat": 4,
 "nbformat_minor": 5
}
