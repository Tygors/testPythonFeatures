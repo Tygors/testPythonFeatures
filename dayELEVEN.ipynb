{
 "cells": [
  {
   "cell_type": "markdown",
   "id": "alternative-fault",
   "metadata": {},
   "source": [
    "With a given tuple (1,2,3,4,5,6,7,8,9,10), write a program to print the first half values in one line and the last half values in one line.\n",
    "\n"
   ]
  },
  {
   "cell_type": "code",
   "execution_count": 9,
   "id": "pregnant-republic",
   "metadata": {},
   "outputs": [
    {
     "name": "stdout",
     "output_type": "stream",
     "text": [
      "[1, 2, 3, 4, 5]\n",
      "[6, 7, 8, 9, 10]\n"
     ]
    }
   ],
   "source": [
    "tupleTest = (1,2,3,4,5,6,7,8,9,10)\n",
    "firstList, lastList = [], []\n",
    "for i in range(0,int(len(tupleTest)/2)):\n",
    "    firstList.append(tupleTest[i])\n",
    "for j in range(int(len(tupleTest)/2),int(len(tupleTest))):\n",
    "    lastList.append(tupleTest[j])\n",
    "print(firstList)\n",
    "print(lastList)"
   ]
  },
  {
   "cell_type": "code",
   "execution_count": 2,
   "id": "quantitative-spouse",
   "metadata": {},
   "outputs": [
    {
     "name": "stdout",
     "output_type": "stream",
     "text": [
      "1 2 3 4 5 \n",
      "6 7 8 9 10 "
     ]
    }
   ],
   "source": [
    "for i in range(0,5):\n",
    "    print(tupleTest[i],end = ' ')\n",
    "print()\n",
    "for i in range(5,10):\n",
    "    print(tupleTest[i],end = ' ')"
   ]
  },
  {
   "cell_type": "code",
   "execution_count": 11,
   "id": "vietnamese-tennis",
   "metadata": {},
   "outputs": [
    {
     "name": "stdout",
     "output_type": "stream",
     "text": [
      "(1, 2, 3, 4, 5) (6, 7, 8, 9, 10)\n"
     ]
    }
   ],
   "source": [
    "lt = int(len(tupleTest)/2)\n",
    "print(tupleTest[:lt],tupleTest[lt:])"
   ]
  },
  {
   "cell_type": "code",
   "execution_count": 23,
   "id": "committed-robert",
   "metadata": {},
   "outputs": [
    {
     "name": "stdout",
     "output_type": "stream",
     "text": [
      "the original tuple:  (1, 2, 3, 4, 5, 6, 7, 8, 9, 10, 11, 12, 13, 14, 15)\n"
     ]
    },
    {
     "data": {
      "text/plain": [
       "[(1, 2, 3, 4, 5), (6, 7, 8, 9, 10), (11, 12, 13, 14, 15)]"
      ]
     },
     "execution_count": 23,
     "metadata": {},
     "output_type": "execute_result"
    }
   ],
   "source": [
    "tupleTest1 = (1,2,3,4,5,6,7,8,9,10,11,12,13,14,15)\n",
    "print('the original tuple: ', tupleTest1)\n",
    "[tupleTest1[x:x+5] for x in range(0,len(tupleTest1),5)]"
   ]
  },
  {
   "cell_type": "code",
   "execution_count": 26,
   "id": "identified-rider",
   "metadata": {},
   "outputs": [
    {
     "name": "stdout",
     "output_type": "stream",
     "text": [
      "Splitted List :(1, 2, 3, 4, 5)\n",
      "Splitted List :(6, 7, 8, 9, 10)\n",
      "Splitted List :(11, 12, 13, 14, 15)\n"
     ]
    },
    {
     "data": {
      "text/plain": [
       "[None, None, None]"
      ]
     },
     "execution_count": 26,
     "metadata": {},
     "output_type": "execute_result"
    }
   ],
   "source": [
    "[print('Splitted List :{List}'.format(List = tupleTest1[x:x+5])) for x in range(0,len(tupleTest1),5)]"
   ]
  },
  {
   "cell_type": "code",
   "execution_count": 29,
   "id": "liable-camel",
   "metadata": {},
   "outputs": [
    {
     "name": "stdout",
     "output_type": "stream",
     "text": [
      "Splitted List :(1, 2, 3, 4, 5)\n",
      "Splitted List :(6, 7, 8, 9, 10)\n",
      "Splitted List :(11, 12, 13, 14, 15)\n"
     ]
    }
   ],
   "source": [
    "for x in range(0,len(tupleTest1),5):\n",
    "    List = tupleTest1[x:x+5]\n",
    "    print('Splitted List :{}'.format(List))"
   ]
  },
  {
   "cell_type": "markdown",
   "id": "individual-gathering",
   "metadata": {},
   "source": [
    "Write a program to generate and print another tuple whose values are even numbers in the given tuple (1,2,3,4,5,6,7,8,9,10).\n",
    "\n"
   ]
  },
  {
   "cell_type": "code",
   "execution_count": 38,
   "id": "abandoned-damage",
   "metadata": {},
   "outputs": [
    {
     "name": "stdout",
     "output_type": "stream",
     "text": [
      "(2, 4, 6, 8, 10)\n"
     ]
    }
   ],
   "source": [
    "evenTuple = []\n",
    "for i in range(0,len(tupleTest)):\n",
    "    if tupleTest[i]%2==0:\n",
    "        evenTuple.append(tupleTest[i])\n",
    "        \n",
    "print(tuple(evenTuple))"
   ]
  },
  {
   "cell_type": "code",
   "execution_count": 37,
   "id": "auburn-revelation",
   "metadata": {},
   "outputs": [
    {
     "name": "stdout",
     "output_type": "stream",
     "text": [
      "(2, 4, 6, 8, 10)\n"
     ]
    }
   ],
   "source": [
    "tpl = (1,2,3,4,5,6,7,8,9,10)\n",
    "tpl1 = tuple(i for i in tpl if i%2 == 0)\n",
    "print(tpl1)"
   ]
  },
  {
   "cell_type": "code",
   "execution_count": 39,
   "id": "explicit-venture",
   "metadata": {},
   "outputs": [
    {
     "name": "stdout",
     "output_type": "stream",
     "text": [
      "(2, 4, 6, 8, 10)\n"
     ]
    }
   ],
   "source": [
    "tpl1 = tuple(filter(lambda x: x%2==0, tpl))\n",
    "print(tpl1)"
   ]
  },
  {
   "cell_type": "markdown",
   "id": "organic-squad",
   "metadata": {},
   "source": [
    "Write a program which accepts a string as input to print \"Yes\" if the string is \"yes\" or \"YES\" or \"Yes\", otherwise print \"No\"."
   ]
  },
  {
   "cell_type": "code",
   "execution_count": 40,
   "id": "infinite-harvard",
   "metadata": {},
   "outputs": [
    {
     "name": "stdout",
     "output_type": "stream",
     "text": [
      "yes\n",
      "Yes\n"
     ]
    }
   ],
   "source": [
    "inputStr = input()\n",
    "if inputStr == 'Yes' or inputStr == 'YES' or inputStr == 'yes':\n",
    "    print('Yes')\n",
    "else:\n",
    "    print('No')"
   ]
  },
  {
   "cell_type": "code",
   "execution_count": 41,
   "id": "powered-department",
   "metadata": {},
   "outputs": [
    {
     "name": "stdout",
     "output_type": "stream",
     "text": [
      "Enter string:yes\n",
      "Yes\n"
     ]
    }
   ],
   "source": [
    "input = input('Enter string:')\n",
    "output = ''.join(['Yes' if input == 'yes' or input =='YES' or input =='Yes' else 'No' ])\n",
    "print(str(output))"
   ]
  },
  {
   "cell_type": "markdown",
   "id": "strategic-criterion",
   "metadata": {},
   "source": [
    "Write a program which can map() to make a list whose elements are square of elements in [1,2,3,4,5,6,7,8,9,10]."
   ]
  },
  {
   "cell_type": "code",
   "execution_count": 54,
   "id": "enormous-artwork",
   "metadata": {},
   "outputs": [
    {
     "data": {
      "text/plain": [
       "[1, 4, 9, 16, 25, 36, 49, 64, 81, 100]"
      ]
     },
     "execution_count": 54,
     "metadata": {},
     "output_type": "execute_result"
    }
   ],
   "source": [
    "listTest = [1,2,3,4,5,6,7,8,9,10]\n",
    "list(map(lambda x: x**2, listTest))"
   ]
  },
  {
   "cell_type": "markdown",
   "id": "authentic-olive",
   "metadata": {},
   "source": [
    "Write a program which can map() and filter() to make a list whose elements are square of even number in [1,2,3,4,5,6,7,8,9,10].\n",
    "\n"
   ]
  },
  {
   "cell_type": "code",
   "execution_count": 63,
   "id": "closing-collective",
   "metadata": {},
   "outputs": [
    {
     "data": {
      "text/plain": [
       "[4, 16, 36, 64, 100]"
      ]
     },
     "execution_count": 63,
     "metadata": {},
     "output_type": "execute_result"
    }
   ],
   "source": [
    "list(map(lambda x: x**2, filter(lambda x: x%2==0, list(listTest))))"
   ]
  },
  {
   "cell_type": "markdown",
   "id": "level-accused",
   "metadata": {},
   "source": [
    "Write a program which can filter() to make a list whose elements are even number between 1 and 20 (both included)."
   ]
  },
  {
   "cell_type": "code",
   "execution_count": 73,
   "id": "funded-university",
   "metadata": {},
   "outputs": [
    {
     "data": {
      "text/plain": [
       "[2, 4, 6, 8, 10, 12, 14, 16, 18, 20]"
      ]
     },
     "execution_count": 73,
     "metadata": {},
     "output_type": "execute_result"
    }
   ],
   "source": [
    "list(filter(lambda x: x%2==0, [i for i in range(1,21)]))"
   ]
  },
  {
   "cell_type": "code",
   "execution_count": 71,
   "id": "informal-occasions",
   "metadata": {},
   "outputs": [
    {
     "name": "stdout",
     "output_type": "stream",
     "text": [
      "[2, 4, 6, 8, 10, 12, 14, 16, 18, 20]\n"
     ]
    }
   ],
   "source": [
    "def even(x):\n",
    "    return x%2==0\n",
    "evenNumbers = filter(even, range(1, 21))\n",
    "print(list(evenNumbers))"
   ]
  },
  {
   "cell_type": "code",
   "execution_count": null,
   "id": "irish-lyric",
   "metadata": {},
   "outputs": [],
   "source": []
  }
 ],
 "metadata": {
  "kernelspec": {
   "display_name": "Python 3",
   "language": "python",
   "name": "python3"
  },
  "language_info": {
   "codemirror_mode": {
    "name": "ipython",
    "version": 3
   },
   "file_extension": ".py",
   "mimetype": "text/x-python",
   "name": "python",
   "nbconvert_exporter": "python",
   "pygments_lexer": "ipython3",
   "version": "3.6.5"
  }
 },
 "nbformat": 4,
 "nbformat_minor": 5
}
