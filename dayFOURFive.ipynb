{
 "cells": [
  {
   "cell_type": "code",
   "execution_count": 1,
   "id": "selective-dealing",
   "metadata": {},
   "outputs": [
    {
     "name": "stdout",
     "output_type": "stream",
     "text": [
      "hellowWORLDSs\n",
      "lower: 7\n",
      "upper: 6\n"
     ]
    }
   ],
   "source": [
    "inputList = input()\n",
    "countUpper, countLower = 0, 0\n",
    "for i in inputList:\n",
    "    if 'a'<i<'z':\n",
    "        countLower += 1\n",
    "    if 'A'<i<'Z':\n",
    "        countUpper += 1\n",
    "print(f'lower: {countLower}\\nupper: {countUpper}')"
   ]
  },
  {
   "cell_type": "markdown",
   "id": "economic-assault",
   "metadata": {},
   "source": [
    "Write a program that computes the value of a+aa+aaa+aaaa with a given digit as the value of a.\n",
    "\n",
    "Suppose the following input is supplied to the program:\n",
    "\n",
    "9\n",
    "Then, the output should be:\n",
    "\n",
    "11106"
   ]
  },
  {
   "cell_type": "code",
   "execution_count": 1,
   "id": "colonial-taylor",
   "metadata": {},
   "outputs": [
    {
     "name": "stdout",
     "output_type": "stream",
     "text": [
      "9\n",
      "11106\n"
     ]
    }
   ],
   "source": [
    "inputNum = int(input())\n",
    "mul = 10\n",
    "def calcTest(inputNum):\n",
    "    counter, result = 0, 0\n",
    "    for i in range(0,4):\n",
    "        counter += inputNum*mul**i\n",
    "        result += counter\n",
    "    return result\n",
    "print(calcTest(9))"
   ]
  },
  {
   "cell_type": "markdown",
   "id": "separated-edmonton",
   "metadata": {},
   "source": [
    "Use a list comprehension to square each odd number in a list. The list is input by a sequence of comma-separated numbers. >Suppose the following input is supplied to the program:\n",
    "\n",
    "1,2,3,4,5,6,7,8,9\n",
    "Then, the output should be:\n",
    "\n",
    "1,9,25,49,81"
   ]
  },
  {
   "cell_type": "code",
   "execution_count": 8,
   "id": "charged-norfolk",
   "metadata": {},
   "outputs": [
    {
     "name": "stdout",
     "output_type": "stream",
     "text": [
      "1,2,3,4,5,6,7,8,9\n",
      "1,9,25,49,81\n"
     ]
    }
   ],
   "source": [
    "inputNum = input().split(',')\n",
    "print(','.join([str(int(i)**2) for i in inputNum if int(i)%2==1]))"
   ]
  },
  {
   "cell_type": "markdown",
   "id": "domestic-movement",
   "metadata": {},
   "source": [
    "Write a program that computes the net amount of a bank account based a transaction log from console input. The transaction log format is shown as following:\n",
    "\n",
    "D 100\n",
    "W 200\n",
    "D means deposit while W means withdrawal.\n",
    "Suppose the following input is supplied to the program:\n",
    "\n",
    "D 300\n",
    "D 300\n",
    "W 200\n",
    "D 100\n",
    "Then, the output should be:\n",
    "\n",
    "500"
   ]
  },
  {
   "cell_type": "code",
   "execution_count": 20,
   "id": "emotional-columbia",
   "metadata": {},
   "outputs": [
    {
     "name": "stdout",
     "output_type": "stream",
     "text": [
      "D 300\n",
      "D 300\n",
      "W 200\n",
      "D 100\n",
      "\n",
      "500\n"
     ]
    }
   ],
   "source": [
    "result = 0\n",
    "while True:\n",
    "    transactionLog = input()\n",
    "    if transactionLog == '':\n",
    "        print(result)\n",
    "        break\n",
    "    transactionLogClean = transactionLog.split(' ')\n",
    "    if transactionLogClean[0] == 'D':\n",
    "        result += int(transactionLogClean[1])\n",
    "        #print(result)\n",
    "    elif transactionLogClean[0] == 'W':\n",
    "        result -= int(transactionLogClean[1])\n",
    "        #print(result)"
   ]
  },
  {
   "cell_type": "code",
   "execution_count": null,
   "id": "patient-hurricane",
   "metadata": {},
   "outputs": [],
   "source": []
  }
 ],
 "metadata": {
  "kernelspec": {
   "display_name": "Python 3",
   "language": "python",
   "name": "python3"
  },
  "language_info": {
   "codemirror_mode": {
    "name": "ipython",
    "version": 3
   },
   "file_extension": ".py",
   "mimetype": "text/x-python",
   "name": "python",
   "nbconvert_exporter": "python",
   "pygments_lexer": "ipython3",
   "version": "3.6.5"
  }
 },
 "nbformat": 4,
 "nbformat_minor": 5
}
